{
 "cells": [
  {
   "cell_type": "markdown",
   "metadata": {},
   "source": [
    "# Initialization"
   ]
  },
  {
   "cell_type": "markdown",
   "metadata": {},
   "source": [
    "## Imports"
   ]
  },
  {
   "cell_type": "code",
   "execution_count": 2,
   "metadata": {},
   "outputs": [],
   "source": [
    "import sys\n",
    "sys.path.insert(1,\"/home1/07064/tg863631/anaconda3/envs/CbrainCustomLayer/lib/python3.6/site-packages\") #work around for h5py\n",
    "from cbrain.imports import *\n",
    "from cbrain.cam_constants import *\n",
    "from cbrain.utils import *\n",
    "from cbrain.layers import *\n",
    "from cbrain.data_generator import DataGenerator\n",
    "from cbrain.climate_invariant import *\n",
    "\n",
    "import xarray as xr\n",
    "import numpy as np\n",
    "from cbrain.model_diagnostics import ModelDiagnostics\n",
    "import matplotlib as mpl\n",
    "import matplotlib.pyplot as plt\n",
    "import matplotlib.image as imag\n",
    "import scipy.integrate as sin\n",
    "# import cartopy.crs as ccrs\n",
    "import matplotlib.ticker as mticker\n",
    "# from cartopy.mpl.gridliner import LONGITUDE_FORMATTER, LATITUDE_FORMATTER\n",
    "import pickle\n",
    "# from climate_invariant import *\n",
    "from tensorflow.keras import layers\n",
    "import datetime\n",
    "import yaml"
   ]
  },
  {
   "cell_type": "markdown",
   "metadata": {},
   "source": [
    "## Global Variables"
   ]
  },
  {
   "cell_type": "code",
   "execution_count": 3,
   "metadata": {},
   "outputs": [],
   "source": [
    "# Load coordinates (just pick any file from the climate model run)\n",
    "\n",
    "# GP path below\n",
    "path_0K = '/DFS-L/DATA/pritchard/tbeucler/SPCAM/fluxbypass_aqua/'\n",
    "coor = xr.open_dataset(path_0K+\"AndKua_aqua_SPCAM3.0_sp_fbp_f4.cam2.h1.0000-09-02-00000.nc\")\n",
    "\n",
    "lat = coor.lat; lon = coor.lon; lev = coor.lev;\n",
    "coor.close();"
   ]
  },
  {
   "cell_type": "code",
   "execution_count": 4,
   "metadata": {},
   "outputs": [
    {
     "name": "stderr",
     "output_type": "stream",
     "text": [
      "/DFS-L/DATA/pritchard/tbeucler/Miniconda3_2021_04_12/miniconda3/envs/CbrainCustomLayer/lib/python3.6/site-packages/ipykernel_launcher.py:5: FutureWarning: In xarray version 0.15 the default behaviour of `open_mfdataset`\n",
      "will change. To retain the existing behavior, pass\n",
      "combine='nested'. To use future default behavior, pass\n",
      "combine='by_coords'. See\n",
      "http://xarray.pydata.org/en/stable/combining.html#combining-multi\n",
      "\n",
      "  \"\"\"\n",
      "/DFS-L/DATA/pritchard/tbeucler/Miniconda3_2021_04_12/miniconda3/envs/CbrainCustomLayer/lib/python3.6/site-packages/xarray/backends/api.py:941: FutureWarning: The datasets supplied have global dimension coordinates. You may want\n",
      "to use the new `combine_by_coords` function (or the\n",
      "`combine='by_coords'` option to `open_mfdataset`) to order the datasets\n",
      "before concatenation. Alternatively, to continue concatenating based\n",
      "on the order the datasets are supplied in future, please use the new\n",
      "`combine_nested` function (or the `combine='nested'` option to\n",
      "open_mfdataset).\n",
      "  from_openmfds=True,\n"
     ]
    }
   ],
   "source": [
    "path_folRG = '/DFS-L/DATA/pritchard/liranp//To_Tom/Output/'\n",
    "path_RG0K = path_folRG + 'SST_0001Kp_Neuralnet_SPCAM_all_216/atm/hist/SST_0001Kp_Neuralnet_SPCAM_all_216.cam.h1.2013-'\n",
    "path_RG0K = path_RG0K + '05-05-*.nc'\n",
    "\n",
    "coor_RG = xr.open_mfdataset(path_RG0K,decode_cf=False)\n",
    "latRG = coor_RG.lat; lonRG = coor_RG.lon; levRG = coor_RG.lev;\n",
    "coor_RG.close();"
   ]
  },
  {
   "cell_type": "code",
   "execution_count": 5,
   "metadata": {},
   "outputs": [],
   "source": [
    "# GP path below\n",
    "TRAINDIR = '/DFS-L/DATA/pritchard/tbeucler/SPCAM/SPCAM_PHYS/'\n",
    "path = '/export/nfs0home/tbeucler/CBRAIN-CAM/cbrain/'\n",
    "path_nnconfig = '/export/nfs0home/tbeucler/CBRAIN-CAM/nn_config/'\n",
    "\n",
    "# Load hyam and hybm to calculate pressure field in SPCAM\n",
    "path_hyam = 'hyam_hybm.pkl'\n",
    "hf = open(path+path_hyam,'rb')\n",
    "hyam,hybm = pickle.load(hf)\n",
    "\n",
    "# Scale dictionary to convert the loss to W/m2\n",
    "scale_dict = load_pickle(path_nnconfig+'scale_dicts/009_Wm2_scaling.pkl')"
   ]
  },
  {
   "cell_type": "markdown",
   "metadata": {},
   "source": [
    "# Table 1: Simulation characteristics"
   ]
  },
  {
   "cell_type": "code",
   "execution_count": 6,
   "metadata": {},
   "outputs": [
    {
     "data": {
      "text/html": [
       "<div><svg style=\"position: absolute; width: 0; height: 0; overflow: hidden\">\n",
       "<defs>\n",
       "<symbol id=\"icon-database\" viewBox=\"0 0 32 32\">\n",
       "<title>Show/Hide data repr</title>\n",
       "<path d=\"M16 0c-8.837 0-16 2.239-16 5v4c0 2.761 7.163 5 16 5s16-2.239 16-5v-4c0-2.761-7.163-5-16-5z\"></path>\n",
       "<path d=\"M16 17c-8.837 0-16-2.239-16-5v6c0 2.761 7.163 5 16 5s16-2.239 16-5v-6c0 2.761-7.163 5-16 5z\"></path>\n",
       "<path d=\"M16 26c-8.837 0-16-2.239-16-5v6c0 2.761 7.163 5 16 5s16-2.239 16-5v-6c0 2.761-7.163 5-16 5z\"></path>\n",
       "</symbol>\n",
       "<symbol id=\"icon-file-text2\" viewBox=\"0 0 32 32\">\n",
       "<title>Show/Hide attributes</title>\n",
       "<path d=\"M28.681 7.159c-0.694-0.947-1.662-2.053-2.724-3.116s-2.169-2.030-3.116-2.724c-1.612-1.182-2.393-1.319-2.841-1.319h-15.5c-1.378 0-2.5 1.121-2.5 2.5v27c0 1.378 1.122 2.5 2.5 2.5h23c1.378 0 2.5-1.122 2.5-2.5v-19.5c0-0.448-0.137-1.23-1.319-2.841zM24.543 5.457c0.959 0.959 1.712 1.825 2.268 2.543h-4.811v-4.811c0.718 0.556 1.584 1.309 2.543 2.268zM28 29.5c0 0.271-0.229 0.5-0.5 0.5h-23c-0.271 0-0.5-0.229-0.5-0.5v-27c0-0.271 0.229-0.5 0.5-0.5 0 0 15.499-0 15.5 0v7c0 0.552 0.448 1 1 1h7v19.5z\"></path>\n",
       "<path d=\"M23 26h-14c-0.552 0-1-0.448-1-1s0.448-1 1-1h14c0.552 0 1 0.448 1 1s-0.448 1-1 1z\"></path>\n",
       "<path d=\"M23 22h-14c-0.552 0-1-0.448-1-1s0.448-1 1-1h14c0.552 0 1 0.448 1 1s-0.448 1-1 1z\"></path>\n",
       "<path d=\"M23 18h-14c-0.552 0-1-0.448-1-1s0.448-1 1-1h14c0.552 0 1 0.448 1 1s-0.448 1-1 1z\"></path>\n",
       "</symbol>\n",
       "</defs>\n",
       "</svg>\n",
       "<style>/* CSS stylesheet for displaying xarray objects in jupyterlab.\n",
       " *\n",
       " */\n",
       "\n",
       ":root {\n",
       "  --xr-font-color0: var(--jp-content-font-color0, rgba(0, 0, 0, 1));\n",
       "  --xr-font-color2: var(--jp-content-font-color2, rgba(0, 0, 0, 0.54));\n",
       "  --xr-font-color3: var(--jp-content-font-color3, rgba(0, 0, 0, 0.38));\n",
       "  --xr-border-color: var(--jp-border-color2, #e0e0e0);\n",
       "  --xr-disabled-color: var(--jp-layout-color3, #bdbdbd);\n",
       "  --xr-background-color: var(--jp-layout-color0, white);\n",
       "  --xr-background-color-row-even: var(--jp-layout-color1, white);\n",
       "  --xr-background-color-row-odd: var(--jp-layout-color2, #eeeeee);\n",
       "}\n",
       "\n",
       ".xr-wrap {\n",
       "  min-width: 300px;\n",
       "  max-width: 700px;\n",
       "}\n",
       "\n",
       ".xr-header {\n",
       "  padding-top: 6px;\n",
       "  padding-bottom: 6px;\n",
       "  margin-bottom: 4px;\n",
       "  border-bottom: solid 1px var(--xr-border-color);\n",
       "}\n",
       "\n",
       ".xr-header > div,\n",
       ".xr-header > ul {\n",
       "  display: inline;\n",
       "  margin-top: 0;\n",
       "  margin-bottom: 0;\n",
       "}\n",
       "\n",
       ".xr-obj-type,\n",
       ".xr-array-name {\n",
       "  margin-left: 2px;\n",
       "  margin-right: 10px;\n",
       "}\n",
       "\n",
       ".xr-obj-type {\n",
       "  color: var(--xr-font-color2);\n",
       "}\n",
       "\n",
       ".xr-sections {\n",
       "  padding-left: 0 !important;\n",
       "  display: grid;\n",
       "  grid-template-columns: 150px auto auto 1fr 20px 20px;\n",
       "}\n",
       "\n",
       ".xr-section-item {\n",
       "  display: contents;\n",
       "}\n",
       "\n",
       ".xr-section-item input {\n",
       "  display: none;\n",
       "}\n",
       "\n",
       ".xr-section-item input + label {\n",
       "  color: var(--xr-disabled-color);\n",
       "}\n",
       "\n",
       ".xr-section-item input:enabled + label {\n",
       "  cursor: pointer;\n",
       "  color: var(--xr-font-color2);\n",
       "}\n",
       "\n",
       ".xr-section-item input:enabled + label:hover {\n",
       "  color: var(--xr-font-color0);\n",
       "}\n",
       "\n",
       ".xr-section-summary {\n",
       "  grid-column: 1;\n",
       "  color: var(--xr-font-color2);\n",
       "  font-weight: 500;\n",
       "}\n",
       "\n",
       ".xr-section-summary > span {\n",
       "  display: inline-block;\n",
       "  padding-left: 0.5em;\n",
       "}\n",
       "\n",
       ".xr-section-summary-in:disabled + label {\n",
       "  color: var(--xr-font-color2);\n",
       "}\n",
       "\n",
       ".xr-section-summary-in + label:before {\n",
       "  display: inline-block;\n",
       "  content: '►';\n",
       "  font-size: 11px;\n",
       "  width: 15px;\n",
       "  text-align: center;\n",
       "}\n",
       "\n",
       ".xr-section-summary-in:disabled + label:before {\n",
       "  color: var(--xr-disabled-color);\n",
       "}\n",
       "\n",
       ".xr-section-summary-in:checked + label:before {\n",
       "  content: '▼';\n",
       "}\n",
       "\n",
       ".xr-section-summary-in:checked + label > span {\n",
       "  display: none;\n",
       "}\n",
       "\n",
       ".xr-section-summary,\n",
       ".xr-section-inline-details {\n",
       "  padding-top: 4px;\n",
       "  padding-bottom: 4px;\n",
       "}\n",
       "\n",
       ".xr-section-inline-details {\n",
       "  grid-column: 2 / -1;\n",
       "}\n",
       "\n",
       ".xr-section-details {\n",
       "  display: none;\n",
       "  grid-column: 1 / -1;\n",
       "  margin-bottom: 5px;\n",
       "}\n",
       "\n",
       ".xr-section-summary-in:checked ~ .xr-section-details {\n",
       "  display: contents;\n",
       "}\n",
       "\n",
       ".xr-array-wrap {\n",
       "  grid-column: 1 / -1;\n",
       "  display: grid;\n",
       "  grid-template-columns: 20px auto;\n",
       "}\n",
       "\n",
       ".xr-array-wrap > label {\n",
       "  grid-column: 1;\n",
       "  vertical-align: top;\n",
       "}\n",
       "\n",
       ".xr-preview {\n",
       "  color: var(--xr-font-color3);\n",
       "}\n",
       "\n",
       ".xr-array-preview,\n",
       ".xr-array-data {\n",
       "  padding: 0 5px !important;\n",
       "  grid-column: 2;\n",
       "}\n",
       "\n",
       ".xr-array-data,\n",
       ".xr-array-in:checked ~ .xr-array-preview {\n",
       "  display: none;\n",
       "}\n",
       "\n",
       ".xr-array-in:checked ~ .xr-array-data,\n",
       ".xr-array-preview {\n",
       "  display: inline-block;\n",
       "}\n",
       "\n",
       ".xr-dim-list {\n",
       "  display: inline-block !important;\n",
       "  list-style: none;\n",
       "  padding: 0 !important;\n",
       "  margin: 0;\n",
       "}\n",
       "\n",
       ".xr-dim-list li {\n",
       "  display: inline-block;\n",
       "  padding: 0;\n",
       "  margin: 0;\n",
       "}\n",
       "\n",
       ".xr-dim-list:before {\n",
       "  content: '(';\n",
       "}\n",
       "\n",
       ".xr-dim-list:after {\n",
       "  content: ')';\n",
       "}\n",
       "\n",
       ".xr-dim-list li:not(:last-child):after {\n",
       "  content: ',';\n",
       "  padding-right: 5px;\n",
       "}\n",
       "\n",
       ".xr-has-index {\n",
       "  font-weight: bold;\n",
       "}\n",
       "\n",
       ".xr-var-list,\n",
       ".xr-var-item {\n",
       "  display: contents;\n",
       "}\n",
       "\n",
       ".xr-var-item > div,\n",
       ".xr-var-item label,\n",
       ".xr-var-item > .xr-var-name span {\n",
       "  background-color: var(--xr-background-color-row-even);\n",
       "  margin-bottom: 0;\n",
       "}\n",
       "\n",
       ".xr-var-item > .xr-var-name:hover span {\n",
       "  padding-right: 5px;\n",
       "}\n",
       "\n",
       ".xr-var-list > li:nth-child(odd) > div,\n",
       ".xr-var-list > li:nth-child(odd) > label,\n",
       ".xr-var-list > li:nth-child(odd) > .xr-var-name span {\n",
       "  background-color: var(--xr-background-color-row-odd);\n",
       "}\n",
       "\n",
       ".xr-var-name {\n",
       "  grid-column: 1;\n",
       "}\n",
       "\n",
       ".xr-var-dims {\n",
       "  grid-column: 2;\n",
       "}\n",
       "\n",
       ".xr-var-dtype {\n",
       "  grid-column: 3;\n",
       "  text-align: right;\n",
       "  color: var(--xr-font-color2);\n",
       "}\n",
       "\n",
       ".xr-var-preview {\n",
       "  grid-column: 4;\n",
       "}\n",
       "\n",
       ".xr-var-name,\n",
       ".xr-var-dims,\n",
       ".xr-var-dtype,\n",
       ".xr-preview,\n",
       ".xr-attrs dt {\n",
       "  white-space: nowrap;\n",
       "  overflow: hidden;\n",
       "  text-overflow: ellipsis;\n",
       "  padding-right: 10px;\n",
       "}\n",
       "\n",
       ".xr-var-name:hover,\n",
       ".xr-var-dims:hover,\n",
       ".xr-var-dtype:hover,\n",
       ".xr-attrs dt:hover {\n",
       "  overflow: visible;\n",
       "  width: auto;\n",
       "  z-index: 1;\n",
       "}\n",
       "\n",
       ".xr-var-attrs,\n",
       ".xr-var-data {\n",
       "  display: none;\n",
       "  background-color: var(--xr-background-color) !important;\n",
       "  padding-bottom: 5px !important;\n",
       "}\n",
       "\n",
       ".xr-var-attrs-in:checked ~ .xr-var-attrs,\n",
       ".xr-var-data-in:checked ~ .xr-var-data {\n",
       "  display: block;\n",
       "}\n",
       "\n",
       ".xr-var-data > table {\n",
       "  float: right;\n",
       "}\n",
       "\n",
       ".xr-var-name span,\n",
       ".xr-var-data,\n",
       ".xr-attrs {\n",
       "  padding-left: 25px !important;\n",
       "}\n",
       "\n",
       ".xr-attrs,\n",
       ".xr-var-attrs,\n",
       ".xr-var-data {\n",
       "  grid-column: 1 / -1;\n",
       "}\n",
       "\n",
       "dl.xr-attrs {\n",
       "  padding: 0;\n",
       "  margin: 0;\n",
       "  display: grid;\n",
       "  grid-template-columns: 125px auto;\n",
       "}\n",
       "\n",
       ".xr-attrs dt, dd {\n",
       "  padding: 0;\n",
       "  margin: 0;\n",
       "  float: left;\n",
       "  padding-right: 10px;\n",
       "  width: auto;\n",
       "}\n",
       "\n",
       ".xr-attrs dt {\n",
       "  font-weight: normal;\n",
       "  grid-column: 1;\n",
       "}\n",
       "\n",
       ".xr-attrs dt:hover span {\n",
       "  display: inline-block;\n",
       "  background: var(--xr-background-color);\n",
       "  padding-right: 10px;\n",
       "}\n",
       "\n",
       ".xr-attrs dd {\n",
       "  grid-column: 2;\n",
       "  white-space: pre-wrap;\n",
       "  word-break: break-all;\n",
       "}\n",
       "\n",
       ".xr-icon-database,\n",
       ".xr-icon-file-text2 {\n",
       "  display: inline-block;\n",
       "  vertical-align: middle;\n",
       "  width: 1em;\n",
       "  height: 1.5em !important;\n",
       "  stroke-width: 0;\n",
       "  stroke: currentColor;\n",
       "  fill: currentColor;\n",
       "}\n",
       "</style><div class='xr-wrap'><div class='xr-header'><div class='xr-obj-type'>xarray.DataArray</div><div class='xr-array-name'>'lev'</div></div><ul class='xr-sections'><li class='xr-section-item'><div class='xr-array-wrap'><input id='section-4f907f38-e4e6-4abb-994b-0039cc3f532c' class='xr-array-in' type='checkbox' ><label for='section-4f907f38-e4e6-4abb-994b-0039cc3f532c' title='Show/hide data repr'><svg class='icon xr-icon-database'><use xlink:href='#icon-database'></use></svg></label><div class='xr-array-preview xr-preview'><span>143.0</span></div><pre class='xr-array-data'>array(142.99403876)</pre></div></li><li class='xr-section-item'><input id='section-960257c7-e4b0-4591-919c-ad64b328d286' class='xr-section-summary-in' type='checkbox'  checked><label for='section-960257c7-e4b0-4591-919c-ad64b328d286' class='xr-section-summary' >Coordinates: <span>(1)</span></label><div class='xr-section-inline-details'></div><div class='xr-section-details'><ul class='xr-var-list'><li class='xr-var-item'><div class='xr-var-name'><span>lev</span></div><div class='xr-var-dims'>()</div><div class='xr-var-dtype'>float64</div><div class='xr-var-preview xr-preview'>143.0</div><input id='attrs-6078f3b3-a163-4df2-9a0d-e27ff5bc91de' class='xr-var-attrs-in' type='checkbox' ><label for='attrs-6078f3b3-a163-4df2-9a0d-e27ff5bc91de' title='Show/Hide attributes'><svg class='icon xr-icon-file-text2'><use xlink:href='#icon-file-text2'></use></svg></label><input id='data-5303435e-7cbd-4997-8545-e62752b0bb9e' class='xr-var-data-in' type='checkbox'><label for='data-5303435e-7cbd-4997-8545-e62752b0bb9e' title='Show/Hide data repr'><svg class='icon xr-icon-database'><use xlink:href='#icon-database'></use></svg></label><div class='xr-var-attrs'><dl class='xr-attrs'><dt><span>long_name :</span></dt><dd>hybrid level at midpoints (1000*(A+B))</dd><dt><span>units :</span></dt><dd>level</dd><dt><span>positive :</span></dt><dd>down</dd><dt><span>standard_name :</span></dt><dd>atmosphere_hybrid_sigma_pressure_coordinate</dd><dt><span>formula_terms :</span></dt><dd>a: hyam b: hybm p0: P0 ps: PS</dd></dl></div><pre class='xr-var-data'>array(142.99403876)</pre></li></ul></div></li><li class='xr-section-item'><input id='section-22c83647-818d-4239-8e2b-ee782062e15f' class='xr-section-summary-in' type='checkbox'  checked><label for='section-22c83647-818d-4239-8e2b-ee782062e15f' class='xr-section-summary' >Attributes: <span>(5)</span></label><div class='xr-section-inline-details'></div><div class='xr-section-details'><dl class='xr-attrs'><dt><span>long_name :</span></dt><dd>hybrid level at midpoints (1000*(A+B))</dd><dt><span>units :</span></dt><dd>level</dd><dt><span>positive :</span></dt><dd>down</dd><dt><span>standard_name :</span></dt><dd>atmosphere_hybrid_sigma_pressure_coordinate</dd><dt><span>formula_terms :</span></dt><dd>a: hyam b: hybm p0: P0 ps: PS</dd></dl></div></li></ul></div></div>"
      ],
      "text/plain": [
       "<xarray.DataArray 'lev' ()>\n",
       "array(142.99403876)\n",
       "Coordinates:\n",
       "    lev      float64 143.0\n",
       "Attributes:\n",
       "    long_name:      hybrid level at midpoints (1000*(A+B))\n",
       "    units:          level\n",
       "    positive:       down\n",
       "    standard_name:  atmosphere_hybrid_sigma_pressure_coordinate\n",
       "    formula_terms:  a: hyam b: hybm p0: P0 ps: PS"
      ]
     },
     "execution_count": 6,
     "metadata": {},
     "output_type": "execute_result"
    }
   ],
   "source": [
    "coor_RG['lev'][10]"
   ]
  },
  {
   "cell_type": "markdown",
   "metadata": {},
   "source": [
    "# Table 2: PDF similarity metrics (SJ and Hellinger)"
   ]
  },
  {
   "cell_type": "markdown",
   "metadata": {},
   "source": [
    "Inspired from [https://github.com/tbeucler/CBRAIN-CAM/blob/master/notebooks/tbeucler_devlog/044_Climate_invariant_analysis_output_scaling.ipynb]"
   ]
  },
  {
   "cell_type": "markdown",
   "metadata": {},
   "source": [
    "## Utilities"
   ]
  },
  {
   "cell_type": "code",
   "execution_count": 7,
   "metadata": {},
   "outputs": [],
   "source": [
    "def Hellinger(x,f,g):\n",
    "    return np.sqrt(np.trapz(y=0.5*(np.sqrt(f)-np.sqrt(g))**2,x=x))"
   ]
  },
  {
   "cell_type": "code",
   "execution_count": 8,
   "metadata": {},
   "outputs": [],
   "source": [
    "def KL(x,f,g,eps=1e-6):\n",
    "    to_integrate = np.copy(f)\n",
    "    to_integrate[f<eps] = 0\n",
    "    to_integrate[f>=eps] = f[f>=eps]*np.log(f[f>=eps]/np.maximum(eps,g[f>=eps]))\n",
    "    return np.trapz(y=to_integrate,x=x)"
   ]
  },
  {
   "cell_type": "code",
   "execution_count": 9,
   "metadata": {},
   "outputs": [],
   "source": [
    "def JS(x,f,g,eps=1e-6):\n",
    "    return np.sqrt(0.5*(KL(x,f,g,eps)+KL(x,g,f,eps)))"
   ]
  },
  {
   "cell_type": "code",
   "execution_count": 10,
   "metadata": {},
   "outputs": [],
   "source": [
    "def maxmin_norm(xf,xg,f,g):\n",
    "    \n",
    "    fg_xmax = np.maximum(np.max(xf),np.max(xg))\n",
    "    fg_xmin = np.minimum(np.min(xf),np.min(xg))\n",
    "    xf_norm = (xf-fg_xmin)/(fg_xmax-fg_xmin)\n",
    "    xg_norm = (xg-fg_xmin)/(fg_xmax-fg_xmin)\n",
    "    \n",
    "    f_norm = f/np.trapz(x=xf_norm,y=f)\n",
    "    g_norm = g/np.trapz(x=xg_norm,y=g)\n",
    "#     fg_max = np.maximum(np.max(f),np.max(g))\n",
    "#     fg_min = np.minimum(np.min(f),np.min(g))\n",
    "#     f_norm = (f-fg_min)/(fg_max-fg_min)\n",
    "#     g_norm = (g-fg_min)/(fg_max-fg_min)\n",
    "    \n",
    "    return xf_norm,xg_norm,f_norm,g_norm"
   ]
  },
  {
   "cell_type": "code",
   "execution_count": 11,
   "metadata": {},
   "outputs": [],
   "source": [
    "# From https://stackoverflow.com/questions/2413522/weighted-standard-deviation-in-np\n",
    "def weighted_avg_and_std(values, weights):\n",
    "    \"\"\"\n",
    "    Return the weighted average and standard deviation.\n",
    "    values, weights -- np ndarrays with the same shape.\n",
    "    \"\"\"\n",
    "    if np.sum(weights)>0:\n",
    "        average = np.average(values, weights=weights)\n",
    "        variance = np.average((values-average)**2, weights=weights)\n",
    "    else: average = np.nan; variance = np.nan\n",
    "    return (average, np.sqrt(variance))\n",
    "\n",
    "# Make function to calculate conditional mean and std\n",
    "# We condition field_y on field_x\n",
    "def conditional_avg_and_std(bin_edges,field_x,field_y):\n",
    "    # Initialization\n",
    "    Nbin = np.size(bin_edges)\n",
    "    Ym = np.zeros((Nbin-1,1))\n",
    "    Ystd = np.copy(Ym)\n",
    "\n",
    "    for ibin,edge in enumerate(bin_edges):\n",
    "        print('ibin=',ibin,'/',Nbin-1,' & edge=',edge,end=\"\\r\")\n",
    "        if ibin>0:\n",
    "            w = (field_x>=edge_left)*(field_x<edge)\n",
    "            Ym[ibin-1],Ystd[ibin-1] = weighted_avg_and_std(field_y,w)\n",
    "\n",
    "        edge_left = edge\n",
    "    \n",
    "    return Ym,Ystd"
   ]
  },
  {
   "cell_type": "code",
   "execution_count": 12,
   "metadata": {},
   "outputs": [],
   "source": [
    "def plot_verthist(S):\n",
    "    fig, ax = plt.subplots(20,1,figsize=(15,25))\n",
    "\n",
    "    iav = 0\n",
    "    JS_mean = 0\n",
    "    Hel_mean = 0\n",
    "\n",
    "    for icount,ilev in enumerate(np.arange(10,30)):\n",
    "        TITLE = 'Hel/JS='\n",
    "        for idata,data in enumerate(['m4K','ref','p4K']):\n",
    "            ax[icount].plot(edg2bin(S[ilev][data][1]),S[ilev][data][0],color=COL[idata])\n",
    "            ax[icount].set_ylabel(str(ilev))\n",
    "\n",
    "            f_cold = S[ilev]['m4K'][0]; x_cold = edg2bin(S[ilev]['m4K'][1])\n",
    "            f_data = S[ilev][data][0]; x_data = edg2bin(S[ilev][data][1])\n",
    "\n",
    "            xf_norm,xg_norm,f_norm,g_norm = maxmin_norm(x_cold,x_data,f_cold,f_data)\n",
    "            x = np.linspace(0,1,1000)\n",
    "\n",
    "            f = np.interp(x=x,xp=xf_norm,fp=f_norm)\n",
    "            g = np.interp(x=x,xp=xg_norm,fp=g_norm)\n",
    "\n",
    "            H = Hellinger(x,f,g)\n",
    "            JS0 = JS(x,f,g,eps=1e-4)\n",
    "\n",
    "            iav += 1\n",
    "            JS_mean += JS0\n",
    "            Hel_mean += H\n",
    "\n",
    "            TITLE += '('+data+') '+str(H)[:5]+'/'+str(JS0)[:5]+' '\n",
    "        ax[icount].set_title(TITLE)\n",
    "    fig.tight_layout()\n",
    "    print('Mean JS is ',str(100*JS_mean/iav),'% and mean Hellinger is ',str(100*Hel_mean/iav),'%')\n",
    "    \n",
    "    return JS_mean/iav,Hel_mean/iav"
   ]
  },
  {
   "cell_type": "code",
   "execution_count": 13,
   "metadata": {},
   "outputs": [],
   "source": [
    "def edg2bin(bin_edges):\n",
    "    return 0.5*(bin_edges[1:]+bin_edges[:-1])"
   ]
  },
  {
   "cell_type": "markdown",
   "metadata": {},
   "source": [
    "## Load PDFs"
   ]
  },
  {
   "cell_type": "code",
   "execution_count": 14,
   "metadata": {},
   "outputs": [],
   "source": [
    "path_array = [\n",
    "     '2021_03_18_O3_TRAIN_M4K_shuffle.nc',\n",
    "     '2021_01_24_O3_TRAIN_shuffle.nc',\n",
    "     '2021_03_18_O3_TRAIN_P4K_shuffle.nc',\n",
    "     '2021_04_18_RG_TRAIN_M4K_shuffle.nc',\n",
    "     '2021_06_03_RG_TRAIN_shuffle.nc',\n",
    "     '2021_04_18_RG_TRAIN_P4K_shuffle.nc',\n",
    "    #'1','2','3' # dummy paths for HH simulations\n",
    "]"
   ]
  },
  {
   "cell_type": "markdown",
   "metadata": {},
   "source": [
    "Load Q"
   ]
  },
  {
   "cell_type": "code",
   "execution_count": 15,
   "metadata": {},
   "outputs": [],
   "source": [
    "pathPKL = '/DFS-L/DATA/pritchard/tbeucler/SPCAM/SPCAM_PHYS/PKL_DATA/'"
   ]
  },
  {
   "cell_type": "code",
   "execution_count": 16,
   "metadata": {},
   "outputs": [],
   "source": [
    "save_name = '2021_06_07_AQUA_RG_Qhist'"
   ]
  },
  {
   "cell_type": "code",
   "execution_count": 17,
   "metadata": {},
   "outputs": [],
   "source": [
    "hf = open(pathPKL+'/'+save_name+'.pkl','rb')\n",
    "\n",
    "Q_data = pickle.load(hf)\n",
    "hf.close()"
   ]
  },
  {
   "cell_type": "markdown",
   "metadata": {},
   "source": [
    "Load T"
   ]
  },
  {
   "cell_type": "code",
   "execution_count": 18,
   "metadata": {},
   "outputs": [],
   "source": [
    "save_name = '2021_06_07_AQUA_RG_Thist'"
   ]
  },
  {
   "cell_type": "code",
   "execution_count": 19,
   "metadata": {},
   "outputs": [],
   "source": [
    "hf = open(pathPKL+'/'+save_name+'.pkl','rb')\n",
    "\n",
    "T_data = pickle.load(hf)\n",
    "hf.close()"
   ]
  },
  {
   "cell_type": "markdown",
   "metadata": {},
   "source": [
    "Load T at 200hPa"
   ]
  },
  {
   "cell_type": "code",
   "execution_count": 20,
   "metadata": {},
   "outputs": [],
   "source": [
    "save_name = '2021_08_18_AQUA_RG_Thist_ilev'+str(12)"
   ]
  },
  {
   "cell_type": "code",
   "execution_count": 21,
   "metadata": {},
   "outputs": [],
   "source": [
    "hf = open(pathPKL+'/'+save_name+'.pkl','rb')\n",
    "\n",
    "T200_data = pickle.load(hf)\n",
    "hf.close()"
   ]
  },
  {
   "cell_type": "markdown",
   "metadata": {},
   "source": [
    "Load T at 150hPa"
   ]
  },
  {
   "cell_type": "code",
   "execution_count": 22,
   "metadata": {},
   "outputs": [],
   "source": [
    "save_name = '2021_08_18_AQUA_RG_Thist_ilev'+str(10)"
   ]
  },
  {
   "cell_type": "code",
   "execution_count": 23,
   "metadata": {},
   "outputs": [],
   "source": [
    "hf = open(pathPKL+'/'+save_name+'.pkl','rb')\n",
    "\n",
    "T150_data = pickle.load(hf)\n",
    "hf.close()"
   ]
  },
  {
   "cell_type": "markdown",
   "metadata": {},
   "source": [
    "Load B"
   ]
  },
  {
   "cell_type": "code",
   "execution_count": 24,
   "metadata": {},
   "outputs": [],
   "source": [
    "path = '2021_06_21_distributions_BMSE'"
   ]
  },
  {
   "cell_type": "code",
   "execution_count": 25,
   "metadata": {},
   "outputs": [],
   "source": [
    "hf = open(pathPKL+'/'+path+'.pkl','rb')\n",
    "\n",
    "B_data = pickle.load(hf)\n",
    "hf.close()"
   ]
  },
  {
   "cell_type": "markdown",
   "metadata": {},
   "source": [
    "Load LHF"
   ]
  },
  {
   "cell_type": "code",
   "execution_count": 26,
   "metadata": {},
   "outputs": [],
   "source": [
    "save_name = '2021_06_07_AQUA_RG_LHFhist'"
   ]
  },
  {
   "cell_type": "code",
   "execution_count": 27,
   "metadata": {},
   "outputs": [],
   "source": [
    "hf = open(pathPKL+'/'+save_name+'.pkl','rb')\n",
    "\n",
    "LHF_data = pickle.load(hf)\n",
    "hf.close()"
   ]
  },
  {
   "cell_type": "markdown",
   "metadata": {},
   "source": [
    "Load hypohydrostatic histograms"
   ]
  },
  {
   "cell_type": "code",
   "execution_count": 28,
   "metadata": {},
   "outputs": [],
   "source": [
    "fol_Janni = '/DFS-L/DATA/pritchard/tbeucler/SPCAM/Janni_data/'"
   ]
  },
  {
   "cell_type": "code",
   "execution_count": 29,
   "metadata": {},
   "outputs": [],
   "source": [
    "Q_data_HH = pickle.load(open(fol_Janni+'q_hists.pkl','rb'))"
   ]
  },
  {
   "cell_type": "code",
   "execution_count": 30,
   "metadata": {},
   "outputs": [],
   "source": [
    "HHdic = {}\n",
    "HHdic['QV'] = 'qv';\n",
    "HHdic['RH'] = 'RH';\n",
    "HHdic['QfromQsat'] = 'q_deficit'"
   ]
  },
  {
   "cell_type": "code",
   "execution_count": 31,
   "metadata": {},
   "outputs": [],
   "source": [
    "T_data_HH = pickle.load(open(fol_Janni+'T_hists.pkl','rb'))"
   ]
  },
  {
   "cell_type": "code",
   "execution_count": 32,
   "metadata": {},
   "outputs": [
    {
     "data": {
      "text/plain": [
       "dict_keys(['Tin', 'BMSE', 'T_mTNS'])"
      ]
     },
     "execution_count": 32,
     "metadata": {},
     "output_type": "execute_result"
    }
   ],
   "source": [
    "T_data_HH['edgQ'].keys()"
   ]
  },
  {
   "cell_type": "code",
   "execution_count": 33,
   "metadata": {},
   "outputs": [],
   "source": [
    "HHdic['T'] = 'Tin'\n",
    "HHdic['BMSE'] = 'BMSE'\n",
    "HHdic['TfromNS'] = 'T_mTNS'"
   ]
  },
  {
   "cell_type": "code",
   "execution_count": 34,
   "metadata": {},
   "outputs": [],
   "source": [
    "T150_data_HH = pickle.load(open(fol_Janni+'T_hists_148hPa.pkl','rb'))"
   ]
  },
  {
   "cell_type": "code",
   "execution_count": 35,
   "metadata": {},
   "outputs": [
    {
     "data": {
      "text/plain": [
       "dict_keys(['Tin', 'BMSE', 'T_mTNS'])"
      ]
     },
     "execution_count": 35,
     "metadata": {},
     "output_type": "execute_result"
    }
   ],
   "source": [
    "T150_data_HH['edgQ'].keys()"
   ]
  },
  {
   "cell_type": "markdown",
   "metadata": {},
   "source": [
    "Group all variables into the same structure"
   ]
  },
  {
   "cell_type": "code",
   "execution_count": 36,
   "metadata": {},
   "outputs": [],
   "source": [
    "hisQ = {}\n",
    "edgQ = {}\n",
    "\n",
    "for ikey,key in enumerate(['QV','RH','QfromQsat']):\n",
    "    hisQ[key] = {}\n",
    "    edgQ[key] = {}\n",
    "    for ipath,path in enumerate(path_array):\n",
    "        hisQ[key][path] = {}\n",
    "        edgQ[key][path] = {}"
   ]
  },
  {
   "cell_type": "code",
   "execution_count": 37,
   "metadata": {},
   "outputs": [],
   "source": [
    "hisT = {}\n",
    "edgT = {}\n",
    "\n",
    "for ikey,key in enumerate(['T','BCONS','TfromNS']):\n",
    "    hisT[key] = {}\n",
    "    edgT[key] = {}\n",
    "    for ipath,path in enumerate(path_array):\n",
    "        hisT[key][path] = {}\n",
    "        edgT[key][path] = {}"
   ]
  },
  {
   "cell_type": "code",
   "execution_count": 38,
   "metadata": {},
   "outputs": [],
   "source": [
    "hisT150 = {}\n",
    "edgT150 = {}\n",
    "\n",
    "for ikey,key in enumerate(['T','BCONS','TfromNS']):\n",
    "    hisT150[key] = {}\n",
    "    edgT150[key] = {}\n",
    "    for ipath,path in enumerate(path_array):\n",
    "        hisT150[key][path] = {}\n",
    "        edgT150[key][path] = {}"
   ]
  },
  {
   "cell_type": "code",
   "execution_count": 39,
   "metadata": {},
   "outputs": [],
   "source": [
    "hisT200 = {}\n",
    "edgT200 = {}\n",
    "\n",
    "for ikey,key in enumerate(['T','BCONS','TfromNS']):\n",
    "    hisT200[key] = {}\n",
    "    edgT200[key] = {}\n",
    "    for ipath,path in enumerate(path_array):\n",
    "        hisT200[key][path] = {}\n",
    "        edgT200[key][path] = {}"
   ]
  },
  {
   "cell_type": "code",
   "execution_count": 40,
   "metadata": {},
   "outputs": [],
   "source": [
    "hisLHF = {}\n",
    "edgLHF = {}\n",
    "\n",
    "for ikey,key in enumerate(['LHF','LHF_nsQ','LHF_nsDELQ']):\n",
    "    hisLHF[key] = {}\n",
    "    edgLHF[key] = {}\n",
    "    for ipath,path in enumerate(path_array):\n",
    "        hisLHF[key][path] = {}\n",
    "        edgLHF[key][path] = {}"
   ]
  },
  {
   "cell_type": "code",
   "execution_count": 41,
   "metadata": {},
   "outputs": [],
   "source": [
    "hisQ = Q_data['hisQ']\n",
    "edgQ = Q_data['edgQ']\n",
    "# Convert specific humidities to g/kg\n",
    "for ipath,path0 in enumerate(path_array):\n",
    "    for ikey,key in enumerate(['QV','QfromQsat']):\n",
    "        edgQ[key][path0] *= 1e3"
   ]
  },
  {
   "cell_type": "code",
   "execution_count": 42,
   "metadata": {},
   "outputs": [],
   "source": [
    "\n",
    "\n",
    "hisT = T_data['hisT']\n",
    "edgT = T_data['edgT']\n",
    "# Load buoyancy from MSE\n",
    "ilevB = 23\n",
    "for ikey,key in enumerate(['BMSE']):\n",
    "    hisT[key] = {}\n",
    "    edgT[key] = {}\n",
    "    for ipath,path in enumerate(path_array):\n",
    "        hisT[key][path] = B_data['hisT'][ilevB][path]\n",
    "        edgT[key][path] = B_data['edgT'][ilevB][path]\n",
    "\n",
    "hisT200 = T200_data['hisT']\n",
    "edgT200 = T200_data['edgT']\n",
    "# Load buoyancy from MSE\n",
    "ilevB = 12\n",
    "for ikey,key in enumerate(['BMSE']):\n",
    "    hisT200[key] = {}\n",
    "    edgT200[key] = {}\n",
    "    for ipath,path in enumerate(path_array):\n",
    "        hisT200[key][path] = B_data['hisT'][ilevB][path]\n",
    "        edgT200[key][path] = B_data['edgT'][ilevB][path]\n",
    "        \n",
    "hisT150 = T150_data['hisT']\n",
    "edgT150 = T150_data['edgT']\n",
    "# Load buoyancy from MSE\n",
    "ilevB = 10\n",
    "for ikey,key in enumerate(['BMSE']):\n",
    "    hisT150[key] = {}\n",
    "    edgT150[key] = {}\n",
    "    for ipath,path in enumerate(path_array):\n",
    "        hisT150[key][path] = B_data['hisT'][ilevB][path]\n",
    "        edgT150[key][path] = B_data['edgT'][ilevB][path]\n",
    "\n",
    "# Redefine Tarray to replace BCONS with BMSE for now\n",
    "Tarray = ['T','BMSE','TfromNS']\n",
    "\n",
    "hisLHF = LHF_data['hisLHF']\n",
    "edgLHF = LHF_data['edgLHF']"
   ]
  },
  {
   "cell_type": "markdown",
   "metadata": {},
   "source": [
    "Set histograms to zero for the (-4K) SAM simulations and load Janni values for the other sims"
   ]
  },
  {
   "cell_type": "code",
   "execution_count": 43,
   "metadata": {},
   "outputs": [],
   "source": [
    "path_array = [\n",
    "     '2021_03_18_O3_TRAIN_M4K_shuffle.nc',\n",
    "     '2021_01_24_O3_TRAIN_shuffle.nc',\n",
    "     '2021_03_18_O3_TRAIN_P4K_shuffle.nc',\n",
    "     '2021_04_18_RG_TRAIN_M4K_shuffle.nc',\n",
    "     '2021_06_03_RG_TRAIN_shuffle.nc',\n",
    "     '2021_04_18_RG_TRAIN_P4K_shuffle.nc',\n",
    "    '1','2','3' # dummy paths for HH simulations\n",
    "]"
   ]
  },
  {
   "cell_type": "code",
   "execution_count": 44,
   "metadata": {},
   "outputs": [],
   "source": [
    "path_SAM = ['1','2','3']\n",
    "for ipath,path0 in enumerate(path_SAM):\n",
    "    \n",
    "    for ikey,key in enumerate(['QV','RH','QfromQsat']):\n",
    "        if ipath==2: \n",
    "            edgQ[key][path0] = Q_data_HH['edgQ'][HHdic[key]]['qobs']\n",
    "            hisQ[key][path0] = 0*edg2bin(edgQ[key][path0])**0\n",
    "        elif ipath==0: \n",
    "            hisQ[key][path0] = Q_data_HH['hisQ'][HHdic[key]]['qobs']\n",
    "            if key=='RH': edgQ[key][path0] = Q_data_HH['edgQ'][HHdic[key]]['qobs']\n",
    "            else: edgQ[key][path0] = 1e3*Q_data_HH['edgQ'][HHdic[key]]['qobs'] # Conversion in g/kg\n",
    "        elif ipath==1: \n",
    "            hisQ[key][path0] = Q_data_HH['hisQ'][HHdic[key]]['qobs4K']\n",
    "            if key=='RH': edgQ[key][path0] = Q_data_HH['edgQ'][HHdic[key]]['qobs4K']\n",
    "            else: edgQ[key][path0] = 1e3*Q_data_HH['edgQ'][HHdic[key]]['qobs4K'] # Conversion in g/kg\n",
    "    \n",
    "    for ikey,key in enumerate(['T','BMSE','TfromNS']):\n",
    "        if ipath==2: \n",
    "            edgT[key][path0] = T_data_HH['edgQ'][HHdic[key]]['qobs']\n",
    "            hisT[key][path0] = 0*edg2bin(edgT[key][path0])**0\n",
    "            edgT150[key][path0] = T150_data_HH['edgQ'][HHdic[key]]['qobs']\n",
    "            hisT150[key][path0] = 0*edg2bin(edgT150[key][path0])**0\n",
    "        elif ipath==0: \n",
    "            hisT[key][path0] = T_data_HH['hisQ'][HHdic[key]]['qobs']\n",
    "            edgT[key][path0] = T_data_HH['edgQ'][HHdic[key]]['qobs']\n",
    "            hisT150[key][path0] = T150_data_HH['hisQ'][HHdic[key]]['qobs']\n",
    "            edgT150[key][path0] = T150_data_HH['edgQ'][HHdic[key]]['qobs']\n",
    "        elif ipath==1: \n",
    "            hisT[key][path0] = T_data_HH['hisQ'][HHdic[key]]['qobs4K']\n",
    "            edgT[key][path0] = T_data_HH['edgQ'][HHdic[key]]['qobs4K']\n",
    "            hisT150[key][path0] = T150_data_HH['hisQ'][HHdic[key]]['qobs4K']\n",
    "            edgT150[key][path0] = T150_data_HH['edgQ'][HHdic[key]]['qobs4K']\n",
    "            \n",
    "    for ikey,key in enumerate(['LHF','LHF_nsQ','LHF_nsDELQ']):\n",
    "            edgLHF[key][path0] = np.linspace(0,100,101)\n",
    "            hisLHF[key][path0] = 0*edg2bin(edgLHF[key][path0])**0"
   ]
  },
  {
   "cell_type": "markdown",
   "metadata": {},
   "source": [
    "## Calculate JS and Hellinger structures"
   ]
  },
  {
   "cell_type": "code",
   "execution_count": 45,
   "metadata": {},
   "outputs": [],
   "source": [
    "JS0 = {}; Hel = {};"
   ]
  },
  {
   "cell_type": "code",
   "execution_count": 46,
   "metadata": {},
   "outputs": [
    {
     "data": {
      "text/plain": [
       "['2021_03_18_O3_TRAIN_M4K_shuffle.nc',\n",
       " '2021_01_24_O3_TRAIN_shuffle.nc',\n",
       " '2021_03_18_O3_TRAIN_P4K_shuffle.nc',\n",
       " '2021_04_18_RG_TRAIN_M4K_shuffle.nc',\n",
       " '2021_06_03_RG_TRAIN_shuffle.nc',\n",
       " '2021_04_18_RG_TRAIN_P4K_shuffle.nc',\n",
       " '1',\n",
       " '2',\n",
       " '3']"
      ]
     },
     "execution_count": 46,
     "metadata": {},
     "output_type": "execute_result"
    }
   ],
   "source": [
    "path_array"
   ]
  },
  {
   "cell_type": "markdown",
   "metadata": {},
   "source": [
    "### Test with distributions that are as different as possible"
   ]
  },
  {
   "cell_type": "markdown",
   "metadata": {},
   "source": [
    "One distribution is systematically 0 when the other one is non-zero"
   ]
  },
  {
   "cell_type": "code",
   "execution_count": 47,
   "metadata": {},
   "outputs": [],
   "source": [
    "x = np.linspace(0,1,1000)"
   ]
  },
  {
   "cell_type": "code",
   "execution_count": 48,
   "metadata": {},
   "outputs": [],
   "source": [
    "rand_vector = np.random.rand(1000)"
   ]
  },
  {
   "cell_type": "code",
   "execution_count": 49,
   "metadata": {},
   "outputs": [],
   "source": [
    "f_test = np.zeros((1000,))\n",
    "f_test[rand_vector>0.5] = 1\n",
    "f_test /= np.trapz(x=x,y=f_test)"
   ]
  },
  {
   "cell_type": "code",
   "execution_count": 50,
   "metadata": {},
   "outputs": [],
   "source": [
    "g_test = np.zeros((1000,))\n",
    "g_test[rand_vector<=0.5] = 1\n",
    "g_test /= np.trapz(x=x,y=g_test)"
   ]
  },
  {
   "cell_type": "code",
   "execution_count": 51,
   "metadata": {},
   "outputs": [],
   "source": [
    "H_test = Hellinger(x,f_test,g_test)"
   ]
  },
  {
   "cell_type": "code",
   "execution_count": 52,
   "metadata": {},
   "outputs": [
    {
     "data": {
      "text/plain": [
       "1.0"
      ]
     },
     "execution_count": 52,
     "metadata": {},
     "output_type": "execute_result"
    }
   ],
   "source": [
    "H_test"
   ]
  },
  {
   "cell_type": "code",
   "execution_count": 53,
   "metadata": {},
   "outputs": [],
   "source": [
    "JS_test = JS(x,f_test,g_test)"
   ]
  },
  {
   "cell_type": "code",
   "execution_count": 54,
   "metadata": {},
   "outputs": [
    {
     "data": {
      "text/plain": [
       "3.8092297584814916"
      ]
     },
     "execution_count": 54,
     "metadata": {},
     "output_type": "execute_result"
    }
   ],
   "source": [
    "JS_test"
   ]
  },
  {
   "cell_type": "markdown",
   "metadata": {},
   "source": [
    "### Test with calculated distributions"
   ]
  },
  {
   "cell_type": "code",
   "execution_count": 55,
   "metadata": {},
   "outputs": [],
   "source": [
    "fsave = {}; gsave = {}; "
   ]
  },
  {
   "cell_type": "code",
   "execution_count": 56,
   "metadata": {},
   "outputs": [
    {
     "name": "stdout",
     "output_type": "stream",
     "text": [
      "var= QV\n",
      "key= QV                    \r"
     ]
    },
    {
     "name": "stderr",
     "output_type": "stream",
     "text": [
      "/DFS-L/DATA/pritchard/tbeucler/Miniconda3_2021_04_12/miniconda3/envs/CbrainCustomLayer/lib/python3.6/site-packages/ipykernel_launcher.py:9: RuntimeWarning: invalid value encountered in true_divide\n",
      "  if __name__ == '__main__':\n",
      "/DFS-L/DATA/pritchard/tbeucler/Miniconda3_2021_04_12/miniconda3/envs/CbrainCustomLayer/lib/python3.6/site-packages/ipykernel_launcher.py:3: RuntimeWarning: invalid value encountered in less\n",
      "  This is separate from the ipykernel package so we can avoid doing imports until\n",
      "/DFS-L/DATA/pritchard/tbeucler/Miniconda3_2021_04_12/miniconda3/envs/CbrainCustomLayer/lib/python3.6/site-packages/ipykernel_launcher.py:4: RuntimeWarning: invalid value encountered in greater_equal\n",
      "  after removing the cwd from sys.path.\n"
     ]
    },
    {
     "ename": "NameError",
     "evalue": "name 'stop' is not defined",
     "output_type": "error",
     "traceback": [
      "\u001b[0;31m---------------------------------------------------------------------------\u001b[0m",
      "\u001b[0;31mNameError\u001b[0m                                 Traceback (most recent call last)",
      "\u001b[0;32m<ipython-input-56-232d944dbf86>\u001b[0m in \u001b[0;36m<module>\u001b[0;34m()\u001b[0m\n\u001b[1;32m     39\u001b[0m             \u001b[0mJS0\u001b[0m\u001b[0;34m[\u001b[0m\u001b[0mvar\u001b[0m\u001b[0;34m]\u001b[0m\u001b[0;34m[\u001b[0m\u001b[0mkey\u001b[0m\u001b[0;34m]\u001b[0m\u001b[0;34m[\u001b[0m\u001b[0mpath\u001b[0m\u001b[0;34m]\u001b[0m \u001b[0;34m=\u001b[0m \u001b[0mJS\u001b[0m\u001b[0;34m(\u001b[0m\u001b[0mx\u001b[0m\u001b[0;34m,\u001b[0m\u001b[0mf\u001b[0m\u001b[0;34m,\u001b[0m\u001b[0mg\u001b[0m\u001b[0;34m)\u001b[0m\u001b[0;34m\u001b[0m\u001b[0;34m\u001b[0m\u001b[0m\n\u001b[1;32m     40\u001b[0m \u001b[0;34m\u001b[0m\u001b[0m\n\u001b[0;32m---> 41\u001b[0;31m         \u001b[0;32mif\u001b[0m \u001b[0mikey\u001b[0m\u001b[0;34m==\u001b[0m\u001b[0;36m0\u001b[0m\u001b[0;34m:\u001b[0m \u001b[0mstop\u001b[0m\u001b[0;34m\u001b[0m\u001b[0;34m\u001b[0m\u001b[0m\n\u001b[0m",
      "\u001b[0;31mNameError\u001b[0m: name 'stop' is not defined"
     ]
    }
   ],
   "source": [
    "for ivar,var in enumerate(['QV','T','T200','T150','LHF']):\n",
    "    print('var=',var,end='\\n')\n",
    "    JS0[var] = {}; Hel[var] = {}; fsave[var] = {}; gsave[var] = {};\n",
    "    if var=='QV': key_array = ['QV','RH','QfromQsat']; edg = edgQ; his = hisQ;\n",
    "    elif var=='T': key_array = ['T','BMSE','TfromNS']; edg = edgT; his = hisT;\n",
    "    elif var=='T200': edg = edgT200; his = hisT200;\n",
    "    elif var=='T150': edg = edgT150; his = hisT150;\n",
    "    elif var=='LHF': key_array = ['LHF','LHF_nsQ','LHF_nsDELQ']; edg = edgLHF; his  = hisLHF;\n",
    "        \n",
    "    for ikey,key in enumerate(key_array):\n",
    "        print('key=',key,'                   ',end='\\r')\n",
    "        JS0[var][key] = {}; Hel[var][key] = {};\n",
    "        fsave[var][key] = {}; gsave[var][key] = {};\n",
    "        \n",
    "        for ipath,path in enumerate(path_array):\n",
    "            \n",
    "            if ipath<3: \n",
    "                f_cold = his[key][path_array[0]]\n",
    "                x_cold = edg2bin(edg[key][path_array[0]])\n",
    "            else:\n",
    "                f_cold = his[key][path_array[3]]\n",
    "                x_cold = edg2bin(edg[key][path_array[3]])\n",
    "            \n",
    "            f_data = his[key][path]; x_data = edg2bin(edg[key][path])\n",
    "\n",
    "            xf_norm,xg_norm,f_norm,g_norm = maxmin_norm(x_cold,x_data,f_cold,f_data)\n",
    "            x = np.linspace(0,1,1000)\n",
    "            \n",
    "            f = np.interp(x=x,xp=xf_norm,fp=f_norm)\n",
    "            g = np.interp(x=x,xp=xg_norm,fp=g_norm)\n",
    "            \n",
    "            f = np.maximum(f,0); f /= np.trapz(x=x,y=f)\n",
    "            g = np.maximum(g,0); g /= np.trapz(x=x,y=g)\n",
    "\n",
    "            fsave[var][key][path] = f\n",
    "            gsave[var][key][path] = g\n",
    "            \n",
    "            Hel[var][key][path] = Hellinger(x,f,g)\n",
    "            JS0[var][key][path] = JS(x,f,g)\n",
    "            \n",
    "        if ikey==0: stop"
   ]
  },
  {
   "cell_type": "code",
   "execution_count": null,
   "metadata": {},
   "outputs": [],
   "source": [
    "JS0[var][key][path]"
   ]
  },
  {
   "cell_type": "code",
   "execution_count": null,
   "metadata": {},
   "outputs": [
    {
     "name": "stdout",
     "output_type": "stream",
     "text": [
      "QV 3 1000\n"
     ]
    }
   ],
   "source": [
    "print(key,path,np.sum(fsave[var][key][path]>0));"
   ]
  },
  {
   "cell_type": "code",
   "execution_count": null,
   "metadata": {},
   "outputs": [
    {
     "data": {
      "text/plain": [
       "array([nan, nan, nan, nan, nan, nan, nan, nan, nan, nan, nan, nan, nan,\n",
       "       nan, nan, nan, nan, nan, nan, nan, nan, nan, nan, nan, nan, nan,\n",
       "       nan, nan, nan, nan, nan, nan, nan, nan, nan, nan, nan, nan, nan,\n",
       "       nan, nan, nan, nan, nan, nan, nan, nan, nan, nan, nan, nan, nan,\n",
       "       nan, nan, nan, nan, nan, nan, nan, nan, nan, nan, nan, nan, nan,\n",
       "       nan, nan, nan, nan, nan, nan, nan, nan, nan, nan, nan, nan, nan,\n",
       "       nan, nan, nan, nan, nan, nan, nan, nan, nan, nan, nan, nan, nan,\n",
       "       nan, nan, nan, nan, nan, nan, nan, nan, nan, nan, nan, nan, nan,\n",
       "       nan, nan, nan, nan, nan, nan, nan, nan, nan, nan, nan, nan, nan,\n",
       "       nan, nan, nan, nan, nan, nan, nan, nan, nan, nan, nan, nan, nan,\n",
       "       nan, nan, nan, nan, nan, nan, nan, nan, nan, nan, nan, nan, nan,\n",
       "       nan, nan, nan, nan, nan, nan, nan, nan, nan, nan, nan, nan, nan,\n",
       "       nan, nan, nan, nan, nan, nan, nan, nan, nan, nan, nan, nan, nan,\n",
       "       nan, nan, nan, nan, nan, nan, nan, nan, nan, nan, nan, nan, nan,\n",
       "       nan, nan, nan, nan, nan, nan, nan, nan, nan, nan, nan, nan, nan,\n",
       "       nan, nan, nan, nan, nan, nan, nan, nan, nan, nan, nan, nan, nan,\n",
       "       nan, nan, nan, nan, nan, nan, nan, nan, nan, nan, nan, nan, nan,\n",
       "       nan, nan, nan, nan, nan, nan, nan, nan, nan, nan, nan, nan, nan,\n",
       "       nan, nan, nan, nan, nan, nan, nan, nan, nan, nan, nan, nan, nan,\n",
       "       nan, nan, nan, nan, nan, nan, nan, nan, nan, nan, nan, nan, nan,\n",
       "       nan, nan, nan, nan, nan, nan, nan, nan, nan, nan, nan, nan, nan,\n",
       "       nan, nan, nan, nan, nan, nan, nan, nan, nan, nan, nan, nan, nan,\n",
       "       nan, nan, nan, nan, nan, nan, nan, nan, nan, nan, nan, nan, nan,\n",
       "       nan, nan, nan, nan, nan, nan, nan, nan, nan, nan, nan, nan, nan,\n",
       "       nan, nan, nan, nan, nan, nan, nan, nan, nan, nan, nan, nan, nan,\n",
       "       nan, nan, nan, nan, nan, nan, nan, nan, nan, nan, nan, nan, nan,\n",
       "       nan, nan, nan, nan, nan, nan, nan, nan, nan, nan, nan, nan, nan,\n",
       "       nan, nan, nan, nan, nan, nan, nan, nan, nan, nan, nan, nan, nan,\n",
       "       nan, nan, nan, nan, nan, nan, nan, nan, nan, nan, nan, nan, nan,\n",
       "       nan, nan, nan, nan, nan, nan, nan, nan, nan, nan, nan, nan, nan,\n",
       "       nan, nan, nan, nan, nan, nan, nan, nan, nan, nan, nan, nan, nan,\n",
       "       nan, nan, nan, nan, nan, nan, nan, nan, nan, nan, nan, nan, nan,\n",
       "       nan, nan, nan, nan, nan, nan, nan, nan, nan, nan, nan, nan, nan,\n",
       "       nan, nan, nan, nan, nan, nan, nan, nan, nan, nan, nan, nan, nan,\n",
       "       nan, nan, nan, nan, nan, nan, nan, nan, nan, nan, nan, nan, nan,\n",
       "       nan, nan, nan, nan, nan, nan, nan, nan, nan, nan, nan, nan, nan,\n",
       "       nan, nan, nan, nan, nan, nan, nan, nan, nan, nan, nan, nan, nan,\n",
       "       nan, nan, nan, nan, nan, nan, nan, nan, nan, nan, nan, nan, nan,\n",
       "       nan, nan, nan, nan, nan, nan, nan, nan, nan, nan, nan, nan, nan,\n",
       "       nan, nan, nan, nan, nan, nan, nan, nan, nan, nan, nan, nan, nan,\n",
       "       nan, nan, nan, nan, nan, nan, nan, nan, nan, nan, nan, nan, nan,\n",
       "       nan, nan, nan, nan, nan, nan, nan, nan, nan, nan, nan, nan, nan,\n",
       "       nan, nan, nan, nan, nan, nan, nan, nan, nan, nan, nan, nan, nan,\n",
       "       nan, nan, nan, nan, nan, nan, nan, nan, nan, nan, nan, nan, nan,\n",
       "       nan, nan, nan, nan, nan, nan, nan, nan, nan, nan, nan, nan, nan,\n",
       "       nan, nan, nan, nan, nan, nan, nan, nan, nan, nan, nan, nan, nan,\n",
       "       nan, nan, nan, nan, nan, nan, nan, nan, nan, nan, nan, nan, nan,\n",
       "       nan, nan, nan, nan, nan, nan, nan, nan, nan, nan, nan, nan, nan,\n",
       "       nan, nan, nan, nan, nan, nan, nan, nan, nan, nan, nan, nan, nan,\n",
       "       nan, nan, nan, nan, nan, nan, nan, nan, nan, nan, nan, nan, nan,\n",
       "       nan, nan, nan, nan, nan, nan, nan, nan, nan, nan, nan, nan, nan,\n",
       "       nan, nan, nan, nan, nan, nan, nan, nan, nan, nan, nan, nan, nan,\n",
       "       nan, nan, nan, nan, nan, nan, nan, nan, nan, nan, nan, nan, nan,\n",
       "       nan, nan, nan, nan, nan, nan, nan, nan, nan, nan, nan, nan, nan,\n",
       "       nan, nan, nan, nan, nan, nan, nan, nan, nan, nan, nan, nan, nan,\n",
       "       nan, nan, nan, nan, nan, nan, nan, nan, nan, nan, nan, nan, nan,\n",
       "       nan, nan, nan, nan, nan, nan, nan, nan, nan, nan, nan, nan, nan,\n",
       "       nan, nan, nan, nan, nan, nan, nan, nan, nan, nan, nan, nan, nan,\n",
       "       nan, nan, nan, nan, nan, nan, nan, nan, nan, nan, nan, nan, nan,\n",
       "       nan, nan, nan, nan, nan, nan, nan, nan, nan, nan, nan, nan, nan,\n",
       "       nan, nan, nan, nan, nan, nan, nan, nan, nan, nan, nan, nan, nan,\n",
       "       nan, nan, nan, nan, nan, nan, nan, nan, nan, nan, nan, nan, nan,\n",
       "       nan, nan, nan, nan, nan, nan, nan, nan, nan, nan, nan, nan, nan,\n",
       "       nan, nan, nan, nan, nan, nan, nan, nan, nan, nan, nan, nan, nan,\n",
       "       nan, nan, nan, nan, nan, nan, nan, nan, nan, nan, nan, nan, nan,\n",
       "       nan, nan, nan, nan, nan, nan, nan, nan, nan, nan, nan, nan, nan,\n",
       "       nan, nan, nan, nan, nan, nan, nan, nan, nan, nan, nan, nan, nan,\n",
       "       nan, nan, nan, nan, nan, nan, nan, nan, nan, nan, nan, nan, nan,\n",
       "       nan, nan, nan, nan, nan, nan, nan, nan, nan, nan, nan, nan, nan,\n",
       "       nan, nan, nan, nan, nan, nan, nan, nan, nan, nan, nan, nan, nan,\n",
       "       nan, nan, nan, nan, nan, nan, nan, nan, nan, nan, nan, nan, nan,\n",
       "       nan, nan, nan, nan, nan, nan, nan, nan, nan, nan, nan, nan, nan,\n",
       "       nan, nan, nan, nan, nan, nan, nan, nan, nan, nan, nan, nan, nan,\n",
       "       nan, nan, nan, nan, nan, nan, nan, nan, nan, nan, nan, nan, nan,\n",
       "       nan, nan, nan, nan, nan, nan, nan, nan, nan, nan, nan, nan, nan,\n",
       "       nan, nan, nan, nan, nan, nan, nan, nan, nan, nan, nan, nan, nan,\n",
       "       nan, nan, nan, nan, nan, nan, nan, nan, nan, nan, nan, nan])"
      ]
     },
     "execution_count": 57,
     "metadata": {},
     "output_type": "execute_result"
    }
   ],
   "source": [
    "g"
   ]
  },
  {
   "cell_type": "code",
   "execution_count": null,
   "metadata": {},
   "outputs": [
    {
     "data": {
      "text/plain": [
       "'QV'"
      ]
     },
     "execution_count": 58,
     "metadata": {},
     "output_type": "execute_result"
    }
   ],
   "source": [
    "var"
   ]
  },
  {
   "cell_type": "code",
   "execution_count": null,
   "metadata": {},
   "outputs": [
    {
     "data": {
      "text/plain": [
       "'QV'"
      ]
     },
     "execution_count": 59,
     "metadata": {},
     "output_type": "execute_result"
    }
   ],
   "source": [
    "key"
   ]
  },
  {
   "cell_type": "code",
   "execution_count": null,
   "metadata": {},
   "outputs": [
    {
     "data": {
      "text/plain": [
       "'3'"
      ]
     },
     "execution_count": 60,
     "metadata": {},
     "output_type": "execute_result"
    }
   ],
   "source": [
    "path"
   ]
  },
  {
   "cell_type": "code",
   "execution_count": null,
   "metadata": {},
   "outputs": [
    {
     "data": {
      "text/plain": [
       "array([0.00000000e+00, 9.21110131e-06, 1.84222044e-05, 2.76333067e-05,\n",
       "       3.68444125e-05, 4.60555166e-05, 5.52666170e-05, 6.44777174e-05,\n",
       "       7.36888178e-05, 8.28999327e-05, 9.21110332e-05, 1.01322134e-04,\n",
       "       1.10533234e-04, 1.19744334e-04, 1.28955449e-04, 1.38166535e-04,\n",
       "       1.47377650e-04, 1.56588736e-04, 1.65799865e-04, 1.75010951e-04,\n",
       "       1.84222066e-04, 1.93433152e-04, 2.02644267e-04, 2.11855353e-04,\n",
       "       2.21066468e-04, 2.30277554e-04, 2.39488669e-04, 2.48699769e-04,\n",
       "       2.57910870e-04, 2.67121970e-04, 2.76333070e-04, 2.85544200e-04,\n",
       "       2.94755271e-04, 3.03966401e-04, 3.13177472e-04, 3.22388601e-04,\n",
       "       3.31599731e-04, 3.40810802e-04, 3.50021903e-04, 3.59233003e-04,\n",
       "       3.68444133e-04, 3.77655204e-04, 3.86866304e-04, 3.96077405e-04,\n",
       "       4.05288534e-04, 4.14499606e-04, 4.23710735e-04, 4.32921835e-04,\n",
       "       4.42132936e-04, 4.51344065e-04, 4.60555137e-04, 4.69766237e-04,\n",
       "       4.78977337e-04, 4.88188467e-04, 4.97399538e-04, 5.06610610e-04,\n",
       "       5.15821739e-04, 5.25032869e-04, 5.34243940e-04, 5.43455069e-04,\n",
       "       5.52666141e-04, 5.61877270e-04, 5.71088400e-04, 5.80299529e-04,\n",
       "       5.89510542e-04, 5.98721672e-04, 6.07932801e-04, 6.17143873e-04,\n",
       "       6.26354944e-04, 6.35566073e-04, 6.44777203e-04, 6.53988332e-04,\n",
       "       6.63199404e-04, 6.72410475e-04, 6.81621605e-04, 6.90832734e-04,\n",
       "       7.00043805e-04, 7.09254877e-04, 7.18466006e-04, 7.27677136e-04,\n",
       "       7.36888265e-04, 7.46099337e-04, 7.55310408e-04, 7.64521537e-04,\n",
       "       7.73732609e-04, 7.82943738e-04, 7.92154809e-04, 8.01365939e-04,\n",
       "       8.10577068e-04, 8.19788198e-04, 8.28999211e-04, 8.38210341e-04,\n",
       "       8.47421470e-04, 8.56632541e-04, 8.65843671e-04, 8.75054742e-04,\n",
       "       8.84265872e-04, 8.93477001e-04, 9.02688073e-04, 9.11899144e-04],\n",
       "      dtype=float32)"
      ]
     },
     "execution_count": 61,
     "metadata": {},
     "output_type": "execute_result"
    }
   ],
   "source": [
    "xg_norm"
   ]
  },
  {
   "cell_type": "code",
   "execution_count": null,
   "metadata": {},
   "outputs": [
    {
     "name": "stdout",
     "output_type": "stream",
     "text": [
      "1.0000000000000002\n",
      "nan\n"
     ]
    },
    {
     "data": {
      "image/png": "[encoded data removed]",
      "text/plain": [
       "<Figure size 432x288 with 1 Axes>"
      ]
     },
     "metadata": {
      "needs_background": "light"
     },
     "output_type": "display_data"
    }
   ],
   "source": [
    "plt.plot(xf_norm,f_norm)\n",
    "plt.plot(xg_norm,g_norm,color='r')\n",
    "print(np.trapz(x=xf_norm,y=f_norm))\n",
    "print(np.trapz(x=xg_norm,y=g_norm))"
   ]
  },
  {
   "cell_type": "code",
   "execution_count": null,
   "metadata": {},
   "outputs": [
    {
     "name": "stdout",
     "output_type": "stream",
     "text": [
      "1.0\n",
      "nan\n"
     ]
    },
    {
     "data": {
      "image/png": "[encoded data removed]",
      "text/plain": [
       "<Figure size 432x288 with 1 Axes>"
      ]
     },
     "metadata": {
      "needs_background": "light"
     },
     "output_type": "display_data"
    }
   ],
   "source": [
    "plt.plot(x,f)\n",
    "plt.plot(x,g,color='r')\n",
    "print(np.trapz(x=x,y=f))\n",
    "print(np.trapz(x=x,y=g))"
   ]
  },
  {
   "cell_type": "markdown",
   "metadata": {},
   "source": [
    "### Full calculation"
   ]
  },
  {
   "cell_type": "code",
   "execution_count": null,
   "metadata": {},
   "outputs": [
    {
     "name": "stdout",
     "output_type": "stream",
     "text": [
      "var= QV\n",
      "key= QV                    \r\n",
      "key= RH                    \r\n",
      "key= QfromQsat                    \r\n",
      "var= T\n",
      "key= T                    \r\n",
      "key= BMSE                    \r\n",
      "key= TfromNS                    \r\n",
      "var= T200\n",
      "key= T                    \r\n",
      "key= BMSE                    \r\n",
      "key= TfromNS                    \r\n",
      "var= T150\n",
      "key= T                    \r\n",
      "key= BMSE                    \r\n",
      "key= TfromNS                    \r\n",
      "var= LHF\n",
      "key= LHF                    \r\n",
      "key= LHF_nsQ                    \r\n",
      "key= LHF_nsDELQ                    \r"
     ]
    },
    {
     "name": "stderr",
     "output_type": "stream",
     "text": [
      "/DFS-L/DATA/pritchard/tbeucler/Miniconda3_2021_04_12/miniconda3/envs/Griffin_cpu/lib/python3.7/site-packages/ipykernel_launcher.py:9: RuntimeWarning: invalid value encountered in true_divide\n",
      "  if __name__ == '__main__':\n",
      "/DFS-L/DATA/pritchard/tbeucler/Miniconda3_2021_04_12/miniconda3/envs/Griffin_cpu/lib/python3.7/site-packages/ipykernel_launcher.py:3: RuntimeWarning: invalid value encountered in less\n",
      "  This is separate from the ipykernel package so we can avoid doing imports until\n",
      "/DFS-L/DATA/pritchard/tbeucler/Miniconda3_2021_04_12/miniconda3/envs/Griffin_cpu/lib/python3.7/site-packages/ipykernel_launcher.py:4: RuntimeWarning: invalid value encountered in greater_equal\n",
      "  after removing the cwd from sys.path.\n",
      "/DFS-L/DATA/pritchard/tbeucler/Miniconda3_2021_04_12/miniconda3/envs/Griffin_cpu/lib/python3.7/site-packages/ipykernel_launcher.py:8: RuntimeWarning: invalid value encountered in true_divide\n",
      "  \n"
     ]
    }
   ],
   "source": [
    "for ivar,var in enumerate(['QV','T','T200','T150','LHF']):\n",
    "    print('var=',var,end='\\n')\n",
    "    JS0[var] = {}; Hel[var] = {}; fsave[var] = {}; gsave[var] = {};\n",
    "    if var=='QV': key_array = ['QV','RH','QfromQsat']; edg = edgQ; his = hisQ;\n",
    "    elif var=='T': key_array = ['T','BMSE','TfromNS']; edg = edgT; his = hisT;\n",
    "    #elif var=='T200': edg = edgT200; his = hisT200;\n",
    "    elif var=='T150': edg = edgT150; his = hisT150;\n",
    "    elif var=='LHF': key_array = ['LHF','LHF_nsQ','LHF_nsDELQ']; edg = edgLHF; his  = hisLHF;\n",
    "        \n",
    "    for ikey,key in enumerate(key_array):\n",
    "        print('key=',key,'                   ',end='\\r')\n",
    "        JS0[var][key] = {}; Hel[var][key] = {};\n",
    "        fsave[var][key] = {}; gsave[var][key] = {};\n",
    "        \n",
    "        for ipath,path in enumerate(path_array):\n",
    "            \n",
    "            if ipath<3: \n",
    "                f_cold = his[key][path_array[0]]\n",
    "                x_cold = edg2bin(edg[key][path_array[0]])\n",
    "            elif ipath<6:\n",
    "                f_cold = his[key][path_array[3]]\n",
    "                x_cold = edg2bin(edg[key][path_array[3]])\n",
    "            else:\n",
    "                f_cold = his[key][path_array[6]]\n",
    "                x_cold = edg2bin(edg[key][path_array[6]])\n",
    "            \n",
    "            f_data = his[key][path]; x_data = edg2bin(edg[key][path])\n",
    "\n",
    "            xf_norm,xg_norm,f_norm,g_norm = maxmin_norm(x_cold,x_data,f_cold,f_data)\n",
    "            x = np.linspace(0,1,1000)\n",
    "            \n",
    "            f = np.interp(x=x,xp=xf_norm,fp=f_norm)\n",
    "            g = np.interp(x=x,xp=xg_norm,fp=g_norm)\n",
    "            \n",
    "            f = np.maximum(f,0); f /= np.trapz(x=x,y=f)\n",
    "            g = np.maximum(g,0); g /= np.trapz(x=x,y=g)\n",
    "\n",
    "            fsave[var][key][path] = f\n",
    "            gsave[var][key][path] = g\n",
    "            \n",
    "            Hel[var][key][path] = Hellinger(x,f,g)\n",
    "            JS0[var][key][path] = JS(x,f,g)"
   ]
  },
  {
   "cell_type": "code",
   "execution_count": null,
   "metadata": {},
   "outputs": [
    {
     "data": {
      "text/plain": [
       "({'QV': {'QV': {'2021_03_18_O3_TRAIN_M4K_shuffle.nc': 0.0,\n",
       "    '2021_01_24_O3_TRAIN_shuffle.nc': 0.4940237392448798,\n",
       "    '2021_03_18_O3_TRAIN_P4K_shuffle.nc': 0.8284298622895779,\n",
       "    '2021_04_18_RG_TRAIN_M4K_shuffle.nc': 0.0,\n",
       "    '2021_06_03_RG_TRAIN_shuffle.nc': 0.3916983009148076,\n",
       "    '2021_04_18_RG_TRAIN_P4K_shuffle.nc': 0.7484382082686006,\n",
       "    '1': 0.0,\n",
       "    '2': 0.536699050209215,\n",
       "    '3': nan},\n",
       "   'RH': {'2021_03_18_O3_TRAIN_M4K_shuffle.nc': 0.0,\n",
       "    '2021_01_24_O3_TRAIN_shuffle.nc': 0.07179247478514078,\n",
       "    '2021_03_18_O3_TRAIN_P4K_shuffle.nc': 0.16390965009077263,\n",
       "    '2021_04_18_RG_TRAIN_M4K_shuffle.nc': 0.0,\n",
       "    '2021_06_03_RG_TRAIN_shuffle.nc': 0.06472217008563089,\n",
       "    '2021_04_18_RG_TRAIN_P4K_shuffle.nc': 0.1070446135677093,\n",
       "    '1': 0.0,\n",
       "    '2': 0.0867269137540327,\n",
       "    '3': nan},\n",
       "   'QfromQsat': {'2021_03_18_O3_TRAIN_M4K_shuffle.nc': 0.0,\n",
       "    '2021_01_24_O3_TRAIN_shuffle.nc': 0.685671822164562,\n",
       "    '2021_03_18_O3_TRAIN_P4K_shuffle.nc': 1.0116753618051118,\n",
       "    '2021_04_18_RG_TRAIN_M4K_shuffle.nc': 0.0,\n",
       "    '2021_06_03_RG_TRAIN_shuffle.nc': 0.416626430125042,\n",
       "    '2021_04_18_RG_TRAIN_P4K_shuffle.nc': 0.8168493063190913,\n",
       "    '1': 0.0,\n",
       "    '2': 0.7639959425366425,\n",
       "    '3': nan}},\n",
       "  'T': {'T': {'2021_03_18_O3_TRAIN_M4K_shuffle.nc': 0.0,\n",
       "    '2021_01_24_O3_TRAIN_shuffle.nc': 1.3933445432750793,\n",
       "    '2021_03_18_O3_TRAIN_P4K_shuffle.nc': 1.9266490440327333,\n",
       "    '2021_04_18_RG_TRAIN_M4K_shuffle.nc': 0.0,\n",
       "    '2021_06_03_RG_TRAIN_shuffle.nc': 0.5346551470705515,\n",
       "    '2021_04_18_RG_TRAIN_P4K_shuffle.nc': 0.8224226370000431,\n",
       "    '1': 0.0,\n",
       "    '2': 1.3476651407953495,\n",
       "    '3': nan},\n",
       "   'BMSE': {'2021_03_18_O3_TRAIN_M4K_shuffle.nc': 0.0,\n",
       "    '2021_01_24_O3_TRAIN_shuffle.nc': 0.18742306055894528,\n",
       "    '2021_03_18_O3_TRAIN_P4K_shuffle.nc': 0.29585854448860327,\n",
       "    '2021_04_18_RG_TRAIN_M4K_shuffle.nc': 0.0,\n",
       "    '2021_06_03_RG_TRAIN_shuffle.nc': 0.072965986876933,\n",
       "    '2021_04_18_RG_TRAIN_P4K_shuffle.nc': 0.1541082205377242,\n",
       "    '1': 0.0,\n",
       "    '2': 0.11828474936889258,\n",
       "    '3': nan},\n",
       "   'TfromNS': {'2021_03_18_O3_TRAIN_M4K_shuffle.nc': 0.0,\n",
       "    '2021_01_24_O3_TRAIN_shuffle.nc': 0.10129218563778816,\n",
       "    '2021_03_18_O3_TRAIN_P4K_shuffle.nc': 0.12418967794953613,\n",
       "    '2021_04_18_RG_TRAIN_M4K_shuffle.nc': 0.0,\n",
       "    '2021_06_03_RG_TRAIN_shuffle.nc': 0.06524786405158928,\n",
       "    '2021_04_18_RG_TRAIN_P4K_shuffle.nc': 0.12789151513498778,\n",
       "    '1': 0.0,\n",
       "    '2': 0.21082563304945168,\n",
       "    '3': nan}},\n",
       "  'T200': {'T': {'2021_03_18_O3_TRAIN_M4K_shuffle.nc': 0.0,\n",
       "    '2021_01_24_O3_TRAIN_shuffle.nc': 1.3933445432750793,\n",
       "    '2021_03_18_O3_TRAIN_P4K_shuffle.nc': 1.9266490440327333,\n",
       "    '2021_04_18_RG_TRAIN_M4K_shuffle.nc': 0.0,\n",
       "    '2021_06_03_RG_TRAIN_shuffle.nc': 0.5346551470705515,\n",
       "    '2021_04_18_RG_TRAIN_P4K_shuffle.nc': 0.8224226370000431,\n",
       "    '1': 0.0,\n",
       "    '2': 1.3476651407953495,\n",
       "    '3': nan},\n",
       "   'BMSE': {'2021_03_18_O3_TRAIN_M4K_shuffle.nc': 0.0,\n",
       "    '2021_01_24_O3_TRAIN_shuffle.nc': 0.18742306055894528,\n",
       "    '2021_03_18_O3_TRAIN_P4K_shuffle.nc': 0.29585854448860327,\n",
       "    '2021_04_18_RG_TRAIN_M4K_shuffle.nc': 0.0,\n",
       "    '2021_06_03_RG_TRAIN_shuffle.nc': 0.072965986876933,\n",
       "    '2021_04_18_RG_TRAIN_P4K_shuffle.nc': 0.1541082205377242,\n",
       "    '1': 0.0,\n",
       "    '2': 0.11828474936889258,\n",
       "    '3': nan},\n",
       "   'TfromNS': {'2021_03_18_O3_TRAIN_M4K_shuffle.nc': 0.0,\n",
       "    '2021_01_24_O3_TRAIN_shuffle.nc': 0.10129218563778816,\n",
       "    '2021_03_18_O3_TRAIN_P4K_shuffle.nc': 0.12418967794953613,\n",
       "    '2021_04_18_RG_TRAIN_M4K_shuffle.nc': 0.0,\n",
       "    '2021_06_03_RG_TRAIN_shuffle.nc': 0.06524786405158928,\n",
       "    '2021_04_18_RG_TRAIN_P4K_shuffle.nc': 0.12789151513498778,\n",
       "    '1': 0.0,\n",
       "    '2': 0.21082563304945168,\n",
       "    '3': nan}},\n",
       "  'T150': {'T': {'2021_03_18_O3_TRAIN_M4K_shuffle.nc': 0.0,\n",
       "    '2021_01_24_O3_TRAIN_shuffle.nc': 0.6157360199699211,\n",
       "    '2021_03_18_O3_TRAIN_P4K_shuffle.nc': 0.684197106003215,\n",
       "    '2021_04_18_RG_TRAIN_M4K_shuffle.nc': 0.0,\n",
       "    '2021_06_03_RG_TRAIN_shuffle.nc': 0.6580050655000367,\n",
       "    '2021_04_18_RG_TRAIN_P4K_shuffle.nc': 0.7068038919209517,\n",
       "    '1': 0.0,\n",
       "    '2': 1.5254101174953878,\n",
       "    '3': nan},\n",
       "   'BMSE': {'2021_03_18_O3_TRAIN_M4K_shuffle.nc': 0.0,\n",
       "    '2021_01_24_O3_TRAIN_shuffle.nc': 0.9606145115364662,\n",
       "    '2021_03_18_O3_TRAIN_P4K_shuffle.nc': 1.1607253640466102,\n",
       "    '2021_04_18_RG_TRAIN_M4K_shuffle.nc': 0.0,\n",
       "    '2021_06_03_RG_TRAIN_shuffle.nc': 0.2115363411627859,\n",
       "    '2021_04_18_RG_TRAIN_P4K_shuffle.nc': 0.4475039985615208,\n",
       "    '1': 0.0,\n",
       "    '2': 0.4516146314006096,\n",
       "    '3': nan},\n",
       "   'TfromNS': {'2021_03_18_O3_TRAIN_M4K_shuffle.nc': 0.0,\n",
       "    '2021_01_24_O3_TRAIN_shuffle.nc': 0.9126966372317199,\n",
       "    '2021_03_18_O3_TRAIN_P4K_shuffle.nc': 1.4364169125573614,\n",
       "    '2021_04_18_RG_TRAIN_M4K_shuffle.nc': 0.0,\n",
       "    '2021_06_03_RG_TRAIN_shuffle.nc': 0.2964608827144745,\n",
       "    '2021_04_18_RG_TRAIN_P4K_shuffle.nc': 0.5957544754578262,\n",
       "    '1': 0.0,\n",
       "    '2': 1.3961780752716697,\n",
       "    '3': nan}},\n",
       "  'LHF': {'LHF': {'2021_03_18_O3_TRAIN_M4K_shuffle.nc': 0.0,\n",
       "    '2021_01_24_O3_TRAIN_shuffle.nc': 0.1727678983618101,\n",
       "    '2021_03_18_O3_TRAIN_P4K_shuffle.nc': 0.29408248354642486,\n",
       "    '2021_04_18_RG_TRAIN_M4K_shuffle.nc': 0.0,\n",
       "    '2021_06_03_RG_TRAIN_shuffle.nc': 0.19577145190608677,\n",
       "    '2021_04_18_RG_TRAIN_P4K_shuffle.nc': 0.25345940148418994,\n",
       "    '1': nan,\n",
       "    '2': nan,\n",
       "    '3': nan},\n",
       "   'LHF_nsQ': {'2021_03_18_O3_TRAIN_M4K_shuffle.nc': 0.0,\n",
       "    '2021_01_24_O3_TRAIN_shuffle.nc': 0.09496223471723007,\n",
       "    '2021_03_18_O3_TRAIN_P4K_shuffle.nc': 0.19021138767124457,\n",
       "    '2021_04_18_RG_TRAIN_M4K_shuffle.nc': 0.0,\n",
       "    '2021_06_03_RG_TRAIN_shuffle.nc': 0.20107830088424022,\n",
       "    '2021_04_18_RG_TRAIN_P4K_shuffle.nc': 0.21566593710208812,\n",
       "    '1': nan,\n",
       "    '2': nan,\n",
       "    '3': nan},\n",
       "   'LHF_nsDELQ': {'2021_03_18_O3_TRAIN_M4K_shuffle.nc': 0.0,\n",
       "    '2021_01_24_O3_TRAIN_shuffle.nc': 0.12705600507867876,\n",
       "    '2021_03_18_O3_TRAIN_P4K_shuffle.nc': 0.19859744726014136,\n",
       "    '2021_04_18_RG_TRAIN_M4K_shuffle.nc': 0.0,\n",
       "    '2021_06_03_RG_TRAIN_shuffle.nc': 0.20056432001736135,\n",
       "    '2021_04_18_RG_TRAIN_P4K_shuffle.nc': 0.28244784764720227,\n",
       "    '1': nan,\n",
       "    '2': nan,\n",
       "    '3': nan}}},\n",
       " {'QV': {'QV': {'2021_03_18_O3_TRAIN_M4K_shuffle.nc': 0.0,\n",
       "    '2021_01_24_O3_TRAIN_shuffle.nc': 0.20299040116113834,\n",
       "    '2021_03_18_O3_TRAIN_P4K_shuffle.nc': 0.35105051578613955,\n",
       "    '2021_04_18_RG_TRAIN_M4K_shuffle.nc': 0.0,\n",
       "    '2021_06_03_RG_TRAIN_shuffle.nc': 0.1714890617784483,\n",
       "    '2021_04_18_RG_TRAIN_P4K_shuffle.nc': 0.2945800232436935,\n",
       "    '1': 0.0,\n",
       "    '2': 0.22143431343623102,\n",
       "    '3': nan},\n",
       "   'RH': {'2021_03_18_O3_TRAIN_M4K_shuffle.nc': 0.0,\n",
       "    '2021_01_24_O3_TRAIN_shuffle.nc': 0.035877814213262825,\n",
       "    '2021_03_18_O3_TRAIN_P4K_shuffle.nc': 0.08166943796232334,\n",
       "    '2021_04_18_RG_TRAIN_M4K_shuffle.nc': 0.0,\n",
       "    '2021_06_03_RG_TRAIN_shuffle.nc': 0.03233364156613427,\n",
       "    '2021_04_18_RG_TRAIN_P4K_shuffle.nc': 0.05345764754593613,\n",
       "    '1': 0.0,\n",
       "    '2': 0.043331260059284005,\n",
       "    '3': nan},\n",
       "   'QfromQsat': {'2021_03_18_O3_TRAIN_M4K_shuffle.nc': 0.0,\n",
       "    '2021_01_24_O3_TRAIN_shuffle.nc': 0.24941035112212598,\n",
       "    '2021_03_18_O3_TRAIN_P4K_shuffle.nc': 0.3648178859195632,\n",
       "    '2021_04_18_RG_TRAIN_M4K_shuffle.nc': 0.0,\n",
       "    '2021_06_03_RG_TRAIN_shuffle.nc': 0.18062554364491337,\n",
       "    '2021_04_18_RG_TRAIN_P4K_shuffle.nc': 0.30992267611343133,\n",
       "    '1': 0.0,\n",
       "    '2': 0.2996776668864395,\n",
       "    '3': nan}},\n",
       "  'T': {'T': {'2021_03_18_O3_TRAIN_M4K_shuffle.nc': 0.0,\n",
       "    '2021_01_24_O3_TRAIN_shuffle.nc': 0.5316204801336142,\n",
       "    '2021_03_18_O3_TRAIN_P4K_shuffle.nc': 0.642599774210139,\n",
       "    '2021_04_18_RG_TRAIN_M4K_shuffle.nc': 0.0,\n",
       "    '2021_06_03_RG_TRAIN_shuffle.nc': 0.25667255562197927,\n",
       "    '2021_04_18_RG_TRAIN_P4K_shuffle.nc': 0.37253829738959304,\n",
       "    '1': 0.0,\n",
       "    '2': 0.5192681835981628,\n",
       "    '3': nan},\n",
       "   'BMSE': {'2021_03_18_O3_TRAIN_M4K_shuffle.nc': 0.0,\n",
       "    '2021_01_24_O3_TRAIN_shuffle.nc': 0.09353962599408085,\n",
       "    '2021_03_18_O3_TRAIN_P4K_shuffle.nc': 0.14743815999687399,\n",
       "    '2021_04_18_RG_TRAIN_M4K_shuffle.nc': 0.0,\n",
       "    '2021_06_03_RG_TRAIN_shuffle.nc': 0.036375881900037293,\n",
       "    '2021_04_18_RG_TRAIN_P4K_shuffle.nc': 0.07602956119877938,\n",
       "    '1': 0.0,\n",
       "    '2': 0.058410904760893854,\n",
       "    '3': nan},\n",
       "   'TfromNS': {'2021_03_18_O3_TRAIN_M4K_shuffle.nc': 0.0,\n",
       "    '2021_01_24_O3_TRAIN_shuffle.nc': 0.05062404802005535,\n",
       "    '2021_03_18_O3_TRAIN_P4K_shuffle.nc': 0.06204295497767286,\n",
       "    '2021_04_18_RG_TRAIN_M4K_shuffle.nc': 0.0,\n",
       "    '2021_06_03_RG_TRAIN_shuffle.nc': 0.032585411860239596,\n",
       "    '2021_04_18_RG_TRAIN_P4K_shuffle.nc': 0.06365963127803544,\n",
       "    '1': 0.0,\n",
       "    '2': 0.10512158718920599,\n",
       "    '3': nan}},\n",
       "  'T200': {'T': {'2021_03_18_O3_TRAIN_M4K_shuffle.nc': 0.0,\n",
       "    '2021_01_24_O3_TRAIN_shuffle.nc': 0.5316204801336142,\n",
       "    '2021_03_18_O3_TRAIN_P4K_shuffle.nc': 0.642599774210139,\n",
       "    '2021_04_18_RG_TRAIN_M4K_shuffle.nc': 0.0,\n",
       "    '2021_06_03_RG_TRAIN_shuffle.nc': 0.25667255562197927,\n",
       "    '2021_04_18_RG_TRAIN_P4K_shuffle.nc': 0.37253829738959304,\n",
       "    '1': 0.0,\n",
       "    '2': 0.5192681835981628,\n",
       "    '3': nan},\n",
       "   'BMSE': {'2021_03_18_O3_TRAIN_M4K_shuffle.nc': 0.0,\n",
       "    '2021_01_24_O3_TRAIN_shuffle.nc': 0.09353962599408085,\n",
       "    '2021_03_18_O3_TRAIN_P4K_shuffle.nc': 0.14743815999687399,\n",
       "    '2021_04_18_RG_TRAIN_M4K_shuffle.nc': 0.0,\n",
       "    '2021_06_03_RG_TRAIN_shuffle.nc': 0.036375881900037293,\n",
       "    '2021_04_18_RG_TRAIN_P4K_shuffle.nc': 0.07602956119877938,\n",
       "    '1': 0.0,\n",
       "    '2': 0.058410904760893854,\n",
       "    '3': nan},\n",
       "   'TfromNS': {'2021_03_18_O3_TRAIN_M4K_shuffle.nc': 0.0,\n",
       "    '2021_01_24_O3_TRAIN_shuffle.nc': 0.05062404802005535,\n",
       "    '2021_03_18_O3_TRAIN_P4K_shuffle.nc': 0.06204295497767286,\n",
       "    '2021_04_18_RG_TRAIN_M4K_shuffle.nc': 0.0,\n",
       "    '2021_06_03_RG_TRAIN_shuffle.nc': 0.032585411860239596,\n",
       "    '2021_04_18_RG_TRAIN_P4K_shuffle.nc': 0.06365963127803544,\n",
       "    '1': 0.0,\n",
       "    '2': 0.10512158718920599,\n",
       "    '3': nan}},\n",
       "  'T150': {'T': {'2021_03_18_O3_TRAIN_M4K_shuffle.nc': 0.0,\n",
       "    '2021_01_24_O3_TRAIN_shuffle.nc': 0.30150436118996904,\n",
       "    '2021_03_18_O3_TRAIN_P4K_shuffle.nc': 0.3351472601081654,\n",
       "    '2021_04_18_RG_TRAIN_M4K_shuffle.nc': 0.0,\n",
       "    '2021_06_03_RG_TRAIN_shuffle.nc': 0.31591371415957925,\n",
       "    '2021_04_18_RG_TRAIN_P4K_shuffle.nc': 0.34428144476030864,\n",
       "    '1': 0.0,\n",
       "    '2': 0.6559457843060404,\n",
       "    '3': nan},\n",
       "   'BMSE': {'2021_03_18_O3_TRAIN_M4K_shuffle.nc': 0.0,\n",
       "    '2021_01_24_O3_TRAIN_shuffle.nc': 0.3506647063043387,\n",
       "    '2021_03_18_O3_TRAIN_P4K_shuffle.nc': 0.4222988956130097,\n",
       "    '2021_04_18_RG_TRAIN_M4K_shuffle.nc': 0.0,\n",
       "    '2021_06_03_RG_TRAIN_shuffle.nc': 0.10372441725184116,\n",
       "    '2021_04_18_RG_TRAIN_P4K_shuffle.nc': 0.20900898871816098,\n",
       "    '1': 0.0,\n",
       "    '2': 0.21105875224689874,\n",
       "    '3': nan},\n",
       "   'TfromNS': {'2021_03_18_O3_TRAIN_M4K_shuffle.nc': 0.0,\n",
       "    '2021_01_24_O3_TRAIN_shuffle.nc': 0.3799499990096197,\n",
       "    '2021_03_18_O3_TRAIN_P4K_shuffle.nc': 0.5368811249753679,\n",
       "    '2021_04_18_RG_TRAIN_M4K_shuffle.nc': 0.0,\n",
       "    '2021_06_03_RG_TRAIN_shuffle.nc': 0.1447290124135508,\n",
       "    '2021_04_18_RG_TRAIN_P4K_shuffle.nc': 0.2865446366969641,\n",
       "    '1': 0.0,\n",
       "    '2': 0.509626617770673,\n",
       "    '3': nan}},\n",
       "  'LHF': {'LHF': {'2021_03_18_O3_TRAIN_M4K_shuffle.nc': 0.0,\n",
       "    '2021_01_24_O3_TRAIN_shuffle.nc': 0.08591024024515936,\n",
       "    '2021_03_18_O3_TRAIN_P4K_shuffle.nc': 0.14480155983578627,\n",
       "    '2021_04_18_RG_TRAIN_M4K_shuffle.nc': 0.0,\n",
       "    '2021_06_03_RG_TRAIN_shuffle.nc': 0.0967223634833711,\n",
       "    '2021_04_18_RG_TRAIN_P4K_shuffle.nc': 0.12499016703833778,\n",
       "    '1': nan,\n",
       "    '2': nan,\n",
       "    '3': nan},\n",
       "   'LHF_nsQ': {'2021_03_18_O3_TRAIN_M4K_shuffle.nc': 0.0,\n",
       "    '2021_01_24_O3_TRAIN_shuffle.nc': 0.04744557316716553,\n",
       "    '2021_03_18_O3_TRAIN_P4K_shuffle.nc': 0.09487729483705898,\n",
       "    '2021_04_18_RG_TRAIN_M4K_shuffle.nc': 0.0,\n",
       "    '2021_06_03_RG_TRAIN_shuffle.nc': 0.10014732737399436,\n",
       "    '2021_04_18_RG_TRAIN_P4K_shuffle.nc': 0.10733189151582348,\n",
       "    '1': nan,\n",
       "    '2': nan,\n",
       "    '3': nan},\n",
       "   'LHF_nsDELQ': {'2021_03_18_O3_TRAIN_M4K_shuffle.nc': 0.0,\n",
       "    '2021_01_24_O3_TRAIN_shuffle.nc': 0.06339615263252409,\n",
       "    '2021_03_18_O3_TRAIN_P4K_shuffle.nc': 0.09850043794400087,\n",
       "    '2021_04_18_RG_TRAIN_M4K_shuffle.nc': 0.0,\n",
       "    '2021_06_03_RG_TRAIN_shuffle.nc': 0.09890475117737735,\n",
       "    '2021_04_18_RG_TRAIN_P4K_shuffle.nc': 0.14034793321516695,\n",
       "    '1': nan,\n",
       "    '2': nan,\n",
       "    '3': nan}}})"
      ]
     },
     "execution_count": 65,
     "metadata": {},
     "output_type": "execute_result"
    }
   ],
   "source": [
    "JS0,Hel"
   ]
  },
  {
   "cell_type": "markdown",
   "metadata": {},
   "source": [
    "## Table code in latex"
   ]
  },
  {
   "cell_type": "code",
   "execution_count": null,
   "metadata": {},
   "outputs": [],
   "source": [
    "TABLEname = 'Hellinger'\n",
    "if TABLEname=='JS': Name = 'Jensen-Shannon'; Unit = ''; fac = 1;\n",
    "elif TABLEname=='Hellinger': Name = 'Hellinger'; Unit = '(in $\\\\%$)'; fac = 100;\n",
    "path_TXT = '/export/home/tbeucler/CBRAIN-CAM/notebooks/tbeucler_devlog/TXT_DATA/'\n",
    "path = path_TXT+TABLEname+\".txt\"\n",
    "VAR = ['QV','T','T150','LHF']\n",
    "topline = \"Row & Input & SPCAM3 & SPCAM5 & SAM\\\\tabularnewline\\n\"\n",
    "caption = Name+\" distance \"+Unit+\" away from the (-4K) simulation for \"+\\\n",
    "\"the PDFs of $\\\\left(q_{600\\mathrm{hPa}},T_{850\\mathrm{hPa}},T_{150\\mathrm{hPa}},\"+\\\n",
    "\"\\\\mathrm{LHF}\\\\right)$ and their rescalings: (+0K) distance in gray and (+4K) distance in red.\" "
   ]
  },
  {
   "cell_type": "code",
   "execution_count": null,
   "metadata": {},
   "outputs": [],
   "source": [
    "if TABLEname=='JS': S = JS0\n",
    "elif TABLEname=='Hellinger': S = Hel"
   ]
  },
  {
   "cell_type": "code",
   "execution_count": null,
   "metadata": {},
   "outputs": [
    {
     "name": "stdout",
     "output_type": "stream",
     "text": [
      "Table Hellinger printed to /export/home/tbeucler/CBRAIN-CAM/notebooks/tbeucler_devlog/TXT_DATA/Hellinger.txt\n"
     ]
    }
   ],
   "source": [
    "f= open(path,\"w+\")\n",
    "f.write(\"\\\\begin{table}\\n\")\n",
    "f.write(\"\\\\begin{centering}\\n\")\n",
    "f.write(\"\\\\begin{tabular}{c|c|c|c|c}\\n\")\n",
    "f.write(topline)\n",
    "f.write(\"\\\\hline\\n\")\n",
    "irow = 0\n",
    "for ivar,var in enumerate(VAR):\n",
    "    f.write(\"\\\\hline\\n\")\n",
    "    if var=='QV': \n",
    "        key_array = ['QV','QfromQsat','RH']; \n",
    "        tex_array = ['$q_{600\\\\mathrm{hPa}}$','$q_{\\\\mathrm{deficit,}600\\\\mathrm{hPa}}$',\n",
    "                     '$\\mathrm{RH}_{600\\\\mathrm{hPa}}$']\n",
    "    elif var=='T': \n",
    "        key_array = ['T','TfromNS','BMSE'];\n",
    "        tex_array = ['$T_{850\\\\mathrm{hPa}}$',\n",
    "                     '$T_{\\\\mathrm{from\\\\ NS},850\\mathrm{hPa}}$',\n",
    "                     '$B_{\\\\mathrm{plume},850\\\\mathrm{hPa}}$']\n",
    "    elif var=='T150':\n",
    "        tex_array = ['$T_{150\\\\mathrm{hPa}}$',\n",
    "                     '$T_{\\\\mathrm{from\\\\ NS},150\\\\mathrm{hPa}}$',\n",
    "                     '$B_{\\\\mathrm{plume},150\\\\mathrm{hPa}}$']\n",
    "    elif var=='LHF': \n",
    "        key_array = ['LHF','LHF_nsQ','LHF_nsDELQ'];\n",
    "        tex_array = ['$\\\\mathrm{LHF}$','$\\\\mathrm{LHF}_{q}$',\n",
    "                     '$\\\\mathrm{LHF}_{\\\\Delta q}$']\n",
    "    for ikey,key in enumerate(key_array):\n",
    "        irow += 1\n",
    "        f.write(str(irow)+\" & \")\n",
    "        f.write(tex_array[ikey]+\" & \")\n",
    "        f.write(\"\\\\textcolor{gray}{\")\n",
    "        f.write(\"%2.1f\"%(fac*S[var][key][path_array[1]]))\n",
    "        f.write(\"}, \\\\textcolor{red}{\")\n",
    "        f.write(\"%2.1f\"%(fac*S[var][key][path_array[2]]))\n",
    "        f.write(\"} & \\\\textcolor{gray}{\")\n",
    "        f.write(\"%2.1f\"%(fac*S[var][key][path_array[4]]))\n",
    "        f.write(\"}, \\\\textcolor{red}{\")\n",
    "        f.write(\"%2.1f\"%(fac*S[var][key][path_array[5]]))\n",
    "        f.write(\"} & \\\\textcolor{gray}{\")\n",
    "        if var!='LHF':\n",
    "            f.write(\"%2.1f\"%(fac*S[var][key][path_array[7]]))\n",
    "        f.write(\"} \\\\tabularnewline\")\n",
    "f.write(\"\\\\end{tabular}\\n\")\n",
    "f.write(\"\\\\par\\\\end{centering}{\\\\small \\\\par}\\n\")\n",
    "f.write(\"\\n\")\n",
    "f.write(\"\\\\caption{\")\n",
    "f.write(caption)\n",
    "f.write(\"}\\n\")\n",
    "f.write(\"\\\\label{tab:PDF}\\n\")\n",
    "f.write(\"\\\\end{table}\\n\")\n",
    "f.close()\n",
    "print('Table',TABLEname,'printed to',path)"
   ]
  },
  {
   "cell_type": "markdown",
   "metadata": {},
   "source": [
    "# Table 3: MSE of different MLRs/NNs"
   ]
  },
  {
   "cell_type": "markdown",
   "metadata": {},
   "source": [
    "Inspired from [https://github.com/tbeucler/CBRAIN-CAM/blob/master/notebooks/tbeucler_devlog/073_CI_Results_Figure.ipynb]"
   ]
  },
  {
   "cell_type": "markdown",
   "metadata": {},
   "source": [
    "## Load data"
   ]
  },
  {
   "cell_type": "code",
   "execution_count": 57,
   "metadata": {},
   "outputs": [],
   "source": [
    "path_PKL = '/DFS-L/DATA/pritchard/tbeucler/SPCAM/SPCAM_PHYS/PKL_DATA/'\n",
    "epoch = np.arange(1,21)"
   ]
  },
  {
   "cell_type": "markdown",
   "metadata": {},
   "source": [
    "### Trained on ref climate"
   ]
  },
  {
   "cell_type": "code",
   "execution_count": 58,
   "metadata": {},
   "outputs": [],
   "source": [
    "path_MLR_BF = path_PKL + 'PKL_DATA2021_04_26_MLR_hist.pkl'\n",
    "hf = open(path_MLR_BF,'rb')\n",
    "hist_MLR_BF = pickle.load(hf)\n",
    "hist_MLR_BF = hist_MLR_BF['hist']"
   ]
  },
  {
   "cell_type": "code",
   "execution_count": 59,
   "metadata": {},
   "outputs": [],
   "source": [
    "path_NN_BF1 = path_PKL + 'PKL_DATA2021_04_26_NN_hist.pkl'\n",
    "path_NN_BF2 = path_PKL + 'PKL_DATA2021_05_04_NN_hist.pkl'\n",
    "\n",
    "hf = open(path_NN_BF1,'rb')\n",
    "hist_NN_BF1 = pickle.load(hf)\n",
    "hist_NN_BF1 = hist_NN_BF1['hist']\n",
    "\n",
    "hf = open(path_NN_BF2,'rb')\n",
    "hist_NN_BF2 = pickle.load(hf)\n",
    "hist_NN_BF2 = hist_NN_BF2['hist']"
   ]
  },
  {
   "cell_type": "code",
   "execution_count": 60,
   "metadata": {},
   "outputs": [],
   "source": [
    "hist_NN_BF = {}\n",
    "for ikey,key in enumerate(hist_NN_BF1.keys()):\n",
    "    hist_NN_BF[key] = 0.5*(np.array(hist_NN_BF1[key])+np.array(hist_NN_BF2[key]))"
   ]
  },
  {
   "cell_type": "code",
   "execution_count": 61,
   "metadata": {},
   "outputs": [],
   "source": [
    "path_MLR_BMSE = path_PKL + 'PKL_DATA2021_06_17_MLR_RH_BMSE_LHF_nsDELQ_hist.pkl'\n",
    "hf = open(path_MLR_BMSE,'rb')\n",
    "hist_MLR_BMSE = pickle.load(hf)\n",
    "hist_MLR_BMSE = hist_MLR_BMSE['hist']"
   ]
  },
  {
   "cell_type": "code",
   "execution_count": 62,
   "metadata": {},
   "outputs": [],
   "source": [
    "path_MLR_TfromNS = path_PKL + 'PKL_DATA2021_04_26_MLR_RH_TfromNS_LHF_nsDELQ_hist.pkl'\n",
    "hf = open(path_MLR_TfromNS,'rb')\n",
    "hist_MLR_TfromNS = pickle.load(hf)\n",
    "hist_MLR_TfromNS = hist_MLR_TfromNS['hist']"
   ]
  },
  {
   "cell_type": "code",
   "execution_count": 63,
   "metadata": {},
   "outputs": [],
   "source": [
    "path_NN_TfromNS = path_PKL + 'PKL_DATA2021_04_26_NN_RH_TfromNS_LHF_nsDELQ_hist.pkl'\n",
    "hf = open(path_NN_TfromNS,'rb')\n",
    "hist_NN_TfromNS = pickle.load(hf)\n",
    "hist_NN_TfromNS = hist_NN_TfromNS['hist']"
   ]
  },
  {
   "cell_type": "code",
   "execution_count": 64,
   "metadata": {},
   "outputs": [],
   "source": [
    "path_NN_BMSE = path_PKL + 'PKL_DATA2021_06_17_NN_RH_BMSE_LHF_nsDELQ_hist.pkl'\n",
    "hf = open(path_NN_BMSE,'rb')\n",
    "hist_NN_BMSE = pickle.load(hf)\n",
    "hist_NN_BMSE = hist_NN_BMSE['hist']"
   ]
  },
  {
   "cell_type": "markdown",
   "metadata": {},
   "source": [
    "### Warm to cold"
   ]
  },
  {
   "cell_type": "code",
   "execution_count": 65,
   "metadata": {},
   "outputs": [],
   "source": [
    "path_MLR_BF_W2C = path_PKL + 'PKL_DATA2021_04_27_W2C_MLR_hist.pkl'\n",
    "hf = open(path_MLR_BF_W2C,'rb')\n",
    "hist_MLR_BF_W2C = pickle.load(hf)\n",
    "hist_MLR_BF_W2C = hist_MLR_BF_W2C['hist']"
   ]
  },
  {
   "cell_type": "code",
   "execution_count": 66,
   "metadata": {},
   "outputs": [],
   "source": [
    "path_NN_BF_W2C = path_PKL + 'PKL_DATA2021_04_27_W2C_NN_hist.pkl'\n",
    "hf = open(path_NN_BF_W2C,'rb')\n",
    "hist_NN_BF_W2C = pickle.load(hf)\n",
    "hist_NN_BF_W2C = hist_NN_BF_W2C['hist']"
   ]
  },
  {
   "cell_type": "code",
   "execution_count": 67,
   "metadata": {},
   "outputs": [],
   "source": [
    "path_MLR_BMSE_W2C = path_PKL + 'PKL_DATA2021_06_17_W2C_MLR_RH_BMSE_LHF_nsDELQ_hist.pkl'\n",
    "hf = open(path_MLR_BMSE_W2C,'rb')\n",
    "hist_MLR_BMSE_W2C = pickle.load(hf)\n",
    "hist_MLR_BMSE_W2C = hist_MLR_BMSE_W2C['hist']"
   ]
  },
  {
   "cell_type": "code",
   "execution_count": 68,
   "metadata": {},
   "outputs": [],
   "source": [
    "path_NN_BMSE_W2C = path_PKL + 'PKL_DATA2021_06_17_W2C_NN_RH_BMSE_LHF_nsDELQ_hist.pkl'\n",
    "hf = open(path_NN_BMSE_W2C,'rb')\n",
    "hist_NN_BMSE_W2C = pickle.load(hf)\n",
    "hist_NN_BMSE_W2C = hist_NN_BMSE_W2C['hist']"
   ]
  },
  {
   "cell_type": "code",
   "execution_count": 69,
   "metadata": {},
   "outputs": [],
   "source": [
    "path_MLR_TfromNS_W2C = path_PKL + 'PKL_DATA2021_04_27_W2C_MLR_RH_TfromNS_LHF_nsDELQ_hist.pkl'\n",
    "hf = open(path_MLR_TfromNS_W2C,'rb')\n",
    "hist_MLR_TfromNS_W2C = pickle.load(hf)\n",
    "hist_MLR_TfromNS_W2C = hist_MLR_TfromNS_W2C['hist']"
   ]
  },
  {
   "cell_type": "code",
   "execution_count": 70,
   "metadata": {},
   "outputs": [],
   "source": [
    "path_NN_TfromNS_W2C = path_PKL + 'PKL_DATA2021_04_27_W2C_NN_RH_TfromNS_LHF_nsDELQ_hist.pkl'\n",
    "hf = open(path_NN_TfromNS_W2C,'rb')\n",
    "hist_NN_TfromNS_W2C = pickle.load(hf)\n",
    "hist_NN_TfromNS_W2C = hist_NN_TfromNS_W2C['hist']"
   ]
  },
  {
   "cell_type": "markdown",
   "metadata": {},
   "source": [
    "### RG to aquaplanet"
   ]
  },
  {
   "cell_type": "code",
   "execution_count": 71,
   "metadata": {},
   "outputs": [],
   "source": [
    "path_MLR_BF_RG2AQ = path_PKL + 'PKL_DATA2021_06_03_RG2AQ_MLR_hist.pkl'\n",
    "hf = open(path_MLR_BF_RG2AQ,'rb')\n",
    "hist_MLR_BF_RG2AQ = pickle.load(hf)\n",
    "hist_MLR_BF_RG2AQ = hist_MLR_BF_RG2AQ['hist']"
   ]
  },
  {
   "cell_type": "code",
   "execution_count": 72,
   "metadata": {},
   "outputs": [],
   "source": [
    "path_NN_BF_RG2AQ = path_PKL + 'PKL_DATA2021_06_03_RG2AQ_NN_hist.pkl'\n",
    "hf = open(path_NN_BF_RG2AQ,'rb')\n",
    "hist_NN_BF_RG2AQ = pickle.load(hf)\n",
    "hist_NN_BF_RG2AQ = hist_NN_BF_RG2AQ['hist']"
   ]
  },
  {
   "cell_type": "code",
   "execution_count": 73,
   "metadata": {},
   "outputs": [],
   "source": [
    "path_MLR_BMSE_RG2AQ = path_PKL + 'PKL_DATA2021_06_17_RG2AQ_MLR_RH_BMSE_LHF_nsDELQ_hist.pkl'\n",
    "hf = open(path_MLR_BMSE_RG2AQ,'rb')\n",
    "hist_MLR_BMSE_RG2AQ = pickle.load(hf)\n",
    "hist_MLR_BMSE_RG2AQ = hist_MLR_BMSE_RG2AQ['hist']"
   ]
  },
  {
   "cell_type": "code",
   "execution_count": 74,
   "metadata": {},
   "outputs": [],
   "source": [
    "path_NN_BMSE_RG2AQ = path_PKL + 'PKL_DATA2021_06_17_RG2AQ_NN_RH_BMSE_LHF_nsDELQ_hist.pkl'\n",
    "hf = open(path_NN_BMSE_RG2AQ,'rb')\n",
    "hist_NN_BMSE_RG2AQ = pickle.load(hf)\n",
    "hist_NN_BMSE_RG2AQ = hist_NN_BMSE_RG2AQ['hist']"
   ]
  },
  {
   "cell_type": "markdown",
   "metadata": {},
   "source": [
    "### Batch normalization & dropout"
   ]
  },
  {
   "cell_type": "markdown",
   "metadata": {},
   "source": [
    "Climate-invariant"
   ]
  },
  {
   "cell_type": "code",
   "execution_count": 75,
   "metadata": {},
   "outputs": [],
   "source": [
    "path_CI_DPBN = path_PKL+'PKL_DATA2021_08_03_NN_RH_BMSE_LHF_nsDELQ_Dropout30_BNL1_hist.pkl'\n",
    "hf = open(path_CI_DPBN,'rb')\n",
    "hist_CI_DPBN = pickle.load(hf)\n",
    "hist_CI_DPBN = hist_CI_DPBN['hist']"
   ]
  },
  {
   "cell_type": "code",
   "execution_count": 76,
   "metadata": {},
   "outputs": [],
   "source": [
    "path_CI_DPBN_W2C = path_PKL+'PKL_DATA2021_08_05_W2C_NN_RH_BMSE_LHF_nsDELQ_BNL1_Dropout30_hist.pkl'\n",
    "hf = open(path_CI_DPBN_W2C,'rb')\n",
    "hist_CI_DPBN_W2C = pickle.load(hf)\n",
    "hist_CI_DPBN_W2C = hist_CI_DPBN_W2C['hist']"
   ]
  },
  {
   "cell_type": "code",
   "execution_count": 77,
   "metadata": {},
   "outputs": [],
   "source": [
    "path_CI_DPBN_RG2AQ = path_PKL+'PKL_DATA2021_08_07_RG2AQ_NN_RH_BMSE_LHF_nsDELQ_BNL1_Dropout30_hist.pkl'\n",
    "hf = open(path_CI_DPBN_RG2AQ,'rb')\n",
    "hist_CI_DPBN_RG2AQ = pickle.load(hf)\n",
    "hist_CI_DPBN_RG2AQ = hist_CI_DPBN_RG2AQ['hist'] "
   ]
  },
  {
   "cell_type": "markdown",
   "metadata": {},
   "source": [
    "Brute-force"
   ]
  },
  {
   "cell_type": "code",
   "execution_count": 78,
   "metadata": {},
   "outputs": [],
   "source": [
    "path_BF_DPBN = path_PKL+'PKL_DATA2021_08_08_NN_BNL1_Dropout30_hist.pkl'\n",
    "hf = open(path_BF_DPBN,'rb')\n",
    "hist_BF_DPBN = pickle.load(hf)\n",
    "hist_BF_DPBN = hist_BF_DPBN['hist']"
   ]
  },
  {
   "cell_type": "code",
   "execution_count": 79,
   "metadata": {},
   "outputs": [],
   "source": [
    "path_BF_DPBN_W2C = path_PKL+'PKL_DATA2021_08_08_W2C_NN_BNL1_DP30_hist.pkl'\n",
    "hf = open(path_BF_DPBN_W2C,'rb')\n",
    "hist_BF_DPBN_W2C = pickle.load(hf)\n",
    "hist_BF_DPBN_W2C = hist_BF_DPBN_W2C['hist']"
   ]
  },
  {
   "cell_type": "code",
   "execution_count": 80,
   "metadata": {},
   "outputs": [],
   "source": [
    "path_BF_DPBN_RG2AQ = path_PKL+'PKL_DATA2021_08_09_RG2AQ_NN_BNL1_DP30_hist.pkl'\n",
    "hf = open(path_BF_DPBN_RG2AQ,'rb')\n",
    "hist_BF_DPBN_RG2AQ = pickle.load(hf)\n",
    "hist_BF_DPBN_RG2AQ = hist_BF_DPBN_RG2AQ['hist'] "
   ]
  },
  {
   "cell_type": "markdown",
   "metadata": {},
   "source": [
    "## Create Table structure"
   ]
  },
  {
   "cell_type": "code",
   "execution_count": 86,
   "metadata": {},
   "outputs": [],
   "source": [
    "MSE_array = np.zeros((3,2,6,4)) # Training sets x Best/5best x Models x Test sets"
   ]
  },
  {
   "cell_type": "code",
   "execution_count": 87,
   "metadata": {},
   "outputs": [],
   "source": [
    "for itraining in range(3):\n",
    "    for imodel in range(6):\n",
    "        for itest in range(4):\n",
    "        \n",
    "            if itraining==0:\n",
    "                if imodel==0: h = hist_MLR_BF; k = ['loss', 'val_loss', 'trainP4K_loss', 'trainM4K_RG_loss']\n",
    "                elif imodel==1: h = hist_MLR_BMSE;\n",
    "                elif imodel==2: h = hist_NN_BF;\n",
    "                elif imodel==3: h = hist_BF_DPBN;\n",
    "                elif imodel==4: h = hist_NN_BMSE;\n",
    "                elif imodel==5: h = hist_CI_DPBN;\n",
    "            elif itraining==1:\n",
    "                if imodel==0: h = hist_MLR_BF_W2C; k = ['loss', 'val_loss', 'trainM4K_loss', 'trainP4K_RG_loss']\n",
    "                elif imodel==1: h = hist_MLR_BMSE_W2C;\n",
    "                elif imodel==2: h = hist_NN_BF_W2C;\n",
    "                elif imodel==3: h = hist_BF_DPBN_W2C;\n",
    "                elif imodel==4: h = hist_NN_BMSE_W2C;\n",
    "                elif imodel==5: h = hist_CI_DPBN_W2C;\n",
    "            elif itraining==2:\n",
    "                if imodel==0: h = hist_MLR_BF_RG2AQ; k = ['loss', 'val_loss', 'trainM4K_loss', 'trainP4K_RG_loss']\n",
    "                elif imodel==1: h = hist_MLR_BMSE_RG2AQ;\n",
    "                elif imodel==2: h = hist_NN_BF_RG2AQ;\n",
    "                elif imodel==3: h = hist_BF_DPBN_RG2AQ;\n",
    "                elif imodel==4: h = hist_NN_BMSE_RG2AQ;\n",
    "                elif imodel==5: h = hist_CI_DPBN_RG2AQ;\n",
    "                 \n",
    "            sortI = np.argsort(h[k[itest]])\n",
    "            MSE_array[itraining,0,imodel,itest] = h[k[itest]][sortI[0]]\n",
    "            hav = 0\n",
    "            for iav in range(5):\n",
    "                hav += h[k[itest]][sortI[iav]]/5\n",
    "            MSE_array[itraining,1,imodel,itest] = hav "
   ]
  },
  {
   "cell_type": "code",
   "execution_count": 90,
   "metadata": {},
   "outputs": [],
   "source": [
    "NORMMSE_array = np.zeros((3,6,4)) # Training sets x Models x Test sets"
   ]
  },
  {
   "cell_type": "code",
   "execution_count": 92,
   "metadata": {},
   "outputs": [],
   "source": [
    "for itraining in range(3):\n",
    "    for imodel in range(6):\n",
    "        for itest in range(4):\n",
    "            NORMMSE_array[itraining,imodel,itest] = MSE_array[itraining,0,imodel,itest]/MSE_array[itraining,0,0,itest]"
   ]
  },
  {
   "cell_type": "markdown",
   "metadata": {},
   "source": [
    "## Table code in latex"
   ]
  },
  {
   "cell_type": "code",
   "execution_count": 84,
   "metadata": {},
   "outputs": [],
   "source": [
    "TABLEname = 'CI_Paper_Results'\n",
    "path_TXT = '/export/home/tbeucler/CBRAIN-CAM/notebooks/tbeucler_devlog/TXT_DATA/'\n",
    "path = path_TXT+TABLEname+\".txt\"\n",
    "\n",
    "topline1 = \" & & Training Set & \\\\textbf{Validation Set} & Training Set & Training Set\\\\tabularnewline\\n\"\n",
    "topline2 = \"Trained & Model & Same temperature & Same temperature & \\\\textbf{Different temperature} & Same temperature\\\\tabularnewline\\n\"\n",
    "topline3 = \"on & & Same geography & Same geography & Same geography & \\\\textbf{Different geography}\\\\tabularnewline\\n\"\n",
    "\n",
    "caption = \"Mean-Squared Error (MSE, in units W$^{2}$ m$^{-4}$) of six models trained in three simulations (first column)\"+\\\n",
    "\" and evaluated over the training or validation set of the same and two other simulations (last four columns).\"+\\\n",
    "\" The models (second column) are brute-force (BF) or climate-invariant (CI), multiple linear regressions (MLR) \"+\\\n",
    "\"or neural nets (NN), and sometimes include dropout layers preceded by a batch normalization layer (DN).\"+\\\n",
    "\" The models are trained for 20 epochs and we give the MSE corresponding to the epoch of minimal validation loss\"+\\\n",
    "\" followed by the MSE averaged over the 5 epochs with lowest validation losses (in parentheses).\"\n",
    "\n",
    "COLOR = ['black','purple','black','teal','purple','teal']\n",
    "MODEL = [[\" & MLR BF\",\n",
    "          \"\\\\textcolor{blue}{Cold} & \\\\textcolor{purple}{MLR CI}\",\n",
    "          \"\\\\textcolor{blue}{Aquaplanet} & NN BF\",\n",
    "          \"\\\\textcolor{blue}{(-4K)} & \\\\textcolor{teal}{NN BF+DN}\",\n",
    "          \"SPCAM3 & \\\\textcolor{purple}{NN CI}\",\n",
    "          \" & \\\\textcolor{teal}{NN CI+DN}\"],\n",
    "         [\" & MLR BF\",\n",
    "          \"\\\\textcolor{red}{Warm} & \\\\textcolor{purple}{MLR CI}\",\n",
    "          \"\\\\textcolor{red}{Aquaplanet} & NN BF\",\n",
    "          \"\\\\textcolor{red}{(+4K)} & \\\\textcolor{teal}{NN BF+DN}\",\n",
    "          \"SPCAM3 & \\\\textcolor{purple}{NN CI}\",\n",
    "          \" & \\\\textcolor{teal}{NN CI+DN}\"],\n",
    "         [\" & MLR BF\",\n",
    "          \"\\\\textcolor{green}{Cold} & \\\\textcolor{purple}{MLR CI}\",\n",
    "          \"\\\\textcolor{green}{Earth-like} & NN BF\",\n",
    "          \"\\\\textcolor{green}{(-4K)} & \\\\textcolor{teal}{NN BF+DN}\",\n",
    "          \"SPCAM5 & \\\\textcolor{purple}{NN CI}\",\n",
    "          \" & \\\\textcolor{teal}{NN CI+DN}\"]]"
   ]
  },
  {
   "cell_type": "code",
   "execution_count": null,
   "metadata": {},
   "outputs": [
    {
     "name": "stdout",
     "output_type": "stream",
     "text": [
      "Table CI_Paper_Results printed to /export/home/tbeucler/CBRAIN-CAM/notebooks/tbeucler_devlog/TXT_DATA/CI_Paper_Results.txt\n"
     ]
    }
   ],
   "source": [
    "f= open(path,\"w+\")\n",
    "f.write(\"\\\\begin{table*}\\n\")\n",
    "f.write(\"\\\\begin{centering}\\n\")\n",
    "f.write(\"\\\\begin{tabular}{c|c||c|c|c|c}\\n\")\n",
    "f.write(topline1)\n",
    "f.write(topline2)\n",
    "f.write(topline3)\n",
    "for itrain in range(3):\n",
    "    f.write(\"\\\\hline\\n\")\n",
    "    for imodel in range(6):\n",
    "        f.write(MODEL[itrain][imodel])\n",
    "        for itest in range(4):\n",
    "            f.write(\" & \")\n",
    "            f.write(\"\\\\textcolor{\"+COLOR[imodel]+\"}{\")\n",
    "            f.write(\"%3.0f\"%MSE_array[itrain,0,imodel,itest]+\" \")\n",
    "            f.write(\"(\"+\"%3.0f\"%MSE_array[itrain,1,imodel,itest]+\") \")\n",
    "            f.write(\"}\")\n",
    "        f.write(\"\\\\tabularnewline\\n\")\n",
    "f.write(\"\\\\end{tabular}\\n\")\n",
    "f.write(\"\\\\par\\\\end{centering}\\n\")\n",
    "f.write(\"\\n\")\n",
    "f.write(\"\\\\caption{\")\n",
    "f.write(caption)\n",
    "f.write(\"}\\n\")\n",
    "f.write(\"\\\\label{tab:Results}\\n\")\n",
    "f.write(\"\\\\end{table*}\\n\")\n",
    "f.close()\n",
    "print('Table',TABLEname,'printed to',path)"
   ]
  },
  {
   "cell_type": "markdown",
   "metadata": {},
   "source": [
    "## Revised Table taking raw-data multiple linear regression as a reference"
   ]
  },
  {
   "cell_type": "code",
   "execution_count": 93,
   "metadata": {},
   "outputs": [],
   "source": [
    "TABLEname = 'CI_Paper_Results_Revised'\n",
    "path_TXT = '/export/home/tbeucler/CBRAIN-CAM/notebooks/tbeucler_devlog/TXT_DATA/'\n",
    "path = path_TXT+TABLEname+\".txt\"\n",
    "\n",
    "topline1 = \" & & Training Set & \\\\textbf{Validation Set} & Training Set & Training Set\\\\tabularnewline\\n\"\n",
    "topline2 = \"Trained & Model & Same temperature & Same temperature & \\\\textbf{Different temperature} & Same temperature\\\\tabularnewline\\n\"\n",
    "topline3 = \"on & & Same configuration & Same configuration & Same configuration & \\\\textbf{Different configuration}\\\\tabularnewline\\n\"\n",
    "\n",
    "caption = \"Mean-Squared Error (MSE, in units W$^{2}$ m$^{-4}$) of six models trained in three simulations (first column) and evaluated over the training or validation set of the same and two other simulations (last four columns). The models (second column) are raw-data (RD) or climate-invariant (CI), multiple linear regressions (MLR) or neural nets (NN), and sometimes include dropout layers preceded by a batch normalization layer (DN). The models are trained for 20 epochs and we give the MSE corresponding to the epoch of minimal validation loss followed by the MSE averaged over the 5 epochs with lowest validation losses (in parentheses). Note that ``Different Temperature'' refers to (+4K) for (-4K) training sets and vice versa. In each application case, we highlight the best model's error using bold font.\"\n",
    "\n",
    "COLOR = ['black','purple','black','teal','purple','teal']\n",
    "MODEL = [[\" & MLR BF\",\n",
    "          \"\\\\textcolor{blue}{Cold} & \\\\textcolor{purple}{MLR CI}\",\n",
    "          \"\\\\textcolor{blue}{Aquaplanet} & NN BF\",\n",
    "          \"\\\\textcolor{blue}{(-4K)} & \\\\textcolor{teal}{NN BF+DN}\",\n",
    "          \"SPCAM3 & \\\\textcolor{purple}{NN CI}\",\n",
    "          \" & \\\\textcolor{teal}{NN CI+DN}\"],\n",
    "         [\" & MLR BF\",\n",
    "          \"\\\\textcolor{red}{Warm} & \\\\textcolor{purple}{MLR CI}\",\n",
    "          \"\\\\textcolor{red}{Aquaplanet} & NN BF\",\n",
    "          \"\\\\textcolor{red}{(+4K)} & \\\\textcolor{teal}{NN BF+DN}\",\n",
    "          \"SPCAM3 & \\\\textcolor{purple}{NN CI}\",\n",
    "          \" & \\\\textcolor{teal}{NN CI+DN}\"],\n",
    "         [\" & MLR BF\",\n",
    "          \"\\\\textcolor{green}{Cold} & \\\\textcolor{purple}{MLR CI}\",\n",
    "          \"\\\\textcolor{green}{Earth-like} & NN BF\",\n",
    "          \"\\\\textcolor{green}{(-4K)} & \\\\textcolor{teal}{NN BF+DN}\",\n",
    "          \"SPCAM5 & \\\\textcolor{purple}{NN CI}\",\n",
    "          \" & \\\\textcolor{teal}{NN CI+DN}\"]]"
   ]
  },
  {
   "cell_type": "code",
   "execution_count": 94,
   "metadata": {},
   "outputs": [
    {
     "name": "stdout",
     "output_type": "stream",
     "text": [
      "Table CI_Paper_Results_Revised printed to /export/home/tbeucler/CBRAIN-CAM/notebooks/tbeucler_devlog/TXT_DATA/CI_Paper_Results_Revised.txt\n"
     ]
    }
   ],
   "source": [
    "f= open(path,\"w+\")\n",
    "f.write(\"\\\\begin{table*}\\n\")\n",
    "f.write(\"\\\\begin{centering}\\n\")\n",
    "f.write(\"\\\\begin{tabular}{c|c||c|c|c|c}\\n\")\n",
    "f.write(topline1)\n",
    "f.write(topline2)\n",
    "f.write(topline3)\n",
    "for itrain in range(3):\n",
    "    f.write(\"\\\\hline\\n\")\n",
    "    for imodel in range(6):\n",
    "        f.write(MODEL[itrain][imodel])\n",
    "        for itest in range(4):\n",
    "            f.write(\" & \")\n",
    "            f.write(\"\\\\textcolor{\"+COLOR[imodel]+\"}{\")\n",
    "            f.write(\"%3.0f\"%MSE_array[itrain,0,imodel,itest]+\" \")\n",
    "            f.write(\"(\"+\"%3.0f\"%MSE_array[itrain,1,imodel,itest]+\") \")\n",
    "            f.write(\", \"+\"%1.1f\"%NORMMSE_array[itrain,imodel,itest])\n",
    "            f.write(\"}\")\n",
    "        f.write(\"\\\\tabularnewline\\n\")\n",
    "f.write(\"\\\\end{tabular}\\n\")\n",
    "f.write(\"\\\\par\\\\end{centering}\\n\")\n",
    "f.write(\"\\n\")\n",
    "f.write(\"\\\\caption{\")\n",
    "f.write(caption)\n",
    "f.write(\"}\\n\")\n",
    "f.write(\"\\\\label{tab:Results}\\n\")\n",
    "f.write(\"\\\\end{table*}\\n\")\n",
    "f.close()\n",
    "print('Table',TABLEname,'printed to',path)"
   ]
  },
  {
   "cell_type": "code",
   "execution_count": null,
   "metadata": {},
   "outputs": [],
   "source": []
  }
 ],
 "metadata": {
  "kernelspec": {
   "display_name": "Python 3",
   "language": "python",
   "name": "python3"
  },
  "language_info": {
   "codemirror_mode": {
    "name": "ipython",
    "version": 3
   },
   "file_extension": ".py",
   "mimetype": "text/x-python",
   "name": "python",
   "nbconvert_exporter": "python",
   "pygments_lexer": "ipython3",
   "version": "3.6.10"
  },
  "toc": {
   "base_numbering": 1,
   "nav_menu": {},
   "number_sections": true,
   "sideBar": true,
   "skip_h1_title": false,
   "title_cell": "Table of Contents",
   "title_sidebar": "Contents",
   "toc_cell": false,
   "toc_position": {
    "height": "calc(100% - 180px)",
    "left": "10px",
    "top": "150px",
    "width": "307.2px"
   },
   "toc_section_display": true,
   "toc_window_display": true
  }
 },
 "nbformat": 4,
 "nbformat_minor": 4
}
