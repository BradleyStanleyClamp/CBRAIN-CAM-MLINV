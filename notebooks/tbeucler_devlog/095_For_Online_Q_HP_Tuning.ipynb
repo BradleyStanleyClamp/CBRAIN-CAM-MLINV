{
 "cells": [
  {
   "cell_type": "markdown",
   "metadata": {},
   "source": [
    "tb - 7/7/2022 - HP search for NNs taking specific humidity as inputs for online runs. Adapted from scripts from Sungduk Yu and Jerry Lin."
   ]
  },
  {
   "cell_type": "markdown",
   "metadata": {},
   "source": [
    "# Imports and initialization"
   ]
  },
  {
   "cell_type": "code",
   "execution_count": 1,
   "metadata": {},
   "outputs": [
    {
     "name": "stdout",
     "output_type": "stream",
     "text": [
      "/nfspool-0/home/tbeucler/CBRAIN-CAM/notebooks/tbeucler_devlog\n"
     ]
    }
   ],
   "source": [
    "import cftime\n",
    "import matplotlib\n",
    "import matplotlib as mpl\n",
    "import matplotlib.pyplot as plt\n",
    "import numpy as np\n",
    "import pandas as pd\n",
    "import pickle as pkl\n",
    "import xarray as xr\n",
    "\n",
    "import cartopy\n",
    "import cartopy.feature as cfeature\n",
    "import cartopy.crs as ccrs\n",
    "import matplotlib.pylab as plb\n",
    "import matplotlib.image as imag\n",
    "\n",
    "from cbrain.imports import *\n",
    "from cbrain.cam_constants import *\n",
    "from cbrain.utils import *\n",
    "from cbrain.layers import *\n",
    "from cbrain.data_generator import DataGenerator\n",
    "from cbrain.climate_invariant import *\n",
    "from cbrain.climate_invariant_utils import *\n",
    "\n",
    "import tensorflow as tf\n",
    "physical_devices = tf.config.experimental.list_physical_devices('GPU') \n",
    "tf.config.experimental.set_memory_growth(physical_devices[0], True)\n",
    "tf.config.experimental.set_memory_growth(physical_devices[1], True)\n",
    "tf.config.experimental.set_memory_growth(physical_devices[2], True)\n",
    "\n",
    "import os\n",
    "os.environ[\"CUDA_VISIBLE_DEVICES\"]=\"0\"\n",
    "\n",
    "from tensorflow import math as tfm\n",
    "from tensorflow.keras.layers import *\n",
    "from tensorflow.keras.models import *\n",
    "import tensorflow_probability as tfp\n",
    "#import tensorflow_addons as tfa\n",
    "from tensorflow.keras import models\n",
    "from tensorflow.keras import layers\n",
    "from tensorflow.keras import callbacks\n",
    "from tensorflow.keras import regularizers"
   ]
  },
  {
   "cell_type": "code",
   "execution_count": 2,
   "metadata": {},
   "outputs": [],
   "source": [
    "fz = 15\n",
    "lw = 2\n",
    "siz = 100\n",
    "\n",
    "plt.rc('text', usetex=False)\n",
    "matplotlib.rcParams['mathtext.fontset'] = 'custom'\n",
    "mpl.rcParams['mathtext.fontset'] = 'stix'\n",
    "mpl.rcParams['font.family'] = 'STIXGeneral'\n",
    "mpl.rcParams['lines.linewidth'] = lw\n",
    "plt.rc('font',size=fz)"
   ]
  },
  {
   "cell_type": "code",
   "execution_count": 3,
   "metadata": {},
   "outputs": [],
   "source": [
    "path_folder = '/DFS-L/DATA/pritchard/tbeucler/For_Jerry/June2022_CI_Runs/'\n",
    "path_repeat = '/DFS-L/DATA/pritchard/tbeucler/For_Jerry/June2022_CI_Runs/specificNN_m4k_repeat//spehum_version_0_False/'\n",
    "path_Jerry = '/DFS-L/DATA/pritchard/tbeucler/For_Jerry/AdaptedPreprocessing/Jerry_Bridges/'\n",
    "path_J_h5 = ['specifich5/spehum','relativeh5/relhum']\n",
    "path_J_norm = ['specific64/','relative64/']\n",
    "path_J_loss = ['/fast/jerryl9/pythonNotebooks/forTom/AdaptedPreprocessing/specificHistory.txt',\n",
    "              '/fast/jerryl9/pythonNotebooks/forTom/AdaptedPreprocessing/relativeHistory.txt']\n",
    "path_div = [path_Jerry+path_J_norm[0]+'inp_div_Specific64.txt',\n",
    "           path_Jerry+path_J_norm[1]+'inp_div_Relative64.txt']\n",
    "path_sub = [path_Jerry+path_J_norm[0]+'inp_sub_Specific64.txt',\n",
    "           path_Jerry+path_J_norm[1]+'inp_sub_Relative64.txt']\n",
    "path_out = [path_Jerry+path_J_norm[0]+'out_scale_Specific64.txt',\n",
    "            path_Jerry+path_J_norm[1]+'out_scale_Relative64.txt']\n",
    "path_txt = '/DFS-L/DATA/pritchard/tbeucler/For_Jerry/TXT_DATA/'\n",
    "path_sub_tom = path_txt + 'inp_sub_Specificm4K.txt'\n",
    "path_div_tom = path_txt + 'inp_div_Specificm4K.txt'\n",
    "path_out_tom = path_txt + 'out_scale_Specificm4K.txt'"
   ]
  },
  {
   "cell_type": "code",
   "execution_count": 4,
   "metadata": {},
   "outputs": [],
   "source": [
    "path_data = '/DFS-L/DATA/pritchard/tbeucler/SPCAM/SPCAM_PHYS/'\n",
    "path_array = {}\n",
    "path_array['cold'] = [path_data+'2021_03_18_O3_TRAIN_M4K_shuffle.nc',\n",
    "                      path_data+'2021_03_18_O3_VALID_M4K.nc',\n",
    "                      path_data+'2021_03_18_O3_TEST_M4K.nc']\n",
    "path_array['hot'] = [path_data+'2021_03_18_O3_TRAIN_P4K_shuffle.nc',\n",
    "                     path_data+'2021_03_18_O3_VALID_P4K.nc',\n",
    "                     path_data+'2021_03_18_O3_TEST_P4K.nc']\n",
    "path_array['both'] = [path_data+'2022_04_18_TRAIN_M4K_P4K_shuffle.nc',\n",
    "                      path_data+'2022_04_18_VALID_M4K_P4K.nc',\n",
    "                      path_data+'2022_04_18_TEST_M4K_P4K.nc']\n",
    "path_array['medium'] = [path_data+'2021_01_24_O3_TRAIN_shuffle.nc',\n",
    "                        path_data+'2021_01_24_O3_VALID.nc',\n",
    "                        path_data+'2021_01_24_O3_TEST.nc']\n",
    "path_Tom = ['/DFS-L/DATA/pritchard/tbeucler/SPCAM/HDF5_DATA/2021_04_26_NN.hdf5',\n",
    "            '/DFS-L/DATA/pritchard/tbeucler/SPCAM/HDF5_DATA/2021_06_13_NN_RH.hdf5']\n",
    "path_input_norm = path_data + '2021_01_24_NORM_O3_small.nc'\n",
    "path_norm_RH = path_data + '2021_02_01_NORM_O3_RH_small.nc'\n",
    "scale_dict = pickle.load(open(path_data+'009_Wm2_scaling.pkl','rb'))\n",
    "scale_dict_RH = scale_dict.copy()\n",
    "scale_dict_RH['RH'] = 0.01*L_S/G, # Arbitrary 0.1 factor as specific humidity is generally below 2%\n",
    "path_train_RH = path_data + '2021_01_24_O3_small_shuffle.nc'\n",
    "path_norm_BMSE = path_data + '2021_06_16_NORM_BMSE_small.nc'\n",
    "path_train_BMSE = path_data + '2021_06_16_BMSE_small_shuffle.nc'\n",
    "path_norm_LHF_nsDELQ = path_data + '2021_02_01_NORM_O3_LHF_nsDELQ_small.nc'\n",
    "path_train_LHF_nsDELQ = path_data + '2021_02_01_O3_LHF_nsQ_small_shuffle.nc'\n",
    "in_vars = ['QBP','TBP','PS','SOLIN','SHFLX','LHFLX'] # We take the large-scale climate state as inputs\n",
    "out_vars = ['PHQ','TPHYSTND','QRL','QRS'] # and we output the response of clouds/storms to these climate conditions\n",
    "path_1year = path_data + '2022_08_01_TRAIN_M4K_First_Year.nc'\n",
    "path_8months = path_data + '2022_08_01_TRAIN_M4K_First_Eight_Months.nc'\n",
    "path_RH = [path_data+'2022_08_03_TRAIN_For_Jerry_RH_m4K.nc',path_data+'2022_08_03_VALID_For_Jerry_RH_m4K.nc']"
   ]
  },
  {
   "cell_type": "code",
   "execution_count": 5,
   "metadata": {},
   "outputs": [],
   "source": [
    "path_Q = '/DFS-L/DATA/pritchard/jerryl9/forTom/specific64/'"
   ]
  },
  {
   "cell_type": "markdown",
   "metadata": {},
   "source": [
    "# Build models and load data/models"
   ]
  },
  {
   "cell_type": "markdown",
   "metadata": {},
   "source": [
    "## Load existing models"
   ]
  },
  {
   "cell_type": "code",
   "execution_count": 6,
   "metadata": {},
   "outputs": [],
   "source": [
    "# with open(trainingPath + 'trainInput_Specific64.npy', 'rb') as f:\n",
    "#     nnInput = np.load(f)\n",
    "\n",
    "# with open(trainingPath + 'trainOutput_Specific64.npy', 'rb') as f:\n",
    "#     nnOutput = np.load(f)\n",
    "\n",
    "# with open(trainingPath + 'testInput_Specific64.npy', 'rb') as f:\n",
    "#     valInput = np.load(f)\n",
    "\n",
    "# with open(trainingPath + 'testOutput_Specific64.npy', 'rb') as f:\n",
    "#     valOutput = np.load(f)"
   ]
  },
  {
   "cell_type": "code",
   "execution_count": 7,
   "metadata": {},
   "outputs": [],
   "source": [
    "Inp_name = ['Q','RH']\n",
    "\n",
    "MODELJ = {}\n",
    "\n",
    "for iinput,inp in enumerate(path_J_h5):\n",
    "    MODELJ[Inp_name[iinput]] = {}\n",
    "    for dropout in range(5):\n",
    "        MODELJ[Inp_name[iinput]][dropout] = {}\n",
    "        for BN in (['True','False']):\n",
    "            MODELJ[Inp_name[iinput]][dropout][BN] = \\\n",
    "            load_model(path_Jerry+inp+'_version_'+str(dropout)+'_'+BN+'.h5',compile=False)"
   ]
  },
  {
   "cell_type": "code",
   "execution_count": 8,
   "metadata": {},
   "outputs": [],
   "source": [
    "## Load normalization and loss files for Jerry's case\n",
    "\n",
    "SUB = {}; DIV = {}; OUT = {}\n",
    "\n",
    "for iinp in range(2):\n",
    "    DIV[iinp] = (pd.read_csv(path_div[iinp], sep=\" \", header=None).values)[:,0]\n",
    "    SUB[iinp] = (pd.read_csv(path_sub[iinp], sep=\" \", header=None).values)[:,0]\n",
    "    OUT[iinp] = (pd.read_csv(path_out[iinp], sep=\" \", header=None).values)[:,0]"
   ]
  },
  {
   "cell_type": "code",
   "execution_count": 9,
   "metadata": {},
   "outputs": [],
   "source": [
    "DIVT = (pd.read_csv(path_div_tom, sep=\" \", header=None).values)[:,0]\n",
    "SUBT = (pd.read_csv(path_sub_tom, sep=\" \", header=None).values)[:,0]\n",
    "OUTT = (pd.read_csv(path_out_tom, sep=\" \", header=None).values)[:,0]"
   ]
  },
  {
   "cell_type": "markdown",
   "metadata": {},
   "source": [
    "## Create new norm file from updated statistics"
   ]
  },
  {
   "cell_type": "code",
   "execution_count": 10,
   "metadata": {},
   "outputs": [],
   "source": [
    "path_norm = '/DFS-L/DATA/pritchard/tbeucler/SPCAM/SPCAM_PHYS/2022_07_22_NORM_PDF_CDF_TRAIN_BOTH_M4K_P4K'"
   ]
  },
  {
   "cell_type": "code",
   "execution_count": 11,
   "metadata": {},
   "outputs": [],
   "source": [
    "path_Rasp_norm = '/DFS-L/DATA/pritchard/tbeucler/SPCAM/SPCAM_PHYS/001_norm.nc'"
   ]
  },
  {
   "cell_type": "code",
   "execution_count": 41,
   "metadata": {},
   "outputs": [],
   "source": [
    "newnorm = pkl.load(open(path_norm,'rb'))"
   ]
  },
  {
   "cell_type": "code",
   "execution_count": 42,
   "metadata": {},
   "outputs": [],
   "source": [
    "Raspnorm = xr.open_dataset(path_Rasp_norm)"
   ]
  },
  {
   "cell_type": "code",
   "execution_count": 43,
   "metadata": {},
   "outputs": [],
   "source": [
    "tomnorm = xr.open_dataset(path_input_norm)"
   ]
  },
  {
   "cell_type": "code",
   "execution_count": 16,
   "metadata": {},
   "outputs": [
    {
     "data": {
      "text/plain": [
       "<matplotlib.legend.Legend at 0x7f0c300a99b0>"
      ]
     },
     "execution_count": 16,
     "metadata": {},
     "output_type": "execute_result"
    },
    {
     "data": {
      "image/png": "[encoded data removed]",
      "text/plain": [
       "<Figure size 1080x504 with 1 Axes>"
      ]
     },
     "metadata": {
      "needs_background": "light"
     },
     "output_type": "display_data"
    }
   ],
   "source": [
    "fig,ax = plt.subplots(1,1,figsize=(15,7))\n",
    "\n",
    "plt.plot(tomnorm['mean'][:30].values,SUB[0][30:60],label='Jerry norm')\n",
    "plt.plot(tomnorm['mean'][:30].values,Raspnorm['mean'][:30].values,label='Rasp norm')\n",
    "plt.plot(tomnorm['mean'][:30].values,tomnorm['mean'][:30].values,color='k',zorder=0,label='1-to-1 line')\n",
    "plt.xlabel('Tom norm')\n",
    "plt.ylabel('Other norms')\n",
    "plt.title('QBP')\n",
    "plt.legend()"
   ]
  },
  {
   "cell_type": "code",
   "execution_count": 17,
   "metadata": {},
   "outputs": [
    {
     "data": {
      "text/plain": [
       "<matplotlib.legend.Legend at 0x7f0bf86c50f0>"
      ]
     },
     "execution_count": 17,
     "metadata": {},
     "output_type": "execute_result"
    },
    {
     "data": {
      "image/png": "[encoded data removed]",
      "text/plain": [
       "<Figure size 1080x504 with 1 Axes>"
      ]
     },
     "metadata": {
      "needs_background": "light"
     },
     "output_type": "display_data"
    }
   ],
   "source": [
    "fig,ax = plt.subplots(1,1,figsize=(15,7))\n",
    "\n",
    "plt.plot(tomnorm['mean'][30:60].values,SUB[0][:30],label='Jerry norm')\n",
    "plt.plot(tomnorm['mean'][30:60].values,Raspnorm['mean'][90:120].values,label='Rasp norm')\n",
    "plt.plot(tomnorm['mean'][30:60].values,tomnorm['mean'][30:60].values,color='k',zorder=0,label='1-to-1 line')\n",
    "plt.xlabel('Tom norm')\n",
    "plt.ylabel('Other norms')\n",
    "plt.title('QBP')\n",
    "plt.legend()"
   ]
  },
  {
   "cell_type": "code",
   "execution_count": 18,
   "metadata": {},
   "outputs": [
    {
     "data": {
      "text/plain": [
       "<matplotlib.legend.Legend at 0x7f0bf863c390>"
      ]
     },
     "execution_count": 18,
     "metadata": {},
     "output_type": "execute_result"
    },
    {
     "data": {
      "image/png": "[encoded data removed]",
      "text/plain": [
       "<Figure size 1080x504 with 1 Axes>"
      ]
     },
     "metadata": {
      "needs_background": "light"
     },
     "output_type": "display_data"
    }
   ],
   "source": [
    "fig,ax = plt.subplots(1,1,figsize=(15,7))\n",
    "\n",
    "plt.plot(Raspnorm['mean'][90:120].values,SUB[0][:30],label='Jerry norm')\n",
    "plt.plot(Raspnorm['mean'][90:120].values,tomnorm['mean'][30:60].values,label='Tom norm')\n",
    "plt.plot(Raspnorm['mean'][90:120].values,Raspnorm['mean'][90:120].values,color='k',zorder=0,label='1-to-1 line')\n",
    "plt.xlabel('Rasp norm')\n",
    "plt.ylabel('Other norms')\n",
    "plt.title('QBP')\n",
    "plt.legend()"
   ]
  },
  {
   "cell_type": "code",
   "execution_count": 19,
   "metadata": {},
   "outputs": [
    {
     "data": {
      "text/plain": [
       "array([ 28444.723,  52518.43 ,  86030.96 , 124105.82 , 155706.95 ,\n",
       "       178836.6  , 178036.75 , 145884.84 , 171625.78 , 201908.83 ,\n",
       "       237535.56 , 279448.   , 328756.1  , 386764.75 , 455008.78 ,\n",
       "       535293.9  , 629745.9  , 740863.2  , 871587.25 , 871936.2  ,\n",
       "       800265.7  , 675320.9  , 501908.4  , 290571.1  , 272605.56 ,\n",
       "       252434.92 , 230183.3  , 205989.11 , 180040.48 , 152525.48 ],\n",
       "      dtype=float32)"
      ]
     },
     "execution_count": 19,
     "metadata": {},
     "output_type": "execute_result"
    }
   ],
   "source": [
    "scale_dict['TPHYSTND']"
   ]
  },
  {
   "cell_type": "markdown",
   "metadata": {},
   "source": [
    "## For now use Tom norm as it is \"smoother\" than Stephan's norm & for consistency with the climate-invariant manuscript"
   ]
  },
  {
   "cell_type": "markdown",
   "metadata": {},
   "source": [
    "Save Tom's norm in Jerry file format"
   ]
  },
  {
   "cell_type": "markdown",
   "metadata": {},
   "source": [
    "### Initialization"
   ]
  },
  {
   "cell_type": "code",
   "execution_count": 23,
   "metadata": {},
   "outputs": [],
   "source": [
    "SUBTOM = np.copy(SUB[0])\n",
    "DIVTOM = np.copy(DIV[0])\n",
    "OUTTOM = np.copy(OUT[0])\n",
    "\n",
    "SUBRH = np.copy(SUB[0])\n",
    "DIVRH = np.copy(DIV[0])\n",
    "OUTRH = np.copy(OUT[0])"
   ]
  },
  {
   "cell_type": "markdown",
   "metadata": {},
   "source": [
    "### Define generators"
   ]
  },
  {
   "cell_type": "markdown",
   "metadata": {},
   "source": [
    "Careful for div because of the max ( std_by_var , max-min ) implemented by Stephan in the \"normalization\" cbrain script. As a precaution measure, I'll just copy paste what comes out of the input transformer"
   ]
  },
  {
   "cell_type": "code",
   "execution_count": 24,
   "metadata": {},
   "outputs": [],
   "source": [
    "def train_gen_rescaling(input_rescaling,path_norm,path_train,scale_dict):\n",
    "    return DataGeneratorCI(\n",
    "        data_fn = path_train,\n",
    "        input_vars = input_rescaling,\n",
    "        output_vars = ['TPHYSTND','PHQ'],\n",
    "        norm_fn = path_norm,\n",
    "        input_transform = ('mean', 'maxrs'),\n",
    "        output_transform = scale_dict)"
   ]
  },
  {
   "cell_type": "code",
   "execution_count": 25,
   "metadata": {},
   "outputs": [],
   "source": [
    "train_gen_norm = train_gen_rescaling(['TBP','QBP','PS', 'SOLIN', 'SHFLX', 'LHFLX'],\n",
    "                                    path_input_norm,path_array['cold'][0],scale_dict)"
   ]
  },
  {
   "cell_type": "code",
   "execution_count": 26,
   "metadata": {},
   "outputs": [],
   "source": [
    "train_gen_RH = train_gen_rescaling(['TBP','RH','PS', 'SOLIN', 'SHFLX', 'LHFLX'],\n",
    "                                    path_norm_RH,path_array['cold'][0],scale_dict)"
   ]
  },
  {
   "cell_type": "markdown",
   "metadata": {},
   "source": [
    "### Extract and save norm for Q network"
   ]
  },
  {
   "cell_type": "code",
   "execution_count": 27,
   "metadata": {},
   "outputs": [],
   "source": [
    "sub = train_gen_norm.input_transform.sub\n",
    "div = train_gen_norm.input_transform.div\n",
    "subQ = sub[30:60]; divQ = div[30:60]\n",
    "subT = sub[:30]; divT = div[:30]\n",
    "subPS = sub[60]; divPS = div[60]\n",
    "subS0 = sub[61]; divS0 = div[61]\n",
    "subSHF = sub[62]; divSHF = div[62]\n",
    "subLHF = sub[63]; divLHF = div[63]"
   ]
  },
  {
   "cell_type": "code",
   "execution_count": 28,
   "metadata": {},
   "outputs": [],
   "source": [
    "# for i in range(30):\n",
    "#     SUBTOM[i] = tomnorm['mean'][30+i].values\n",
    "#     DIVTOM[i] = tomnorm['max'][30+i].values - tomnorm['min'][30+i].values\n",
    "#     OUTTOM[i] = scale_dict['TPHYSTND'][i]\n",
    "# for i in np.arange(30,60):\n",
    "#     SUBTOM[i] = tomnorm['mean'][i-30].values\n",
    "#     DIVTOM[i] = tomnorm['max'][i-30].values - tomnorm['min'][i-30].values\n",
    "#     OUTTOM[i] = scale_dict['PHQ'][i-30]\n",
    "# for i in np.arange(60,64):\n",
    "#     SUBTOM[i] = tomnorm['mean'][30+i].values\n",
    "#     DIVTOM[i] = tomnorm['max'][30+i].values - tomnorm['min'][30+i].values\n",
    "for i in range(30): \n",
    "    SUBTOM[i] = subT[i]; \n",
    "    DIVTOM[i] = divT[i]; \n",
    "    OUTTOM[i] = scale_dict['TPHYSTND'][i]\n",
    "for i in np.arange(30,60): \n",
    "    SUBTOM[i] = subQ[i-30]; \n",
    "    DIVTOM[i] = divQ[i-30]; \n",
    "    OUTTOM[i] = scale_dict['PHQ'][i-30]\n",
    "for i in np.arange(60,64): \n",
    "    SUBTOM[i] = sub[i]; DIVTOM[i] = div[i]"
   ]
  },
  {
   "cell_type": "code",
   "execution_count": 49,
   "metadata": {},
   "outputs": [],
   "source": [
    "path_txt = '/DFS-L/DATA/pritchard/tbeucler/For_Jerry/TXT_DATA/'\n",
    "path_sub = path_txt + 'inp_sub_Specificm4K.txt'\n",
    "path_div = path_txt + 'inp_div_Specificm4K.txt'\n",
    "path_out = path_txt + 'out_scale_Specificm4K.txt'"
   ]
  },
  {
   "cell_type": "code",
   "execution_count": 50,
   "metadata": {},
   "outputs": [],
   "source": [
    "# with open(path_sub, 'w') as f:\n",
    "#     for i in range(64):\n",
    "#         f.write('%01.18e'%SUBTOM[i]+'\\n')"
   ]
  },
  {
   "cell_type": "code",
   "execution_count": 51,
   "metadata": {},
   "outputs": [],
   "source": [
    "# with open(path_div, 'w') as f:\n",
    "#     for i in range(64):\n",
    "#         f.write('%01.18e'%DIVTOM[i]+'\\n')"
   ]
  },
  {
   "cell_type": "code",
   "execution_count": 52,
   "metadata": {},
   "outputs": [],
   "source": [
    "# with open(path_out, 'w') as f:\n",
    "#     for i in range(60):\n",
    "#         f.write('%01.18e'%OUTTOM[i]+'\\n')"
   ]
  },
  {
   "cell_type": "code",
   "execution_count": 53,
   "metadata": {},
   "outputs": [],
   "source": [
    "DIVT = (pd.read_csv(path_div, sep=\" \", header=None).values)[:,0]\n",
    "SUBT = (pd.read_csv(path_sub, sep=\" \", header=None).values)[:,0]\n",
    "OUTT = (pd.read_csv(path_out, sep=\" \", header=None).values)[:,0]"
   ]
  },
  {
   "cell_type": "code",
   "execution_count": 54,
   "metadata": {},
   "outputs": [
    {
     "data": {
      "text/plain": [
       "<matplotlib.legend.Legend at 0x7f25d28f5940>"
      ]
     },
     "execution_count": 54,
     "metadata": {},
     "output_type": "execute_result"
    },
    {
     "data": {
      "image/png": "[encoded data removed]",
      "text/plain": [
       "<Figure size 1080x504 with 1 Axes>"
      ]
     },
     "metadata": {
      "needs_background": "light"
     },
     "output_type": "display_data"
    }
   ],
   "source": [
    "fig,ax = plt.subplots(1,1,figsize=(15,7))\n",
    "\n",
    "plt.plot(SUBT[30:60],SUB[0][30:60],label='Jerry norm')\n",
    "plt.plot(SUBT[30:60],Raspnorm['mean'][:30].values,label='Rasp norm')\n",
    "plt.plot(SUBT[30:60],tomnorm['mean'][:30].values,color='k',zorder=0,label='1-to-1 line')\n",
    "plt.xlabel('Tom norm')\n",
    "plt.ylabel('Other norms')\n",
    "plt.title('QBP')\n",
    "plt.legend()"
   ]
  },
  {
   "cell_type": "markdown",
   "metadata": {},
   "source": [
    "### Extract and save norm for RH network"
   ]
  },
  {
   "cell_type": "code",
   "execution_count": 33,
   "metadata": {},
   "outputs": [],
   "source": [
    "sub = train_gen_RH.input_transform.sub\n",
    "div = train_gen_RH.input_transform.div\n",
    "subQ = sub[30:60]; divQ = div[30:60]\n",
    "subT = sub[:30]; divT = div[:30]\n",
    "subPS = sub[60]; divPS = div[60]\n",
    "subS0 = sub[61]; divS0 = div[61]\n",
    "subSHF = sub[62]; divSHF = div[62]\n",
    "subLHF = sub[63]; divLHF = div[63]"
   ]
  },
  {
   "cell_type": "code",
   "execution_count": 34,
   "metadata": {},
   "outputs": [
    {
     "data": {
      "text/plain": [
       "array([0.08771713, 0.14805274, 0.14172984, 0.06804938, 0.06643728,\n",
       "       0.07139269, 0.1583852 , 0.23619738, 0.21669908, 0.23235418,\n",
       "       0.28699058, 0.35586399, 0.42467885, 0.4722922 , 0.50655441,\n",
       "       0.54865186, 0.57714915, 0.5890316 , 0.58418539, 0.58264578,\n",
       "       0.61462287, 0.7056973 , 0.83321016, 0.88314484, 0.90395834,\n",
       "       0.90671017, 0.89410756, 0.86893327, 0.83477947, 0.83341838])"
      ]
     },
     "execution_count": 34,
     "metadata": {},
     "output_type": "execute_result"
    }
   ],
   "source": [
    "subQ"
   ]
  },
  {
   "cell_type": "code",
   "execution_count": 35,
   "metadata": {},
   "outputs": [],
   "source": [
    "for i in range(30): \n",
    "    SUBRH[i] = subT[i]; \n",
    "    DIVRH[i] = divT[i]; \n",
    "    OUTRH[i] = scale_dict['TPHYSTND'][i]\n",
    "for i in np.arange(30,60): \n",
    "    SUBRH[i] = subQ[i-30]; \n",
    "    DIVRH[i] = divQ[i-30]; \n",
    "    OUTRH[i] = scale_dict['PHQ'][i-30]\n",
    "for i in np.arange(60,64): \n",
    "    SUBRH[i] = sub[i]; DIVRH[i] = div[i]"
   ]
  },
  {
   "cell_type": "code",
   "execution_count": 36,
   "metadata": {},
   "outputs": [],
   "source": [
    "path_txt = '/DFS-L/DATA/pritchard/tbeucler/For_Jerry/TXT_DATA/'\n",
    "path_sub = path_txt + 'inp_sub_Relativem4K.txt'\n",
    "path_div = path_txt + 'inp_div_Relativem4K.txt'\n",
    "path_out = path_txt + 'out_scale_Relativem4K.txt'"
   ]
  },
  {
   "cell_type": "code",
   "execution_count": 37,
   "metadata": {},
   "outputs": [],
   "source": [
    "with open(path_sub, 'w') as f:\n",
    "    for i in range(64):\n",
    "        f.write('%01.18e'%SUBRH[i]+'\\n')\n",
    "\n",
    "with open(path_div, 'w') as f:\n",
    "    for i in range(64):\n",
    "        f.write('%01.18e'%DIVRH[i]+'\\n')\n",
    "\n",
    "with open(path_out, 'w') as f:\n",
    "    for i in range(60):\n",
    "        f.write('%01.18e'%OUTRH[i]+'\\n')"
   ]
  },
  {
   "cell_type": "code",
   "execution_count": 55,
   "metadata": {},
   "outputs": [
    {
     "data": {
      "text/plain": [
       "<matplotlib.legend.Legend at 0x7f25d27c8080>"
      ]
     },
     "execution_count": 55,
     "metadata": {},
     "output_type": "execute_result"
    },
    {
     "data": {
      "image/png": "[encoded data removed]",
      "text/plain": [
       "<Figure size 1080x504 with 1 Axes>"
      ]
     },
     "metadata": {
      "needs_background": "light"
     },
     "output_type": "display_data"
    },
    {
     "data": {
      "image/png": "[encoded data removed]",
      "text/plain": [
       "<Figure size 1080x504 with 1 Axes>"
      ]
     },
     "metadata": {
      "needs_background": "light"
     },
     "output_type": "display_data"
    }
   ],
   "source": [
    "DIVT2 = (pd.read_csv(path_div, sep=\" \", header=None).values)[:,0]\n",
    "SUBT2 = (pd.read_csv(path_sub, sep=\" \", header=None).values)[:,0]\n",
    "OUTT2 = (pd.read_csv(path_out, sep=\" \", header=None).values)[:,0]\n",
    "\n",
    "fig,ax = plt.subplots(1,1,figsize=(15,7))\n",
    "\n",
    "plt.plot(SUBT2[30:60],SUB[0][30:60],label='Jerry norm')\n",
    "plt.plot(SUBT2[30:60],Raspnorm['mean'][:30].values,label='Rasp norm')\n",
    "plt.plot(SUBT2[30:60],SUBT[30:60],label='Q norm')\n",
    "plt.plot(SUBT2[30:60],tomnorm['mean'][:30].values,color='k',zorder=0,label='1-to-1 line')\n",
    "plt.xlabel('Tom norm')\n",
    "plt.ylabel('Other norms')\n",
    "plt.title('QBP')\n",
    "plt.legend()\n",
    "\n",
    "fig,ax = plt.subplots(1,1,figsize=(15,7))\n",
    "\n",
    "plt.plot(SUBT2[:30],SUB[0][:30],label='Jerry norm')\n",
    "plt.plot(SUBT2[:30],Raspnorm['mean'][90:120].values,label='Rasp norm')\n",
    "plt.plot(SUBT2[:30],tomnorm['mean'][30:60].values,color='k',zorder=0,label='1-to-1 line')\n",
    "plt.plot(SUBT2[:30],SUBT[:30],label='Q norm')\n",
    "plt.xlabel('Tom norm')\n",
    "plt.ylabel('Other norms')\n",
    "plt.title('TBP')\n",
    "plt.legend()"
   ]
  },
  {
   "cell_type": "markdown",
   "metadata": {},
   "source": [
    "# Training Q-models"
   ]
  },
  {
   "cell_type": "markdown",
   "metadata": {},
   "source": [
    "## Standard brute-force training from the climate-invariant paper"
   ]
  },
  {
   "cell_type": "code",
   "execution_count": 11,
   "metadata": {},
   "outputs": [],
   "source": [
    "in_vars = ['TBP','QBP','PS','SOLIN','SHFLX','LHFLX'] # We take the large-scale climate state as inputs\n",
    "out_vars = ['TPHYSTND','PHQ'] # and we output the response of clouds/storms to these climate conditions"
   ]
  },
  {
   "cell_type": "code",
   "execution_count": 12,
   "metadata": {},
   "outputs": [],
   "source": [
    "def Generator_singleDS(path,rescaling=None):\n",
    "    \n",
    "    in_vars = ['TBP','QBP','PS','SOLIN','SHFLX','LHFLX'] # We take the large-scale climate state as inputs\n",
    "    out_vars = ['TPHYSTND','PHQ'] # and we output the response of clouds/storms to these climate conditionspath_input_norm = path_data + '2021_01_24_NORM_O3_small.nc'\n",
    "    scale_dict = pickle.load(open(path_data+'009_Wm2_scaling.pkl','rb'))\n",
    "    \n",
    "    if rescaling=='CI':\n",
    "        gen = DataGeneratorCI(\n",
    "        data_fn = path,\n",
    "        input_vars = in_vars,\n",
    "        output_vars = out_vars,\n",
    "        norm_fn = path_input_norm,\n",
    "        batch_size=8192,\n",
    "        input_transform = ('mean', 'maxrs'),\n",
    "        output_transform = scale_dict,\n",
    "        Qscaling = 'RH',\n",
    "        Tscaling = 'BMSE',\n",
    "        LHFscaling = 'LHF_nsDELQ',\n",
    "        hyam=hyam, hybm=hybm, # Arrays to define mid-levels of hybrid vertical coordinate\n",
    "        inp_sub_Qscaling=train_gen_RH.input_transform.sub, # What to subtract from RH inputs\n",
    "        inp_div_Qscaling=train_gen_RH.input_transform.div, # What to divide RH inputs by\n",
    "        inp_sub_Tscaling=train_gen_BMSE.input_transform.sub,\n",
    "        inp_div_Tscaling=train_gen_BMSE.input_transform.div,\n",
    "        inp_sub_LHFscaling=train_gen_LHF_nsDELQ.input_transform.sub,\n",
    "        inp_div_LHFscaling=train_gen_LHF_nsDELQ.input_transform.div\n",
    "        ) \n",
    "    else:\n",
    "        gen = DataGeneratorCI(\n",
    "        data_fn = path,\n",
    "        input_vars = in_vars,\n",
    "        output_vars = out_vars,\n",
    "        norm_fn = path_input_norm,\n",
    "        batch_size=8192,\n",
    "        input_transform = ('mean', 'maxrs'),\n",
    "        output_transform = scale_dict\n",
    "        )\n",
    "\n",
    "    return gen "
   ]
  },
  {
   "cell_type": "code",
   "execution_count": 14,
   "metadata": {},
   "outputs": [
    {
     "name": "stdout",
     "output_type": "stream",
     "text": [
      "Climate =  cold\n",
      "Set =  train\n",
      "Set =  valid\n",
      "Set =  test\n",
      "Climate =  hot\n",
      "Set =  train\n",
      "Set =  valid\n",
      "Set =  test\n"
     ]
    }
   ],
   "source": [
    "BFgen = {}\n",
    "#CIgen = {}\n",
    "\n",
    "for iclimate,clim in enumerate(['cold','hot']):\n",
    "    print('Climate = ',clim)\n",
    "    BFgen[clim] = {}\n",
    "#    CIgen[clim] = {}\n",
    "    \n",
    "    for iset,st in enumerate(['train','valid','test']):\n",
    "        print('Set = ',st)\n",
    "        \n",
    "        BFgen[clim][st] = Generator_singleDS(path_array[clim][iset])\n",
    "#        CIgen[clim][st] = Generator_singleDS(path_array[clim][iset],rescaling='CI')"
   ]
  },
  {
   "cell_type": "code",
   "execution_count": 15,
   "metadata": {},
   "outputs": [],
   "source": [
    "def NN_model(inp,N_layer):\n",
    "    if N_layer>0:\n",
    "        densout = Dense(128, activation='linear')(inp)\n",
    "        densout = LeakyReLU(alpha=0.3)(densout)\n",
    "    else: dense_out = Dense(120, activation='linear')(inp)\n",
    "    for i in range (N_layer-1):\n",
    "        densout = Dense(128, activation='linear')(densout)\n",
    "        densout = LeakyReLU(alpha=0.3)(densout)\n",
    "    if N_layer>0: dense_out = Dense(60, activation='linear')(densout)\n",
    "    return tf.keras.models.Model(inp, dense_out)"
   ]
  },
  {
   "cell_type": "code",
   "execution_count": 10,
   "metadata": {},
   "outputs": [],
   "source": [
    "inpBF = Input(shape=(64,)) ## input \n",
    "NN_BF = NN_model(inpBF,7)"
   ]
  },
  {
   "cell_type": "code",
   "execution_count": 11,
   "metadata": {},
   "outputs": [],
   "source": [
    "NN_BF.compile(tf.keras.optimizers.Adam(), loss=mse)"
   ]
  },
  {
   "cell_type": "code",
   "execution_count": 16,
   "metadata": {},
   "outputs": [],
   "source": [
    "path_HDF5 = '/DFS-L/DATA/pritchard/tbeucler/SPCAM/HDF5_DATA/'\n",
    "new_save_name = '2022_07_30_NN_BF_m4K'\n",
    "save_name = '2022_07_25_NN_BF_m4K'"
   ]
  },
  {
   "cell_type": "code",
   "execution_count": 13,
   "metadata": {},
   "outputs": [],
   "source": [
    "earlyStopping = EarlyStopping(monitor='val_loss', patience=10, verbose=0, mode='min')\n",
    "mcp_save_BF = ModelCheckpoint(path_HDF5+new_save_name+'_BF.hdf5',save_best_only=True, monitor='val_loss', mode='min')"
   ]
  },
  {
   "cell_type": "code",
   "execution_count": 14,
   "metadata": {},
   "outputs": [],
   "source": [
    "NN_BF.load_weights(path_HDF5+save_name+'_BF.hdf5')"
   ]
  },
  {
   "cell_type": "code",
   "execution_count": 50,
   "metadata": {},
   "outputs": [],
   "source": [
    "Nep = 20"
   ]
  },
  {
   "cell_type": "code",
   "execution_count": 51,
   "metadata": {},
   "outputs": [
    {
     "name": "stdout",
     "output_type": "stream",
     "text": [
      "Epoch 1/20\n",
      "5759/5759 [==============================] - 1392s 242ms/step - loss: 409.3990 - val_loss: 385.6279\n",
      "Epoch 2/20\n",
      "5759/5759 [==============================] - 544s 94ms/step - loss: 375.3134 - val_loss: 368.5188\n",
      "Epoch 3/20\n",
      "5759/5759 [==============================] - 542s 94ms/step - loss: 363.5546 - val_loss: 359.5259\n",
      "Epoch 4/20\n",
      "5759/5759 [==============================] - 543s 94ms/step - loss: 356.7032 - val_loss: 357.3547\n",
      "Epoch 5/20\n",
      "5759/5759 [==============================] - 562s 98ms/step - loss: 352.4467 - val_loss: 352.7780\n",
      "Epoch 6/20\n",
      "5759/5759 [==============================] - 561s 97ms/step - loss: 349.7054 - val_loss: 349.4039\n",
      "Epoch 7/20\n",
      "5759/5759 [==============================] - 556s 96ms/step - loss: 347.2613 - val_loss: 346.9410\n",
      "Epoch 8/20\n",
      "5759/5759 [==============================] - 561s 97ms/step - loss: 345.2908 - val_loss: 344.7684\n",
      "Epoch 9/20\n",
      "5759/5759 [==============================] - 553s 96ms/step - loss: 343.8586 - val_loss: 342.4345\n",
      "Epoch 10/20\n",
      "5759/5759 [==============================] - 539s 94ms/step - loss: 342.7474 - val_loss: 342.0292\n",
      "Epoch 11/20\n",
      "5759/5759 [==============================] - 569s 99ms/step - loss: 341.7544 - val_loss: 343.4404\n",
      "Epoch 12/20\n",
      "5759/5759 [==============================] - 567s 98ms/step - loss: 340.9712 - val_loss: 344.7992\n",
      "Epoch 13/20\n",
      "5759/5759 [==============================] - 556s 97ms/step - loss: 340.2058 - val_loss: 341.5093\n",
      "Epoch 14/20\n",
      "5759/5759 [==============================] - 571s 99ms/step - loss: 339.5230 - val_loss: 339.4343\n",
      "Epoch 15/20\n",
      "5759/5759 [==============================] - 578s 100ms/step - loss: 338.9436 - val_loss: 339.2900\n",
      "Epoch 16/20\n",
      "5759/5759 [==============================] - 584s 101ms/step - loss: 338.3387 - val_loss: 340.9522\n",
      "Epoch 17/20\n",
      "5759/5759 [==============================] - 575s 100ms/step - loss: 337.6983 - val_loss: 337.3130\n",
      "Epoch 18/20\n",
      "5759/5759 [==============================] - 570s 99ms/step - loss: 337.0764 - val_loss: 340.5688\n",
      "Epoch 19/20\n",
      "5759/5759 [==============================] - 569s 99ms/step - loss: 336.4951 - val_loss: 336.1258\n",
      "Epoch 20/20\n",
      "5759/5759 [==============================] - 560s 97ms/step - loss: 335.9689 - val_loss: 337.4949\n"
     ]
    },
    {
     "data": {
      "text/plain": [
       "<tensorflow.python.keras.callbacks.History at 0x7f4a1020fc88>"
      ]
     },
     "execution_count": 51,
     "metadata": {},
     "output_type": "execute_result"
    }
   ],
   "source": [
    "# NN_BF.fit_generator(BFgen['cold']['train'], epochs=Nep, validation_data=BFgen['cold']['valid'],\n",
    "#                      callbacks=[earlyStopping, mcp_save_BF])"
   ]
  },
  {
   "cell_type": "code",
   "execution_count": 52,
   "metadata": {},
   "outputs": [
    {
     "name": "stdout",
     "output_type": "stream",
     "text": [
      "Epoch 1/20\n",
      "5759/5759 [==============================] - 576s 100ms/step - loss: 335.5791 - val_loss: 337.4262\n",
      "Epoch 2/20\n",
      "5759/5759 [==============================] - 590s 102ms/step - loss: 335.2313 - val_loss: 337.5208\n",
      "Epoch 3/20\n",
      "5759/5759 [==============================] - 573s 100ms/step - loss: 334.8578 - val_loss: 336.2839\n",
      "Epoch 4/20\n",
      "5759/5759 [==============================] - 575s 100ms/step - loss: 334.5395 - val_loss: 334.6838\n",
      "Epoch 5/20\n",
      "5759/5759 [==============================] - 592s 103ms/step - loss: 334.1826 - val_loss: 334.7820\n",
      "Epoch 6/20\n",
      "5759/5759 [==============================] - 580s 101ms/step - loss: 333.8586 - val_loss: 334.8297\n",
      "Epoch 7/20\n",
      "5759/5759 [==============================] - 582s 101ms/step - loss: 333.6464 - val_loss: 335.0807\n",
      "Epoch 8/20\n",
      "5759/5759 [==============================] - 586s 102ms/step - loss: 333.3572 - val_loss: 335.1204\n",
      "Epoch 9/20\n",
      "5759/5759 [==============================] - 591s 103ms/step - loss: 333.1583 - val_loss: 333.9345\n",
      "Epoch 10/20\n",
      "5759/5759 [==============================] - 563s 98ms/step - loss: 332.8754 - val_loss: 334.0892\n",
      "Epoch 11/20\n",
      "5759/5759 [==============================] - 593s 103ms/step - loss: 332.6605 - val_loss: 332.8111\n",
      "Epoch 12/20\n",
      "5759/5759 [==============================] - 590s 102ms/step - loss: 332.4664 - val_loss: 333.3720\n",
      "Epoch 13/20\n",
      "5759/5759 [==============================] - 588s 102ms/step - loss: 332.2136 - val_loss: 333.3961\n",
      "Epoch 14/20\n",
      "5759/5759 [==============================] - 589s 102ms/step - loss: 332.0782 - val_loss: 333.6059\n",
      "Epoch 15/20\n",
      "5759/5759 [==============================] - 585s 102ms/step - loss: 331.8242 - val_loss: 334.1641\n",
      "Epoch 16/20\n",
      "5759/5759 [==============================] - 577s 100ms/step - loss: 331.7091 - val_loss: 332.9608\n",
      "Epoch 17/20\n",
      "5759/5759 [==============================] - 571s 99ms/step - loss: 331.5256 - val_loss: 332.2708\n",
      "Epoch 18/20\n",
      "5759/5759 [==============================] - 578s 100ms/step - loss: 331.3658 - val_loss: 333.7496\n",
      "Epoch 19/20\n",
      "5759/5759 [==============================] - 579s 101ms/step - loss: 331.2175 - val_loss: 332.4848\n",
      "Epoch 20/20\n",
      "5759/5759 [==============================] - 570s 99ms/step - loss: 331.0502 - val_loss: 333.6321\n"
     ]
    },
    {
     "data": {
      "text/plain": [
       "<tensorflow.python.keras.callbacks.History at 0x7f4a10446a20>"
      ]
     },
     "execution_count": 52,
     "metadata": {},
     "output_type": "execute_result"
    }
   ],
   "source": [
    "# NN_BF.fit_generator(BFgen['cold']['train'], epochs=Nep, validation_data=BFgen['cold']['valid'],\n",
    "#                      callbacks=[earlyStopping, mcp_save_BF])"
   ]
  },
  {
   "cell_type": "code",
   "execution_count": 53,
   "metadata": {},
   "outputs": [
    {
     "name": "stdout",
     "output_type": "stream",
     "text": [
      "Epoch 1/20\n",
      "5759/5759 [==============================] - 540s 94ms/step - loss: 330.8930 - val_loss: 332.8144\n",
      "Epoch 2/20\n",
      "5759/5759 [==============================] - 597s 104ms/step - loss: 330.7885 - val_loss: 333.3497\n",
      "Epoch 3/20\n",
      "5759/5759 [==============================] - 605s 105ms/step - loss: 330.6589 - val_loss: 333.2262\n",
      "Epoch 4/20\n",
      "5759/5759 [==============================] - 591s 103ms/step - loss: 330.4752 - val_loss: 332.7113\n",
      "Epoch 5/20\n",
      "5759/5759 [==============================] - 594s 103ms/step - loss: 330.3567 - val_loss: 332.5110\n",
      "Epoch 6/20\n",
      "5759/5759 [==============================] - 576s 100ms/step - loss: 330.2597 - val_loss: 333.2440\n",
      "Epoch 7/20\n",
      "5759/5759 [==============================] - 602s 105ms/step - loss: 330.0780 - val_loss: 332.2010\n",
      "Epoch 8/20\n",
      "5759/5759 [==============================] - 607s 105ms/step - loss: 330.0397 - val_loss: 331.5011\n",
      "Epoch 9/20\n",
      "5759/5759 [==============================] - 631s 110ms/step - loss: 329.8889 - val_loss: 331.8976\n",
      "Epoch 10/20\n",
      "5759/5759 [==============================] - 633s 110ms/step - loss: 329.8180 - val_loss: 331.2989\n",
      "Epoch 11/20\n",
      "5759/5759 [==============================] - 733s 127ms/step - loss: 329.7122 - val_loss: 331.3612\n",
      "Epoch 12/20\n",
      "5759/5759 [==============================] - 600s 104ms/step - loss: 329.5986 - val_loss: 331.6586\n",
      "Epoch 13/20\n",
      "5759/5759 [==============================] - 452s 79ms/step - loss: 329.4772 - val_loss: 331.6601\n",
      "Epoch 14/20\n",
      "5759/5759 [==============================] - 517s 90ms/step - loss: 329.3541 - val_loss: 331.5038\n",
      "Epoch 15/20\n",
      "5759/5759 [==============================] - 513s 89ms/step - loss: 329.2391 - val_loss: 331.7829\n",
      "Epoch 16/20\n",
      "5759/5759 [==============================] - 503s 87ms/step - loss: 329.1880 - val_loss: 330.7263\n",
      "Epoch 17/20\n",
      "5759/5759 [==============================] - 522s 91ms/step - loss: 329.1042 - val_loss: 330.9461\n",
      "Epoch 18/20\n",
      "5759/5759 [==============================] - 527s 92ms/step - loss: 329.0140 - val_loss: 331.1438\n",
      "Epoch 19/20\n",
      "5759/5759 [==============================] - 522s 91ms/step - loss: 328.9157 - val_loss: 331.3826\n",
      "Epoch 20/20\n",
      "5759/5759 [==============================] - 517s 90ms/step - loss: 328.8445 - val_loss: 330.9631\n"
     ]
    },
    {
     "data": {
      "text/plain": [
       "<tensorflow.python.keras.callbacks.History at 0x7f4a101c48d0>"
      ]
     },
     "execution_count": 53,
     "metadata": {},
     "output_type": "execute_result"
    }
   ],
   "source": [
    "# NN_BF.fit_generator(BFgen['cold']['train'], epochs=Nep, validation_data=BFgen['cold']['valid'],\n",
    "#                      callbacks=[earlyStopping, mcp_save_BF])"
   ]
  },
  {
   "cell_type": "code",
   "execution_count": 15,
   "metadata": {},
   "outputs": [],
   "source": [
    "Nep = 60"
   ]
  },
  {
   "cell_type": "code",
   "execution_count": 16,
   "metadata": {},
   "outputs": [
    {
     "name": "stdout",
     "output_type": "stream",
     "text": [
      "Epoch 1/60\n",
      "5903/5903 [==============================] - 1490s 252ms/step - loss: 331.1007 - val_loss: 328.7606\n",
      "Epoch 2/60\n",
      "5903/5903 [==============================] - 606s 103ms/step - loss: 330.5713 - val_loss: 328.7617\n",
      "Epoch 3/60\n",
      "5903/5903 [==============================] - 591s 100ms/step - loss: 330.3325 - val_loss: 329.8306\n",
      "Epoch 4/60\n",
      "5903/5903 [==============================] - 610s 103ms/step - loss: 330.1542 - val_loss: 331.0607\n",
      "Epoch 5/60\n",
      "5903/5903 [==============================] - 599s 101ms/step - loss: 330.0238 - val_loss: 329.6670\n",
      "Epoch 6/60\n",
      "5903/5903 [==============================] - 613s 104ms/step - loss: 329.8073 - val_loss: 329.6990\n",
      "Epoch 7/60\n",
      "5903/5903 [==============================] - 640s 108ms/step - loss: 329.6210 - val_loss: 331.6836\n",
      "Epoch 8/60\n",
      "5903/5903 [==============================] - 772s 131ms/step - loss: 329.4976 - val_loss: 330.3573\n",
      "Epoch 9/60\n",
      "5903/5903 [==============================] - 756s 128ms/step - loss: 329.4372 - val_loss: 329.2629\n",
      "Epoch 10/60\n",
      "5903/5903 [==============================] - 748s 127ms/step - loss: 329.2584 - val_loss: 329.4031\n",
      "Epoch 11/60\n",
      "5903/5903 [==============================] - 838s 142ms/step - loss: 329.1980 - val_loss: 330.2383\n"
     ]
    },
    {
     "data": {
      "text/plain": [
       "<tensorflow.python.keras.callbacks.History at 0x7fc47205eeb8>"
      ]
     },
     "execution_count": 16,
     "metadata": {},
     "output_type": "execute_result"
    }
   ],
   "source": [
    "NN_BF.fit_generator(BFgen['cold']['valid'], epochs=Nep, validation_data=BFgen['cold']['train'],\n",
    "                     callbacks=[earlyStopping, mcp_save_BF])"
   ]
  },
  {
   "cell_type": "code",
   "execution_count": 17,
   "metadata": {},
   "outputs": [
    {
     "name": "stdout",
     "output_type": "stream",
     "text": [
      "Epoch 1/60\n",
      "5903/5903 [==============================] - 769s 130ms/step - loss: 329.0790 - val_loss: 329.4198\n",
      "Epoch 2/60\n",
      "5903/5903 [==============================] - 891s 151ms/step - loss: 328.9034 - val_loss: 330.2884\n",
      "Epoch 3/60\n",
      "5903/5903 [==============================] - 806s 137ms/step - loss: 328.8338 - val_loss: 328.5774\n",
      "Epoch 4/60\n",
      "5903/5903 [==============================] - 760s 129ms/step - loss: 328.7323 - val_loss: 331.2501\n",
      "Epoch 5/60\n",
      "5903/5903 [==============================] - 706s 120ms/step - loss: 328.5856 - val_loss: 329.0077\n",
      "Epoch 6/60\n",
      "5903/5903 [==============================] - 632s 107ms/step - loss: 328.4981 - val_loss: 330.6399\n",
      "Epoch 7/60\n",
      "5903/5903 [==============================] - 629s 106ms/step - loss: 328.4447 - val_loss: 328.1073\n",
      "Epoch 8/60\n",
      "5903/5903 [==============================] - 623s 106ms/step - loss: 328.4212 - val_loss: 329.9401\n",
      "Epoch 9/60\n",
      "5903/5903 [==============================] - 625s 106ms/step - loss: 328.2681 - val_loss: 331.4977\n",
      "Epoch 10/60\n",
      "5903/5903 [==============================] - 627s 106ms/step - loss: 328.2360 - val_loss: 329.6385\n",
      "Epoch 11/60\n",
      "5903/5903 [==============================] - 638s 108ms/step - loss: 328.1127 - val_loss: 328.8938\n",
      "Epoch 12/60\n",
      "5903/5903 [==============================] - 645s 109ms/step - loss: 328.0738 - val_loss: 328.6729\n",
      "Epoch 13/60\n",
      "5903/5903 [==============================] - 725s 123ms/step - loss: 327.9558 - val_loss: 329.1110\n",
      "Epoch 14/60\n",
      "5903/5903 [==============================] - 871s 148ms/step - loss: 327.8724 - val_loss: 329.3054\n",
      "Epoch 15/60\n",
      "5903/5903 [==============================] - 791s 134ms/step - loss: 327.8874 - val_loss: 329.1249\n",
      "Epoch 16/60\n",
      "5903/5903 [==============================] - 877s 149ms/step - loss: 327.8114 - val_loss: 331.5559\n",
      "Epoch 17/60\n",
      "5903/5903 [==============================] - 808s 137ms/step - loss: 327.7048 - val_loss: 328.4577\n"
     ]
    },
    {
     "data": {
      "text/plain": [
       "<tensorflow.python.keras.callbacks.History at 0x7fc4bcddb2e8>"
      ]
     },
     "execution_count": 17,
     "metadata": {},
     "output_type": "execute_result"
    }
   ],
   "source": [
    "NN_BF.fit_generator(BFgen['cold']['valid'], epochs=Nep, validation_data=BFgen['cold']['train'],\n",
    "                     callbacks=[earlyStopping, mcp_save_BF])"
   ]
  },
  {
   "cell_type": "markdown",
   "metadata": {},
   "source": [
    "## Strong L1 regularization"
   ]
  },
  {
   "cell_type": "code",
   "execution_count": 25,
   "metadata": {},
   "outputs": [],
   "source": [
    "def NN_model(inp,N_layer,l1):\n",
    "    if N_layer>0:\n",
    "        densout = Dense(128, activation='linear',kernel_regularizer=regularizers.l1(l1))(inp)\n",
    "        densout = LeakyReLU(alpha=0.3)(densout)\n",
    "    else: dense_out = Dense(60, activation='linear',kernel_regularizer=regularizers.l1(l1))(inp)\n",
    "    for i in range (N_layer-1):\n",
    "        densout = Dense(128, activation='linear',kernel_regularizer=regularizers.l1(l1))(densout)\n",
    "        densout = LeakyReLU(alpha=0.3)(densout)\n",
    "    if N_layer>0: dense_out = Dense(60, activation='linear',kernel_regularizer=regularizers.l1(l1))(densout)\n",
    "    return tf.keras.models.Model(inp, dense_out)"
   ]
  },
  {
   "cell_type": "code",
   "execution_count": 26,
   "metadata": {},
   "outputs": [],
   "source": [
    "inpBF1 = Input(shape=(64,)) ## input \n",
    "NN_BF1 = NN_model(inpBF1,7,0.05)"
   ]
  },
  {
   "cell_type": "code",
   "execution_count": 27,
   "metadata": {},
   "outputs": [],
   "source": [
    "NN_BF1.compile(tf.keras.optimizers.Adam(), loss=mse)"
   ]
  },
  {
   "cell_type": "code",
   "execution_count": 28,
   "metadata": {},
   "outputs": [],
   "source": [
    "NN_BF1.load_weights(path_HDF5+save_name+'_BF.hdf5')"
   ]
  },
  {
   "cell_type": "code",
   "execution_count": 29,
   "metadata": {},
   "outputs": [],
   "source": [
    "L1_save_name = '2022_07_30_NN_BF_m4K_L1'"
   ]
  },
  {
   "cell_type": "code",
   "execution_count": 30,
   "metadata": {},
   "outputs": [],
   "source": [
    "earlyStopping = EarlyStopping(monitor='val_loss', patience=10, verbose=0, mode='min')\n",
    "mcp_save_BF = ModelCheckpoint(path_HDF5+L1_save_name+'_BF.hdf5',save_best_only=True, monitor='val_loss', mode='min')\n",
    "\n",
    "Nep = 40"
   ]
  },
  {
   "cell_type": "code",
   "execution_count": 31,
   "metadata": {},
   "outputs": [
    {
     "name": "stdout",
     "output_type": "stream",
     "text": [
      "Epoch 1/40\n",
      "5759/5759 [==============================] - 656s 114ms/step - loss: 672.2384 - val_loss: 489.3609\n",
      "Epoch 2/40\n",
      "5759/5759 [==============================] - 669s 116ms/step - loss: 466.5325 - val_loss: 452.8798\n",
      "Epoch 3/40\n",
      "5759/5759 [==============================] - 681s 118ms/step - loss: 445.0914 - val_loss: 439.2802\n",
      "Epoch 4/40\n",
      "5759/5759 [==============================] - 697s 121ms/step - loss: 435.3466 - val_loss: 432.8159\n",
      "Epoch 5/40\n",
      "5759/5759 [==============================] - 638s 111ms/step - loss: 429.7238 - val_loss: 427.9722\n",
      "Epoch 6/40\n",
      "5759/5759 [==============================] - 636s 110ms/step - loss: 425.9914 - val_loss: 424.4413\n",
      "Epoch 7/40\n",
      "5759/5759 [==============================] - 673s 117ms/step - loss: 423.1605 - val_loss: 421.4091\n",
      "Epoch 8/40\n",
      "5759/5759 [==============================] - 664s 115ms/step - loss: 420.7106 - val_loss: 420.2279\n",
      "Epoch 9/40\n",
      "5759/5759 [==============================] - 676s 117ms/step - loss: 418.7706 - val_loss: 418.7612\n",
      "Epoch 10/40\n",
      "5759/5759 [==============================] - 652s 113ms/step - loss: 417.2428 - val_loss: 415.9463\n",
      "Epoch 11/40\n",
      "5759/5759 [==============================] - 699s 121ms/step - loss: 415.8123 - val_loss: 418.4924\n",
      "Epoch 12/40\n",
      "5759/5759 [==============================] - 672s 117ms/step - loss: 414.6051 - val_loss: 416.9546\n",
      "Epoch 13/40\n",
      "5759/5759 [==============================] - 697s 121ms/step - loss: 413.6012 - val_loss: 412.7617\n",
      "Epoch 14/40\n",
      "5759/5759 [==============================] - 666s 116ms/step - loss: 412.7646 - val_loss: 412.3178\n",
      "Epoch 15/40\n",
      "5759/5759 [==============================] - 678s 118ms/step - loss: 411.8871 - val_loss: 411.1320\n",
      "Epoch 16/40\n",
      "5759/5759 [==============================] - 658s 114ms/step - loss: 411.0975 - val_loss: 411.9933\n",
      "Epoch 17/40\n",
      "5759/5759 [==============================] - 666s 116ms/step - loss: 410.4823 - val_loss: 411.9736\n",
      "Epoch 18/40\n",
      "5759/5759 [==============================] - 695s 121ms/step - loss: 409.9464 - val_loss: 410.8091\n",
      "Epoch 19/40\n",
      "5759/5759 [==============================] - 675s 117ms/step - loss: 409.5544 - val_loss: 411.4612\n",
      "Epoch 20/40\n",
      "5759/5759 [==============================] - 654s 114ms/step - loss: 409.1592 - val_loss: 410.0159\n",
      "Epoch 21/40\n",
      "5759/5759 [==============================] - 661s 115ms/step - loss: 408.8354 - val_loss: 413.8703\n",
      "Epoch 22/40\n",
      "5759/5759 [==============================] - 673s 117ms/step - loss: 408.5321 - val_loss: 409.6327\n",
      "Epoch 23/40\n",
      "5759/5759 [==============================] - 693s 120ms/step - loss: 408.1313 - val_loss: 407.7268\n",
      "Epoch 24/40\n",
      "5759/5759 [==============================] - 658s 114ms/step - loss: 407.9005 - val_loss: 407.1923\n",
      "Epoch 25/40\n",
      "5759/5759 [==============================] - 660s 115ms/step - loss: 407.5608 - val_loss: 408.0086\n",
      "Epoch 26/40\n",
      "5759/5759 [==============================] - 672s 117ms/step - loss: 407.2971 - val_loss: 407.5784\n",
      "Epoch 27/40\n",
      "5759/5759 [==============================] - 670s 116ms/step - loss: 407.0118 - val_loss: 408.1861\n",
      "Epoch 28/40\n",
      "5759/5759 [==============================] - 654s 114ms/step - loss: 406.7019 - val_loss: 406.7889\n",
      "Epoch 29/40\n",
      "5759/5759 [==============================] - 663s 115ms/step - loss: 406.4586 - val_loss: 407.0808\n",
      "Epoch 30/40\n",
      "5759/5759 [==============================] - 667s 116ms/step - loss: 406.1704 - val_loss: 405.8756\n",
      "Epoch 31/40\n",
      "5759/5759 [==============================] - 712s 124ms/step - loss: 405.9585 - val_loss: 406.7207\n",
      "Epoch 32/40\n",
      "5759/5759 [==============================] - 679s 118ms/step - loss: 405.7722 - val_loss: 406.7194\n",
      "Epoch 33/40\n",
      "5759/5759 [==============================] - 643s 112ms/step - loss: 405.4570 - val_loss: 405.3378\n",
      "Epoch 34/40\n",
      "5759/5759 [==============================] - 655s 114ms/step - loss: 405.2258 - val_loss: 404.7650\n",
      "Epoch 35/40\n",
      "5759/5759 [==============================] - 647s 112ms/step - loss: 404.9740 - val_loss: 405.2242\n",
      "Epoch 36/40\n",
      "5759/5759 [==============================] - 672s 117ms/step - loss: 404.9112 - val_loss: 405.3661\n",
      "Epoch 37/40\n",
      "5759/5759 [==============================] - 652s 113ms/step - loss: 404.6080 - val_loss: 407.8585\n",
      "Epoch 38/40\n",
      "5759/5759 [==============================] - 651s 113ms/step - loss: 404.5287 - val_loss: 405.2530\n",
      "Epoch 39/40\n",
      "5759/5759 [==============================] - 653s 113ms/step - loss: 404.3335 - val_loss: 403.9404\n",
      "Epoch 40/40\n",
      "5759/5759 [==============================] - 662s 115ms/step - loss: 404.1319 - val_loss: 407.6980\n"
     ]
    },
    {
     "data": {
      "text/plain": [
       "<tensorflow.python.keras.callbacks.History at 0x7fc46876ddd8>"
      ]
     },
     "execution_count": 31,
     "metadata": {},
     "output_type": "execute_result"
    }
   ],
   "source": [
    "NN_BF1.fit_generator(BFgen['cold']['train'], epochs=Nep, validation_data=BFgen['cold']['valid'],\n",
    "                     callbacks=[earlyStopping, mcp_save_BF])"
   ]
  },
  {
   "cell_type": "markdown",
   "metadata": {},
   "source": [
    "## Standard L1 regularization"
   ]
  },
  {
   "cell_type": "code",
   "execution_count": 32,
   "metadata": {},
   "outputs": [],
   "source": [
    "inpBF2 = Input(shape=(64,)) ## input \n",
    "NN_BF2 = NN_model(inpBF2,7,0.01)\n",
    "\n",
    "NN_BF2.compile(tf.keras.optimizers.Adam(), loss=mse)\n",
    "\n",
    "NN_BF2.load_weights(path_HDF5+save_name+'_BF.hdf5')\n",
    "\n",
    "L1_save_name = '2022_07_30_NN_BF_m4K_L1_standard'\n",
    "\n",
    "earlyStopping = EarlyStopping(monitor='val_loss', patience=10, verbose=0, mode='min')\n",
    "mcp_save_BF = ModelCheckpoint(path_HDF5+L1_save_name+'_BF.hdf5',save_best_only=True, monitor='val_loss', mode='min')\n",
    "\n",
    "Nep = 40"
   ]
  },
  {
   "cell_type": "code",
   "execution_count": 33,
   "metadata": {},
   "outputs": [
    {
     "name": "stdout",
     "output_type": "stream",
     "text": [
      "Epoch 1/40\n",
      "5759/5759 [==============================] - 637s 111ms/step - loss: 484.8808 - val_loss: 429.4638\n",
      "Epoch 2/40\n",
      "5759/5759 [==============================] - 671s 117ms/step - loss: 414.6526 - val_loss: 405.8307\n",
      "Epoch 3/40\n",
      "5759/5759 [==============================] - 654s 114ms/step - loss: 398.8990 - val_loss: 395.6879\n",
      "Epoch 4/40\n",
      "5759/5759 [==============================] - 690s 120ms/step - loss: 391.6431 - val_loss: 389.9996\n",
      "Epoch 5/40\n",
      "5759/5759 [==============================] - 685s 119ms/step - loss: 387.3362 - val_loss: 386.2633\n",
      "Epoch 6/40\n",
      "5759/5759 [==============================] - 643s 112ms/step - loss: 384.2790 - val_loss: 382.9925\n",
      "Epoch 7/40\n",
      "5759/5759 [==============================] - 650s 113ms/step - loss: 382.0439 - val_loss: 381.2663\n",
      "Epoch 8/40\n",
      "5759/5759 [==============================] - 662s 115ms/step - loss: 380.4465 - val_loss: 380.5361\n",
      "Epoch 9/40\n",
      "5759/5759 [==============================] - 663s 115ms/step - loss: 379.0057 - val_loss: 377.6719\n",
      "Epoch 10/40\n",
      "5759/5759 [==============================] - 663s 115ms/step - loss: 377.8689 - val_loss: 377.6093\n",
      "Epoch 11/40\n",
      "5759/5759 [==============================] - 656s 114ms/step - loss: 376.9333 - val_loss: 376.5148\n",
      "Epoch 12/40\n",
      "5759/5759 [==============================] - 661s 115ms/step - loss: 376.1433 - val_loss: 375.9456\n",
      "Epoch 13/40\n",
      "5759/5759 [==============================] - 657s 114ms/step - loss: 375.3434 - val_loss: 375.1173\n",
      "Epoch 14/40\n",
      "5759/5759 [==============================] - 681s 118ms/step - loss: 374.6866 - val_loss: 374.0987\n",
      "Epoch 15/40\n",
      "5759/5759 [==============================] - 649s 113ms/step - loss: 374.1036 - val_loss: 373.5627\n",
      "Epoch 16/40\n",
      "5759/5759 [==============================] - 694s 120ms/step - loss: 373.5792 - val_loss: 373.3469\n",
      "Epoch 17/40\n",
      "5759/5759 [==============================] - 698s 121ms/step - loss: 373.0978 - val_loss: 374.4228\n",
      "Epoch 18/40\n",
      "5759/5759 [==============================] - 694s 121ms/step - loss: 372.6581 - val_loss: 372.4989\n",
      "Epoch 19/40\n",
      "5759/5759 [==============================] - 687s 119ms/step - loss: 372.2579 - val_loss: 374.6060\n",
      "Epoch 20/40\n",
      "5759/5759 [==============================] - 693s 120ms/step - loss: 371.9056 - val_loss: 371.0909\n",
      "Epoch 21/40\n",
      "5759/5759 [==============================] - 626s 109ms/step - loss: 371.5693 - val_loss: 373.4232\n",
      "Epoch 22/40\n",
      "5759/5759 [==============================] - 653s 113ms/step - loss: 371.3174 - val_loss: 371.4064\n",
      "Epoch 23/40\n",
      "5759/5759 [==============================] - 667s 116ms/step - loss: 370.8823 - val_loss: 371.8795\n",
      "Epoch 24/40\n",
      "5759/5759 [==============================] - 660s 115ms/step - loss: 370.6818 - val_loss: 373.6704\n",
      "Epoch 25/40\n",
      "5759/5759 [==============================] - 647s 112ms/step - loss: 370.4729 - val_loss: 371.0827\n",
      "Epoch 26/40\n",
      "5759/5759 [==============================] - 658s 114ms/step - loss: 370.2555 - val_loss: 370.0825\n",
      "Epoch 27/40\n",
      "5759/5759 [==============================] - 655s 114ms/step - loss: 370.0875 - val_loss: 371.8712\n",
      "Epoch 28/40\n",
      "5759/5759 [==============================] - 644s 112ms/step - loss: 369.8332 - val_loss: 369.4790\n",
      "Epoch 29/40\n",
      "5759/5759 [==============================] - 651s 113ms/step - loss: 369.6638 - val_loss: 370.1005\n",
      "Epoch 30/40\n",
      "5759/5759 [==============================] - 654s 114ms/step - loss: 369.4242 - val_loss: 369.6665\n",
      "Epoch 31/40\n",
      "5759/5759 [==============================] - 670s 116ms/step - loss: 369.3098 - val_loss: 371.1936\n",
      "Epoch 32/40\n",
      "5759/5759 [==============================] - 685s 119ms/step - loss: 369.1885 - val_loss: 369.8952\n",
      "Epoch 33/40\n",
      "5759/5759 [==============================] - 672s 117ms/step - loss: 369.0137 - val_loss: 368.9270\n",
      "Epoch 34/40\n",
      "5759/5759 [==============================] - 660s 115ms/step - loss: 368.8990 - val_loss: 369.8366\n",
      "Epoch 35/40\n",
      "5759/5759 [==============================] - 653s 113ms/step - loss: 368.7170 - val_loss: 368.9941\n",
      "Epoch 36/40\n",
      "5759/5759 [==============================] - 649s 113ms/step - loss: 368.6627 - val_loss: 368.2489\n",
      "Epoch 37/40\n",
      "5759/5759 [==============================] - 665s 115ms/step - loss: 368.5037 - val_loss: 369.1060\n",
      "Epoch 38/40\n",
      "5759/5759 [==============================] - 655s 114ms/step - loss: 368.3163 - val_loss: 372.2537\n",
      "Epoch 39/40\n",
      "5759/5759 [==============================] - 670s 116ms/step - loss: 368.1947 - val_loss: 368.2223\n",
      "Epoch 40/40\n",
      "5759/5759 [==============================] - 679s 118ms/step - loss: 368.0815 - val_loss: 367.5806\n"
     ]
    },
    {
     "data": {
      "text/plain": [
       "<tensorflow.python.keras.callbacks.History at 0x7fc4686bacc0>"
      ]
     },
     "execution_count": 33,
     "metadata": {},
     "output_type": "execute_result"
    }
   ],
   "source": [
    "NN_BF2.fit_generator(BFgen['cold']['train'], epochs=Nep, validation_data=BFgen['cold']['valid'],\n",
    "                     callbacks=[earlyStopping, mcp_save_BF])"
   ]
  },
  {
   "cell_type": "markdown",
   "metadata": {},
   "source": [
    "## Strong L2 regularization"
   ]
  },
  {
   "cell_type": "code",
   "execution_count": 18,
   "metadata": {},
   "outputs": [],
   "source": [
    "def NN_model(inp,N_layer,l2):\n",
    "    if N_layer>0:\n",
    "        densout = Dense(128, activation='linear',kernel_regularizer=regularizers.l2(l2))(inp)\n",
    "        densout = LeakyReLU(alpha=0.3)(densout)\n",
    "    else: dense_out = Dense(60, activation='linear',kernel_regularizer=regularizers.l2(l2))(inp)\n",
    "    for i in range (N_layer-1):\n",
    "        densout = Dense(128, activation='linear',kernel_regularizer=regularizers.l2(l2))(densout)\n",
    "        densout = LeakyReLU(alpha=0.3)(densout)\n",
    "    if N_layer>0: dense_out = Dense(60, activation='linear',kernel_regularizer=regularizers.l2(l2))(densout)\n",
    "    return tf.keras.models.Model(inp, dense_out)"
   ]
  },
  {
   "cell_type": "code",
   "execution_count": 35,
   "metadata": {},
   "outputs": [],
   "source": [
    "inpBF3 = Input(shape=(64,)) ## input \n",
    "NN_BF3 = NN_model(inpBF3,7,0.05)"
   ]
  },
  {
   "cell_type": "code",
   "execution_count": 36,
   "metadata": {},
   "outputs": [],
   "source": [
    "NN_BF3.compile(tf.keras.optimizers.Adam(), loss=mse)\n",
    "\n",
    "NN_BF3.load_weights(path_HDF5+save_name+'_BF.hdf5')\n",
    "\n",
    "L1_save_name = '2022_07_30_NN_BF_m4K_L2'\n",
    "\n",
    "earlyStopping = EarlyStopping(monitor='val_loss', patience=10, verbose=0, mode='min')\n",
    "mcp_save_BF = ModelCheckpoint(path_HDF5+L1_save_name+'_BF.hdf5',save_best_only=True, monitor='val_loss', mode='min')\n",
    "\n",
    "Nep = 40"
   ]
  },
  {
   "cell_type": "code",
   "execution_count": 37,
   "metadata": {},
   "outputs": [
    {
     "name": "stdout",
     "output_type": "stream",
     "text": [
      "Epoch 1/40\n",
      "5759/5759 [==============================] - 664s 115ms/step - loss: 571.5430 - val_loss: 436.8997\n",
      "Epoch 2/40\n",
      "5759/5759 [==============================] - 676s 117ms/step - loss: 425.5671 - val_loss: 419.9709\n",
      "Epoch 3/40\n",
      "5759/5759 [==============================] - 651s 113ms/step - loss: 417.9136 - val_loss: 417.3352\n",
      "Epoch 4/40\n",
      "5759/5759 [==============================] - 671s 116ms/step - loss: 414.9601 - val_loss: 414.5021\n",
      "Epoch 5/40\n",
      "5759/5759 [==============================] - 677s 118ms/step - loss: 413.2705 - val_loss: 414.5687\n",
      "Epoch 6/40\n",
      "5759/5759 [==============================] - 703s 122ms/step - loss: 412.1243 - val_loss: 412.2416\n",
      "Epoch 7/40\n",
      "5759/5759 [==============================] - 718s 125ms/step - loss: 411.4218 - val_loss: 410.7336\n",
      "Epoch 8/40\n",
      "5759/5759 [==============================] - 680s 118ms/step - loss: 410.8829 - val_loss: 413.1913\n",
      "Epoch 9/40\n",
      "5759/5759 [==============================] - 675s 117ms/step - loss: 410.4949 - val_loss: 412.9937\n",
      "Epoch 10/40\n",
      "5759/5759 [==============================] - 682s 118ms/step - loss: 410.2153 - val_loss: 410.9962\n",
      "Epoch 11/40\n",
      "5759/5759 [==============================] - 705s 122ms/step - loss: 409.8768 - val_loss: 409.8547\n",
      "Epoch 12/40\n",
      "5759/5759 [==============================] - 680s 118ms/step - loss: 409.6860 - val_loss: 409.1837\n",
      "Epoch 13/40\n",
      "5759/5759 [==============================] - 684s 119ms/step - loss: 409.4907 - val_loss: 409.6944\n",
      "Epoch 14/40\n",
      "5759/5759 [==============================] - 715s 124ms/step - loss: 409.2986 - val_loss: 411.5201\n",
      "Epoch 15/40\n",
      "5759/5759 [==============================] - 701s 122ms/step - loss: 409.1980 - val_loss: 409.6363\n",
      "Epoch 16/40\n",
      "5759/5759 [==============================] - 731s 127ms/step - loss: 409.0125 - val_loss: 409.7843\n",
      "Epoch 17/40\n",
      "5759/5759 [==============================] - 728s 126ms/step - loss: 408.8708 - val_loss: 408.7342\n",
      "Epoch 18/40\n",
      "5759/5759 [==============================] - 699s 121ms/step - loss: 408.8048 - val_loss: 408.8798\n",
      "Epoch 19/40\n",
      "5759/5759 [==============================] - 747s 130ms/step - loss: 408.6608 - val_loss: 408.5893\n",
      "Epoch 20/40\n",
      "5759/5759 [==============================] - 697s 121ms/step - loss: 408.6420 - val_loss: 410.8034\n",
      "Epoch 21/40\n",
      "5759/5759 [==============================] - 748s 130ms/step - loss: 408.5365 - val_loss: 408.8997\n",
      "Epoch 22/40\n",
      "5759/5759 [==============================] - 694s 121ms/step - loss: 408.4300 - val_loss: 407.7830\n",
      "Epoch 23/40\n",
      "5759/5759 [==============================] - 693s 120ms/step - loss: 408.4806 - val_loss: 409.0102\n",
      "Epoch 24/40\n",
      "5759/5759 [==============================] - 706s 123ms/step - loss: 408.3087 - val_loss: 408.2335\n",
      "Epoch 25/40\n",
      "5759/5759 [==============================] - 719s 125ms/step - loss: 408.2855 - val_loss: 410.4944\n",
      "Epoch 26/40\n",
      "5759/5759 [==============================] - 712s 124ms/step - loss: 408.1473 - val_loss: 408.8167\n",
      "Epoch 27/40\n",
      "5759/5759 [==============================] - 746s 130ms/step - loss: 408.1445 - val_loss: 409.7305\n",
      "Epoch 28/40\n",
      "5759/5759 [==============================] - 698s 121ms/step - loss: 408.0895 - val_loss: 408.4015\n",
      "Epoch 29/40\n",
      "5759/5759 [==============================] - 732s 127ms/step - loss: 408.0481 - val_loss: 410.1647\n",
      "Epoch 30/40\n",
      "5759/5759 [==============================] - 717s 125ms/step - loss: 408.0287 - val_loss: 409.8752\n",
      "Epoch 31/40\n",
      "5759/5759 [==============================] - 699s 121ms/step - loss: 407.9190 - val_loss: 409.5317\n",
      "Epoch 32/40\n",
      "5759/5759 [==============================] - 724s 126ms/step - loss: 407.8639 - val_loss: 409.8877\n"
     ]
    },
    {
     "data": {
      "text/plain": [
       "<tensorflow.python.keras.callbacks.History at 0x7fc4683cd048>"
      ]
     },
     "execution_count": 37,
     "metadata": {},
     "output_type": "execute_result"
    }
   ],
   "source": [
    "NN_BF3.fit_generator(BFgen['cold']['train'], epochs=Nep, validation_data=BFgen['cold']['valid'],\n",
    "                     callbacks=[earlyStopping, mcp_save_BF])"
   ]
  },
  {
   "cell_type": "markdown",
   "metadata": {},
   "source": [
    "## Standard L2 regularization"
   ]
  },
  {
   "cell_type": "code",
   "execution_count": 19,
   "metadata": {},
   "outputs": [],
   "source": [
    "inpBF4 = Input(shape=(64,)) ## input \n",
    "NN_BF4 = NN_model(inpBF4,7,0.01)\n",
    "\n",
    "NN_BF4.compile(tf.keras.optimizers.Adam(), loss=mse)\n",
    "\n",
    "NN_BF4.load_weights(path_HDF5+save_name+'_BF.hdf5')\n",
    "\n",
    "L1_save_name = '2022_07_30_NN_BF_m4K_L2_standard'\n",
    "\n",
    "earlyStopping = EarlyStopping(monitor='val_loss', patience=10, verbose=0, mode='min')\n",
    "mcp_save_BF = ModelCheckpoint(path_HDF5+L1_save_name+'_BF.hdf5',save_best_only=True, monitor='val_loss', mode='min')\n",
    "\n",
    "Nep = 40"
   ]
  },
  {
   "cell_type": "code",
   "execution_count": 20,
   "metadata": {},
   "outputs": [
    {
     "name": "stdout",
     "output_type": "stream",
     "text": [
      "Epoch 1/40\n",
      "5759/5759 [==============================] - 1471s 255ms/step - loss: 413.6964 - val_loss: 381.2285\n",
      "Epoch 2/40\n",
      "5759/5759 [==============================] - 605s 105ms/step - loss: 373.7400 - val_loss: 372.4575\n",
      "Epoch 3/40\n",
      "5759/5759 [==============================] - 620s 108ms/step - loss: 368.1371 - val_loss: 366.6831\n",
      "Epoch 4/40\n",
      "5759/5759 [==============================] - 618s 107ms/step - loss: 365.8842 - val_loss: 366.6101\n",
      "Epoch 5/40\n",
      "5759/5759 [==============================] - 654s 114ms/step - loss: 364.7095 - val_loss: 366.6077\n",
      "Epoch 6/40\n",
      "5759/5759 [==============================] - 671s 116ms/step - loss: 363.9781 - val_loss: 365.5680\n",
      "Epoch 7/40\n",
      "5759/5759 [==============================] - 645s 112ms/step - loss: 363.4607 - val_loss: 364.2105\n",
      "Epoch 8/40\n",
      "5759/5759 [==============================] - 629s 109ms/step - loss: 363.0436 - val_loss: 364.4343\n",
      "Epoch 9/40\n",
      "5759/5759 [==============================] - 651s 113ms/step - loss: 362.8049 - val_loss: 362.9268\n",
      "Epoch 10/40\n",
      "5759/5759 [==============================] - 678s 118ms/step - loss: 362.4703 - val_loss: 363.1829\n",
      "Epoch 11/40\n",
      "5759/5759 [==============================] - 653s 113ms/step - loss: 362.2976 - val_loss: 363.3063\n",
      "Epoch 12/40\n",
      "5759/5759 [==============================] - 646s 112ms/step - loss: 362.0347 - val_loss: 364.0329\n",
      "Epoch 13/40\n",
      "5759/5759 [==============================] - 694s 120ms/step - loss: 361.8996 - val_loss: 361.6123\n",
      "Epoch 14/40\n",
      "5759/5759 [==============================] - 695s 121ms/step - loss: 361.7988 - val_loss: 362.0320\n",
      "Epoch 15/40\n",
      "5759/5759 [==============================] - 657s 114ms/step - loss: 361.6841 - val_loss: 362.8180\n",
      "Epoch 16/40\n",
      "5759/5759 [==============================] - 601s 104ms/step - loss: 361.5500 - val_loss: 361.5797\n",
      "Epoch 17/40\n",
      "5759/5759 [==============================] - 685s 119ms/step - loss: 361.4458 - val_loss: 363.5104\n",
      "Epoch 18/40\n",
      "5759/5759 [==============================] - 696s 121ms/step - loss: 361.3580 - val_loss: 363.0833\n",
      "Epoch 19/40\n",
      "5759/5759 [==============================] - 646s 112ms/step - loss: 361.3146 - val_loss: 361.4499\n",
      "Epoch 20/40\n",
      "5759/5759 [==============================] - 675s 117ms/step - loss: 361.1919 - val_loss: 360.7822\n",
      "Epoch 21/40\n",
      "5759/5759 [==============================] - 709s 123ms/step - loss: 361.1291 - val_loss: 361.8545\n",
      "Epoch 22/40\n",
      "5759/5759 [==============================] - 730s 127ms/step - loss: 361.0084 - val_loss: 362.2938\n",
      "Epoch 23/40\n",
      "5759/5759 [==============================] - 747s 130ms/step - loss: 361.0051 - val_loss: 362.7628\n",
      "Epoch 24/40\n",
      "5759/5759 [==============================] - 763s 132ms/step - loss: 360.8868 - val_loss: 361.3009\n",
      "Epoch 25/40\n",
      "5759/5759 [==============================] - 737s 128ms/step - loss: 360.8540 - val_loss: 361.4699\n",
      "Epoch 26/40\n",
      "5759/5759 [==============================] - 732s 127ms/step - loss: 360.7955 - val_loss: 361.5199\n",
      "Epoch 27/40\n",
      "5759/5759 [==============================] - 774s 134ms/step - loss: 360.7779 - val_loss: 362.3322\n",
      "Epoch 28/40\n",
      "5759/5759 [==============================] - 780s 136ms/step - loss: 360.7176 - val_loss: 361.9992\n",
      "Epoch 29/40\n",
      "5759/5759 [==============================] - 783s 136ms/step - loss: 360.6695 - val_loss: 360.9200\n",
      "Epoch 30/40\n",
      "5759/5759 [==============================] - 768s 133ms/step - loss: 360.6136 - val_loss: 361.0297\n"
     ]
    },
    {
     "data": {
      "text/plain": [
       "<tensorflow.python.keras.callbacks.History at 0x7f3d947b2e80>"
      ]
     },
     "execution_count": 20,
     "metadata": {},
     "output_type": "execute_result"
    }
   ],
   "source": [
    "NN_BF4.fit_generator(BFgen['cold']['train'], epochs=Nep, validation_data=BFgen['cold']['valid'],\n",
    "                     callbacks=[earlyStopping, mcp_save_BF])"
   ]
  },
  {
   "cell_type": "code",
   "execution_count": 21,
   "metadata": {},
   "outputs": [
    {
     "name": "stdout",
     "output_type": "stream",
     "text": [
      "Epoch 1/40\n",
      "5759/5759 [==============================] - 763s 133ms/step - loss: 360.5593 - val_loss: 361.6474\n",
      "Epoch 2/40\n",
      "5759/5759 [==============================] - 784s 136ms/step - loss: 360.5326 - val_loss: 364.7338\n",
      "Epoch 3/40\n",
      "5759/5759 [==============================] - 756s 131ms/step - loss: 360.4914 - val_loss: 362.5611\n",
      "Epoch 4/40\n",
      "5759/5759 [==============================] - 708s 123ms/step - loss: 360.4814 - val_loss: 362.9025\n",
      "Epoch 5/40\n",
      "5759/5759 [==============================] - 623s 108ms/step - loss: 360.4415 - val_loss: 361.0159\n",
      "Epoch 6/40\n",
      "5759/5759 [==============================] - 674s 117ms/step - loss: 360.3913 - val_loss: 361.7176\n",
      "Epoch 7/40\n",
      "5759/5759 [==============================] - 718s 125ms/step - loss: 360.3558 - val_loss: 359.8694\n",
      "Epoch 8/40\n",
      "5759/5759 [==============================] - 677s 118ms/step - loss: 360.3469 - val_loss: 362.2639\n",
      "Epoch 9/40\n",
      "5759/5759 [==============================] - 739s 128ms/step - loss: 360.3356 - val_loss: 360.3508\n",
      "Epoch 10/40\n",
      "5759/5759 [==============================] - 759s 132ms/step - loss: 360.2944 - val_loss: 360.4370\n",
      "Epoch 11/40\n",
      "5759/5759 [==============================] - 766s 133ms/step - loss: 360.2814 - val_loss: 362.9683\n",
      "Epoch 12/40\n",
      "5759/5759 [==============================] - 721s 125ms/step - loss: 360.2202 - val_loss: 361.0179\n",
      "Epoch 13/40\n",
      "5759/5759 [==============================] - 712s 124ms/step - loss: 360.2140 - val_loss: 361.0914\n",
      "Epoch 14/40\n",
      "5759/5759 [==============================] - 762s 132ms/step - loss: 360.1608 - val_loss: 361.5699\n",
      "Epoch 15/40\n",
      "5759/5759 [==============================] - 720s 125ms/step - loss: 360.1725 - val_loss: 362.3997\n",
      "Epoch 16/40\n",
      "5759/5759 [==============================] - 764s 133ms/step - loss: 360.1446 - val_loss: 360.6939\n",
      "Epoch 17/40\n",
      "5759/5759 [==============================] - 777s 135ms/step - loss: 360.1434 - val_loss: 361.9629\n"
     ]
    },
    {
     "data": {
      "text/plain": [
       "<tensorflow.python.keras.callbacks.History at 0x7f3f60165438>"
      ]
     },
     "execution_count": 21,
     "metadata": {},
     "output_type": "execute_result"
    }
   ],
   "source": [
    "NN_BF4.fit_generator(BFgen['cold']['train'], epochs=Nep, validation_data=BFgen['cold']['valid'],\n",
    "                     callbacks=[earlyStopping, mcp_save_BF])"
   ]
  },
  {
   "cell_type": "markdown",
   "metadata": {},
   "source": [
    "## Cyclic learning rate"
   ]
  },
  {
   "cell_type": "markdown",
   "metadata": {},
   "source": [
    "Code directly copied from source [https://github.com/tensorflow/addons/blob/v0.17.0/tensorflow_addons/optimizers/cyclical_learning_rate.py#L24-L111] and [https://github.com/tensorflow/addons/blob/b2dafcfa74c5de268b8a5c53813bc0b89cadf386/tensorflow_addons/utils/types.py#L61]"
   ]
  },
  {
   "cell_type": "code",
   "execution_count": 23,
   "metadata": {},
   "outputs": [],
   "source": [
    "from typeguard import typechecked\n",
    "from typing import Union, Callable\n",
    "FloatTensorLike = Union[tf.Tensor, float, np.float16, np.float32, np.float64]"
   ]
  },
  {
   "cell_type": "code",
   "execution_count": 24,
   "metadata": {},
   "outputs": [],
   "source": [
    "class CyclicalLearningRate(tf.keras.optimizers.schedules.LearningRateSchedule):\n",
    "    \"\"\"A LearningRateSchedule that uses cyclical schedule.\"\"\"\n",
    "\n",
    "    @typechecked\n",
    "    def __init__(\n",
    "        self,\n",
    "        initial_learning_rate: Union[FloatTensorLike, Callable],\n",
    "        maximal_learning_rate: Union[FloatTensorLike, Callable],\n",
    "        step_size: FloatTensorLike,\n",
    "        scale_fn: Callable,\n",
    "        scale_mode: str = \"cycle\",\n",
    "        name: str = \"CyclicalLearningRate\",\n",
    "    ):\n",
    "        \"\"\"Applies cyclical schedule to the learning rate.\n",
    "        See Cyclical Learning Rates for Training Neural Networks. https://arxiv.org/abs/1506.01186\n",
    "        ```python\n",
    "        lr_schedule = tf.keras.optimizers.schedules.CyclicalLearningRate(\n",
    "            initial_learning_rate=1e-4,\n",
    "            maximal_learning_rate=1e-2,\n",
    "            step_size=2000,\n",
    "            scale_fn=lambda x: 1.,\n",
    "            scale_mode=\"cycle\",\n",
    "            name=\"MyCyclicScheduler\")\n",
    "        model.compile(optimizer=tf.keras.optimizers.SGD(\n",
    "                                                    learning_rate=lr_schedule),\n",
    "                      loss='sparse_categorical_crossentropy',\n",
    "                      metrics=['accuracy'])\n",
    "        model.fit(data, labels, epochs=5)\n",
    "        ```\n",
    "        You can pass this schedule directly into a\n",
    "        `tf.keras.optimizers.Optimizer` as the learning rate.\n",
    "        Args:\n",
    "            initial_learning_rate: A scalar `float32` or `float64` `Tensor` or\n",
    "                a Python number.  The initial learning rate.\n",
    "            maximal_learning_rate: A scalar `float32` or `float64` `Tensor` or\n",
    "                a Python number.  The maximum learning rate.\n",
    "            step_size: A scalar `float32` or `float64` `Tensor` or a\n",
    "                Python number. Step size denotes the number of training iterations it takes to get to maximal_learning_rate.\n",
    "            scale_fn: A function. Scheduling function applied in cycle\n",
    "            scale_mode: ['cycle', 'iterations']. Mode to apply during cyclic\n",
    "                schedule\n",
    "            name: (Optional) Name for the operation.\n",
    "        Returns:\n",
    "            Updated learning rate value.\n",
    "        \"\"\"\n",
    "        super().__init__()\n",
    "        self.initial_learning_rate = initial_learning_rate\n",
    "        self.maximal_learning_rate = maximal_learning_rate\n",
    "        self.step_size = step_size\n",
    "        self.scale_fn = scale_fn\n",
    "        self.scale_mode = scale_mode\n",
    "        self.name = name\n",
    "\n",
    "    def __call__(self, step):\n",
    "        with tf.name_scope(self.name or \"CyclicalLearningRate\"):\n",
    "            initial_learning_rate = tf.convert_to_tensor(\n",
    "                self.initial_learning_rate, name=\"initial_learning_rate\"\n",
    "            )\n",
    "            dtype = initial_learning_rate.dtype\n",
    "            maximal_learning_rate = tf.cast(self.maximal_learning_rate, dtype)\n",
    "            step_size = tf.cast(self.step_size, dtype)\n",
    "            step_as_dtype = tf.cast(step, dtype)\n",
    "            cycle = tf.floor(1 + step_as_dtype / (2 * step_size))\n",
    "            x = tf.abs(step_as_dtype / step_size - 2 * cycle + 1)\n",
    "\n",
    "            mode_step = cycle if self.scale_mode == \"cycle\" else step\n",
    "\n",
    "            return initial_learning_rate + (\n",
    "                maximal_learning_rate - initial_learning_rate\n",
    "            ) * tf.maximum(tf.cast(0, dtype), (1 - x)) * self.scale_fn(mode_step)\n",
    "\n",
    "    def get_config(self):\n",
    "        return {\n",
    "            \"initial_learning_rate\": self.initial_learning_rate,\n",
    "            \"maximal_learning_rate\": self.maximal_learning_rate,\n",
    "            \"scale_fn\": self.scale_fn,\n",
    "            \"step_size\": self.step_size,\n",
    "            \"scale_mode\": self.scale_mode,\n",
    "        }"
   ]
  },
  {
   "cell_type": "code",
   "execution_count": null,
   "metadata": {},
   "outputs": [],
   "source": [
    "INIT_LR = 1e-4\n",
    "MAX_LR = 1e-2\n",
    "steps_per_epoch = x_train.shape[0] // BATCH_SIZE\n",
    "clr = tfa.optimizers.CyclicalLearningRate(initial_learning_rate=INIT_LR,\n",
    "                                          maximal_learning_rate=MAX_LR,\n",
    "                                          scale_fn=lambda x: 1/(2.**(x-1)),\n",
    "                                          step_size=2 * steps_per_epoch,\n",
    "                                          scale_mode = 'cycle'\n",
    "                                         )"
   ]
  },
  {
   "cell_type": "code",
   "execution_count": 46,
   "metadata": {},
   "outputs": [],
   "source": [
    "inpBF2 = Input(shape=(64,)) ## input \n",
    "NN_BF_CLR = NN_model(inpBF2,7)"
   ]
  },
  {
   "cell_type": "code",
   "execution_count": 47,
   "metadata": {},
   "outputs": [],
   "source": [
    "NN_BF_CLR.compile(tf.optimizers.Adam(learning_rate=clr), loss=mse)"
   ]
  },
  {
   "cell_type": "code",
   "execution_count": 48,
   "metadata": {},
   "outputs": [],
   "source": [
    "path_HDF5 = '/DFS-L/DATA/pritchard/tbeucler/SPCAM/HDF5_DATA/'\n",
    "save_name = '2022_07_25_NN_BF_CLR_m4K'"
   ]
  },
  {
   "cell_type": "code",
   "execution_count": 49,
   "metadata": {},
   "outputs": [],
   "source": [
    "earlyStopping = EarlyStopping(monitor='val_loss', patience=10, verbose=0, mode='min')\n",
    "mcp_save_BF = ModelCheckpoint(path_HDF5+save_name+'_BF.hdf5',save_best_only=True, monitor='val_loss', mode='min')"
   ]
  },
  {
   "cell_type": "code",
   "execution_count": 50,
   "metadata": {},
   "outputs": [],
   "source": [
    "Nep = 20"
   ]
  },
  {
   "cell_type": "code",
   "execution_count": null,
   "metadata": {},
   "outputs": [
    {
     "name": "stdout",
     "output_type": "stream",
     "text": [
      "Epoch 1/20\n",
      "1652/5759 [=======>......................] - ETA: 13:16 - loss: 447.5775"
     ]
    }
   ],
   "source": [
    "# NN_BF.fit_generator(BFgen['cold']['train'], epochs=Nep, validation_data=BFgen['cold']['valid'],\n",
    "#                      callbacks=[earlyStopping, mcp_save_BF])"
   ]
  },
  {
   "cell_type": "markdown",
   "metadata": {},
   "source": [
    "# Training RH models"
   ]
  },
  {
   "cell_type": "markdown",
   "metadata": {},
   "source": [
    "## Standard brute-force training from the climate-invariant paper"
   ]
  },
  {
   "cell_type": "code",
   "execution_count": 12,
   "metadata": {},
   "outputs": [],
   "source": [
    "in_vars = ['TBP','RH','PS','SOLIN','SHFLX','LHFLX'] # We take the large-scale climate state as inputs\n",
    "out_vars = ['TPHYSTND','PHQ'] # and we output the response of clouds/storms to these climate conditions"
   ]
  },
  {
   "cell_type": "code",
   "execution_count": 13,
   "metadata": {},
   "outputs": [],
   "source": [
    "def Generator_singleDS(path,rescaling=None):\n",
    "    \n",
    "    in_vars = ['TBP','RH','PS','SOLIN','SHFLX','LHFLX'] # We take the large-scale climate state as inputs\n",
    "    out_vars = ['TPHYSTND','PHQ'] # and we output the response of clouds/storms to these climate conditionspath_input_norm = path_data + '2021_01_24_NORM_O3_small.nc'\n",
    "    scale_dict = pickle.load(open(path_data+'009_Wm2_scaling.pkl','rb'))\n",
    "    \n",
    "    if rescaling=='CI':\n",
    "        gen = DataGeneratorCI(\n",
    "        data_fn = path,\n",
    "        input_vars = in_vars,\n",
    "        output_vars = out_vars,\n",
    "        norm_fn = path_norm_RH,\n",
    "        batch_size=8192,\n",
    "        input_transform = ('mean', 'maxrs'),\n",
    "        output_transform = scale_dict,\n",
    "        Qscaling = 'RH',\n",
    "        Tscaling = 'BMSE',\n",
    "        LHFscaling = 'LHF_nsDELQ',\n",
    "        hyam=hyam, hybm=hybm, # Arrays to define mid-levels of hybrid vertical coordinate\n",
    "        inp_sub_Qscaling=train_gen_RH.input_transform.sub, # What to subtract from RH inputs\n",
    "        inp_div_Qscaling=train_gen_RH.input_transform.div, # What to divide RH inputs by\n",
    "        inp_sub_Tscaling=train_gen_BMSE.input_transform.sub,\n",
    "        inp_div_Tscaling=train_gen_BMSE.input_transform.div,\n",
    "        inp_sub_LHFscaling=train_gen_LHF_nsDELQ.input_transform.sub,\n",
    "        inp_div_LHFscaling=train_gen_LHF_nsDELQ.input_transform.div\n",
    "        ) \n",
    "    else:\n",
    "        gen = DataGeneratorCI(\n",
    "        data_fn = path,\n",
    "        input_vars = in_vars,\n",
    "        output_vars = out_vars,\n",
    "        norm_fn = path_norm_RH,\n",
    "        batch_size=8192,\n",
    "        input_transform = ('mean', 'maxrs'),\n",
    "        output_transform = scale_dict\n",
    "        )\n",
    "\n",
    "    return gen "
   ]
  },
  {
   "cell_type": "code",
   "execution_count": 14,
   "metadata": {},
   "outputs": [],
   "source": [
    "TrainRHgen = Generator_singleDS(path_RH[0])\n",
    "ValidRHgen = Generator_singleDS(path_RH[1])"
   ]
  },
  {
   "cell_type": "code",
   "execution_count": 15,
   "metadata": {},
   "outputs": [],
   "source": [
    "def NN_model(inp,N_layer):\n",
    "    if N_layer>0:\n",
    "        densout = Dense(128, activation='linear')(inp)\n",
    "        densout = LeakyReLU(alpha=0.3)(densout)\n",
    "    else: dense_out = Dense(120, activation='linear')(inp)\n",
    "    for i in range (N_layer-1):\n",
    "        densout = Dense(128, activation='linear')(densout)\n",
    "        densout = LeakyReLU(alpha=0.3)(densout)\n",
    "    if N_layer>0: dense_out = Dense(60, activation='linear')(densout)\n",
    "    return tf.keras.models.Model(inp, dense_out)"
   ]
  },
  {
   "cell_type": "code",
   "execution_count": 16,
   "metadata": {},
   "outputs": [],
   "source": [
    "inpBF = Input(shape=(64,)) ## input \n",
    "NN_BF = NN_model(inpBF,7)"
   ]
  },
  {
   "cell_type": "code",
   "execution_count": 17,
   "metadata": {},
   "outputs": [],
   "source": [
    "NN_BF.compile(tf.keras.optimizers.Adam(), loss=mse)"
   ]
  },
  {
   "cell_type": "code",
   "execution_count": 18,
   "metadata": {},
   "outputs": [],
   "source": [
    "path_HDF5 = '/DFS-L/DATA/pritchard/tbeucler/SPCAM/HDF5_DATA/'\n",
    "#new_save_name = '2022_07_30_NN_BF_m4K'\n",
    "save_name = '2022_08_03_NN_RH_m4K'"
   ]
  },
  {
   "cell_type": "code",
   "execution_count": 19,
   "metadata": {},
   "outputs": [],
   "source": [
    "earlyStopping = EarlyStopping(monitor='val_loss', patience=10, verbose=0, mode='min')\n",
    "mcp_save_BF = ModelCheckpoint(path_HDF5+save_name+'.hdf5',save_best_only=True, monitor='val_loss', mode='min')"
   ]
  },
  {
   "cell_type": "code",
   "execution_count": 20,
   "metadata": {},
   "outputs": [],
   "source": [
    "Nep = 20"
   ]
  },
  {
   "cell_type": "code",
   "execution_count": 77,
   "metadata": {},
   "outputs": [
    {
     "name": "stdout",
     "output_type": "stream",
     "text": [
      "Epoch 1/20\n",
      "5759/5759 [==============================] - 574s 100ms/step - loss: 398.4601 - val_loss: 375.0955\n",
      "Epoch 2/20\n",
      "5759/5759 [==============================] - 572s 99ms/step - loss: 367.8252 - val_loss: 362.6394\n",
      "Epoch 3/20\n",
      "5759/5759 [==============================] - 519s 90ms/step - loss: 358.3485 - val_loss: 354.9930\n",
      "Epoch 4/20\n",
      "5759/5759 [==============================] - 551s 96ms/step - loss: 352.6859 - val_loss: 351.4554\n",
      "Epoch 5/20\n",
      "5759/5759 [==============================] - 544s 94ms/step - loss: 348.8698 - val_loss: 349.7747\n",
      "Epoch 6/20\n",
      "5759/5759 [==============================] - 520s 90ms/step - loss: 346.4972 - val_loss: 348.0287\n",
      "Epoch 7/20\n",
      "5759/5759 [==============================] - 472s 82ms/step - loss: 344.6449 - val_loss: 346.2910\n",
      "Epoch 8/20\n",
      "5759/5759 [==============================] - 494s 86ms/step - loss: 342.9058 - val_loss: 342.3957\n",
      "Epoch 9/20\n",
      "5759/5759 [==============================] - 511s 89ms/step - loss: 341.4252 - val_loss: 343.8559\n",
      "Epoch 10/20\n",
      "5759/5759 [==============================] - 513s 89ms/step - loss: 340.3148 - val_loss: 342.3113\n",
      "Epoch 11/20\n",
      "5759/5759 [==============================] - 498s 86ms/step - loss: 339.2823 - val_loss: 339.8058\n",
      "Epoch 12/20\n",
      "5759/5759 [==============================] - 503s 87ms/step - loss: 338.4704 - val_loss: 340.1237\n",
      "Epoch 13/20\n",
      "5759/5759 [==============================] - 512s 89ms/step - loss: 337.6610 - val_loss: 339.6955\n",
      "Epoch 14/20\n",
      "5759/5759 [==============================] - 523s 91ms/step - loss: 337.0242 - val_loss: 337.5707\n",
      "Epoch 15/20\n",
      "5759/5759 [==============================] - 494s 86ms/step - loss: 336.3708 - val_loss: 337.9973\n",
      "Epoch 16/20\n",
      "5759/5759 [==============================] - 492s 85ms/step - loss: 335.8339 - val_loss: 336.2893\n",
      "Epoch 17/20\n",
      "5759/5759 [==============================] - 567s 99ms/step - loss: 335.2978 - val_loss: 334.8253\n",
      "Epoch 18/20\n",
      "5759/5759 [==============================] - 552s 96ms/step - loss: 334.7650 - val_loss: 335.6918\n",
      "Epoch 19/20\n",
      "5759/5759 [==============================] - 559s 97ms/step - loss: 334.3104 - val_loss: 336.7841\n",
      "Epoch 20/20\n",
      "5759/5759 [==============================] - 1192s 207ms/step - loss: 333.9121 - val_loss: 334.1542\n"
     ]
    },
    {
     "data": {
      "text/plain": [
       "<tensorflow.python.keras.callbacks.History at 0x7f25d0154e10>"
      ]
     },
     "execution_count": 77,
     "metadata": {},
     "output_type": "execute_result"
    }
   ],
   "source": [
    "# NN_BF.fit_generator(TrainRHgen, epochs=Nep, validation_data=ValidRHgen,\n",
    "#                      callbacks=[earlyStopping, mcp_save_BF])"
   ]
  },
  {
   "cell_type": "code",
   "execution_count": 78,
   "metadata": {},
   "outputs": [
    {
     "name": "stdout",
     "output_type": "stream",
     "text": [
      "Epoch 1/20\n",
      "5759/5759 [==============================] - 556s 97ms/step - loss: 333.4442 - val_loss: 336.6459\n",
      "Epoch 2/20\n",
      "5759/5759 [==============================] - 523s 91ms/step - loss: 333.1525 - val_loss: 333.9751\n",
      "Epoch 3/20\n",
      "5759/5759 [==============================] - 560s 97ms/step - loss: 332.8046 - val_loss: 332.7567\n",
      "Epoch 4/20\n",
      "5759/5759 [==============================] - 572s 99ms/step - loss: 332.5421 - val_loss: 334.1575\n",
      "Epoch 5/20\n",
      "5759/5759 [==============================] - 596s 103ms/step - loss: 332.1687 - val_loss: 332.9292\n",
      "Epoch 6/20\n",
      "5759/5759 [==============================] - 583s 101ms/step - loss: 331.9488 - val_loss: 333.9116\n",
      "Epoch 7/20\n",
      "5759/5759 [==============================] - 639s 111ms/step - loss: 331.6671 - val_loss: 332.5698\n",
      "Epoch 8/20\n",
      "5759/5759 [==============================] - 590s 102ms/step - loss: 331.4404 - val_loss: 332.4797\n",
      "Epoch 9/20\n",
      "5759/5759 [==============================] - 602s 105ms/step - loss: 331.2105 - val_loss: 332.3474\n",
      "Epoch 10/20\n",
      "5759/5759 [==============================] - 602s 105ms/step - loss: 330.9315 - val_loss: 332.7362\n",
      "Epoch 11/20\n",
      "5759/5759 [==============================] - 618s 107ms/step - loss: 330.7727 - val_loss: 333.4275\n",
      "Epoch 12/20\n",
      "5759/5759 [==============================] - 584s 101ms/step - loss: 330.5649 - val_loss: 331.5256\n",
      "Epoch 13/20\n",
      "5759/5759 [==============================] - 595s 103ms/step - loss: 330.4671 - val_loss: 332.2920\n",
      "Epoch 14/20\n",
      "5759/5759 [==============================] - 581s 101ms/step - loss: 330.2103 - val_loss: 333.3371\n",
      "Epoch 15/20\n",
      "5759/5759 [==============================] - 603s 105ms/step - loss: 330.0886 - val_loss: 332.0121\n",
      "Epoch 16/20\n",
      "5759/5759 [==============================] - 618s 107ms/step - loss: 329.8167 - val_loss: 330.8393\n",
      "Epoch 17/20\n",
      "5759/5759 [==============================] - 594s 103ms/step - loss: 329.7471 - val_loss: 332.2373\n",
      "Epoch 18/20\n",
      "5759/5759 [==============================] - 540s 94ms/step - loss: 329.5675 - val_loss: 331.4734\n",
      "Epoch 19/20\n",
      "5759/5759 [==============================] - 574s 100ms/step - loss: 329.4373 - val_loss: 331.7216\n",
      "Epoch 20/20\n",
      "5759/5759 [==============================] - 621s 108ms/step - loss: 329.3019 - val_loss: 332.1267\n"
     ]
    },
    {
     "data": {
      "text/plain": [
       "<tensorflow.python.keras.callbacks.History at 0x7f25d01ea0f0>"
      ]
     },
     "execution_count": 78,
     "metadata": {},
     "output_type": "execute_result"
    }
   ],
   "source": [
    "NN_BF.fit_generator(TrainRHgen, epochs=Nep, validation_data=ValidRHgen,\n",
    "                     callbacks=[earlyStopping, mcp_save_BF])"
   ]
  },
  {
   "cell_type": "code",
   "execution_count": 79,
   "metadata": {},
   "outputs": [
    {
     "name": "stdout",
     "output_type": "stream",
     "text": [
      "Epoch 1/20\n",
      "5759/5759 [==============================] - 557s 97ms/step - loss: 329.1354 - val_loss: 330.8042\n",
      "Epoch 2/20\n",
      "5759/5759 [==============================] - 596s 104ms/step - loss: 329.0108 - val_loss: 331.8983\n",
      "Epoch 3/20\n",
      "5759/5759 [==============================] - 596s 103ms/step - loss: 328.8900 - val_loss: 331.5891\n",
      "Epoch 4/20\n",
      "5759/5759 [==============================] - 579s 101ms/step - loss: 328.7828 - val_loss: 330.7911\n",
      "Epoch 5/20\n",
      "5759/5759 [==============================] - 614s 107ms/step - loss: 328.7006 - val_loss: 330.3951\n",
      "Epoch 6/20\n",
      "5759/5759 [==============================] - 570s 99ms/step - loss: 328.5840 - val_loss: 331.5144\n",
      "Epoch 7/20\n",
      "5759/5759 [==============================] - 573s 100ms/step - loss: 328.4836 - val_loss: 329.1223\n",
      "Epoch 8/20\n",
      "5759/5759 [==============================] - 579s 101ms/step - loss: 328.3519 - val_loss: 330.8367\n",
      "Epoch 9/20\n",
      "5759/5759 [==============================] - 620s 108ms/step - loss: 328.2306 - val_loss: 330.3978\n",
      "Epoch 10/20\n",
      "5759/5759 [==============================] - 561s 97ms/step - loss: 328.1438 - val_loss: 330.4389\n",
      "Epoch 11/20\n",
      "5759/5759 [==============================] - 601s 104ms/step - loss: 328.0531 - val_loss: 329.4115\n",
      "Epoch 12/20\n",
      "5759/5759 [==============================] - 614s 107ms/step - loss: 327.9786 - val_loss: 330.2465\n",
      "Epoch 13/20\n",
      "5759/5759 [==============================] - 595s 103ms/step - loss: 327.9101 - val_loss: 329.8418\n",
      "Epoch 14/20\n",
      "5759/5759 [==============================] - 517s 90ms/step - loss: 327.8307 - val_loss: 330.9844\n",
      "Epoch 15/20\n",
      "5759/5759 [==============================] - 320s 56ms/step - loss: 327.7365 - val_loss: 328.7747\n",
      "Epoch 16/20\n",
      "5759/5759 [==============================] - 320s 56ms/step - loss: 327.6613 - val_loss: 332.0232\n",
      "Epoch 17/20\n",
      "5759/5759 [==============================] - 320s 56ms/step - loss: 327.5396 - val_loss: 329.4403\n",
      "Epoch 18/20\n",
      "5759/5759 [==============================] - 321s 56ms/step - loss: 327.5096 - val_loss: 330.4925\n",
      "Epoch 19/20\n",
      "5759/5759 [==============================] - 324s 56ms/step - loss: 327.4186 - val_loss: 330.1148\n",
      "Epoch 20/20\n",
      "5759/5759 [==============================] - 328s 57ms/step - loss: 327.3676 - val_loss: 331.0202\n"
     ]
    },
    {
     "data": {
      "text/plain": [
       "<tensorflow.python.keras.callbacks.History at 0x7f25d00b5cc0>"
      ]
     },
     "execution_count": 79,
     "metadata": {},
     "output_type": "execute_result"
    }
   ],
   "source": [
    "NN_BF.fit_generator(TrainRHgen, epochs=Nep, validation_data=ValidRHgen,\n",
    "                     callbacks=[earlyStopping, mcp_save_BF])"
   ]
  },
  {
   "cell_type": "markdown",
   "metadata": {},
   "source": [
    "## Strong L2 regularization"
   ]
  },
  {
   "cell_type": "code",
   "execution_count": 80,
   "metadata": {},
   "outputs": [],
   "source": [
    "def NN_model(inp,N_layer,l2):\n",
    "    if N_layer>0:\n",
    "        densout = Dense(128, activation='linear',kernel_regularizer=regularizers.l2(l2))(inp)\n",
    "        densout = LeakyReLU(alpha=0.3)(densout)\n",
    "    else: dense_out = Dense(60, activation='linear',kernel_regularizer=regularizers.l2(l2))(inp)\n",
    "    for i in range (N_layer-1):\n",
    "        densout = Dense(128, activation='linear',kernel_regularizer=regularizers.l2(l2))(densout)\n",
    "        densout = LeakyReLU(alpha=0.3)(densout)\n",
    "    if N_layer>0: dense_out = Dense(60, activation='linear',kernel_regularizer=regularizers.l2(l2))(densout)\n",
    "    return tf.keras.models.Model(inp, dense_out)"
   ]
  },
  {
   "cell_type": "code",
   "execution_count": 81,
   "metadata": {},
   "outputs": [],
   "source": [
    "inpBF3 = Input(shape=(64,)) ## input \n",
    "NN_BF3 = NN_model(inpBF3,7,0.05)"
   ]
  },
  {
   "cell_type": "code",
   "execution_count": 82,
   "metadata": {},
   "outputs": [],
   "source": [
    "NN_BF3.compile(tf.keras.optimizers.Adam(), loss=mse)\n",
    "\n",
    "NN_BF3.load_weights(path_HDF5+save_name+'.hdf5')\n",
    "\n",
    "L1_save_name = '2022_08_03_NN_RH_m4K_L2'\n",
    "\n",
    "earlyStopping = EarlyStopping(monitor='val_loss', patience=10, verbose=0, mode='min')\n",
    "mcp_save_BF = ModelCheckpoint(path_HDF5+L1_save_name+'.hdf5',save_best_only=True, monitor='val_loss', mode='min')\n",
    "\n",
    "Nep = 40"
   ]
  },
  {
   "cell_type": "code",
   "execution_count": 83,
   "metadata": {},
   "outputs": [
    {
     "name": "stdout",
     "output_type": "stream",
     "text": [
      "Epoch 1/40\n",
      "5759/5759 [==============================] - 396s 69ms/step - loss: 492.9353 - val_loss: 426.8981\n",
      "Epoch 2/40\n",
      "5759/5759 [==============================] - 391s 68ms/step - loss: 419.1398 - val_loss: 415.5946\n",
      "Epoch 3/40\n",
      "5759/5759 [==============================] - 401s 70ms/step - loss: 412.3389 - val_loss: 411.1093\n",
      "Epoch 4/40\n",
      "5759/5759 [==============================] - 499s 87ms/step - loss: 409.4760 - val_loss: 409.3126\n",
      "Epoch 5/40\n",
      "5759/5759 [==============================] - 394s 68ms/step - loss: 407.8029 - val_loss: 408.4817\n",
      "Epoch 6/40\n",
      "5759/5759 [==============================] - 384s 67ms/step - loss: 406.7169 - val_loss: 405.7997\n",
      "Epoch 7/40\n",
      "5759/5759 [==============================] - 387s 67ms/step - loss: 405.7427 - val_loss: 407.4159\n",
      "Epoch 8/40\n",
      "5759/5759 [==============================] - 385s 67ms/step - loss: 405.0927 - val_loss: 405.3148\n",
      "Epoch 9/40\n",
      "5759/5759 [==============================] - 398s 69ms/step - loss: 404.6746 - val_loss: 404.1210\n",
      "Epoch 10/40\n",
      "5759/5759 [==============================] - 407s 71ms/step - loss: 404.2521 - val_loss: 403.4589\n",
      "Epoch 11/40\n",
      "5759/5759 [==============================] - 583s 101ms/step - loss: 403.9915 - val_loss: 403.5842\n",
      "Epoch 12/40\n",
      "5759/5759 [==============================] - 506s 88ms/step - loss: 403.6904 - val_loss: 403.2275\n",
      "Epoch 13/40\n",
      "5759/5759 [==============================] - 466s 81ms/step - loss: 403.6014 - val_loss: 403.0253\n",
      "Epoch 14/40\n",
      "5759/5759 [==============================] - 433s 75ms/step - loss: 403.3522 - val_loss: 403.0081\n",
      "Epoch 15/40\n",
      "5759/5759 [==============================] - 401s 70ms/step - loss: 403.2092 - val_loss: 402.9104\n",
      "Epoch 16/40\n",
      "5759/5759 [==============================] - 389s 68ms/step - loss: 403.0715 - val_loss: 404.3247\n",
      "Epoch 17/40\n",
      "5759/5759 [==============================] - 389s 68ms/step - loss: 402.9940 - val_loss: 404.1100\n",
      "Epoch 18/40\n",
      "5759/5759 [==============================] - 389s 68ms/step - loss: 402.9610 - val_loss: 406.4511\n",
      "Epoch 19/40\n",
      "5759/5759 [==============================] - 387s 67ms/step - loss: 402.7556 - val_loss: 403.1780\n",
      "Epoch 20/40\n",
      "5759/5759 [==============================] - 390s 68ms/step - loss: 402.6742 - val_loss: 402.1072\n",
      "Epoch 21/40\n",
      "5759/5759 [==============================] - 399s 69ms/step - loss: 402.5516 - val_loss: 404.2025\n",
      "Epoch 22/40\n",
      "5759/5759 [==============================] - 423s 73ms/step - loss: 402.5007 - val_loss: 402.2629\n",
      "Epoch 23/40\n",
      "5759/5759 [==============================] - 425s 74ms/step - loss: 402.4539 - val_loss: 403.8183\n",
      "Epoch 24/40\n",
      "5759/5759 [==============================] - 456s 79ms/step - loss: 402.3481 - val_loss: 403.1253\n",
      "Epoch 25/40\n",
      "5759/5759 [==============================] - 379s 66ms/step - loss: 402.2660 - val_loss: 403.4426\n",
      "Epoch 26/40\n",
      "5759/5759 [==============================] - 392s 68ms/step - loss: 402.2554 - val_loss: 403.9018\n",
      "Epoch 27/40\n",
      "5759/5759 [==============================] - 387s 67ms/step - loss: 402.1964 - val_loss: 403.9484\n",
      "Epoch 28/40\n",
      "5759/5759 [==============================] - 384s 67ms/step - loss: 402.1221 - val_loss: 402.6351\n",
      "Epoch 29/40\n",
      "5759/5759 [==============================] - 392s 68ms/step - loss: 402.1081 - val_loss: 402.6160\n",
      "Epoch 30/40\n",
      "5759/5759 [==============================] - 381s 66ms/step - loss: 402.0855 - val_loss: 402.6650\n"
     ]
    },
    {
     "data": {
      "text/plain": [
       "<tensorflow.python.keras.callbacks.History at 0x7f25984cd160>"
      ]
     },
     "execution_count": 83,
     "metadata": {},
     "output_type": "execute_result"
    }
   ],
   "source": [
    "NN_BF3.fit_generator(TrainRHgen, epochs=Nep, validation_data=ValidRHgen,\n",
    "                     callbacks=[earlyStopping, mcp_save_BF])"
   ]
  },
  {
   "cell_type": "markdown",
   "metadata": {},
   "source": [
    "## Standard L2 regularization"
   ]
  },
  {
   "cell_type": "code",
   "execution_count": 84,
   "metadata": {},
   "outputs": [],
   "source": [
    "inpBF4 = Input(shape=(64,)) ## input \n",
    "NN_BF4 = NN_model(inpBF4,7,0.01)\n",
    "\n",
    "NN_BF4.compile(tf.keras.optimizers.Adam(), loss=mse)\n",
    "\n",
    "NN_BF4.load_weights(path_HDF5+save_name+'.hdf5')\n",
    "\n",
    "L1_save_name = '2022_08_03_NN_RH_m4K_L2_standard'\n",
    "\n",
    "earlyStopping = EarlyStopping(monitor='val_loss', patience=10, verbose=0, mode='min')\n",
    "mcp_save_BF = ModelCheckpoint(path_HDF5+L1_save_name+'.hdf5',save_best_only=True, monitor='val_loss', mode='min')\n",
    "\n",
    "Nep = 40"
   ]
  },
  {
   "cell_type": "code",
   "execution_count": 85,
   "metadata": {},
   "outputs": [
    {
     "name": "stdout",
     "output_type": "stream",
     "text": [
      "Epoch 1/40\n",
      "5759/5759 [==============================] - 498s 86ms/step - loss: 397.0686 - val_loss: 377.9208\n",
      "Epoch 2/40\n",
      "5759/5759 [==============================] - 442s 77ms/step - loss: 371.4543 - val_loss: 369.7350\n",
      "Epoch 3/40\n",
      "5759/5759 [==============================] - 510s 89ms/step - loss: 366.0235 - val_loss: 364.5045\n",
      "Epoch 4/40\n",
      "5759/5759 [==============================] - 454s 79ms/step - loss: 363.8388 - val_loss: 367.7660\n",
      "Epoch 5/40\n",
      "5759/5759 [==============================] - 391s 68ms/step - loss: 362.6942 - val_loss: 362.3771\n",
      "Epoch 6/40\n",
      "5759/5759 [==============================] - 384s 67ms/step - loss: 361.9347 - val_loss: 362.1724\n",
      "Epoch 7/40\n",
      "5759/5759 [==============================] - 382s 66ms/step - loss: 361.3263 - val_loss: 361.6806\n",
      "Epoch 8/40\n",
      "5759/5759 [==============================] - 392s 68ms/step - loss: 360.8649 - val_loss: 360.6753\n",
      "Epoch 9/40\n",
      "5759/5759 [==============================] - 391s 68ms/step - loss: 360.5716 - val_loss: 362.2287\n",
      "Epoch 10/40\n",
      "5759/5759 [==============================] - 384s 67ms/step - loss: 360.2912 - val_loss: 361.9640\n",
      "Epoch 11/40\n",
      "5759/5759 [==============================] - 475s 82ms/step - loss: 360.0292 - val_loss: 361.3688\n",
      "Epoch 12/40\n",
      "5759/5759 [==============================] - 416s 72ms/step - loss: 359.8153 - val_loss: 359.8829\n",
      "Epoch 13/40\n",
      "5759/5759 [==============================] - 459s 80ms/step - loss: 359.6507 - val_loss: 362.3039\n",
      "Epoch 14/40\n",
      "5759/5759 [==============================] - 476s 83ms/step - loss: 359.5022 - val_loss: 359.8765\n",
      "Epoch 15/40\n",
      "5759/5759 [==============================] - 480s 83ms/step - loss: 359.3722 - val_loss: 360.9254\n",
      "Epoch 16/40\n",
      "5759/5759 [==============================] - 502s 87ms/step - loss: 359.2602 - val_loss: 360.0539\n",
      "Epoch 17/40\n",
      "5759/5759 [==============================] - 459s 80ms/step - loss: 359.1536 - val_loss: 360.1315\n",
      "Epoch 18/40\n",
      "5759/5759 [==============================] - 474s 82ms/step - loss: 358.9697 - val_loss: 360.3487\n",
      "Epoch 19/40\n",
      "5759/5759 [==============================] - 489s 85ms/step - loss: 358.9633 - val_loss: 359.8019\n",
      "Epoch 20/40\n",
      "5759/5759 [==============================] - 402s 70ms/step - loss: 358.9089 - val_loss: 359.5082\n",
      "Epoch 21/40\n",
      "5759/5759 [==============================] - 395s 69ms/step - loss: 358.7958 - val_loss: 358.7015\n",
      "Epoch 22/40\n",
      "5759/5759 [==============================] - 382s 66ms/step - loss: 358.7372 - val_loss: 358.1039\n",
      "Epoch 23/40\n",
      "5759/5759 [==============================] - 401s 70ms/step - loss: 358.7184 - val_loss: 360.6398\n",
      "Epoch 24/40\n",
      "5759/5759 [==============================] - 390s 68ms/step - loss: 358.6769 - val_loss: 359.0952\n",
      "Epoch 25/40\n",
      "5759/5759 [==============================] - 387s 67ms/step - loss: 358.5214 - val_loss: 360.2339\n",
      "Epoch 26/40\n",
      "5759/5759 [==============================] - 383s 66ms/step - loss: 358.5174 - val_loss: 358.0383\n",
      "Epoch 27/40\n",
      "5759/5759 [==============================] - 480s 83ms/step - loss: 358.4117 - val_loss: 359.3817\n",
      "Epoch 28/40\n",
      "5759/5759 [==============================] - 442s 77ms/step - loss: 358.3479 - val_loss: 361.9896\n",
      "Epoch 29/40\n",
      "5759/5759 [==============================] - 406s 71ms/step - loss: 358.3139 - val_loss: 358.1997\n",
      "Epoch 30/40\n",
      "5759/5759 [==============================] - 419s 73ms/step - loss: 358.3045 - val_loss: 358.3682\n",
      "Epoch 31/40\n",
      "5759/5759 [==============================] - 390s 68ms/step - loss: 358.1930 - val_loss: 359.4604\n",
      "Epoch 32/40\n",
      "5759/5759 [==============================] - 517s 90ms/step - loss: 358.1882 - val_loss: 357.9964\n",
      "Epoch 33/40\n",
      "5759/5759 [==============================] - 394s 68ms/step - loss: 358.0948 - val_loss: 361.3075\n",
      "Epoch 34/40\n",
      "5759/5759 [==============================] - 383s 66ms/step - loss: 358.1078 - val_loss: 358.4129\n",
      "Epoch 35/40\n",
      "5759/5759 [==============================] - 392s 68ms/step - loss: 358.1127 - val_loss: 358.9781\n",
      "Epoch 36/40\n",
      "5759/5759 [==============================] - 382s 66ms/step - loss: 358.0538 - val_loss: 358.9096\n",
      "Epoch 37/40\n",
      "5759/5759 [==============================] - 387s 67ms/step - loss: 358.0688 - val_loss: 358.1379\n",
      "Epoch 38/40\n",
      "5759/5759 [==============================] - 370s 64ms/step - loss: 357.9862 - val_loss: 359.5207\n",
      "Epoch 39/40\n",
      "5759/5759 [==============================] - 377s 66ms/step - loss: 357.9812 - val_loss: 358.8781\n",
      "Epoch 40/40\n",
      "5759/5759 [==============================] - 393s 68ms/step - loss: 357.9221 - val_loss: 358.8051\n"
     ]
    },
    {
     "data": {
      "text/plain": [
       "<tensorflow.python.keras.callbacks.History at 0x7f25d005ae10>"
      ]
     },
     "execution_count": 85,
     "metadata": {},
     "output_type": "execute_result"
    }
   ],
   "source": [
    "NN_BF4.fit_generator(TrainRHgen, epochs=Nep, validation_data=ValidRHgen,\n",
    "                     callbacks=[earlyStopping, mcp_save_BF])"
   ]
  },
  {
   "cell_type": "markdown",
   "metadata": {},
   "source": [
    "## Cyclic Learning Rate"
   ]
  },
  {
   "cell_type": "markdown",
   "metadata": {},
   "source": [
    "Code directly copied from source [https://github.com/tensorflow/addons/blob/v0.17.0/tensorflow_addons/optimizers/cyclical_learning_rate.py#L24-L111] and [https://github.com/tensorflow/addons/blob/b2dafcfa74c5de268b8a5c53813bc0b89cadf386/tensorflow_addons/utils/types.py#L61]"
   ]
  },
  {
   "cell_type": "code",
   "execution_count": 25,
   "metadata": {},
   "outputs": [],
   "source": [
    "from typeguard import typechecked\n",
    "from typing import Union, Callable\n",
    "FloatTensorLike = Union[tf.Tensor, float, np.float16, np.float32, np.float64]"
   ]
  },
  {
   "cell_type": "code",
   "execution_count": 26,
   "metadata": {},
   "outputs": [],
   "source": [
    "class CyclicalLearningRate(tf.keras.optimizers.schedules.LearningRateSchedule):\n",
    "    \"\"\"A LearningRateSchedule that uses cyclical schedule.\"\"\"\n",
    "\n",
    "    @typechecked\n",
    "    def __init__(\n",
    "        self,\n",
    "        initial_learning_rate: Union[FloatTensorLike, Callable],\n",
    "        maximal_learning_rate: Union[FloatTensorLike, Callable],\n",
    "        step_size: FloatTensorLike,\n",
    "        scale_fn: Callable,\n",
    "        scale_mode: str = \"cycle\",\n",
    "        name: str = \"CyclicalLearningRate\",\n",
    "    ):\n",
    "        \"\"\"Applies cyclical schedule to the learning rate.\n",
    "        See Cyclical Learning Rates for Training Neural Networks. https://arxiv.org/abs/1506.01186\n",
    "        ```python\n",
    "        lr_schedule = tf.keras.optimizers.schedules.CyclicalLearningRate(\n",
    "            initial_learning_rate=1e-4,\n",
    "            maximal_learning_rate=1e-2,\n",
    "            step_size=2000,\n",
    "            scale_fn=lambda x: 1.,\n",
    "            scale_mode=\"cycle\",\n",
    "            name=\"MyCyclicScheduler\")\n",
    "        model.compile(optimizer=tf.keras.optimizers.SGD(\n",
    "                                                    learning_rate=lr_schedule),\n",
    "                      loss='sparse_categorical_crossentropy',\n",
    "                      metrics=['accuracy'])\n",
    "        model.fit(data, labels, epochs=5)\n",
    "        ```\n",
    "        You can pass this schedule directly into a\n",
    "        `tf.keras.optimizers.Optimizer` as the learning rate.\n",
    "        Args:\n",
    "            initial_learning_rate: A scalar `float32` or `float64` `Tensor` or\n",
    "                a Python number.  The initial learning rate.\n",
    "            maximal_learning_rate: A scalar `float32` or `float64` `Tensor` or\n",
    "                a Python number.  The maximum learning rate.\n",
    "            step_size: A scalar `float32` or `float64` `Tensor` or a\n",
    "                Python number. Step size denotes the number of training iterations it takes to get to maximal_learning_rate.\n",
    "            scale_fn: A function. Scheduling function applied in cycle\n",
    "            scale_mode: ['cycle', 'iterations']. Mode to apply during cyclic\n",
    "                schedule\n",
    "            name: (Optional) Name for the operation.\n",
    "        Returns:\n",
    "            Updated learning rate value.\n",
    "        \"\"\"\n",
    "        super().__init__()\n",
    "        self.initial_learning_rate = initial_learning_rate\n",
    "        self.maximal_learning_rate = maximal_learning_rate\n",
    "        self.step_size = step_size\n",
    "        self.scale_fn = scale_fn\n",
    "        self.scale_mode = scale_mode\n",
    "        self.name = name\n",
    "\n",
    "    def __call__(self, step):\n",
    "        with tf.name_scope(self.name or \"CyclicalLearningRate\"):\n",
    "            initial_learning_rate = tf.convert_to_tensor(\n",
    "                self.initial_learning_rate, name=\"initial_learning_rate\"\n",
    "            )\n",
    "            dtype = initial_learning_rate.dtype\n",
    "            maximal_learning_rate = tf.cast(self.maximal_learning_rate, dtype)\n",
    "            step_size = tf.cast(self.step_size, dtype)\n",
    "            step_as_dtype = tf.cast(step, dtype)\n",
    "            cycle = tf.floor(1 + step_as_dtype / (2 * step_size))\n",
    "            x = tf.abs(step_as_dtype / step_size - 2 * cycle + 1)\n",
    "\n",
    "            mode_step = cycle if self.scale_mode == \"cycle\" else step\n",
    "\n",
    "            return initial_learning_rate + (\n",
    "                maximal_learning_rate - initial_learning_rate\n",
    "            ) * tf.maximum(tf.cast(0, dtype), (1 - x)) * self.scale_fn(mode_step)\n",
    "\n",
    "    def get_config(self):\n",
    "        return {\n",
    "            \"initial_learning_rate\": self.initial_learning_rate,\n",
    "            \"maximal_learning_rate\": self.maximal_learning_rate,\n",
    "            \"scale_fn\": self.scale_fn,\n",
    "            \"step_size\": self.step_size,\n",
    "            \"scale_mode\": self.scale_mode,\n",
    "        }"
   ]
  },
  {
   "cell_type": "code",
   "execution_count": 28,
   "metadata": {},
   "outputs": [],
   "source": [
    "INIT_LR = 1e-4\n",
    "MAX_LR = 1e-2\n",
    "steps_per_epoch = 8192\n",
    "clr = CyclicalLearningRate(initial_learning_rate=INIT_LR,\n",
    "                           maximal_learning_rate=MAX_LR,\n",
    "                           scale_fn=lambda x: 1/(2.**(x-1)),\n",
    "                           step_size=2 * steps_per_epoch,\n",
    "                           scale_mode = 'cycle')"
   ]
  },
  {
   "cell_type": "code",
   "execution_count": 29,
   "metadata": {},
   "outputs": [],
   "source": [
    "inpBF2 = Input(shape=(64,)) ## input \n",
    "NN_BF_CLR = NN_model(inpBF2,7)"
   ]
  },
  {
   "cell_type": "code",
   "execution_count": 30,
   "metadata": {},
   "outputs": [],
   "source": [
    "NN_BF_CLR.compile(tf.optimizers.Adam(learning_rate=clr), loss=mse)"
   ]
  },
  {
   "cell_type": "code",
   "execution_count": 31,
   "metadata": {},
   "outputs": [],
   "source": [
    "path_HDF5 = '/DFS-L/DATA/pritchard/tbeucler/SPCAM/HDF5_DATA/'\n",
    "save_name = '2022_08_08_NN_RH_CLR_m4K'"
   ]
  },
  {
   "cell_type": "code",
   "execution_count": 34,
   "metadata": {},
   "outputs": [],
   "source": [
    "earlyStopping = EarlyStopping(monitor='val_loss', patience=10, verbose=0, mode='min')\n",
    "mcp_save_BF = ModelCheckpoint(path_HDF5+save_name+'.hdf5',save_best_only=True, monitor='val_loss', mode='min')"
   ]
  },
  {
   "cell_type": "code",
   "execution_count": 35,
   "metadata": {},
   "outputs": [],
   "source": [
    "Nep = 40"
   ]
  },
  {
   "cell_type": "code",
   "execution_count": 36,
   "metadata": {},
   "outputs": [
    {
     "name": "stdout",
     "output_type": "stream",
     "text": [
      "Epoch 1/40\n",
      "5759/5759 [==============================] - 720s 125ms/step - loss: 408.5619 - val_loss: 374.0784\n",
      "Epoch 2/40\n",
      "5759/5759 [==============================] - 562s 98ms/step - loss: 366.6198 - val_loss: 362.5215\n",
      "Epoch 3/40\n",
      "5759/5759 [==============================] - 508s 88ms/step - loss: 360.7075 - val_loss: 359.1054\n",
      "Epoch 4/40\n",
      "5759/5759 [==============================] - 508s 88ms/step - loss: 352.2430 - val_loss: 350.2425\n",
      "Epoch 5/40\n",
      "5759/5759 [==============================] - 481s 84ms/step - loss: 342.7842 - val_loss: 340.3602\n",
      "Epoch 6/40\n",
      "5759/5759 [==============================] - 538s 93ms/step - loss: 333.9929 - val_loss: 333.7866\n",
      "Epoch 7/40\n",
      "5759/5759 [==============================] - 538s 93ms/step - loss: 334.4543 - val_loss: 336.1495\n",
      "Epoch 8/40\n",
      "5759/5759 [==============================] - 545s 95ms/step - loss: 337.7386 - val_loss: 341.9109\n",
      "Epoch 9/40\n",
      "5759/5759 [==============================] - 536s 93ms/step - loss: 339.9425 - val_loss: 340.8685\n",
      "Epoch 10/40\n",
      "5759/5759 [==============================] - 530s 92ms/step - loss: 336.5056 - val_loss: 335.9345\n",
      "Epoch 11/40\n",
      "5759/5759 [==============================] - 538s 93ms/step - loss: 331.7275 - val_loss: 331.2505\n",
      "Epoch 12/40\n",
      "5759/5759 [==============================] - 560s 97ms/step - loss: 327.9195 - val_loss: 330.8697\n",
      "Epoch 13/40\n",
      "5759/5759 [==============================] - 542s 94ms/step - loss: 329.6144 - val_loss: 332.2979\n",
      "Epoch 14/40\n",
      "5759/5759 [==============================] - 481s 83ms/step - loss: 331.6343 - val_loss: 333.2527\n",
      "Epoch 15/40\n",
      "5759/5759 [==============================] - 458s 79ms/step - loss: 332.3091 - val_loss: 332.7736\n",
      "Epoch 16/40\n",
      "5759/5759 [==============================] - 468s 81ms/step - loss: 329.8679 - val_loss: 330.4917\n",
      "Epoch 17/40\n",
      "5759/5759 [==============================] - 492s 85ms/step - loss: 327.0434 - val_loss: 327.8884\n",
      "Epoch 18/40\n",
      "5759/5759 [==============================] - 492s 85ms/step - loss: 325.8248 - val_loss: 328.6280\n",
      "Epoch 19/40\n",
      "5759/5759 [==============================] - 494s 86ms/step - loss: 327.1204 - val_loss: 329.4247\n",
      "Epoch 20/40\n",
      "5759/5759 [==============================] - 505s 88ms/step - loss: 328.2772 - val_loss: 330.5376\n",
      "Epoch 21/40\n",
      "5759/5759 [==============================] - 519s 90ms/step - loss: 327.9135 - val_loss: 329.7515\n",
      "Epoch 22/40\n",
      "5759/5759 [==============================] - 483s 84ms/step - loss: 326.4068 - val_loss: 327.9049\n",
      "Epoch 23/40\n",
      "5759/5759 [==============================] - 568s 99ms/step - loss: 324.8278 - val_loss: 327.1618\n",
      "Epoch 24/40\n",
      "5759/5759 [==============================] - 498s 86ms/step - loss: 324.8141 - val_loss: 327.5404\n",
      "Epoch 25/40\n",
      "5759/5759 [==============================] - 513s 89ms/step - loss: 325.5208 - val_loss: 328.0083\n",
      "Epoch 26/40\n",
      "5759/5759 [==============================] - 458s 80ms/step - loss: 326.0547 - val_loss: 328.0290\n",
      "Epoch 27/40\n",
      "5759/5759 [==============================] - 483s 84ms/step - loss: 325.5036 - val_loss: 328.5264\n",
      "Epoch 28/40\n",
      "5759/5759 [==============================] - 557s 97ms/step - loss: 324.6157 - val_loss: 326.9332\n",
      "Epoch 29/40\n",
      "5759/5759 [==============================] - 462s 80ms/step - loss: 323.8889 - val_loss: 327.0334\n",
      "Epoch 30/40\n",
      "5759/5759 [==============================] - 542s 94ms/step - loss: 324.1417 - val_loss: 327.0138\n",
      "Epoch 31/40\n",
      "5759/5759 [==============================] - 487s 84ms/step - loss: 324.5301 - val_loss: 327.0992\n",
      "Epoch 32/40\n",
      "5759/5759 [==============================] - 438s 76ms/step - loss: 324.6834 - val_loss: 327.4537\n",
      "Epoch 33/40\n",
      "5759/5759 [==============================] - 437s 76ms/step - loss: 324.2481 - val_loss: 326.6524\n",
      "Epoch 34/40\n",
      "5759/5759 [==============================] - 451s 78ms/step - loss: 323.7561 - val_loss: 326.3297\n",
      "Epoch 35/40\n",
      "5759/5759 [==============================] - 513s 89ms/step - loss: 323.4889 - val_loss: 326.7457\n",
      "Epoch 36/40\n",
      "5759/5759 [==============================] - 501s 87ms/step - loss: 323.6924 - val_loss: 326.6167\n",
      "Epoch 37/40\n",
      "5759/5759 [==============================] - 428s 74ms/step - loss: 323.8773 - val_loss: 326.8352\n",
      "Epoch 38/40\n",
      "5759/5759 [==============================] - 500s 87ms/step - loss: 323.8488 - val_loss: 326.6829\n",
      "Epoch 39/40\n",
      "5759/5759 [==============================] - 477s 83ms/step - loss: 323.5773 - val_loss: 326.2642\n",
      "Epoch 40/40\n",
      "5759/5759 [==============================] - 406s 71ms/step - loss: 323.3128 - val_loss: 326.2343\n"
     ]
    },
    {
     "data": {
      "text/plain": [
       "<tensorflow.python.keras.callbacks.History at 0x7f8c0c733da0>"
      ]
     },
     "execution_count": 36,
     "metadata": {},
     "output_type": "execute_result"
    }
   ],
   "source": [
    "NN_BF_CLR.fit_generator(TrainRHgen, epochs=Nep, validation_data=ValidRHgen,\n",
    "                      callbacks=[earlyStopping, mcp_save_BF])"
   ]
  },
  {
   "cell_type": "markdown",
   "metadata": {},
   "source": [
    "## CLR + Strong L2"
   ]
  },
  {
   "cell_type": "code",
   "execution_count": 37,
   "metadata": {},
   "outputs": [],
   "source": [
    "def NN_model(inp,N_layer,l2):\n",
    "    if N_layer>0:\n",
    "        densout = Dense(128, activation='linear',kernel_regularizer=regularizers.l2(l2))(inp)\n",
    "        densout = LeakyReLU(alpha=0.3)(densout)\n",
    "    else: dense_out = Dense(60, activation='linear',kernel_regularizer=regularizers.l2(l2))(inp)\n",
    "    for i in range (N_layer-1):\n",
    "        densout = Dense(128, activation='linear',kernel_regularizer=regularizers.l2(l2))(densout)\n",
    "        densout = LeakyReLU(alpha=0.3)(densout)\n",
    "    if N_layer>0: dense_out = Dense(60, activation='linear',kernel_regularizer=regularizers.l2(l2))(densout)\n",
    "    return tf.keras.models.Model(inp, dense_out)"
   ]
  },
  {
   "cell_type": "code",
   "execution_count": 38,
   "metadata": {},
   "outputs": [],
   "source": [
    "inpBF3 = Input(shape=(64,)) ## input \n",
    "NN_BF3 = NN_model(inpBF3,7,0.05)"
   ]
  },
  {
   "cell_type": "code",
   "execution_count": 39,
   "metadata": {},
   "outputs": [],
   "source": [
    "NN_BF3.compile(tf.keras.optimizers.Adam(), loss=mse)"
   ]
  },
  {
   "cell_type": "code",
   "execution_count": 40,
   "metadata": {},
   "outputs": [],
   "source": [
    "NN_BF3.load_weights(path_HDF5+save_name+'.hdf5')"
   ]
  },
  {
   "cell_type": "code",
   "execution_count": 41,
   "metadata": {},
   "outputs": [],
   "source": [
    "L1_save_name = '2022_08_09_NN_RH_CLR_m4K_L2'\n",
    "\n",
    "earlyStopping = EarlyStopping(monitor='val_loss', patience=10, verbose=0, mode='min')\n",
    "mcp_save_BF = ModelCheckpoint(path_HDF5+L1_save_name+'.hdf5',save_best_only=True, monitor='val_loss', mode='min')\n",
    "\n",
    "Nep = 40"
   ]
  },
  {
   "cell_type": "code",
   "execution_count": 42,
   "metadata": {},
   "outputs": [
    {
     "name": "stdout",
     "output_type": "stream",
     "text": [
      "Epoch 1/40\n",
      "5759/5759 [==============================] - 577s 100ms/step - loss: 544.1359 - val_loss: 438.4028\n",
      "Epoch 2/40\n",
      "5759/5759 [==============================] - 628s 109ms/step - loss: 427.2288 - val_loss: 421.3190\n",
      "Epoch 3/40\n",
      "5759/5759 [==============================] - 567s 98ms/step - loss: 416.6912 - val_loss: 414.7198\n",
      "Epoch 4/40\n",
      "5759/5759 [==============================] - 515s 89ms/step - loss: 412.1903 - val_loss: 410.8807\n",
      "Epoch 5/40\n",
      "5759/5759 [==============================] - 519s 90ms/step - loss: 409.6856 - val_loss: 409.4513\n",
      "Epoch 6/40\n",
      "5759/5759 [==============================] - 566s 98ms/step - loss: 407.9935 - val_loss: 407.4322\n",
      "Epoch 7/40\n",
      "5759/5759 [==============================] - 516s 90ms/step - loss: 406.9203 - val_loss: 406.2507\n",
      "Epoch 8/40\n",
      "5759/5759 [==============================] - 533s 93ms/step - loss: 406.1124 - val_loss: 405.6277\n",
      "Epoch 9/40\n",
      "5759/5759 [==============================] - 525s 91ms/step - loss: 405.2751 - val_loss: 404.9261\n",
      "Epoch 10/40\n",
      "5759/5759 [==============================] - 546s 95ms/step - loss: 404.6703 - val_loss: 405.4800\n",
      "Epoch 11/40\n",
      "5759/5759 [==============================] - 531s 92ms/step - loss: 404.3071 - val_loss: 406.4795\n",
      "Epoch 12/40\n",
      "5759/5759 [==============================] - 500s 87ms/step - loss: 403.9938 - val_loss: 404.2207\n",
      "Epoch 13/40\n",
      "5759/5759 [==============================] - 561s 97ms/step - loss: 403.7308 - val_loss: 404.2661\n",
      "Epoch 14/40\n",
      "5759/5759 [==============================] - 555s 96ms/step - loss: 403.5473 - val_loss: 404.2339\n",
      "Epoch 15/40\n",
      "5759/5759 [==============================] - 584s 101ms/step - loss: 403.3451 - val_loss: 404.0309\n",
      "Epoch 16/40\n",
      "5759/5759 [==============================] - 592s 103ms/step - loss: 403.2204 - val_loss: 403.6368\n",
      "Epoch 17/40\n",
      "5759/5759 [==============================] - 598s 104ms/step - loss: 403.1262 - val_loss: 403.2486\n",
      "Epoch 18/40\n",
      "5759/5759 [==============================] - 581s 101ms/step - loss: 403.0133 - val_loss: 404.1449\n",
      "Epoch 19/40\n",
      "5759/5759 [==============================] - 578s 100ms/step - loss: 402.8293 - val_loss: 402.6222\n",
      "Epoch 20/40\n",
      "5759/5759 [==============================] - 578s 100ms/step - loss: 402.8037 - val_loss: 403.2745\n",
      "Epoch 21/40\n",
      "5759/5759 [==============================] - 533s 92ms/step - loss: 402.7437 - val_loss: 403.8128\n",
      "Epoch 22/40\n",
      "5759/5759 [==============================] - 546s 95ms/step - loss: 402.7054 - val_loss: 403.1616\n",
      "Epoch 23/40\n",
      "5759/5759 [==============================] - 588s 102ms/step - loss: 402.5865 - val_loss: 404.4693\n",
      "Epoch 24/40\n",
      "5759/5759 [==============================] - 568s 99ms/step - loss: 402.4941 - val_loss: 404.2696\n",
      "Epoch 25/40\n",
      "5759/5759 [==============================] - 599s 104ms/step - loss: 402.4652 - val_loss: 402.4513\n",
      "Epoch 26/40\n",
      "5759/5759 [==============================] - 579s 101ms/step - loss: 402.3993 - val_loss: 402.9643\n",
      "Epoch 27/40\n",
      "5759/5759 [==============================] - 522s 91ms/step - loss: 402.3121 - val_loss: 402.5319\n",
      "Epoch 28/40\n",
      "5759/5759 [==============================] - 532s 92ms/step - loss: 402.2966 - val_loss: 401.9502\n",
      "Epoch 29/40\n",
      "5759/5759 [==============================] - 532s 92ms/step - loss: 402.2458 - val_loss: 404.6346\n",
      "Epoch 30/40\n",
      "5759/5759 [==============================] - 601s 104ms/step - loss: 402.1624 - val_loss: 403.7166\n",
      "Epoch 31/40\n",
      "5759/5759 [==============================] - 564s 98ms/step - loss: 402.1606 - val_loss: 402.6469\n",
      "Epoch 32/40\n",
      "5759/5759 [==============================] - 527s 92ms/step - loss: 402.1198 - val_loss: 402.6770\n",
      "Epoch 33/40\n",
      "5759/5759 [==============================] - 506s 88ms/step - loss: 402.0906 - val_loss: 403.1027\n",
      "Epoch 34/40\n",
      "5759/5759 [==============================] - 538s 93ms/step - loss: 401.9845 - val_loss: 402.5695\n",
      "Epoch 35/40\n",
      "5759/5759 [==============================] - 576s 100ms/step - loss: 402.0432 - val_loss: 402.8280\n",
      "Epoch 36/40\n",
      "5759/5759 [==============================] - 596s 103ms/step - loss: 401.9588 - val_loss: 402.0269\n",
      "Epoch 37/40\n",
      "5759/5759 [==============================] - 564s 98ms/step - loss: 401.9380 - val_loss: 402.0625\n",
      "Epoch 38/40\n",
      "5759/5759 [==============================] - 601s 104ms/step - loss: 401.9433 - val_loss: 402.2996\n"
     ]
    },
    {
     "data": {
      "text/plain": [
       "<tensorflow.python.keras.callbacks.History at 0x7f89ac2e8da0>"
      ]
     },
     "execution_count": 42,
     "metadata": {},
     "output_type": "execute_result"
    }
   ],
   "source": [
    "NN_BF3.fit_generator(TrainRHgen, epochs=Nep, validation_data=ValidRHgen,\n",
    "                     callbacks=[earlyStopping, mcp_save_BF])"
   ]
  },
  {
   "cell_type": "code",
   "execution_count": null,
   "metadata": {},
   "outputs": [],
   "source": []
  }
 ],
 "metadata": {
  "kernelspec": {
   "display_name": "Python 3",
   "language": "python",
   "name": "python3"
  },
  "language_info": {
   "codemirror_mode": {
    "name": "ipython",
    "version": 3
   },
   "file_extension": ".py",
   "mimetype": "text/x-python",
   "name": "python",
   "nbconvert_exporter": "python",
   "pygments_lexer": "ipython3",
   "version": "3.6.10"
  },
  "toc": {
   "base_numbering": 1,
   "nav_menu": {},
   "number_sections": true,
   "sideBar": true,
   "skip_h1_title": false,
   "title_cell": "Table of Contents",
   "title_sidebar": "Contents",
   "toc_cell": false,
   "toc_position": {
    "height": "calc(100% - 180px)",
    "left": "10px",
    "top": "150px",
    "width": "320px"
   },
   "toc_section_display": true,
   "toc_window_display": true
  }
 },
 "nbformat": 4,
 "nbformat_minor": 4
}
