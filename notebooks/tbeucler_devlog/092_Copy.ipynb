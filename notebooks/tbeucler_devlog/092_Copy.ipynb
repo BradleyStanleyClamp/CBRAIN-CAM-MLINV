{
 "cells": [
  {
   "cell_type": "markdown",
   "metadata": {},
   "source": [
    "tb - 6/25/2022 - Goal is to test whether simple diffusion & (sequential feature selection with polynomial fits) work better when phrased using climate-invariant inputs"
   ]
  },
  {
   "cell_type": "markdown",
   "metadata": {},
   "source": [
    "# Imports and initialization"
   ]
  },
  {
   "cell_type": "markdown",
   "metadata": {},
   "source": [
    "## Imports"
   ]
  },
  {
   "cell_type": "code",
   "execution_count": 1,
   "metadata": {},
   "outputs": [
    {
     "name": "stdout",
     "output_type": "stream",
     "text": [
      "/nfspool-0/home/tbeucler/CBRAIN-CAM/notebooks/tbeucler_devlog\n"
     ]
    }
   ],
   "source": [
    "from sklearn.linear_model import LinearRegression\n",
    "from sklearn.metrics import mean_squared_error\n",
    "from sklearn.feature_selection import SequentialFeatureSelector\n",
    "from sklearn.model_selection import cross_validate\n",
    "from sklearn.model_selection import RepeatedKFold\n",
    "from sklearn.preprocessing import PolynomialFeatures\n",
    "\n",
    "from cbrain.cam_constants import *\n",
    "from cbrain.climate_invariant import *\n",
    "from cbrain.preprocessing.convert_dataset_20191113 import compute_LHF_nsDELQ\n",
    "from cbrain.climate_invariant_utils import *\n",
    "from scipy.integrate import cumtrapz,trapz\n",
    "from scipy import interpolate,misc\n",
    "\n",
    "import matplotlib.pyplot as plt\n",
    "import numpy as np\n",
    "import pickle\n",
    "import xarray as xr"
   ]
  },
  {
   "cell_type": "markdown",
   "metadata": {},
   "source": [
    "## Load data"
   ]
  },
  {
   "cell_type": "markdown",
   "metadata": {},
   "source": [
    "### Load training and test datasets"
   ]
  },
  {
   "cell_type": "code",
   "execution_count": 2,
   "metadata": {},
   "outputs": [],
   "source": [
    "scale_dict = pickle.load(open('/export/nfs0home/tbeucler/CBRAIN-CAM/nn_config/'+'scale_dicts/009_Wm2_scaling.pkl','rb'))"
   ]
  },
  {
   "cell_type": "code",
   "execution_count": 3,
   "metadata": {},
   "outputs": [],
   "source": [
    "path_data = '/DFS-L/DATA/pritchard/tbeucler/SPCAM/SPCAM_PHYS/'"
   ]
  },
  {
   "cell_type": "code",
   "execution_count": 4,
   "metadata": {},
   "outputs": [],
   "source": [
    "#path_train_both = path_data+'2021_03_18_O3_TRAIN_M4K_shuffle.nc'\n",
    "path_train_both = path_data + '2022_04_18_TRAIN_M4K_P4K_shuffle.nc'\n",
    "path_RH_B = path_data+'2022_06_26_B_RH_both.nc'"
   ]
  },
  {
   "cell_type": "code",
   "execution_count": 5,
   "metadata": {},
   "outputs": [],
   "source": [
    "climates = ['m4K','ref','p4K']\n",
    "path_append = ['2021_03_18_O3_TEST_M4K.nc','2021_01_24_O3_TEST.nc','2021_03_18_O3_TEST_P4K.nc']\n",
    "path_RH_B_append = ['2022_06_27_B_RH_TEST_m4K.nc','2022_06_27_B_RH_TEST_ref.nc','2022_06_27_B_RH_TEST_p4K.nc']\n",
    "path_LHF_nsDELQ = '2022_06_29_LHF_nsDELQ.nc'"
   ]
  },
  {
   "cell_type": "code",
   "execution_count": 6,
   "metadata": {},
   "outputs": [],
   "source": [
    "LHF_nsDELQ = xr.open_dataset(path_data+path_LHF_nsDELQ)"
   ]
  },
  {
   "cell_type": "code",
   "execution_count": 7,
   "metadata": {},
   "outputs": [],
   "source": [
    "train_both = xr.open_dataset(path_train_both)\n",
    "train_both_RH_B = xr.open_dataset(path_RH_B)"
   ]
  },
  {
   "cell_type": "code",
   "execution_count": 8,
   "metadata": {},
   "outputs": [],
   "source": [
    "test_sets = {}; test_sets_RHB = {}; \n",
    "LHFname = ['LHFns_cold','LHFns_med','LHFns_hot']"
   ]
  },
  {
   "cell_type": "code",
   "execution_count": 9,
   "metadata": {},
   "outputs": [],
   "source": [
    "for iclim,clim in enumerate(climates):\n",
    "    test_sets[clim] = xr.open_dataset(path_data+path_append[iclim])\n",
    "    test_sets_RHB[clim] = xr.open_dataset(path_data+path_RH_B_append[iclim])"
   ]
  },
  {
   "cell_type": "code",
   "execution_count": 10,
   "metadata": {},
   "outputs": [
    {
     "name": "stdout",
     "output_type": "stream",
     "text": [
      "['QBP' 'QBP' 'QBP' 'QBP' 'QBP' 'QBP' 'QBP' 'QBP' 'QBP' 'QBP' 'QBP' 'QBP'\n",
      " 'QBP' 'QBP' 'QBP' 'QBP' 'QBP' 'QBP' 'QBP' 'QBP' 'QBP' 'QBP' 'QBP' 'QBP'\n",
      " 'QBP' 'QBP' 'QBP' 'QBP' 'QBP' 'QBP' 'TBP' 'TBP' 'TBP' 'TBP' 'TBP' 'TBP'\n",
      " 'TBP' 'TBP' 'TBP' 'TBP' 'TBP' 'TBP' 'TBP' 'TBP' 'TBP' 'TBP' 'TBP' 'TBP'\n",
      " 'TBP' 'TBP' 'TBP' 'TBP' 'TBP' 'TBP' 'TBP' 'TBP' 'TBP' 'TBP' 'TBP' 'TBP'\n",
      " 'O3_AQUA' 'O3_AQUA' 'O3_AQUA' 'O3_AQUA' 'O3_AQUA' 'O3_AQUA' 'O3_AQUA'\n",
      " 'O3_AQUA' 'O3_AQUA' 'O3_AQUA' 'O3_AQUA' 'O3_AQUA' 'O3_AQUA' 'O3_AQUA'\n",
      " 'O3_AQUA' 'O3_AQUA' 'O3_AQUA' 'O3_AQUA' 'O3_AQUA' 'O3_AQUA' 'O3_AQUA'\n",
      " 'O3_AQUA' 'O3_AQUA' 'O3_AQUA' 'O3_AQUA' 'O3_AQUA' 'O3_AQUA' 'O3_AQUA'\n",
      " 'O3_AQUA' 'O3_AQUA' 'PS' 'SOLIN' 'SHFLX' 'LHFLX' 'PHQ' 'PHQ' 'PHQ' 'PHQ'\n",
      " 'PHQ' 'PHQ' 'PHQ' 'PHQ' 'PHQ' 'PHQ' 'PHQ' 'PHQ' 'PHQ' 'PHQ' 'PHQ' 'PHQ'\n",
      " 'PHQ' 'PHQ' 'PHQ' 'PHQ' 'PHQ' 'PHQ' 'PHQ' 'PHQ' 'PHQ' 'PHQ' 'PHQ' 'PHQ'\n",
      " 'PHQ' 'PHQ' 'TPHYSTND' 'TPHYSTND' 'TPHYSTND' 'TPHYSTND' 'TPHYSTND'\n",
      " 'TPHYSTND' 'TPHYSTND' 'TPHYSTND' 'TPHYSTND' 'TPHYSTND' 'TPHYSTND'\n",
      " 'TPHYSTND' 'TPHYSTND' 'TPHYSTND' 'TPHYSTND' 'TPHYSTND' 'TPHYSTND'\n",
      " 'TPHYSTND' 'TPHYSTND' 'TPHYSTND' 'TPHYSTND' 'TPHYSTND' 'TPHYSTND'\n",
      " 'TPHYSTND' 'TPHYSTND' 'TPHYSTND' 'TPHYSTND' 'TPHYSTND' 'TPHYSTND'\n",
      " 'TPHYSTND' 'QRL' 'QRL' 'QRL' 'QRL' 'QRL' 'QRL' 'QRL' 'QRL' 'QRL' 'QRL'\n",
      " 'QRL' 'QRL' 'QRL' 'QRL' 'QRL' 'QRL' 'QRL' 'QRL' 'QRL' 'QRL' 'QRL' 'QRL'\n",
      " 'QRL' 'QRL' 'QRL' 'QRL' 'QRL' 'QRL' 'QRL' 'QRL' 'QRS' 'QRS' 'QRS' 'QRS'\n",
      " 'QRS' 'QRS' 'QRS' 'QRS' 'QRS' 'QRS' 'QRS' 'QRS' 'QRS' 'QRS' 'QRS' 'QRS'\n",
      " 'QRS' 'QRS' 'QRS' 'QRS' 'QRS' 'QRS' 'QRS' 'QRS' 'QRS' 'QRS' 'QRS' 'QRS'\n",
      " 'QRS' 'QRS']\n"
     ]
    }
   ],
   "source": [
    "print(train_both['var_names'].values)"
   ]
  },
  {
   "cell_type": "code",
   "execution_count": 11,
   "metadata": {},
   "outputs": [],
   "source": [
    "ind_input = np.concatenate((np.arange(0,60),np.arange(90,94)))\n",
    "ind_output = np.arange(94,94+60)"
   ]
  },
  {
   "cell_type": "code",
   "execution_count": 12,
   "metadata": {},
   "outputs": [],
   "source": [
    "xt = {}; yt = {}; xRHt= {}; xBt = {}; xLHFnst = {};"
   ]
  },
  {
   "cell_type": "code",
   "execution_count": 13,
   "metadata": {},
   "outputs": [],
   "source": [
    "name_RH = ['RH_test_cold','RH_test_med','RH_test_hot']\n",
    "name_B = ['B_test_cold','B_test_med','B_test_hot']"
   ]
  },
  {
   "cell_type": "code",
   "execution_count": 14,
   "metadata": {},
   "outputs": [],
   "source": [
    "x = train_both['vars'][:,ind_input]\n",
    "xRH = train_both_RH_B['RH_train']\n",
    "xB = train_both_RH_B['B_train']\n",
    "xLHFns = LHF_nsDELQ['LHFns']\n",
    "y = train_both['vars'][:,ind_output]\n",
    "for iclim,clim in enumerate(climates):\n",
    "    xt[clim] = test_sets[clim]['vars'][:,ind_input]\n",
    "    xRHt[clim] = test_sets_RHB[clim][name_RH[iclim]]\n",
    "    xBt[clim] = test_sets_RHB[clim][name_B[iclim]]\n",
    "    xLHFnst[clim] = LHF_nsDELQ[LHFname[iclim]]\n",
    "    yt[clim] = test_sets[clim]['vars'][:,ind_output]"
   ]
  },
  {
   "cell_type": "markdown",
   "metadata": {},
   "source": [
    "### (Skippable) Calculate and save climate-invariant LHF"
   ]
  },
  {
   "cell_type": "code",
   "execution_count": 52,
   "metadata": {},
   "outputs": [],
   "source": [
    "def compute_LHF_nsDELQ(ds,eps):\n",
    "    \n",
    "    def esat(T):\n",
    "        T0 = 273.16\n",
    "        T00 = 253.16\n",
    "        omega = np.maximum(0,np.minimum(1,(T-T00)/(T0-T00)))\n",
    "\n",
    "        return (T>T0)*eliq(T)+(T<T00)*eice(T)+(T<=T0)*(T>=T00)*(omega*eliq(T)+(1-omega)*eice(T))\n",
    "    \n",
    "    def eliq(T):\n",
    "        a_liq = np.array([-0.976195544e-15,-0.952447341e-13,0.640689451e-10,0.206739458e-7,0.302950461e-5,0.264847430e-3,0.142986287e-1,0.443987641,6.11239921]);\n",
    "        c_liq = -80\n",
    "        T0 = 273.16\n",
    "        return 100*np.polyval(a_liq,np.maximum(c_liq,T-T0))\n",
    "    \n",
    "    def eice(T):\n",
    "        a_ice = np.array([0.252751365e-14,0.146898966e-11,0.385852041e-9,0.602588177e-7,0.615021634e-5,0.420895665e-3,0.188439774e-1,0.503160820,6.11147274]);\n",
    "        c_ice = np.array([273.15,185,-100,0.00763685,0.000151069,7.48215e-07])\n",
    "        T0 = 273.16\n",
    "        return (T>c_ice[0])*eliq(T)+\\\n",
    "    (T<=c_ice[0])*(T>c_ice[1])*100*np.polyval(a_ice,T-T0)+\\\n",
    "    (T<=c_ice[1])*100*(c_ice[3]+np.maximum(c_ice[2],T-T0)*(c_ice[4]+np.maximum(c_ice[2],T-T0)*c_ice[5]))\n",
    "    \n",
    "    def qv(T,RH,P0,PS,hyam,hybm):\n",
    "        R = 287\n",
    "        Rv = 461\n",
    "        p = np.outer(hyam*P0,PS**0)+np.outer(hybm,PS) # Total pressure (Pa)\n",
    "\n",
    "        return R*esat(T)*RH/(Rv*p)\n",
    "\n",
    "    def qsat(T,P0,PS,hyam,hybm):\n",
    "        return qv(T,1,P0,PS,hyam,hybm)\n",
    "    \n",
    "    qsat0 = qsat(ds['vars'][:,59].values,P0,ds['vars'][:,90].values,hyam,hybm)\n",
    "    Qden = qsat0[-1,:]-ds['vars'][:,29].values\n",
    "    return ds['vars'][:,93].values/(L_V*np.maximum(eps,Qden))"
   ]
  },
  {
   "cell_type": "code",
   "execution_count": null,
   "metadata": {},
   "outputs": [],
   "source": [
    "LHF_nsDELQ_train = np.float32(compute_LHF_nsDELQ(train_both,1e-3))"
   ]
  },
  {
   "cell_type": "code",
   "execution_count": 80,
   "metadata": {},
   "outputs": [
    {
     "data": {
      "text/plain": [
       "(47177728,)"
      ]
     },
     "execution_count": 80,
     "metadata": {},
     "output_type": "execute_result"
    }
   ],
   "source": [
    "train_both['vars'][:,29].shape"
   ]
  },
  {
   "cell_type": "code",
   "execution_count": 81,
   "metadata": {},
   "outputs": [
    {
     "data": {
      "text/plain": [
       "(47177728,)"
      ]
     },
     "execution_count": 81,
     "metadata": {},
     "output_type": "execute_result"
    }
   ],
   "source": [
    "LHF_nsDELQ_train.shape"
   ]
  },
  {
   "cell_type": "code",
   "execution_count": 78,
   "metadata": {},
   "outputs": [
    {
     "data": {
      "image/png": "[encoded data removed]",
      "text/plain": [
       "<Figure size 432x288 with 1 Axes>"
      ]
     },
     "metadata": {
      "needs_background": "light"
     },
     "output_type": "display_data"
    }
   ],
   "source": [
    "plt.hist(LHF_nsDELQ_test['m4K'].flatten(),bins=100);"
   ]
  },
  {
   "cell_type": "code",
   "execution_count": 82,
   "metadata": {},
   "outputs": [],
   "source": [
    "# LHF_nsDELQ_test = {}"
   ]
  },
  {
   "cell_type": "code",
   "execution_count": 83,
   "metadata": {},
   "outputs": [],
   "source": [
    "# for iclim,clim in enumerate(climates):\n",
    "#     print(clim)\n",
    "#     LHF_nsDELQ_test[clim] = np.float32(compute_LHF_nsDELQ(test_sets[clim],1e-3))"
   ]
  },
  {
   "cell_type": "markdown",
   "metadata": {},
   "source": [
    "Save Latent heat fluxes for future use"
   ]
  },
  {
   "cell_type": "code",
   "execution_count": null,
   "metadata": {},
   "outputs": [],
   "source": [
    "data = dict(\n",
    "    LHFns=([\"samples_train\"],LHF_nsDELQ_train),\n",
    "#     LHFns_cold=([\"samples_cold\"],LHF_nsDELQ_test['m4K']),\n",
    "#     LHFns_med=([\"samples_med\"],LHF_nsDELQ_test['ref']),\n",
    "#     LHFns_hot=([\"samples_hot\"],LHF_nsDELQ_test['p4K'])\n",
    "    )\n",
    "\n",
    "coord = dict(\n",
    "    pressure_midlevel=([\"pressure\"],np.mean(pm,axis=0)),\n",
    "    pressure_interfac=([\"pressure_interface\"],np.mean(pi,axis=0)),\n",
    "    samples_train=([\"samples_train\"],np.arange(0,LHF_nsDELQ_train.shape[0])),\n",
    "#     samples_cold=([\"samples_cold\"],np.arange(0,LHF_nsDELQ_test['m4K'].shape[0])),\n",
    "#     samples_med=([\"samples_med\"],np.arange(0,LHF_nsDELQ_test['ref'].shape[0])),\n",
    "#     samples_hot=([\"samples_hot\"],np.arange(0,LHF_nsDELQ_test['p4K'].shape[0])),\n",
    "    )\n",
    "\n",
    "da = xr.Dataset(\n",
    "    data_vars=data,\n",
    "    coords=coord,\n",
    "    attrs=dict(description=\"Climate-invariant latent heat fluxes calculated\"+\\\n",
    "              \"using the train set (m4K+p4K)\"+\\\n",
    "              \"on July 8th, 2022\")\n",
    ")"
   ]
  },
  {
   "cell_type": "code",
   "execution_count": null,
   "metadata": {},
   "outputs": [],
   "source": [
    "da.to_netcdf(path_data+'2022_07_08_LHF_nsDELQ_TRAIN_both.nc')"
   ]
  },
  {
   "cell_type": "code",
   "execution_count": 16,
   "metadata": {},
   "outputs": [
    {
     "data": {
      "text/plain": [
       "(47177728, 64)"
      ]
     },
     "execution_count": 16,
     "metadata": {},
     "output_type": "execute_result"
    }
   ],
   "source": [
    "x.shape"
   ]
  },
  {
   "cell_type": "code",
   "execution_count": 17,
   "metadata": {},
   "outputs": [
    {
     "data": {
      "text/plain": [
       "(47177728, 60)"
      ]
     },
     "execution_count": 17,
     "metadata": {},
     "output_type": "execute_result"
    }
   ],
   "source": [
    "y.shape"
   ]
  },
  {
   "cell_type": "code",
   "execution_count": 18,
   "metadata": {},
   "outputs": [
    {
     "data": {
      "text/plain": [
       "(47177728, 30)"
      ]
     },
     "execution_count": 18,
     "metadata": {},
     "output_type": "execute_result"
    }
   ],
   "source": [
    "xRH.shape"
   ]
  },
  {
   "cell_type": "markdown",
   "metadata": {},
   "source": [
    "## (Skippable) Sub-sampling"
   ]
  },
  {
   "cell_type": "code",
   "execution_count": 38,
   "metadata": {},
   "outputs": [],
   "source": [
    "xt_sub = {}; yt_sub = {}; xRHt_sub = {}; xBt_sub = {}; xLHFnst_sub = {};"
   ]
  },
  {
   "cell_type": "code",
   "execution_count": 43,
   "metadata": {},
   "outputs": [
    {
     "data": {
      "text/plain": [
       "(94355456, 64)"
      ]
     },
     "execution_count": 43,
     "metadata": {},
     "output_type": "execute_result"
    }
   ],
   "source": [
    "x.shape"
   ]
  },
  {
   "cell_type": "code",
   "execution_count": 44,
   "metadata": {},
   "outputs": [
    {
     "data": {
      "text/plain": [
       "(94355456, 60)"
      ]
     },
     "execution_count": 44,
     "metadata": {},
     "output_type": "execute_result"
    }
   ],
   "source": [
    "y.shape"
   ]
  },
  {
   "cell_type": "code",
   "execution_count": 45,
   "metadata": {},
   "outputs": [],
   "source": [
    "Nsample = 20000\n",
    "i_random = np.random.choice(np.linspace(0,x.shape[0]-1,x.shape[0]),\n",
    "                            size=((Nsample,)),replace=False).astype('int')\n",
    "# Sub-sample the training set\n",
    "x_sub = x[i_random,:]; y_sub = y[i_random,:]; \n",
    "# xRH_sub = xRH[i_random,:]; xB_sub = xB[i_random,:]; \n",
    "# xLHFns_sub = xLHFns[i_random]\n",
    "# # Sub-sample the test sets\n",
    "# for iclim,clim in enumerate(climates):\n",
    "#     print(clim)\n",
    "#     xt_sub[clim] = xt[clim][i_random,:]\n",
    "#     yt_sub[clim] = yt[clim][i_random,:]\n",
    "#     xRHt_sub[clim] = xRHt[clim][i_random,:]\n",
    "#     xBt_sub[clim] = xBt[clim][i_random,:]\n",
    "#     xLHFnst_sub[clim] = xLHFnst[clim][i_random]"
   ]
  },
  {
   "cell_type": "code",
   "execution_count": null,
   "metadata": {},
   "outputs": [],
   "source": [
    "x_sub.shape"
   ]
  },
  {
   "cell_type": "code",
   "execution_count": null,
   "metadata": {},
   "outputs": [],
   "source": [
    "y_sub.shape"
   ]
  },
  {
   "cell_type": "markdown",
   "metadata": {},
   "source": [
    "## Pre-processing utilities"
   ]
  },
  {
   "cell_type": "markdown",
   "metadata": {},
   "source": [
    "### Calculate vertical derivatives via centered finite difference"
   ]
  },
  {
   "cell_type": "code",
   "execution_count": 46,
   "metadata": {},
   "outputs": [],
   "source": [
    "PS = x_sub[:,60]"
   ]
  },
  {
   "cell_type": "code",
   "execution_count": 47,
   "metadata": {},
   "outputs": [],
   "source": [
    "pi = P0*hyai+np.outer(PS,hybi)\n",
    "pm = P0*hyam+np.outer(PS,hybm)"
   ]
  },
  {
   "cell_type": "code",
   "execution_count": 48,
   "metadata": {},
   "outputs": [
    {
     "data": {
      "text/plain": [
       "(20000, 31)"
      ]
     },
     "execution_count": 48,
     "metadata": {},
     "output_type": "execute_result"
    }
   ],
   "source": [
    "pi.shape"
   ]
  },
  {
   "cell_type": "code",
   "execution_count": 20,
   "metadata": {},
   "outputs": [],
   "source": [
    "def p_derivative(var,pressure,order=1):\n",
    "    if order == 1:\n",
    "        dvar_dp_left = (var[:,[28]]-var[:,[29]])/(pressure[:,[28]]-pressure[:,[29]])\n",
    "        dvar_dp_mid = (var[:,:28]-var[:,2:30])/(pressure[:,:28]-pressure[:,2:30])\n",
    "        dvar_dp_right = (var[:,[1]]-var[:,[0]])/(pressure[:,[1]]-pressure[:,[0]])\n",
    "        output = np.concatenate((dvar_dp_right,dvar_dp_mid,dvar_dp_left),axis=1)\n",
    "    elif order == 2:\n",
    "        d2var_dp2_left = (var[:,[29]]-2*var[:,[28]]+var[:,[27]])/((0.5*(pressure[:,[29]]-pressure[:,[27]]))**2)\n",
    "        d2var_dp2_mid = (var[:,:28]+var[:,2:30]-2*var[:,1:29])/((0.5*(pressure[:,:28]-pressure[:,2:30]))**2)\n",
    "        d2var_dp2_right = (var[:,[2]]-2*var[:,[1]]+var[:,[0]])/((0.5*(pressure[:,[2]]-pressure[:,[0]]))**2)\n",
    "        output = np.concatenate((d2var_dp2_right,d2var_dp2_mid,d2var_dp2_left),axis=1)\n",
    "    \n",
    "    return output"
   ]
  },
  {
   "cell_type": "code",
   "execution_count": 21,
   "metadata": {},
   "outputs": [],
   "source": [
    "def p_integral(var,pressure,partial):\n",
    "    \n",
    "    g = 9.8\n",
    "    \n",
    "    if partial == 'above': INT = cumtrapz(x=pressure,y=var,initial=0)/g\n",
    "    elif partial == 'below': \n",
    "        INT = np.outer(trapz(x=pressure,y=var)/g,np.arange(0,30)**0)-\\\n",
    "        cumtrapz(x=pressure,y=var,initial=0)/g\n",
    "        \n",
    "    return INT"
   ]
  },
  {
   "cell_type": "markdown",
   "metadata": {},
   "source": [
    "### Calculate vertical derivatives via spline interpolation (this script is borrowed from Arthur Grundner (DLR))"
   ]
  },
  {
   "cell_type": "code",
   "execution_count": 22,
   "metadata": {},
   "outputs": [],
   "source": [
    "def p_der_spline(var,pressure_data,pressure_eval,order,kind='cubic'):\n",
    "    \n",
    "    assert var.shape[0] == pressure_eval.shape[0]\n",
    "    assert var.shape[0] == pressure_data.shape[0]\n",
    "    \n",
    "    output = np.zeros(pressure_eval.shape)\n",
    "    \n",
    "    for isample in range(var.shape[0]):\n",
    "        \n",
    "        f = interpolate.interp1d(pressure_data[isample,:],var[isample,:],kind,axis=0,fill_value=\"extrapolate\")\n",
    "        \n",
    "        if order == 1: der = misc.derivative(f, pressure_eval[isample,:], dx=1e-2, n=1, args=(), order=3)\n",
    "        elif order == 2: der = misc.derivative(f, pressure_eval[isample,:], dx=1e-2, n=2, args=(), order=5)\n",
    "        output[isample,:] = der\n",
    "    \n",
    "    return output"
   ]
  },
  {
   "cell_type": "markdown",
   "metadata": {},
   "source": [
    "### (Skippable) Test"
   ]
  },
  {
   "cell_type": "code",
   "execution_count": 94,
   "metadata": {},
   "outputs": [
    {
     "data": {
      "text/plain": [
       "(2000, 30)"
      ]
     },
     "execution_count": 94,
     "metadata": {},
     "output_type": "execute_result"
    }
   ],
   "source": [
    "pm.shape"
   ]
  },
  {
   "cell_type": "code",
   "execution_count": 95,
   "metadata": {},
   "outputs": [],
   "source": [
    "q_test = x_sub[:,:30].values"
   ]
  },
  {
   "cell_type": "code",
   "execution_count": 96,
   "metadata": {},
   "outputs": [],
   "source": [
    "q1_fd = p_derivative(q_test,pm,1)\n",
    "q2_fd = p_derivative(q1_fd,pm,1)\n",
    "q2_fd2 = p_derivative(q_test,pm,2)\n",
    "q1_sp = p_der_spline(q_test,pm,pm,1)\n",
    "q2_sp1 = p_der_spline(q_test,pm,pm,2)\n",
    "q2_sp2 = p_der_spline(q1_sp,pm,pm,1)"
   ]
  },
  {
   "cell_type": "code",
   "execution_count": 98,
   "metadata": {},
   "outputs": [
    {
     "data": {
      "image/png": "[encoded data removed]",
      "text/plain": [
       "<Figure size 432x288 with 1 Axes>"
      ]
     },
     "metadata": {
      "needs_background": "light"
     },
     "output_type": "display_data"
    }
   ],
   "source": [
    "plt.plot(q1_fd.mean(axis=0),pm.mean(axis=0),label='Finite differences')\n",
    "plt.plot(q1_sp.mean(axis=0),pm.mean(axis=0),label='Spline')\n",
    "plt.ylim((1e5,0))\n",
    "plt.legend();"
   ]
  },
  {
   "cell_type": "code",
   "execution_count": 100,
   "metadata": {},
   "outputs": [
    {
     "data": {
      "image/png": "[encoded data removed]",
      "text/plain": [
       "<Figure size 432x288 with 1 Axes>"
      ]
     },
     "metadata": {
      "needs_background": "light"
     },
     "output_type": "display_data"
    }
   ],
   "source": [
    "plt.plot(q2_fd.mean(axis=0),pm.mean(axis=0),label='Finite differences')\n",
    "plt.plot(q2_fd2.mean(axis=0),pm.mean(axis=0),label='Finite differences 2')\n",
    "plt.plot(q2_sp1.mean(axis=0),pm.mean(axis=0),label='Spline')\n",
    "# plt.plot(q2_sp2.mean(axis=0),pm.mean(axis=0),label='Spline')\n",
    "plt.ylim((1e5,0))\n",
    "plt.legend();"
   ]
  },
  {
   "cell_type": "markdown",
   "metadata": {},
   "source": [
    "## Create dictionary for sequential feature selection"
   ]
  },
  {
   "cell_type": "markdown",
   "metadata": {},
   "source": [
    "### Raw dictionary"
   ]
  },
  {
   "cell_type": "code",
   "execution_count": 23,
   "metadata": {},
   "outputs": [],
   "source": [
    "x_train = {}"
   ]
  },
  {
   "cell_type": "code",
   "execution_count": 24,
   "metadata": {},
   "outputs": [],
   "source": [
    "x_train['p'] = pm"
   ]
  },
  {
   "cell_type": "code",
   "execution_count": 25,
   "metadata": {},
   "outputs": [],
   "source": [
    "x_train['q'] = x_sub[:,:30].values"
   ]
  },
  {
   "cell_type": "code",
   "execution_count": 26,
   "metadata": {},
   "outputs": [],
   "source": [
    "x_train['dq_dp'] = p_der_spline(x_train['q'],x_train['p'],x_train['p'],1)\n",
    "x_train['dq_dp_FD'] = p_derivative(x_train['q'],x_train['p'],1)"
   ]
  },
  {
   "cell_type": "code",
   "execution_count": 27,
   "metadata": {},
   "outputs": [],
   "source": [
    "x_train['d2q_dp2'] = p_der_spline(x_train['q'],x_train['p'],x_train['p'],2)\n",
    "x_train['d2q_dp2_FD'] = p_derivative(x_train['dq_dp'],x_train['p'],1)"
   ]
  },
  {
   "cell_type": "code",
   "execution_count": 28,
   "metadata": {},
   "outputs": [],
   "source": [
    "x_train['Q_above'] = p_integral(x_train['q'],x_train['p'],'above')\n",
    "x_train['Q_below'] = p_integral(x_train['q'],x_train['p'],'below')"
   ]
  },
  {
   "cell_type": "code",
   "execution_count": 29,
   "metadata": {},
   "outputs": [],
   "source": [
    "x_train['T'] = x_sub[:,30:60].values"
   ]
  },
  {
   "cell_type": "code",
   "execution_count": 30,
   "metadata": {},
   "outputs": [],
   "source": [
    "x_train['dT_dp'] = p_der_spline(x_train['T'],x_train['p'],x_train['p'],1)\n",
    "x_train['d2T_dp2'] = p_der_spline(x_train['T'],x_train['p'],x_train['p'],2)"
   ]
  },
  {
   "cell_type": "code",
   "execution_count": 31,
   "metadata": {},
   "outputs": [],
   "source": [
    "x_train['dT_dp_FD'] = p_derivative(x_train['T'],x_train['p'],1)\n",
    "x_train['d2T_dp2_FD'] = p_derivative(x_train['dT_dp_FD'],x_train['p'],1)"
   ]
  },
  {
   "cell_type": "code",
   "execution_count": 32,
   "metadata": {},
   "outputs": [],
   "source": [
    "x_train['T_above'] = p_integral(x_train['T'],x_train['p'],'above')\n",
    "x_train['T_below'] = p_integral(x_train['T'],x_train['p'],'below')"
   ]
  },
  {
   "cell_type": "code",
   "execution_count": 33,
   "metadata": {},
   "outputs": [],
   "source": [
    "x_train['RH'] = xRH_sub.values\n",
    "\n",
    "x_train['dRH_dp'] = p_der_spline(x_train['RH'],x_train['p'],x_train['p'],1)\n",
    "x_train['dRH_dp_FD'] = p_derivative(x_train['RH'],x_train['p'],1)\n",
    "\n",
    "x_train['d2RH_dp2'] = p_der_spline(x_train['RH'],x_train['p'],x_train['p'],2)\n",
    "x_train['d2RH_dp2_FD'] = p_derivative(x_train['dRH_dp'],x_train['p'],1)\n",
    "\n",
    "x_train['RH_above'] = p_integral(x_train['RH'],x_train['p'],'above')\n",
    "x_train['RH_below'] = p_integral(x_train['RH'],x_train['p'],'below')\n",
    "\n",
    "x_train['B'] = xB_sub.values\n",
    "\n",
    "x_train['dB_dp'] = p_der_spline(x_train['B'],x_train['p'],x_train['p'],1)\n",
    "x_train['d2B_dp2'] = p_der_spline(x_train['B'],x_train['p'],x_train['p'],2)\n",
    "\n",
    "x_train['dB_dp_FD'] = p_derivative(x_train['B'],x_train['p'],1)\n",
    "x_train['d2B_dp2_FD'] = p_derivative(x_train['dB_dp_FD'],x_train['p'],1)\n",
    "\n",
    "x_train['B_above'] = p_integral(x_train['B'],x_train['p'],'above')\n",
    "x_train['B_below'] = p_integral(x_train['B'],x_train['p'],'below')"
   ]
  },
  {
   "cell_type": "code",
   "execution_count": 34,
   "metadata": {},
   "outputs": [],
   "source": [
    "x_train['ps'] = x_sub[:,60].values"
   ]
  },
  {
   "cell_type": "code",
   "execution_count": 35,
   "metadata": {},
   "outputs": [],
   "source": [
    "x_train['S0'] = x_sub[:,61].values"
   ]
  },
  {
   "cell_type": "code",
   "execution_count": 36,
   "metadata": {},
   "outputs": [],
   "source": [
    "x_train['SHF'] = x_sub[:,62].values"
   ]
  },
  {
   "cell_type": "code",
   "execution_count": 37,
   "metadata": {},
   "outputs": [],
   "source": [
    "x_train['LHF'] = x_sub[:,63].values"
   ]
  },
  {
   "cell_type": "code",
   "execution_count": 38,
   "metadata": {},
   "outputs": [],
   "source": [
    "x_train['LHFns'] = xLHFns_sub.values"
   ]
  },
  {
   "cell_type": "code",
   "execution_count": 39,
   "metadata": {},
   "outputs": [],
   "source": [
    "y_train = {}"
   ]
  },
  {
   "cell_type": "code",
   "execution_count": 40,
   "metadata": {},
   "outputs": [],
   "source": [
    "y_train['dq_dt'] = y_sub[:,:30].values"
   ]
  },
  {
   "cell_type": "code",
   "execution_count": 41,
   "metadata": {},
   "outputs": [],
   "source": [
    "y_train['dT_dt'] = y_sub[:,30:60].values"
   ]
  },
  {
   "cell_type": "code",
   "execution_count": 42,
   "metadata": {},
   "outputs": [],
   "source": [
    "x_test = {}; y_test = {}"
   ]
  },
  {
   "cell_type": "code",
   "execution_count": 43,
   "metadata": {},
   "outputs": [
    {
     "name": "stdout",
     "output_type": "stream",
     "text": [
      "Pressure\n",
      "Specific Humidity\n",
      "Temperature\n",
      "Relative Humidity\n",
      "Buoyancy\n",
      "Scalars\n",
      "Outputs\n",
      "Pressure\n",
      "Specific Humidity\n",
      "Temperature\n",
      "Relative Humidity\n",
      "Buoyancy\n",
      "Scalars\n",
      "Outputs\n",
      "Pressure\n",
      "Specific Humidity\n",
      "Temperature\n",
      "Relative Humidity\n",
      "Buoyancy\n",
      "Scalars\n",
      "Outputs\n"
     ]
    }
   ],
   "source": [
    "for iclim,clim in enumerate(climates):\n",
    "    x_test[clim] = {}; y_test[clim] = {};\n",
    "    print('Pressure')\n",
    "    x_test[clim]['p'] = P0*hyam+np.outer(xt_sub[clim][:,60].values,hybm)\n",
    "    print('Specific Humidity')\n",
    "    x_test[clim]['q'] = xt_sub[clim][:,:30].values\n",
    "    x_test[clim]['dq_dp'] = p_der_spline(x_test[clim]['q'],x_test[clim]['p'],x_test[clim]['p'],1)\n",
    "    x_test[clim]['dq_dp_FD'] = p_derivative(x_test[clim]['q'],x_test[clim]['p'],1)\n",
    "    x_test[clim]['d2q_dp2'] = p_der_spline(x_test[clim]['q'],x_test[clim]['p'],x_test[clim]['p'],2)\n",
    "    x_test[clim]['d2q_dp2_FD'] = p_derivative(x_test[clim]['dq_dp'],x_test[clim]['p'],1)\n",
    "    x_test[clim]['Q_above'] = p_integral(x_test[clim]['q'],x_test[clim]['p'],'above')\n",
    "    x_test[clim]['Q_below'] = p_integral(x_test[clim]['q'],x_test[clim]['p'],'below')\n",
    "    print('Temperature')\n",
    "    x_test[clim]['T'] = xt_sub[clim][:,30:60].values\n",
    "    x_test[clim]['dT_dp'] = p_der_spline(x_test[clim]['T'],x_test[clim]['p'],x_test[clim]['p'],1)\n",
    "    x_test[clim]['dT_dp_FD'] = p_derivative(x_test[clim]['T'],x_test[clim]['p'],1)\n",
    "    x_test[clim]['d2T_dp2'] = p_der_spline(x_test[clim]['T'],x_test[clim]['p'],x_test[clim]['p'],2)\n",
    "    x_test[clim]['d2T_dp2_FD'] = p_derivative(x_test[clim]['dT_dp'],x_test[clim]['p'],1)\n",
    "    x_test[clim]['T_above'] = p_integral(x_test[clim]['T'],x_test[clim]['p'],'above')\n",
    "    x_test[clim]['T_below'] = p_integral(x_test[clim]['T'],x_test[clim]['p'],'below')\n",
    "    print('Relative Humidity')\n",
    "    x_test[clim]['RH'] = xRHt_sub[clim].values\n",
    "    x_test[clim]['dRH_dp'] = p_der_spline(x_test[clim]['RH'],x_test[clim]['p'],x_test[clim]['p'],1)\n",
    "    x_test[clim]['dRH_dp_FD'] = p_derivative(x_test[clim]['RH'],x_test[clim]['p'],1)\n",
    "    x_test[clim]['d2RH_dp2'] = p_der_spline(x_test[clim]['RH'],x_test[clim]['p'],x_test[clim]['p'],2)\n",
    "    x_test[clim]['d2RH_dp2_FD'] = p_derivative(x_test[clim]['dRH_dp'],x_test[clim]['p'],1)\n",
    "    x_test[clim]['RH_above'] = p_integral(x_test[clim]['RH'],x_test[clim]['p'],'above')\n",
    "    x_test[clim]['RH_below'] = p_integral(x_test[clim]['RH'],x_test[clim]['p'],'below')\n",
    "    print('Buoyancy')\n",
    "    x_test[clim]['B'] = xBt_sub[clim].values\n",
    "    x_test[clim]['dB_dp'] = p_der_spline(x_test[clim]['B'],x_test[clim]['p'],x_test[clim]['p'],1)\n",
    "    x_test[clim]['dB_dp_FD'] = p_derivative(x_test[clim]['B'],x_test[clim]['p'],1)\n",
    "    x_test[clim]['d2B_dp2'] = p_der_spline(x_test[clim]['B'],x_test[clim]['p'],x_test[clim]['p'],2)\n",
    "    x_test[clim]['d2B_dp2_FD'] = p_derivative(x_test[clim]['dB_dp'],x_test[clim]['p'],1)\n",
    "    x_test[clim]['B_above'] = p_integral(x_test[clim]['B'],x_test[clim]['p'],'above')\n",
    "    x_test[clim]['B_below'] = p_integral(x_test[clim]['B'],x_test[clim]['p'],'below')\n",
    "    print('Scalars')\n",
    "    x_test[clim]['ps'] = xt_sub[clim][:,60].values\n",
    "    x_test[clim]['S0'] = xt_sub[clim][:,61].values\n",
    "    x_test[clim]['SHF'] = xt_sub[clim][:,62].values\n",
    "    x_test[clim]['LHF'] = xt_sub[clim][:,63].values\n",
    "    x_test[clim]['LHFns'] = xLHFnst_sub[clim].values\n",
    "    print('Outputs')\n",
    "    y_test[clim]['dq_dt'] = yt_sub[clim][:,:30].values\n",
    "    y_test[clim]['dT_dt'] = yt_sub[clim][:,30:60].values"
   ]
  },
  {
   "cell_type": "markdown",
   "metadata": {},
   "source": [
    "### Range normalization"
   ]
  },
  {
   "cell_type": "code",
   "execution_count": 44,
   "metadata": {},
   "outputs": [
    {
     "data": {
      "text/plain": [
       "dict_keys(['p', 'q', 'dq_dp', 'dq_dp_FD', 'd2q_dp2', 'd2q_dp2_FD', 'Q_above', 'Q_below', 'T', 'dT_dp', 'dT_dp_FD', 'd2T_dp2', 'd2T_dp2_FD', 'T_above', 'T_below', 'RH', 'dRH_dp', 'dRH_dp_FD', 'd2RH_dp2', 'd2RH_dp2_FD', 'RH_above', 'RH_below', 'B', 'dB_dp', 'dB_dp_FD', 'd2B_dp2', 'd2B_dp2_FD', 'B_above', 'B_below', 'ps', 'S0', 'SHF', 'LHF', 'LHFns'])"
      ]
     },
     "execution_count": 44,
     "metadata": {},
     "output_type": "execute_result"
    }
   ],
   "source": [
    "x_test[clim].keys()"
   ]
  },
  {
   "cell_type": "code",
   "execution_count": 45,
   "metadata": {},
   "outputs": [],
   "source": [
    "scalar_keys = ['ps','S0','SHF','LHF','LHFns']\n",
    "vector_keys = ['p', 'q', 'dq_dp', 'dq_dp_FD', 'd2q_dp2', 'd2q_dp2_FD', 'Q_above', 'Q_below',\n",
    "               'T', 'dT_dp', 'dT_dp_FD', 'd2T_dp2', 'd2T_dp2_FD', 'T_above', 'T_below',\n",
    "               'RH', 'dRH_dp', 'dRH_dp_FD', 'd2RH_dp2', 'd2RH_dp2_FD', 'RH_above', 'RH_below',\n",
    "               'B', 'dB_dp', 'dB_dp_FD', 'd2B_dp2', 'd2B_dp2_FD', 'B_above', 'B_below']\n",
    "combin_keys = np.concatenate((scalar_keys,vector_keys))"
   ]
  },
  {
   "cell_type": "code",
   "execution_count": 46,
   "metadata": {},
   "outputs": [],
   "source": [
    "Norm = {}\n",
    "Norm['mean'] = {}\n",
    "Norm['min'] = {}\n",
    "Norm['max'] = {}\n",
    "Norm['std'] = {}"
   ]
  },
  {
   "cell_type": "code",
   "execution_count": 47,
   "metadata": {},
   "outputs": [
    {
     "name": "stdout",
     "output_type": "stream",
     "text": [
      "ps\n",
      "S0\n",
      "SHF\n",
      "LHF\n",
      "LHFns\n",
      "p\n",
      "q\n",
      "dq_dp\n",
      "dq_dp_FD\n",
      "d2q_dp2\n",
      "d2q_dp2_FD\n",
      "Q_above\n",
      "Q_below\n",
      "T\n",
      "dT_dp\n",
      "dT_dp_FD\n",
      "d2T_dp2\n",
      "d2T_dp2_FD\n",
      "T_above\n",
      "T_below\n",
      "RH\n",
      "dRH_dp\n",
      "dRH_dp_FD\n",
      "d2RH_dp2\n",
      "d2RH_dp2_FD\n",
      "RH_above\n",
      "RH_below\n",
      "B\n",
      "dB_dp\n",
      "dB_dp_FD\n",
      "d2B_dp2\n",
      "d2B_dp2_FD\n",
      "B_above\n",
      "B_below\n"
     ]
    }
   ],
   "source": [
    "for keys in combin_keys:\n",
    "    print(keys)\n",
    "    Norm['mean'][keys] = np.mean(x_train[keys].flatten())\n",
    "    Norm['min'][keys] = np.min(x_train[keys].flatten())\n",
    "    Norm['max'][keys] = np.max(x_train[keys].flatten())\n",
    "    Norm['std'][keys] = np.std(x_train[keys].flatten())"
   ]
  },
  {
   "cell_type": "code",
   "execution_count": 48,
   "metadata": {},
   "outputs": [
    {
     "data": {
      "text/plain": [
       "{'mean': {'ps': 98420.22420507812,\n",
       "  'S0': 325.6373942442726,\n",
       "  'SHF': 12.388122436263854,\n",
       "  'LHF': 61.59621272370876,\n",
       "  'LHFns': 0.011763284,\n",
       "  'p': 41526.65731955722,\n",
       "  'q': 0.0015508850766203397,\n",
       "  'dq_dp': 6.172190265004023e-08,\n",
       "  'dq_dp_FD': 5.792980038394431e-08,\n",
       "  'd2q_dp2': 9.511480088082781e-12,\n",
       "  'd2q_dp2_FD': 8.223023699743662e-12,\n",
       "  'Q_above': 2.9252379140388842,\n",
       "  'Q_below': 10.960592928240432,\n",
       "  'T': 236.48867549235027,\n",
       "  'dT_dp': -0.000467738675091861,\n",
       "  'dT_dp_FD': -0.0007370167801877638,\n",
       "  'd2T_dp2': -2.431835362681767e-06,\n",
       "  'd2T_dp2_FD': 6.743973108496181e-07,\n",
       "  'T_above': 971104.2556779507,\n",
       "  'T_below': 1430665.6333679894,\n",
       "  'RH': 0.46106228,\n",
       "  'dRH_dp': 1.0521480313847428e-05,\n",
       "  'dRH_dp_FD': 1.0140502078944683e-05,\n",
       "  'd2RH_dp2': 2.2547496539875596e-09,\n",
       "  'd2RH_dp2_FD': 9.423792940991145e-11,\n",
       "  'RH_above': 1874.1265834263277,\n",
       "  'RH_below': 3600.7315871878895,\n",
       "  'B': -1.7085992,\n",
       "  'dB_dp': -0.000125052253036577,\n",
       "  'dB_dp_FD': -0.0001158895372919799,\n",
       "  'd2B_dp2': 6.78326528381123e-08,\n",
       "  'd2B_dp2_FD': 2.7248889446912675e-07,\n",
       "  'B_above': -5718.413943061845,\n",
       "  'B_below': -2000.4142618940648},\n",
       " 'min': {'ps': 91200.6484375,\n",
       "  'S0': 0.0,\n",
       "  'SHF': -50.49285888671875,\n",
       "  'LHF': -41.965492248535156,\n",
       "  'LHFns': -0.016779484,\n",
       "  'p': 364.346569404006,\n",
       "  'q': 8.394594885885454e-08,\n",
       "  'dq_dp': -2.87839761734833e-06,\n",
       "  'dq_dp_FD': -1.6762222182183383e-06,\n",
       "  'd2q_dp2': -2.048881897476207e-09,\n",
       "  'd2q_dp2_FD': -1.4044212844334481e-09,\n",
       "  'Q_above': 0.0,\n",
       "  'Q_below': -1.4210854715202004e-14,\n",
       "  'T': 157.4842987060547,\n",
       "  'dT_dp': -0.06718642408856113,\n",
       "  'dT_dp_FD': -0.05425973391685644,\n",
       "  'd2T_dp2': -0.0003125082059796114,\n",
       "  'd2T_dp2_FD': -8.815155222046416e-05,\n",
       "  'T_above': 0.0,\n",
       "  'T_below': -1.3969838619232178e-09,\n",
       "  'RH': 1.1313796e-05,\n",
       "  'dRH_dp': -0.0021865933997111675,\n",
       "  'dRH_dp_FD': -0.0007865536274056879,\n",
       "  'd2RH_dp2': -1.1274078060008463e-05,\n",
       "  'd2RH_dp2_FD': -8.817183079397839e-06,\n",
       "  'RH_above': 0.0,\n",
       "  'RH_below': -3.637978807091713e-12,\n",
       "  'B': -13.24503,\n",
       "  'dB_dp': -0.02644211903306548,\n",
       "  'dB_dp_FD': -0.016166268938849336,\n",
       "  'd2B_dp2': -5.309547246312718e-05,\n",
       "  'd2B_dp2_FD': -1.4926972581952958e-05,\n",
       "  'B_above': -14320.471322552115,\n",
       "  'B_below': -14320.471322552115},\n",
       " 'max': {'ps': 102081.09375,\n",
       "  'S0': 1410.4503173828125,\n",
       "  'SHF': 197.4719696044922,\n",
       "  'LHF': 526.390625,\n",
       "  'LHFns': 0.100922756,\n",
       "  'p': 101321.21179841459,\n",
       "  'q': 0.017017923295497894,\n",
       "  'dq_dp': 2.7895305185557384e-06,\n",
       "  'dq_dp_FD': 1.8140408281660777e-06,\n",
       "  'd2q_dp2': 2.8250448855238197e-09,\n",
       "  'd2q_dp2_FD': 1.8615290338994712e-09,\n",
       "  'Q_above': 53.79444714045043,\n",
       "  'Q_below': 53.79444714045043,\n",
       "  'T': 297.6890563964844,\n",
       "  'dT_dp': 0.06236038551037382,\n",
       "  'dT_dp_FD': 0.023237158304055826,\n",
       "  'd2T_dp2': 0.000181103523289039,\n",
       "  'd2T_dp2_FD': 5.523486503563981e-05,\n",
       "  'T_above': 2535127.4939785614,\n",
       "  'T_below': 2535127.493978562,\n",
       "  'RH': 1.7204748,\n",
       "  'dRH_dp': 0.0038881184016792414,\n",
       "  'dRH_dp_FD': 0.0020055971833256576,\n",
       "  'd2RH_dp2': 9.931579100785903e-06,\n",
       "  'd2RH_dp2_FD': 7.125652944946795e-06,\n",
       "  'RH_above': 10932.774017876109,\n",
       "  'RH_below': 10932.774017876109,\n",
       "  'B': 0.5255865,\n",
       "  'dB_dp': 0.010417234411574938,\n",
       "  'dB_dp_FD': 0.0060215554215748614,\n",
       "  'd2B_dp2': 6.355260595558576e-05,\n",
       "  'd2B_dp2_FD': 2.7000485485976635e-05,\n",
       "  'B_above': 82.21872906891936,\n",
       "  'B_below': 2731.3413291641073},\n",
       " 'std': {'ps': 1220.6158163747475,\n",
       "  'S0': 422.3783492287991,\n",
       "  'SHF': 15.749000771546802,\n",
       "  'LHF': 66.58789312351146,\n",
       "  'LHFns': 0.009639177,\n",
       "  'p': 35308.24797111213,\n",
       "  'q': 0.0030441985891459774,\n",
       "  'dq_dp': 1.350202465076214e-07,\n",
       "  'dq_dp_FD': 1.102134732989828e-07,\n",
       "  'd2q_dp2': 7.856960131752786e-11,\n",
       "  'd2q_dp2_FD': 5.1719598365849794e-11,\n",
       "  'Q_above': 6.562157213182486,\n",
       "  'Q_below': 10.821095473142654,\n",
       "  'T': 30.741374365537286,\n",
       "  'dT_dp': 0.007777554633344627,\n",
       "  'dT_dp_FD': 0.006078661250065847,\n",
       "  'd2T_dp2': 3.0458486020901166e-05,\n",
       "  'd2T_dp2_FD': 6.544292146923019e-06,\n",
       "  'T_above': 869480.8241931116,\n",
       "  'T_below': 870990.5887578164,\n",
       "  'RH': 0.38859382,\n",
       "  'dRH_dp': 0.00015294465661107963,\n",
       "  'dRH_dp_FD': 8.335036645184498e-05,\n",
       "  'd2RH_dp2': 5.48663546901625e-07,\n",
       "  'd2RH_dp2_FD': 3.752794227054598e-07,\n",
       "  'RH_above': 2234.5901016137364,\n",
       "  'RH_below': 2335.106213689123,\n",
       "  'B': 2.4700446,\n",
       "  'dB_dp': 0.0017823105716938692,\n",
       "  'dB_dp_FD': 0.0014889744571430945,\n",
       "  'd2B_dp2': 4.37150838703866e-06,\n",
       "  'd2B_dp2_FD': 1.5310583029021367e-06,\n",
       "  'B_above': 3544.4430084904666,\n",
       "  'B_below': 3233.975678163571}}"
      ]
     },
     "execution_count": 48,
     "metadata": {},
     "output_type": "execute_result"
    }
   ],
   "source": [
    "Norm"
   ]
  },
  {
   "cell_type": "code",
   "execution_count": null,
   "metadata": {},
   "outputs": [],
   "source": [
    "# Save normalization file\n",
    "path_norm_file = '/DFS-L/DATA/pritchard/tbeucler/SPCAM/SPCAM_PHYS/Polynomial_Fits/'\n",
    "pkl.dump(Norm,open(path_norm_file+'2022_07_08','wb'))"
   ]
  },
  {
   "cell_type": "code",
   "execution_count": 70,
   "metadata": {},
   "outputs": [],
   "source": [
    "x_train_range = {}\n",
    "x_test_range = {}"
   ]
  },
  {
   "cell_type": "code",
   "execution_count": 71,
   "metadata": {},
   "outputs": [],
   "source": [
    "for key in scalar_keys:\n",
    "    x_train[key] = np.outer(x_train[key],np.ones((30,)))"
   ]
  },
  {
   "cell_type": "code",
   "execution_count": 72,
   "metadata": {},
   "outputs": [],
   "source": [
    "for iclim,clim in enumerate(climates):\n",
    "    for key in scalar_keys:\n",
    "        x_test[clim][key] = np.outer(x_test[clim][key],np.ones((30,)))"
   ]
  },
  {
   "cell_type": "code",
   "execution_count": 73,
   "metadata": {},
   "outputs": [],
   "source": [
    "for key in combin_keys: x_train_range[key] = (x_train[key].flatten()-Norm['min'][key])/(Norm['max'][key]-Norm['min'][key])"
   ]
  },
  {
   "cell_type": "code",
   "execution_count": 74,
   "metadata": {},
   "outputs": [],
   "source": [
    "for iclim,clim in enumerate(climates):\n",
    "    x_test_range[clim] = {}\n",
    "    for key in combin_keys:\n",
    "        x_test_range[clim][key] = (x_test[clim][key].flatten()-Norm['min'][key])/(Norm['max'][key]-Norm['min'][key])"
   ]
  },
  {
   "cell_type": "code",
   "execution_count": 185,
   "metadata": {},
   "outputs": [
    {
     "name": "stderr",
     "output_type": "stream",
     "text": [
      "/DFS-L/DATA/pritchard/tbeucler/Miniconda3_2021_04_12/miniconda3/envs/CbrainCustomLayer/lib/python3.6/site-packages/ipykernel_launcher.py:2: RuntimeWarning: More than 20 figures have been opened. Figures created through the pyplot interface (`matplotlib.pyplot.figure`) are retained until explicitly closed and may consume too much memory. (To control this warning, see the rcParam `figure.max_open_warning`).\n",
      "  \n"
     ]
    },
    {
     "data": {
      "image/png": "[encoded data removed]",
      "text/plain": [
       "<Figure size 1080x216 with 1 Axes>"
      ]
     },
     "metadata": {
      "needs_background": "light"
     },
     "output_type": "display_data"
    },
    {
     "data": {
      "image/png": "[encoded data removed]",
      "text/plain": [
       "<Figure size 1080x216 with 1 Axes>"
      ]
     },
     "metadata": {
      "needs_background": "light"
     },
     "output_type": "display_data"
    },
    {
     "data": {
      "image/png": "[encoded data removed]",
      "text/plain": [
       "<Figure size 1080x216 with 1 Axes>"
      ]
     },
     "metadata": {
      "needs_background": "light"
     },
     "output_type": "display_data"
    },
    {
     "data": {
      "image/png": "[encoded data removed]",
      "text/plain": [
       "<Figure size 1080x216 with 1 Axes>"
      ]
     },
     "metadata": {
      "needs_background": "light"
     },
     "output_type": "display_data"
    },
    {
     "data": {
      "image/png": "[encoded data removed]",
      "text/plain": [
       "<Figure size 1080x216 with 1 Axes>"
      ]
     },
     "metadata": {
      "needs_background": "light"
     },
     "output_type": "display_data"
    },
    {
     "data": {
      "image/png": "[encoded data removed]",
      "text/plain": [
       "<Figure size 1080x216 with 1 Axes>"
      ]
     },
     "metadata": {
      "needs_background": "light"
     },
     "output_type": "display_data"
    },
    {
     "data": {
      "image/png": "[encoded data removed]",
      "text/plain": [
       "<Figure size 1080x216 with 1 Axes>"
      ]
     },
     "metadata": {
      "needs_background": "light"
     },
     "output_type": "display_data"
    },
    {
     "data": {
      "image/png": "[encoded data removed]",
      "text/plain": [
       "<Figure size 1080x216 with 1 Axes>"
      ]
     },
     "metadata": {
      "needs_background": "light"
     },
     "output_type": "display_data"
    },
    {
     "data": {
      "image/png": "[encoded data removed]",
      "text/plain": [
       "<Figure size 1080x216 with 1 Axes>"
      ]
     },
     "metadata": {
      "needs_background": "light"
     },
     "output_type": "display_data"
    },
    {
     "data": {
      "image/png": "[encoded data removed]",
      "text/plain": [
       "<Figure size 1080x216 with 1 Axes>"
      ]
     },
     "metadata": {
      "needs_background": "light"
     },
     "output_type": "display_data"
    },
    {
     "data": {
      "image/png": "[encoded data removed]",
      "text/plain": [
       "<Figure size 1080x216 with 1 Axes>"
      ]
     },
     "metadata": {
      "needs_background": "light"
     },
     "output_type": "display_data"
    },
    {
     "data": {
      "image/png": "[encoded data removed]",
      "text/plain": [
       "<Figure size 1080x216 with 1 Axes>"
      ]
     },
     "metadata": {
      "needs_background": "light"
     },
     "output_type": "display_data"
    },
    {
     "data": {
      "image/png": "[encoded data removed]",
      "text/plain": [
       "<Figure size 1080x216 with 1 Axes>"
      ]
     },
     "metadata": {
      "needs_background": "light"
     },
     "output_type": "display_data"
    },
    {
     "data": {
      "image/png": "[encoded data removed]",
      "text/plain": [
       "<Figure size 1080x216 with 1 Axes>"
      ]
     },
     "metadata": {
      "needs_background": "light"
     },
     "output_type": "display_data"
    },
    {
     "data": {
      "image/png": "[encoded data removed]",
      "text/plain": [
       "<Figure size 1080x216 with 1 Axes>"
      ]
     },
     "metadata": {
      "needs_background": "light"
     },
     "output_type": "display_data"
    },
    {
     "data": {
      "image/png": "[encoded data removed]",
      "text/plain": [
       "<Figure size 1080x216 with 1 Axes>"
      ]
     },
     "metadata": {
      "needs_background": "light"
     },
     "output_type": "display_data"
    },
    {
     "data": {
      "image/png": "[encoded data removed]",
      "text/plain": [
       "<Figure size 1080x216 with 1 Axes>"
      ]
     },
     "metadata": {
      "needs_background": "light"
     },
     "output_type": "display_data"
    },
    {
     "data": {
      "image/png": "[encoded data removed]",
      "text/plain": [
       "<Figure size 1080x216 with 1 Axes>"
      ]
     },
     "metadata": {
      "needs_background": "light"
     },
     "output_type": "display_data"
    },
    {
     "data": {
      "image/png": "[encoded data removed]",
      "text/plain": [
       "<Figure size 1080x216 with 1 Axes>"
      ]
     },
     "metadata": {
      "needs_background": "light"
     },
     "output_type": "display_data"
    },
    {
     "data": {
      "image/png": "[encoded data removed]",
      "text/plain": [
       "<Figure size 1080x216 with 1 Axes>"
      ]
     },
     "metadata": {
      "needs_background": "light"
     },
     "output_type": "display_data"
    },
    {
     "data": {
      "image/png": "[encoded data removed]",
      "text/plain": [
       "<Figure size 1080x216 with 1 Axes>"
      ]
     },
     "metadata": {
      "needs_background": "light"
     },
     "output_type": "display_data"
    },
    {
     "data": {
      "image/png": "[encoded data removed]",
      "text/plain": [
       "<Figure size 1080x216 with 1 Axes>"
      ]
     },
     "metadata": {
      "needs_background": "light"
     },
     "output_type": "display_data"
    },
    {
     "data": {
      "image/png": "[encoded data removed]",
      "text/plain": [
       "<Figure size 1080x216 with 1 Axes>"
      ]
     },
     "metadata": {
      "needs_background": "light"
     },
     "output_type": "display_data"
    },
    {
     "data": {
      "image/png": "[encoded data removed]",
      "text/plain": [
       "<Figure size 1080x216 with 1 Axes>"
      ]
     },
     "metadata": {
      "needs_background": "light"
     },
     "output_type": "display_data"
    },
    {
     "data": {
      "image/png": "[encoded data removed]",
      "text/plain": [
       "<Figure size 1080x216 with 1 Axes>"
      ]
     },
     "metadata": {
      "needs_background": "light"
     },
     "output_type": "display_data"
    },
    {
     "data": {
      "image/png": "[encoded data removed]",
      "text/plain": [
       "<Figure size 1080x216 with 1 Axes>"
      ]
     },
     "metadata": {
      "needs_background": "light"
     },
     "output_type": "display_data"
    },
    {
     "data": {
      "image/png": "[encoded data removed]",
      "text/plain": [
       "<Figure size 1080x216 with 1 Axes>"
      ]
     },
     "metadata": {
      "needs_background": "light"
     },
     "output_type": "display_data"
    },
    {
     "data": {
      "image/png": "[encoded data removed]",
      "text/plain": [
       "<Figure size 1080x216 with 1 Axes>"
      ]
     },
     "metadata": {
      "needs_background": "light"
     },
     "output_type": "display_data"
    },
    {
     "data": {
      "image/png": "[encoded data removed]",
      "text/plain": [
       "<Figure size 1080x216 with 1 Axes>"
      ]
     },
     "metadata": {
      "needs_background": "light"
     },
     "output_type": "display_data"
    },
    {
     "data": {
      "image/png": "[encoded data removed]",
      "text/plain": [
       "<Figure size 1080x216 with 1 Axes>"
      ]
     },
     "metadata": {
      "needs_background": "light"
     },
     "output_type": "display_data"
    },
    {
     "data": {
      "image/png": "[encoded data removed]",
      "text/plain": [
       "<Figure size 1080x216 with 1 Axes>"
      ]
     },
     "metadata": {
      "needs_background": "light"
     },
     "output_type": "display_data"
    },
    {
     "data": {
      "image/png": "[encoded data removed]",
      "text/plain": [
       "<Figure size 1080x216 with 1 Axes>"
      ]
     },
     "metadata": {
      "needs_background": "light"
     },
     "output_type": "display_data"
    },
    {
     "data": {
      "image/png": "[encoded data removed]",
      "text/plain": [
       "<Figure size 1080x216 with 1 Axes>"
      ]
     },
     "metadata": {
      "needs_background": "light"
     },
     "output_type": "display_data"
    }
   ],
   "source": [
    "for key in combin_keys:\n",
    "    fig = plt.figure(figsize=(15,3))\n",
    "    plt.ylabel(key)\n",
    "    plt.hist(x_train_range[key],bins=100);"
   ]
  },
  {
   "cell_type": "markdown",
   "metadata": {},
   "source": [
    "## Pre-processing for regression purposes"
   ]
  },
  {
   "cell_type": "code",
   "execution_count": 75,
   "metadata": {},
   "outputs": [
    {
     "data": {
      "text/plain": [
       "dict_keys(['ps', 'S0', 'SHF', 'LHF', 'LHFns', 'p', 'q', 'dq_dp', 'dq_dp_FD', 'd2q_dp2', 'd2q_dp2_FD', 'Q_above', 'Q_below', 'T', 'dT_dp', 'dT_dp_FD', 'd2T_dp2', 'd2T_dp2_FD', 'T_above', 'T_below', 'RH', 'dRH_dp', 'dRH_dp_FD', 'd2RH_dp2', 'd2RH_dp2_FD', 'RH_above', 'RH_below', 'B', 'dB_dp', 'dB_dp_FD', 'd2B_dp2', 'd2B_dp2_FD', 'B_above', 'B_below'])"
      ]
     },
     "execution_count": 75,
     "metadata": {},
     "output_type": "execute_result"
    }
   ],
   "source": [
    "x_train_range.keys()"
   ]
  },
  {
   "cell_type": "code",
   "execution_count": 76,
   "metadata": {},
   "outputs": [
    {
     "data": {
      "text/plain": [
       "dict_keys(['m4K', 'ref', 'p4K'])"
      ]
     },
     "execution_count": 76,
     "metadata": {},
     "output_type": "execute_result"
    }
   ],
   "source": [
    "x_test_range.keys()"
   ]
  },
  {
   "cell_type": "code",
   "execution_count": 101,
   "metadata": {},
   "outputs": [],
   "source": [
    "local_keys = ['ps', 'S0', 'SHF', 'LHF','LHFns','p', 'q', 'dq_dp_FD',\n",
    "              'd2q_dp2_FD','T', 'dT_dp_FD','d2T_dp2_FD','RH', 'dRH_dp_FD',\n",
    "              'd2RH_dp2_FD','B', 'dB_dp_FD','d2B_dp2_FD']\n",
    "local_CI_keys = ['ps', 'S0', 'SHF','LHFns','p','RH', 'dRH_dp_FD',\n",
    "              'd2RH_dp2_FD','B', 'dB_dp_FD','d2B_dp2_FD']\n",
    "local_BF_keys = ['ps', 'S0', 'SHF', 'LHF', 'p', 'q', 'dq_dp_FD',\n",
    "              'd2q_dp2_FD','T', 'dT_dp_FD','d2T_dp2_FD']"
   ]
  },
  {
   "cell_type": "code",
   "execution_count": 102,
   "metadata": {},
   "outputs": [],
   "source": [
    "X_test_local = {}; X_test_localCI = {}; X_test_localBF = {};"
   ]
  },
  {
   "cell_type": "code",
   "execution_count": 103,
   "metadata": {},
   "outputs": [],
   "source": [
    "X_train_local = np.zeros((x_train_range['p'].shape[0],len(local_keys)))\n",
    "X_train_localCI = np.zeros((x_train_range['p'].shape[0],len(local_CI_keys)))\n",
    "X_train_localBF = np.zeros((x_train_range['p'].shape[0],len(local_BF_keys)))\n",
    "for iclim,clim in enumerate(climates):\n",
    "    X_test_local[clim] = np.zeros((x_test_range[clim]['p'].shape[0],len(local_keys)))\n",
    "    X_test_localCI[clim] = np.zeros((x_test_range[clim]['p'].shape[0],len(local_CI_keys)))\n",
    "    X_test_localBF[clim] = np.zeros((x_test_range[clim]['p'].shape[0],len(local_BF_keys)))"
   ]
  },
  {
   "cell_type": "code",
   "execution_count": 104,
   "metadata": {},
   "outputs": [
    {
     "name": "stdout",
     "output_type": "stream",
     "text": [
      "ps\n",
      "S0\n",
      "SHF\n",
      "LHF\n",
      "LHFns\n",
      "p\n",
      "q\n",
      "dq_dp_FD\n",
      "d2q_dp2_FD\n",
      "T\n",
      "dT_dp_FD\n",
      "d2T_dp2_FD\n",
      "RH\n",
      "dRH_dp_FD\n",
      "d2RH_dp2_FD\n",
      "B\n",
      "dB_dp_FD\n",
      "d2B_dp2_FD\n"
     ]
    }
   ],
   "source": [
    "for ikey,key in enumerate(local_keys):\n",
    "    print(key)\n",
    "    X_train_local[:,ikey] = x_train_range[key]\n",
    "    for iclim,clim in enumerate(climates):\n",
    "        X_test_local[clim][:,ikey] = x_test_range[clim][key]"
   ]
  },
  {
   "cell_type": "code",
   "execution_count": 105,
   "metadata": {},
   "outputs": [
    {
     "name": "stdout",
     "output_type": "stream",
     "text": [
      "ps\n",
      "S0\n",
      "SHF\n",
      "LHFns\n",
      "p\n",
      "RH\n",
      "dRH_dp_FD\n",
      "d2RH_dp2_FD\n",
      "B\n",
      "dB_dp_FD\n",
      "d2B_dp2_FD\n"
     ]
    }
   ],
   "source": [
    "for ikey,key in enumerate(local_CI_keys):\n",
    "    print(key)\n",
    "    X_train_localCI[:,ikey] = x_train_range[key]\n",
    "    for iclim,clim in enumerate(climates):\n",
    "        X_test_localCI[clim][:,ikey] = x_test_range[clim][key]"
   ]
  },
  {
   "cell_type": "code",
   "execution_count": 106,
   "metadata": {},
   "outputs": [
    {
     "name": "stdout",
     "output_type": "stream",
     "text": [
      "ps\n",
      "S0\n",
      "SHF\n",
      "LHF\n",
      "p\n",
      "q\n",
      "dq_dp_FD\n",
      "d2q_dp2_FD\n",
      "T\n",
      "dT_dp_FD\n",
      "d2T_dp2_FD\n"
     ]
    }
   ],
   "source": [
    "for ikey,key in enumerate(local_BF_keys):\n",
    "    print(key)\n",
    "    X_train_localBF[:,ikey] = x_train_range[key]\n",
    "    for iclim,clim in enumerate(climates):\n",
    "        X_test_localBF[clim][:,ikey] = x_test_range[clim][key]"
   ]
  },
  {
   "cell_type": "code",
   "execution_count": 107,
   "metadata": {},
   "outputs": [],
   "source": [
    "dtdt_test = {}; dqdt_test = {}; dTdt_test = {}; dQdt_test = {};"
   ]
  },
  {
   "cell_type": "code",
   "execution_count": 108,
   "metadata": {},
   "outputs": [],
   "source": [
    "dtdt_train = y_train['dT_dt'].flatten()\n",
    "dqdt_train = y_train['dq_dt'].flatten()\n",
    "dTdt_train = (y_train['dT_dt'] * scale_dict['TPHYSTND']).flatten()\n",
    "dQdt_train = (y_train['dq_dt'] * scale_dict['PHQ']).flatten()\n",
    "for iclim,clim in enumerate(climates):\n",
    "    dtdt_test[clim] = y_test[clim]['dT_dt'].flatten()\n",
    "    dqdt_test[clim] = y_test[clim]['dq_dt'].flatten()\n",
    "    dTdt_test[clim] = (y_test[clim]['dT_dt'] * scale_dict['TPHYSTND']).flatten()\n",
    "    dQdt_test[clim] = (y_test[clim]['dq_dt'] * scale_dict['PHQ']).flatten()"
   ]
  },
  {
   "cell_type": "markdown",
   "metadata": {},
   "source": [
    "# Pol fit + Seq Feature Selection using local variables"
   ]
  },
  {
   "cell_type": "code",
   "execution_count": 85,
   "metadata": {},
   "outputs": [],
   "source": [
    "save_folder = path_data+'Polynomial_Fits/'"
   ]
  },
  {
   "cell_type": "markdown",
   "metadata": {},
   "source": [
    "## Linear"
   ]
  },
  {
   "cell_type": "code",
   "execution_count": 225,
   "metadata": {},
   "outputs": [],
   "source": [
    "cv = 2\n",
    "min_features_to_select = 1\n",
    "max_features_to_select = 8"
   ]
  },
  {
   "cell_type": "code",
   "execution_count": 226,
   "metadata": {},
   "outputs": [],
   "source": [
    "dict_combined = {}"
   ]
  },
  {
   "cell_type": "code",
   "execution_count": 227,
   "metadata": {},
   "outputs": [
    {
     "name": "stdout",
     "output_type": "stream",
     "text": [
      "Features selected by forward sequential selection: ['dq_dp']\n",
      "{'dq_dp': 54.31796579730877, 'LR_Bias': -21.815431515921336, 'mse_train': 915.5020223796404, 'mse_test': {'m4K': 917.6434408519103, 'ref': 1333.006012529806, 'p4K': 2094.4517594224794}} \n",
      "\n",
      "Features selected by forward sequential selection: ['dq_dp', 'RH']\n",
      "{'dq_dp': 84.30882805272164, 'RH': -13.59040121107867, 'LR_Bias': -29.741845079028185, 'mse_train': 905.9318436860976, 'mse_test': {'m4K': 909.5442409866495, 'ref': 1321.6277299682847, 'p4K': 2076.2631105116166}} \n",
      "\n",
      "Features selected by forward sequential selection: ['p', 'dq_dp', 'RH']\n",
      "{'p': 9.020586694117954, 'dq_dp': 61.61555567717078, 'RH': -21.5830060529261, 'LR_Bias': -22.078063250389572, 'mse_train': 902.3453127310415, 'mse_test': {'m4K': 906.9919373190714, 'ref': 1316.0295835452239, 'p4K': 2068.6751119813875}} \n",
      "\n",
      "Features selected by forward sequential selection: ['p', 'dq_dp', 'T', 'RH']\n",
      "{'p': 32.65287241912399, 'dq_dp': 87.75794655013664, 'T': -36.48775457132747, 'RH': -31.529971713062217, 'LR_Bias': -18.621928193942352, 'mse_train': 892.3839618694171, 'mse_test': {'m4K': 896.6513891288865, 'ref': 1300.469206501734, 'p4K': 2048.0978056258864}} \n",
      "\n",
      "Features selected by forward sequential selection: ['LHF', 'p', 'dq_dp', 'T', 'RH']\n",
      "{'LHF': 12.361738258842564, 'p': 33.488884623139924, 'dq_dp': 79.78474655219595, 'T': -37.85375735731044, 'RH': -30.651002211169928, 'LR_Bias': -17.972020265013168, 'mse_train': 889.3238524090272, 'mse_test': {'m4K': 893.5153410884171, 'ref': 1294.341018943647, 'p4K': 2040.1350318706316}} \n",
      "\n",
      "Features selected by forward sequential selection: ['LHF', 'p', 'q', 'dq_dp', 'T', 'RH']\n",
      "{'LHF': 14.355876621305455, 'p': 31.995786974149954, 'q': -14.361438745588067, 'dq_dp': 100.49666703400604, 'T': -31.160604738068514, 'RH': -28.36494040902103, 'LR_Bias': -29.16578683420681, 'mse_train': 887.0981317570853, 'mse_test': {'m4K': 890.731129068249, 'ref': 1291.5689252344937, 'p4K': 2039.9773131876511}} \n",
      "\n",
      "Features selected by forward sequential selection: ['SHF', 'LHF', 'p', 'q', 'dq_dp', 'T', 'RH']\n",
      "{'SHF': -18.3623571393776, 'LHF': 20.262111646375235, 'p': 33.60149452699086, 'q': -15.845650696073433, 'dq_dp': 99.07339662698989, 'T': -32.65332323041859, 'RH': -28.714305206086717, 'LR_Bias': -25.885983088030816, 'mse_train': 885.9774889579362, 'mse_test': {'m4K': 889.6948911529121, 'ref': 1289.4768659919102, 'p4K': 2037.353053030093}} \n",
      "\n"
     ]
    }
   ],
   "source": [
    "lin_reg = LinearRegression()\n",
    "for no_features in np.arange(min_features_to_select, max_features_to_select):   \n",
    "    \n",
    "    sfs = SequentialFeatureSelector(lin_reg, n_features_to_select=no_features, direction='forward', cv=cv, n_jobs=-1)\n",
    "    sfs.fit(X_train_local, dQdt_train)\n",
    "    selected_features = np.array(local_keys)[sfs.get_support()].tolist()\n",
    "    print(\n",
    "        \"Features selected by forward sequential selection: \"\n",
    "        f\"{selected_features}\"\n",
    "    )\n",
    "\n",
    "    X_transformed = sfs.transform(X_train_local)\n",
    "\n",
    "    lin_reg.fit(X_transformed, dQdt_train)\n",
    "    ypred = lin_reg.predict(X_transformed)\n",
    "    mse_train = mean_squared_error(dQdt_train, ypred)\n",
    "    mse_test = {}; ypred_test = {};\n",
    "    for iclim,clim in enumerate(climates):\n",
    "        ypred_test[clim] = lin_reg.predict(sfs.transform(X_test_local[clim]))\n",
    "        mse_test[clim] = mean_squared_error(dQdt_test[clim], ypred_test[clim])\n",
    "    \n",
    "    # Output function\n",
    "    dict_exp = {}\n",
    "    for i in range(len(selected_features)):\n",
    "        dict_exp[selected_features[i]] = lin_reg.coef_[i]\n",
    "    dict_exp['LR_Bias'] = lin_reg.intercept_\n",
    "    dict_exp['mse_train'] = mse_train\n",
    "    dict_exp['mse_test'] = mse_test\n",
    "    print(dict_exp,'\\n')\n",
    "    \n",
    "    dict_combined['Number of variables %d'%no_features] = dict_exp"
   ]
  },
  {
   "cell_type": "code",
   "execution_count": 228,
   "metadata": {},
   "outputs": [
    {
     "name": "stdout",
     "output_type": "stream",
     "text": [
      "Features selected by forward sequential selection: ['dq_dp']\n",
      "{'dq_dp': 54.31796579730877, 'LR_Bias': -21.815431515921336, 'mse_train': 915.5020223796404, 'mse_test': {'m4K': 917.6434408519103, 'ref': 1333.006012529806, 'p4K': 2094.4517594224794}} \n",
      "\n",
      "Features selected by forward sequential selection: ['q', 'dq_dp']\n",
      "{'q': -18.66072354759615, 'dq_dp': 106.63755680521359, 'LR_Bias': -40.9017067730624, 'mse_train': 909.7233442183652, 'mse_test': {'m4K': 911.1066613596719, 'ref': 1325.6726198350236, 'p4K': 2087.3041071966877}} \n",
      "\n",
      "Features selected by forward sequential selection: ['LHF', 'q', 'dq_dp']\n",
      "{'LHF': 16.2170616390927, 'q': -20.84108524248498, 'dq_dp': 104.34386079467971, 'LR_Bias': -43.31906465618594, 'mse_train': 904.3813556943984, 'mse_test': {'m4K': 905.7249196977888, 'ref': 1317.3370072006007, 'p4K': 2077.7366165920325}} \n",
      "\n",
      "Features selected by forward sequential selection: ['ps', 'LHF', 'q', 'dq_dp']\n",
      "{'ps': 7.014023942412273, 'LHF': 15.390675933657732, 'q': -20.788924230650697, 'dq_dp': 104.21723690597105, 'LR_Bias': -47.46794778036798, 'mse_train': 903.5398409734961, 'mse_test': {'m4K': 905.7829302917886, 'ref': 1317.3905498444635, 'p4K': 2076.8842910054755}} \n",
      "\n",
      "Features selected by forward sequential selection: ['ps', 'LHF', 'p', 'q', 'dq_dp']\n",
      "{'ps': 6.880027674065851, 'LHF': 16.472281860277548, 'p': 3.2379345115521825, 'q': -24.376610373904555, 'dq_dp': 99.24641866864494, 'LR_Bias': -46.64529793080696, 'mse_train': 902.8714001184045, 'mse_test': {'m4K': 904.9087207490454, 'ref': 1315.7324206818387, 'p4K': 2077.369415076013}} \n",
      "\n",
      "Features selected by forward sequential selection: ['ps', 'LHF', 'p', 'q', 'dq_dp', 'T']\n",
      "{'ps': 7.511319145959903, 'LHF': 16.687537119417858, 'p': 6.746864840793702, 'q': -22.32702602881793, 'dq_dp': 101.29785569927117, 'T': -7.850379638288811, 'LR_Bias': -45.091571102541344, 'mse_train': 902.3527660682881, 'mse_test': {'m4K': 904.2066186278802, 'ref': 1314.0463328233873, 'p4K': 2073.8062659545008}} \n",
      "\n",
      "Features selected by forward sequential selection: ['ps', 'SHF', 'LHF', 'p', 'q', 'dq_dp', 'T']\n",
      "{'ps': 6.9264365361930675, 'SHF': -13.542998773193052, 'LHF': 21.140229882281748, 'p': 7.661854625879898, 'q': -23.534269794334442, 'dq_dp': 100.22854092885704, 'T': -8.63424842501546, 'LR_Bias': -42.4551372875174, 'mse_train': 901.7476085229783, 'mse_test': {'m4K': 903.6579760889233, 'ref': 1312.8318720523762, 'p4K': 2072.94333608825}} \n",
      "\n"
     ]
    }
   ],
   "source": [
    "lin_reg = LinearRegression()\n",
    "for no_features in np.arange(min_features_to_select, max_features_to_select):   \n",
    "    \n",
    "    sfs = SequentialFeatureSelector(lin_reg, n_features_to_select=no_features, direction='forward', cv=cv, n_jobs=-1)\n",
    "    sfs.fit(X_train_localBF, dQdt_train)\n",
    "    selected_features = np.array(local_BF_keys)[sfs.get_support()].tolist()\n",
    "    print(\n",
    "        \"Features selected by forward sequential selection: \"\n",
    "        f\"{selected_features}\"\n",
    "    )\n",
    "\n",
    "    X_transformed = sfs.transform(X_train_localBF)\n",
    "\n",
    "    lin_reg.fit(X_transformed, dQdt_train)\n",
    "    ypred = lin_reg.predict(X_transformed)\n",
    "    mse_train = mean_squared_error(dQdt_train, ypred)\n",
    "    mse_test = {}; ypred_test = {};\n",
    "    for iclim,clim in enumerate(climates):\n",
    "        ypred_test[clim] = lin_reg.predict(sfs.transform(X_test_localBF[clim]))\n",
    "        mse_test[clim] = mean_squared_error(dQdt_test[clim], ypred_test[clim])\n",
    "    \n",
    "    # Output function\n",
    "    dict_exp = {}\n",
    "    for i in range(len(selected_features)):\n",
    "        dict_exp[selected_features[i]] = lin_reg.coef_[i]\n",
    "    dict_exp['LR_Bias'] = lin_reg.intercept_\n",
    "    dict_exp['mse_train'] = mse_train\n",
    "    dict_exp['mse_test'] = mse_test\n",
    "    print(dict_exp,'\\n')\n",
    "    \n",
    "    dict_combined['Number of variables %d'%no_features] = dict_exp"
   ]
  },
  {
   "cell_type": "code",
   "execution_count": 229,
   "metadata": {},
   "outputs": [
    {
     "name": "stdout",
     "output_type": "stream",
     "text": [
      "Features selected by forward sequential selection: ['LHF']\n",
      "{'LHF': 16.151387648175398, 'LR_Bias': -3.765774885890938, 'mse_train': 915.5845553222427, 'mse_test': {'m4K': 916.3130351779945, 'ref': 1329.0774674041536, 'p4K': 2096.1171914320435}} \n",
      "\n",
      "Features selected by forward sequential selection: ['LHF', 'RH']\n",
      "{'LHF': 15.178848765422211, 'RH': -7.093490634364137, 'LR_Bias': -1.4784876916915866, 'mse_train': 912.5328637155376, 'mse_test': {'m4K': 913.5436235213356, 'ref': 1324.9124365591929, 'p4K': 2090.546985195503}} \n",
      "\n",
      "Features selected by forward sequential selection: ['LHF', 'p', 'RH']\n",
      "{'LHF': 13.253267655248292, 'p': 12.84866803158637, 'RH': -20.784101609550255, 'LR_Bias': -2.298695038517027, 'mse_train': 903.6532258661864, 'mse_test': {'m4K': 906.9317573021102, 'ref': 1313.9412180225322, 'p4K': 2072.9759804730643}} \n",
      "\n",
      "Features selected by forward sequential selection: ['LHF', 'p', 'RH', 'dRH_dp']\n",
      "{'LHF': 13.244400359564144, 'p': 13.13086369164865, 'RH': -21.151741883562412, 'dRH_dp': 24.57321591048833, 'LR_Bias': -10.538242604011456, 'mse_train': 903.15101412016, 'mse_test': {'m4K': 906.6632860015976, 'ref': 1313.284362926288, 'p4K': 2072.047962316132}} \n",
      "\n",
      "Features selected by forward sequential selection: ['SHF', 'LHF', 'p', 'RH', 'dRH_dp']\n",
      "{'SHF': -9.43002081971656, 'LHF': 16.00726318703563, 'p': 13.122231618434567, 'RH': -21.138426499434875, 'dRH_dp': 24.663513927595538, 'LR_Bias': -9.33253070975802, 'mse_train': 902.8312774086438, 'mse_test': {'m4K': 906.4657966561837, 'ref': 1313.015750731307, 'p4K': 2071.5884993489426}} \n",
      "\n",
      "Features selected by forward sequential selection: ['SHF', 'LHF', 'p', 'RH', 'dRH_dp', 'B']\n",
      "{'SHF': -10.807136482857503, 'LHF': 17.02354283401808, 'p': 14.337997017223922, 'RH': -20.475332933691824, 'dRH_dp': 22.92854161972932, 'B': -4.338122464426208, 'LR_Bias': -5.742514086930322, 'mse_train': 902.5333406184591, 'mse_test': {'m4K': 906.1720026654718, 'ref': 1312.336742513348, 'p4K': 2070.639768615002}} \n",
      "\n",
      "Features selected by forward sequential selection: ['SHF', 'LHF', 'p', 'RH', 'dRH_dp', 'B', 'd2B_dp2']\n",
      "{'SHF': -11.331451284143602, 'LHF': 17.462418827097217, 'p': 14.601414868520767, 'RH': -20.435249920837443, 'dRH_dp': 21.981880989269282, 'B': -5.171251021852798, 'd2B_dp2': -8.785686929263598, 'LR_Bias': -0.06452182831088793, 'mse_train': 902.3684449171632, 'mse_test': {'m4K': 905.9858396017303, 'ref': 1312.0943157936056, 'p4K': 2070.2938581925496}} \n",
      "\n"
     ]
    }
   ],
   "source": [
    "lin_reg = LinearRegression()\n",
    "for no_features in np.arange(min_features_to_select, max_features_to_select):   \n",
    "    \n",
    "    sfs = SequentialFeatureSelector(lin_reg, n_features_to_select=no_features, direction='forward', cv=cv, n_jobs=-1)\n",
    "    sfs.fit(X_train_localCI, dQdt_train)\n",
    "    selected_features = np.array(local_CI_keys)[sfs.get_support()].tolist()\n",
    "    print(\n",
    "        \"Features selected by forward sequential selection: \"\n",
    "        f\"{selected_features}\"\n",
    "    )\n",
    "\n",
    "    X_transformed = sfs.transform(X_train_localCI)\n",
    "\n",
    "    lin_reg.fit(X_transformed, dQdt_train)\n",
    "    ypred = lin_reg.predict(X_transformed)\n",
    "    mse_train = mean_squared_error(dQdt_train, ypred)\n",
    "    mse_test = {}; ypred_test = {};\n",
    "    for iclim,clim in enumerate(climates):\n",
    "        ypred_test[clim] = lin_reg.predict(sfs.transform(X_test_localCI[clim]))\n",
    "        mse_test[clim] = mean_squared_error(dQdt_test[clim], ypred_test[clim])\n",
    "    \n",
    "    # Output function\n",
    "    dict_exp = {}\n",
    "    for i in range(len(selected_features)):\n",
    "        dict_exp[selected_features[i]] = lin_reg.coef_[i]\n",
    "    dict_exp['LR_Bias'] = lin_reg.intercept_\n",
    "    dict_exp['mse_train'] = mse_train\n",
    "    dict_exp['mse_test'] = mse_test\n",
    "    print(dict_exp,'\\n')\n",
    "    \n",
    "    dict_combined['Number of variables %d'%no_features] = dict_exp"
   ]
  },
  {
   "cell_type": "markdown",
   "metadata": {},
   "source": [
    "## Cubic"
   ]
  },
  {
   "cell_type": "code",
   "execution_count": 111,
   "metadata": {},
   "outputs": [],
   "source": [
    "cv = 2\n",
    "deg = 3\n",
    "min_features_to_select = 1\n",
    "max_features_to_select = 4"
   ]
  },
  {
   "cell_type": "code",
   "execution_count": 112,
   "metadata": {},
   "outputs": [
    {
     "name": "stdout",
     "output_type": "stream",
     "text": [
      "m4K\n",
      "ref\n",
      "p4K\n"
     ]
    }
   ],
   "source": [
    "poly = PolynomialFeatures(degree=deg)\n",
    "X_train_local3 = poly.fit_transform(X_train_local)    \n",
    "features_local = poly.get_feature_names(np.array(local_keys)) # Update the feature names\n",
    "X_train_local3BF = poly.fit_transform(X_train_localBF)    \n",
    "features_localBF = poly.get_feature_names(np.array(local_BF_keys)) # Update the feature names\n",
    "X_train_local3CI = poly.fit_transform(X_train_localCI)    \n",
    "features_localCI = poly.get_feature_names(np.array(local_CI_keys)) # Update the feature names\n",
    "\n",
    "X_test_local3 = {}; X_test_local3BF = {}; X_test_local3CI = {};\n",
    "for iclim,clim in enumerate(climates):\n",
    "    print(clim)\n",
    "    X_test_local3[clim] = poly.fit_transform(X_test_local[clim])\n",
    "    X_test_local3BF[clim] = poly.fit_transform(X_test_localBF[clim])\n",
    "    X_test_local3CI[clim] = poly.fit_transform(X_test_localCI[clim])"
   ]
  },
  {
   "cell_type": "code",
   "execution_count": 113,
   "metadata": {},
   "outputs": [],
   "source": [
    "dict_combined = {}"
   ]
  },
  {
   "cell_type": "code",
   "execution_count": 114,
   "metadata": {},
   "outputs": [
    {
     "name": "stdout",
     "output_type": "stream",
     "text": [
      "Features selected by forward sequential selection: ['LHF dq_dp_FD^2']\n",
      "{'LHF dq_dp_FD^2': 97.42728569252367, 'LR_Bias': -5.029129909794673, 'mse_train': 931.787599115249, 'mse_test': {'m4K': 891.4670552804947, 'ref': 1382.3177605079554, 'p4K': 2230.124584607275}} \n",
      "\n",
      "Features selected by forward sequential selection: ['LHF dq_dp_FD^2', 'LHFns RH^2']\n",
      "{'LHF dq_dp_FD^2': 122.06525521617606, 'LHFns RH^2': -98.66022078451522, 'LR_Bias': -2.7829279770644537, 'mse_train': 915.9978986146326, 'mse_test': {'m4K': 873.8953244641058, 'ref': 1362.0253929983844, 'p4K': 2180.7027607978516}} \n",
      "\n",
      "Features selected by forward sequential selection: ['SHF RH dB_dp_FD', 'LHF dq_dp_FD^2', 'LHFns RH^2']\n",
      "{'SHF RH dB_dp_FD': 259.38744961163496, 'LHF dq_dp_FD^2': 117.99426708629943, 'LHFns RH^2': -352.54162905761973, 'LR_Bias': -5.699904368956053, 'mse_train': 896.7284346583801, 'mse_test': {'m4K': 852.4472362178398, 'ref': 1337.0205493872259, 'p4K': 2122.1336265116224}} \n",
      "\n"
     ]
    }
   ],
   "source": [
    "lin_reg = LinearRegression()\n",
    "for no_features in np.arange(min_features_to_select, max_features_to_select):   \n",
    "    \n",
    "    sfs = SequentialFeatureSelector(lin_reg, n_features_to_select=no_features, direction='forward', cv=cv, n_jobs=-1)\n",
    "    sfs.fit(X_train_local3, dQdt_train)\n",
    "    selected_features = np.array(features_local)[sfs.get_support()].tolist()\n",
    "    print(\n",
    "        \"Features selected by forward sequential selection: \"\n",
    "        f\"{selected_features}\"\n",
    "    )\n",
    "\n",
    "    X_transformed = sfs.transform(X_train_local3)\n",
    "\n",
    "    lin_reg.fit(X_transformed, dQdt_train)\n",
    "    ypred = lin_reg.predict(X_transformed)\n",
    "    mse_train = mean_squared_error(dQdt_train, ypred)\n",
    "    mse_test = {}; ypred_test = {};\n",
    "    for iclim,clim in enumerate(climates):\n",
    "        ypred_test[clim] = lin_reg.predict(sfs.transform(X_test_local3[clim]))\n",
    "        mse_test[clim] = mean_squared_error(dQdt_test[clim], ypred_test[clim])\n",
    "    \n",
    "    # Output function\n",
    "    dict_exp = {}\n",
    "    for i in range(len(selected_features)):\n",
    "        dict_exp[selected_features[i]] = lin_reg.coef_[i]\n",
    "    dict_exp['LR_Bias'] = lin_reg.intercept_\n",
    "    dict_exp['mse_train'] = mse_train\n",
    "    dict_exp['mse_test'] = mse_test\n",
    "    print(dict_exp,'\\n')\n",
    "    \n",
    "    dict_combined['Number of variables %d'%no_features] = dict_exp"
   ]
  },
  {
   "cell_type": "code",
   "execution_count": 115,
   "metadata": {},
   "outputs": [
    {
     "name": "stdout",
     "output_type": "stream",
     "text": [
      "Features selected by forward sequential selection: ['LHF dq_dp_FD^2']\n",
      "{'LHF dq_dp_FD^2': 97.42728569252367, 'LR_Bias': -5.029129909794673, 'mse_train': 931.787599115249, 'mse_test': {'m4K': 891.4670552804947, 'ref': 1382.3177605079554, 'p4K': 2230.124584607275}} \n",
      "\n",
      "Features selected by forward sequential selection: ['LHF dq_dp_FD', 'LHF dq_dp_FD^2']\n",
      "{'LHF dq_dp_FD': -119.29035287713842, 'LHF dq_dp_FD^2': 307.7413970889748, 'LR_Bias': -3.25785445779077, 'mse_train': 927.2309421542803, 'mse_test': {'m4K': 885.2054719619309, 'ref': 1378.730790376444, 'p4K': 2233.1830465730186}} \n",
      "\n",
      "Features selected by forward sequential selection: ['LHF dq_dp_FD', 'LHF dq_dp_FD^2', 'q dq_dp_FD^2']\n",
      "{'LHF dq_dp_FD': -267.4184571058413, 'LHF dq_dp_FD^2': 629.6701430926897, 'q dq_dp_FD^2': -76.41872426859716, 'LR_Bias': -1.9681826745054758, 'mse_train': 916.4709447468204, 'mse_test': {'m4K': 871.9109359290893, 'ref': 1361.5358297659425, 'p4K': 2216.6914162603794}} \n",
      "\n"
     ]
    }
   ],
   "source": [
    "lin_reg = LinearRegression()\n",
    "for no_features in np.arange(min_features_to_select, max_features_to_select):   \n",
    "    \n",
    "    sfs = SequentialFeatureSelector(lin_reg, n_features_to_select=no_features, direction='forward', cv=cv, n_jobs=-1)\n",
    "    sfs.fit(X_train_local3BF, dQdt_train)\n",
    "    selected_features = np.array(features_localBF)[sfs.get_support()].tolist()\n",
    "    print(\n",
    "        \"Features selected by forward sequential selection: \"\n",
    "        f\"{selected_features}\"\n",
    "    )\n",
    "\n",
    "    X_transformed = sfs.transform(X_train_local3BF)\n",
    "\n",
    "    lin_reg.fit(X_transformed, dQdt_train)\n",
    "    ypred = lin_reg.predict(X_transformed)\n",
    "    mse_train = mean_squared_error(dQdt_train, ypred)\n",
    "    mse_test = {}; ypred_test = {};\n",
    "    for iclim,clim in enumerate(climates):\n",
    "        ypred_test[clim] = lin_reg.predict(sfs.transform(X_test_local3BF[clim]))\n",
    "        mse_test[clim] = mean_squared_error(dQdt_test[clim], ypred_test[clim])\n",
    "    \n",
    "    # Output function\n",
    "    dict_exp = {}\n",
    "    for i in range(len(selected_features)):\n",
    "        dict_exp[selected_features[i]] = lin_reg.coef_[i]\n",
    "    dict_exp['LR_Bias'] = lin_reg.intercept_\n",
    "    dict_exp['mse_train'] = mse_train\n",
    "    dict_exp['mse_test'] = mse_test\n",
    "    print(dict_exp,'\\n')\n",
    "    \n",
    "    dict_combined['Number of variables %d'%no_features] = dict_exp"
   ]
  },
  {
   "cell_type": "code",
   "execution_count": 116,
   "metadata": {},
   "outputs": [
    {
     "name": "stdout",
     "output_type": "stream",
     "text": [
      "Features selected by forward sequential selection: ['RH^3']\n",
      "{'RH^3': -36.680291285598685, 'LR_Bias': 2.9265753846175198, 'mse_train': 934.13230294585, 'mse_test': {'m4K': 893.5328834930621, 'ref': 1392.0779608497667, 'p4K': 2230.2117418887824}} \n",
      "\n",
      "Features selected by forward sequential selection: ['RH^3', 'RH^2 dB_dp_FD']\n",
      "{'RH^3': -358.3441086647136, 'RH^2 dB_dp_FD': 302.51400390613077, 'LR_Bias': -1.216029662847381, 'mse_train': 906.0849030204338, 'mse_test': {'m4K': 878.2559454605281, 'ref': 1373.0305246823614, 'p4K': 2186.5676985780556}} \n",
      "\n",
      "Features selected by forward sequential selection: ['RH dB_dp_FD', 'RH^3', 'RH^2 dB_dp_FD']\n",
      "{'RH dB_dp_FD': -136.13888387861172, 'RH^3': -672.3330753591794, 'RH^2 dB_dp_FD': 798.5292908719467, 'LR_Bias': 1.5998562097598514, 'mse_train': 899.0707220189219, 'mse_test': {'m4K': 877.3912933559384, 'ref': 1366.546272526709, 'p4K': 2173.072827071801}} \n",
      "\n"
     ]
    }
   ],
   "source": [
    "lin_reg = LinearRegression()\n",
    "for no_features in np.arange(min_features_to_select, max_features_to_select):   \n",
    "    \n",
    "    sfs = SequentialFeatureSelector(lin_reg, n_features_to_select=no_features, direction='forward', cv=cv, n_jobs=-1)\n",
    "    sfs.fit(X_train_local3CI, dQdt_train)\n",
    "    selected_features = np.array(features_localCI)[sfs.get_support()].tolist()\n",
    "    print(\n",
    "        \"Features selected by forward sequential selection: \"\n",
    "        f\"{selected_features}\"\n",
    "    )\n",
    "\n",
    "    X_transformed = sfs.transform(X_train_local3CI)\n",
    "\n",
    "    lin_reg.fit(X_transformed, dQdt_train)\n",
    "    ypred = lin_reg.predict(X_transformed)\n",
    "    mse_train = mean_squared_error(dQdt_train, ypred)\n",
    "    mse_test = {}; ypred_test = {};\n",
    "    for iclim,clim in enumerate(climates):\n",
    "        ypred_test[clim] = lin_reg.predict(sfs.transform(X_test_local3CI[clim]))\n",
    "        mse_test[clim] = mean_squared_error(dQdt_test[clim], ypred_test[clim])\n",
    "    \n",
    "    # Output function\n",
    "    dict_exp = {}\n",
    "    for i in range(len(selected_features)):\n",
    "        dict_exp[selected_features[i]] = lin_reg.coef_[i]\n",
    "    dict_exp['LR_Bias'] = lin_reg.intercept_\n",
    "    dict_exp['mse_train'] = mse_train\n",
    "    dict_exp['mse_test'] = mse_test\n",
    "    print(dict_exp,'\\n')\n",
    "    \n",
    "    dict_combined['Number of variables %d'%no_features] = dict_exp"
   ]
  },
  {
   "cell_type": "markdown",
   "metadata": {},
   "source": [
    "# (Legacy) Polynomial fit + Sequential Feature Selection using standard variables"
   ]
  },
  {
   "cell_type": "code",
   "execution_count": 78,
   "metadata": {},
   "outputs": [],
   "source": [
    "save_folder = path_data+'Polynomial_Fits/'"
   ]
  },
  {
   "cell_type": "markdown",
   "metadata": {},
   "source": [
    "## Linear"
   ]
  },
  {
   "cell_type": "code",
   "execution_count": 64,
   "metadata": {},
   "outputs": [],
   "source": [
    "cv = 2\n",
    "min_features_to_select = 1\n",
    "max_features_to_select = 15"
   ]
  },
  {
   "cell_type": "markdown",
   "metadata": {},
   "source": [
    "### dQ/dt"
   ]
  },
  {
   "cell_type": "code",
   "execution_count": 65,
   "metadata": {},
   "outputs": [],
   "source": [
    "dict_combined = {}"
   ]
  },
  {
   "cell_type": "code",
   "execution_count": 72,
   "metadata": {},
   "outputs": [
    {
     "data": {
      "text/plain": [
       "{'PHQ': array([7.0811688e+07, 1.3074196e+08, 2.1416970e+08, 3.0895507e+08,\n",
       "        3.8762451e+08, 4.4520458e+08, 4.4321341e+08, 3.6317286e+08,\n",
       "        4.2725360e+08, 5.0264173e+08, 5.9133267e+08, 6.9567149e+08,\n",
       "        8.1842150e+08, 9.6283104e+08, 1.1327212e+09, 1.3325868e+09,\n",
       "        1.5677202e+09, 1.8443410e+09, 2.1697720e+09, 2.1706406e+09,\n",
       "        1.9922205e+09, 1.6811768e+09, 1.2494753e+09, 7.2336192e+08,\n",
       "        6.7863763e+08, 6.2842387e+08, 5.7302957e+08, 5.1279936e+08,\n",
       "        4.4820160e+08, 3.7970438e+08], dtype=float32),\n",
       " 'PHCLDLIQ': array([7.0811688e+07, 1.3074196e+08, 2.1416970e+08, 3.0895507e+08,\n",
       "        3.8762451e+08, 4.4520458e+08, 4.4321341e+08, 3.6317286e+08,\n",
       "        4.2725360e+08, 5.0264173e+08, 5.9133267e+08, 6.9567149e+08,\n",
       "        8.1842150e+08, 9.6283104e+08, 1.1327212e+09, 1.3325868e+09,\n",
       "        1.5677202e+09, 1.8443410e+09, 2.1697720e+09, 2.1706406e+09,\n",
       "        1.9922205e+09, 1.6811768e+09, 1.2494753e+09, 7.2336192e+08,\n",
       "        6.7863763e+08, 6.2842387e+08, 5.7302957e+08, 5.1279936e+08,\n",
       "        4.4820160e+08, 3.7970438e+08], dtype=float32),\n",
       " 'PHCLDICE': array([7.0811688e+07, 1.3074196e+08, 2.1416970e+08, 3.0895507e+08,\n",
       "        3.8762451e+08, 4.4520458e+08, 4.4321341e+08, 3.6317286e+08,\n",
       "        4.2725360e+08, 5.0264173e+08, 5.9133267e+08, 6.9567149e+08,\n",
       "        8.1842150e+08, 9.6283104e+08, 1.1327212e+09, 1.3325868e+09,\n",
       "        1.5677202e+09, 1.8443410e+09, 2.1697720e+09, 2.1706406e+09,\n",
       "        1.9922205e+09, 1.6811768e+09, 1.2494753e+09, 7.2336192e+08,\n",
       "        6.7863763e+08, 6.2842387e+08, 5.7302957e+08, 5.1279936e+08,\n",
       "        4.4820160e+08, 3.7970438e+08], dtype=float32),\n",
       " 'TPHYSTND': array([ 28444.723,  52518.43 ,  86030.96 , 124105.82 , 155706.95 ,\n",
       "        178836.6  , 178036.75 , 145884.84 , 171625.78 , 201908.83 ,\n",
       "        237535.56 , 279448.   , 328756.1  , 386764.75 , 455008.78 ,\n",
       "        535293.9  , 629745.9  , 740863.2  , 871587.25 , 871936.2  ,\n",
       "        800265.7  , 675320.9  , 501908.4  , 290571.1  , 272605.56 ,\n",
       "        252434.92 , 230183.3  , 205989.11 , 180040.48 , 152525.48 ],\n",
       "       dtype=float32),\n",
       " 'QRL': array([ 28444.723,  52518.43 ,  86030.96 , 124105.82 , 155706.95 ,\n",
       "        178836.6  , 178036.75 , 145884.84 , 171625.78 , 201908.83 ,\n",
       "        237535.56 , 279448.   , 328756.1  , 386764.75 , 455008.78 ,\n",
       "        535293.9  , 629745.9  , 740863.2  , 871587.25 , 871936.2  ,\n",
       "        800265.7  , 675320.9  , 501908.4  , 290571.1  , 272605.56 ,\n",
       "        252434.92 , 230183.3  , 205989.11 , 180040.48 , 152525.48 ],\n",
       "       dtype=float32),\n",
       " 'QRS': array([ 28444.723,  52518.43 ,  86030.96 , 124105.82 , 155706.95 ,\n",
       "        178836.6  , 178036.75 , 145884.84 , 171625.78 , 201908.83 ,\n",
       "        237535.56 , 279448.   , 328756.1  , 386764.75 , 455008.78 ,\n",
       "        535293.9  , 629745.9  , 740863.2  , 871587.25 , 871936.2  ,\n",
       "        800265.7  , 675320.9  , 501908.4  , 290571.1  , 272605.56 ,\n",
       "        252434.92 , 230183.3  , 205989.11 , 180040.48 , 152525.48 ],\n",
       "       dtype=float32),\n",
       " 'DTVKE': array([ 15.802624,  29.176905,  47.79498 ,  68.94768 ,  86.50386 ,\n",
       "         99.35366 ,  98.90931 ,  81.047134,  95.34766 , 112.17157 ,\n",
       "        131.9642  , 155.24889 , 182.64227 , 214.86931 , 252.78267 ,\n",
       "        297.3855  , 349.8588  , 411.59067 , 484.21515 , 484.409   ,\n",
       "        444.59207 , 375.17825 , 278.838   , 161.42839 , 151.44754 ,\n",
       "        140.24162 , 127.87961 , 114.43839 , 100.02249 ,  84.736374],\n",
       "       dtype=float32),\n",
       " 'FSNT': 1,\n",
       " 'FSNS': 1,\n",
       " 'FLNT': 1,\n",
       " 'FLNS': 1,\n",
       " 'PRECT': 2501000000.0,\n",
       " 'PRECTEND': 2501000.0,\n",
       " 'PRECST': 2501000000.0,\n",
       " 'PRECSTEN': 2501000.0}"
      ]
     },
     "execution_count": 72,
     "metadata": {},
     "output_type": "execute_result"
    }
   ],
   "source": [
    "scale_dict"
   ]
  },
  {
   "cell_type": "code",
   "execution_count": 82,
   "metadata": {},
   "outputs": [
    {
     "data": {
      "text/plain": [
       "(2000, 30)"
      ]
     },
     "execution_count": 82,
     "metadata": {},
     "output_type": "execute_result"
    }
   ],
   "source": [
    "ypred.reshape((Nsample,30)).shape"
   ]
  },
  {
   "cell_type": "code",
   "execution_count": 86,
   "metadata": {},
   "outputs": [
    {
     "name": "stdout",
     "output_type": "stream",
     "text": [
      "Features selected by forward sequential selection: ['dq_dp']\n",
      "{'dq_dp': 51.1697775380529, 'LR_Bias': -22.9097819399296, 'mse_train': 887.3107453459537, 'mse_test': {'m4K': 934.5928269541669, 'ref': 1351.1910737374724, 'p4K': 2244.9407626993966}} \n",
      "\n",
      "Features selected by forward sequential selection: ['q', 'dq_dp']\n",
      "{'q': -24.789755948503128, 'dq_dp': 122.71436971519093, 'LR_Bias': -52.568994582001416, 'mse_train': 879.2772825174045, 'mse_test': {'m4K': 922.5127764991018, 'ref': 1340.943480967136, 'p4K': 2230.9558069077448}} \n",
      "\n",
      "Features selected by forward sequential selection: ['LHF', 'q', 'dq_dp']\n",
      "{'LHF': 14.940140906049745, 'q': -26.515995287198432, 'dq_dp': 119.5831311468588, 'LR_Bias': -54.131295316197416, 'mse_train': 874.5994339397528, 'mse_test': {'m4K': 917.9192327696801, 'ref': 1332.486503812247, 'p4K': 2222.0462024363014}} \n",
      "\n",
      "Features selected by forward sequential selection: ['LHF', 'q', 'dq_dp', 'Q_below']\n",
      "{'LHF': 25.526262492781317, 'q': -33.00753012787754, 'dq_dp': 126.74158720875035, 'Q_below': -16.561448234619515, 'LR_Bias': -55.20404196570301, 'mse_train': 864.0140870486586, 'mse_test': {'m4K': 907.8636499216065, 'ref': 1317.828344620051, 'p4K': 2197.2559043500155}} \n",
      "\n",
      "Features selected by forward sequential selection: ['SHF', 'LHF', 'q', 'dq_dp', 'Q_below']\n",
      "{'SHF': -34.99532386084991, 'LHF': 40.52526019602505, 'q': -37.043531798255444, 'dq_dp': 126.82806854663414, 'Q_below': -21.898934145644, 'LR_Bias': -49.93233908669489, 'mse_train': 859.5811440621831, 'mse_test': {'m4K': 902.2749414064309, 'ref': 1312.6959508235275, 'p4K': 2186.767640494948}} \n",
      "\n",
      "Features selected by forward sequential selection: ['SHF', 'LHF', 'q', 'dq_dp', 'Q_above', 'Q_below']\n",
      "{'SHF': -36.6346154308842, 'LHF': 42.08052338664942, 'q': -61.82925110115178, 'dq_dp': 139.58201931002293, 'Q_above': 30.90553592410543, 'Q_below': -22.051658301277204, 'LR_Bias': -55.14090350540003, 'mse_train': 858.4119307405355, 'mse_test': {'m4K': 901.0937121536808, 'ref': 1307.7488132068563, 'p4K': 2177.5001640492205}} \n",
      "\n",
      "Features selected by forward sequential selection: ['SHF', 'LHF', 'q', 'dq_dp', 'Q_above', 'Q_below', 'T']\n",
      "{'SHF': -36.651007018741105, 'LHF': 41.85967658084622, 'q': -55.74138447602726, 'dq_dp': 146.33835805437826, 'Q_above': 27.343246365504395, 'Q_below': -23.090445536281038, 'T': -5.875800987244758, 'LR_Bias': -54.89713212870386, 'mse_train': 857.7755067639856, 'mse_test': {'m4K': 900.4238842397909, 'ref': 1307.5369357620898, 'p4K': 2179.3149306586806}} \n",
      "\n",
      "Features selected by forward sequential selection: ['ps', 'SHF', 'LHF', 'q', 'dq_dp', 'Q_above', 'Q_below', 'T']\n",
      "{'ps': 3.658011810417777, 'SHF': -35.719572148370695, 'LHF': 41.07374448630461, 'q': -55.37673490117266, 'dq_dp': 146.56359856736344, 'Q_above': 27.2622004426535, 'Q_below': -23.00156672463465, 'T': -6.17167165105621, 'LR_Bias': -57.262741764441024, 'mse_train': 857.5706197630567, 'mse_test': {'m4K': 899.9072749387087, 'ref': 1306.8540158191172, 'p4K': 2178.5304959277205}} \n",
      "\n",
      "Features selected by forward sequential selection: ['ps', 'SHF', 'LHF', 'q', 'dq_dp', 'Q_above', 'Q_below', 'T', 'dT_dp']\n",
      "{'ps': 3.488839176335594, 'SHF': -35.52262857628794, 'LHF': 40.973808239719, 'q': -54.64797199161564, 'dq_dp': 147.56507984831427, 'Q_above': 26.680502433919404, 'Q_below': -23.196961392527594, 'T': -6.455791970942374, 'dT_dp': -4.562599624894296, 'LR_Bias': -54.44054891282785, 'mse_train': 857.3838783176697, 'mse_test': {'m4K': 899.7308297349839, 'ref': 1306.7438199471817, 'p4K': 2178.859515141498}} \n",
      "\n",
      "Features selected by forward sequential selection: ['ps', 'SHF', 'LHF', 'q', 'dq_dp', 'Q_above', 'Q_below', 'T', 'dT_dp', 'T_above']\n",
      "{'ps': 3.6705818383184483, 'SHF': -36.076802637326, 'LHF': 41.3458995187792, 'q': -55.65303651578116, 'dq_dp': 146.62431283496696, 'Q_above': 27.1324305338791, 'Q_below': -22.4621883350884, 'T': -12.23107073692998, 'dT_dp': -7.867374436120785, 'T_above': 4.708852570436965, 'LR_Bias': -50.55852235484394, 'mse_train': 857.0275042947195, 'mse_test': {'m4K': 899.3276813867451, 'ref': 1305.8112855459901, 'p4K': 2177.355386679359}} \n",
      "\n",
      "Features selected by forward sequential selection: ['ps', 'SHF', 'LHF', 'p', 'q', 'dq_dp', 'Q_above', 'Q_below', 'T', 'dT_dp', 'T_above']\n",
      "{'ps': 0.3031367855700493, 'SHF': -32.77673186272518, 'LHF': 39.098376587092574, 'p': -180.60720663701017, 'q': -78.3770052538841, 'dq_dp': 143.0171065243807, 'Q_above': 28.146558514789774, 'Q_below': -19.28049648577431, 'T': -14.718018784412143, 'dT_dp': -2.744369908691639, 'T_above': 199.05558621915242, 'LR_Bias': -48.35194570919917, 'mse_train': 851.4840393601734, 'mse_test': {'m4K': 893.8787996009062, 'ref': 1294.695784845966, 'p4K': 2152.540117700915}} \n",
      "\n",
      "Features selected by forward sequential selection: ['ps', 'SHF', 'LHF', 'p', 'q', 'dq_dp', 'd2q_dp2', 'Q_above', 'Q_below', 'T', 'dT_dp', 'T_above']\n",
      "{'ps': 0.22666622051284266, 'SHF': -33.09444022800494, 'LHF': 39.643132798747146, 'p': -183.7704910174034, 'q': -84.50589302962004, 'dq_dp': 150.72286266680354, 'd2q_dp2': -15.657592019883621, 'Q_above': 34.58083981040419, 'Q_below': -19.52229586421213, 'T': -14.79848874512208, 'dT_dp': -2.681461715380739, 'T_above': 202.56033599339204, 'LR_Bias': -43.57567165692257, 'mse_train': 851.2856999791569, 'mse_test': {'m4K': 894.1543968589967, 'ref': 1294.6471200901271, 'p4K': 2153.4973546940614}} \n",
      "\n",
      "Features selected by forward sequential selection: ['ps', 'SHF', 'LHF', 'p', 'q', 'dq_dp', 'd2q_dp2', 'Q_above', 'Q_below', 'T', 'dT_dp', 'T_above', 'T_below']\n",
      "{'ps': 2.369129465678997, 'SHF': -34.462028836562844, 'LHF': 41.028813471923385, 'p': -193.97182302222086, 'q': -85.54894529359632, 'dq_dp': 150.28846149178534, 'd2q_dp2': -15.874855400138282, 'Q_above': 35.73655882530199, 'Q_below': -17.71076945439156, 'T': -13.983672116898415, 'dT_dp': -2.3342153802821524, 'T_above': 193.30344521112775, 'T_below': -19.772259356882625, 'LR_Bias': -26.818435386306238, 'mse_train': 851.2352177896656, 'mse_test': {'m4K': 894.1167395910273, 'ref': 1294.4170139985624, 'p4K': 2153.557981558676}} \n",
      "\n",
      "Features selected by forward sequential selection: ['ps', 'S0', 'SHF', 'LHF', 'p', 'q', 'dq_dp', 'd2q_dp2', 'Q_above', 'Q_below', 'T', 'dT_dp', 'T_above', 'T_below']\n",
      "{'ps': 2.3451291803136813, 'S0': -0.1684163066711044, 'SHF': -34.48925029995509, 'LHF': 40.99050170214022, 'p': -194.21074345370943, 'q': -85.62434541783675, 'dq_dp': 150.28033031061435, 'd2q_dp2': -15.89910502753711, 'Q_above': 35.72872962049836, 'Q_below': -17.76392024795252, 'T': -13.95630303725238, 'dT_dp': -2.330584431550273, 'T_above': 194.31207720358623, 'T_below': -19.009578146745085, 'LR_Bias': -27.452840392658256, 'mse_train': 851.2329384150071, 'mse_test': {'m4K': 894.0800485235577, 'ref': 1294.4174881104614, 'p4K': 2153.4796950441846}} \n",
      "\n"
     ]
    }
   ],
   "source": [
    "lin_reg = LinearRegression()\n",
    "for no_features in np.arange(min_features_to_select, max_features_to_select):   \n",
    "    \n",
    "    sfs = SequentialFeatureSelector(lin_reg, n_features_to_select=no_features, direction='forward', cv=cv, n_jobs=-1)\n",
    "    sfs.fit(X_train, dQdt_train)\n",
    "    selected_features = np.array(key_array)[sfs.get_support()].tolist()\n",
    "    print(\n",
    "        \"Features selected by forward sequential selection: \"\n",
    "        f\"{selected_features}\"\n",
    "    )\n",
    "\n",
    "    X_transformed = sfs.transform(X_train)\n",
    "\n",
    "    lin_reg.fit(X_transformed, dQdt_train)\n",
    "    ypred = lin_reg.predict(X_transformed)\n",
    "    mse_train = mean_squared_error(dQdt_train, ypred)\n",
    "    mse_test = {}; ypred_test = {};\n",
    "    for iclim,clim in enumerate(climates):\n",
    "        ypred_test[clim] = lin_reg.predict(sfs.transform(X_test[clim]))\n",
    "        mse_test[clim] = mean_squared_error(dQdt_test[clim], ypred_test[clim])\n",
    "    \n",
    "    # Output function\n",
    "    dict_exp = {}\n",
    "    for i in range(len(selected_features)):\n",
    "        dict_exp[selected_features[i]] = lin_reg.coef_[i]\n",
    "    dict_exp['LR_Bias'] = lin_reg.intercept_\n",
    "    dict_exp['mse_train'] = mse_train\n",
    "    dict_exp['mse_test'] = mse_test\n",
    "    print(dict_exp,'\\n')\n",
    "    \n",
    "    dict_combined['Number of variables %d'%no_features] = dict_exp"
   ]
  },
  {
   "cell_type": "code",
   "execution_count": 88,
   "metadata": {},
   "outputs": [],
   "source": [
    "# Write dict_combined to pkl file\n",
    "save_path = save_folder+'2022_06_25_deg1_dQdt_cv'+str(cv)\n",
    "pickle.dump(dict_combined, open(save_path,'wb'))"
   ]
  },
  {
   "cell_type": "markdown",
   "metadata": {},
   "source": [
    "### dT/dt"
   ]
  },
  {
   "cell_type": "code",
   "execution_count": 89,
   "metadata": {},
   "outputs": [],
   "source": [
    "dict_combined = {}"
   ]
  },
  {
   "cell_type": "code",
   "execution_count": 90,
   "metadata": {},
   "outputs": [
    {
     "name": "stdout",
     "output_type": "stream",
     "text": [
      "Features selected by forward sequential selection: ['S0']\n",
      "{'S0': 6.7662033128911485, 'LR_Bias': -1.9868834075312658, 'mse_train': 482.83168170944674, 'mse_test': {'m4K': 499.6809088499507, 'ref': 623.0146819089481, 'p4K': 1003.4952536181283}} \n",
      "\n",
      "Features selected by forward sequential selection: ['S0', 'q']\n",
      "{'S0': 6.5468260200201005, 'q': 10.749399376995019, 'LR_Bias': -2.940840531042038, 'mse_train': 478.96542318233685, 'mse_test': {'m4K': 494.7191883128249, 'ref': 618.2691617336403, 'p4K': 994.9646024147983}} \n",
      "\n",
      "Features selected by forward sequential selection: ['S0', 'q', 'Q_below']\n",
      "{'S0': 6.131972680939934, 'q': 12.313734349433343, 'Q_below': 7.7640187942678, 'LR_Bias': -4.736407940063636, 'mse_train': 476.12022225754134, 'mse_test': {'m4K': 492.2367745773472, 'ref': 615.4952277923729, 'p4K': 990.0727082980433}} \n",
      "\n",
      "Features selected by forward sequential selection: ['S0', 'q', 'dq_dp', 'Q_below']\n",
      "{'S0': 6.12961071287542, 'q': 23.439068746619316, 'dq_dp': -52.09817075227558, 'Q_below': 8.359032554987506, 'LR_Bias': 17.376673506417323, 'mse_train': 473.53955114242547, 'mse_test': {'m4K': 489.10316370682295, 'ref': 612.8267057804726, 'p4K': 988.4357252894094}} \n",
      "\n",
      "Features selected by forward sequential selection: ['S0', 'LHF', 'q', 'dq_dp', 'Q_below']\n",
      "{'S0': 6.016526480074555, 'LHF': -10.016452059495197, 'q': 25.51036252622017, 'dq_dp': -51.61047796118106, 'Q_below': 11.216229738667145, 'LR_Bias': 18.44243877157826, 'mse_train': 471.8198901429143, 'mse_test': {'m4K': 487.28829114755126, 'ref': 610.0842570401649, 'p4K': 985.1185741073325}} \n",
      "\n",
      "Features selected by forward sequential selection: ['S0', 'SHF', 'LHF', 'q', 'dq_dp', 'Q_below']\n",
      "{'S0': 7.350106957528588, 'SHF': 50.021437916243805, 'LHF': -31.375293490926126, 'q': 31.15923651352934, 'dq_dp': -51.73218770228775, 'Q_below': 18.684416782083105, 'LR_Bias': 10.61318845359492, 'mse_train': 462.92556662806174, 'mse_test': {'m4K': 477.19804654959336, 'ref': 600.9627371185844, 'p4K': 967.7089641195023}} \n",
      "\n",
      "Features selected by forward sequential selection: ['S0', 'SHF', 'LHF', 'q', 'dq_dp', 'Q_above', 'Q_below']\n",
      "{'S0': 7.36052384702234, 'SHF': 52.08676488875917, 'LHF': -33.33047591777182, 'q': 62.280274273825825, 'dq_dp': -67.7461625227432, 'Q_above': -38.80526176135471, 'Q_below': 18.87599073023857, 'LR_Bias': 17.149753795402965, 'mse_train': 461.08224917529344, 'mse_test': {'m4K': 475.9902009406288, 'ref': 597.2621046957732, 'p4K': 963.0149296401496}} \n",
      "\n",
      "Features selected by forward sequential selection: ['S0', 'SHF', 'LHF', 'q', 'dq_dp', 'Q_above', 'Q_below', 'T_above']\n",
      "{'S0': 7.3972549791762345, 'SHF': 52.63429665778825, 'LHF': -33.83370238601804, 'q': 67.31492373218103, 'dq_dp': -62.193587529031525, 'Q_above': -41.727992520276516, 'Q_below': 17.601457617580294, 'T_above': -3.243844633586607, 'LR_Bias': 15.894898399678786, 'mse_train': 460.5971252571155, 'mse_test': {'m4K': 475.536954995934, 'ref': 596.209053441887, 'p4K': 960.7469665174244}} \n",
      "\n",
      "Features selected by forward sequential selection: ['S0', 'SHF', 'LHF', 'q', 'dq_dp', 'Q_above', 'Q_below', 'T_above', 'T_below']\n",
      "{'S0': 8.792211367582215, 'SHF': 46.18429009962839, 'LHF': -27.381386711159465, 'q': 69.06713906857135, 'dq_dp': -62.168176284120044, 'Q_above': -39.095026593849774, 'Q_below': 22.78705497946064, 'T_above': -68.96482561727102, 'T_below': -65.79487920406538, 'LR_Bias': 76.49125918981096, 'mse_train': 458.9563675139574, 'mse_test': {'m4K': 473.6603605986925, 'ref': 594.3093002879772, 'p4K': 955.103250412819}} \n",
      "\n",
      "Features selected by forward sequential selection: ['ps', 'S0', 'SHF', 'LHF', 'q', 'dq_dp', 'Q_above', 'Q_below', 'T_above', 'T_below']\n",
      "{'ps': 8.03932505012124, 'S0': 8.949575691387619, 'SHF': 44.2476380357973, 'LHF': -25.371790841007492, 'q': 70.35342766398813, 'dq_dp': -62.19621851575111, 'Q_above': -37.51032918630301, 'Q_below': 25.94555869890328, 'T_above': -105.63871117689462, 'T_below': -102.38992440410881, 'LR_Bias': 105.12005760869168, 'mse_train': 458.5017242174616, 'mse_test': {'m4K': 472.928255767645, 'ref': 593.5998537812346, 'p4K': 952.6954161670025}} \n",
      "\n",
      "Features selected by forward sequential selection: ['ps', 'S0', 'SHF', 'LHF', 'q', 'dq_dp', 'd2q_dp2', 'Q_above', 'Q_below', 'T_above', 'T_below']\n",
      "{'ps': 8.181226765001371, 'S0': 8.970874388706047, 'SHF': 44.69427179891998, 'LHF': -26.10413183240436, 'q': 78.3436448279898, 'dq_dp': -72.95010341722538, 'd2q_dp2': 21.706360113945333, 'Q_above': -46.371990310386934, 'Q_below': 26.443969991616868, 'T_above': -106.78299253570381, 'T_below': -103.42170182340074, 'LR_Bias': 99.46030600950968, 'mse_train': 458.1174506450401, 'mse_test': {'m4K': 472.8498103862986, 'ref': 593.2256308220615, 'p4K': 952.7989890562883}} \n",
      "\n",
      "Features selected by forward sequential selection: ['ps', 'S0', 'SHF', 'LHF', 'q', 'dq_dp', 'd2q_dp2', 'Q_above', 'Q_below', 'T', 'T_above', 'T_below']\n",
      "{'ps': 8.753694463216116, 'S0': 8.921435588214445, 'SHF': 44.338697599313925, 'LHF': -25.65617210532913, 'q': 77.52434729302522, 'dq_dp': -74.20349627522225, 'd2q_dp2': 21.825995606780662, 'Q_above': -45.51184397065004, 'Q_below': 26.963516066052883, 'T': 3.4565595280312262, 'T_above': -115.02803721594147, 'T_below': -110.04122498458432, 'LR_Bias': 104.44026271674436, 'mse_train': 458.02960198769193, 'mse_test': {'m4K': 472.73790635992924, 'ref': 593.2276892908961, 'p4K': 952.9936873046616}} \n",
      "\n",
      "Features selected by forward sequential selection: ['ps', 'S0', 'SHF', 'LHF', 'q', 'dq_dp', 'd2q_dp2', 'Q_above', 'Q_below', 'T', 'dT_dp', 'T_above', 'T_below']\n",
      "{'ps': 8.783453073123926, 'S0': 8.923127461596918, 'SHF': 44.332634986253076, 'LHF': -25.65438621228637, 'q': 77.47615493125132, 'dq_dp': -74.31666977536536, 'd2q_dp2': 21.841200768598835, 'Q_above': -45.445991195215626, 'Q_below': 26.960321198297827, 'T': 3.860769235684647, 'dT_dp': 0.9377124268241166, 'T_above': -115.43990969535754, 'T_below': -110.16246279616293, 'LR_Bias': 103.8451211678465, 'mse_train': 458.023417644136, 'mse_test': {'m4K': 472.72929598082436, 'ref': 593.227115774031, 'p4K': 953.0561383216551}} \n",
      "\n",
      "Features selected by forward sequential selection: ['ps', 'S0', 'SHF', 'LHF', 'p', 'q', 'dq_dp', 'd2q_dp2', 'Q_above', 'Q_below', 'T', 'dT_dp', 'T_above', 'T_below']\n",
      "{'ps': 8.445048878117396, 'S0': 8.941825266946937, 'SHF': 44.51985821831044, 'LHF': -25.878363223865094, 'p': 8.495852994485633, 'q': 78.59547430613948, 'dq_dp': -74.22848184105779, 'd2q_dp2': 22.15489374223539, 'Q_above': -45.83617584264896, 'Q_below': 26.472779576071773, 'T': 3.7705098019019085, 'dT_dp': 0.6851374529745102, 'T_above': -120.33634434870454, 'T_below': -106.01515365473382, 'LR_Bias': 100.17206623041321, 'mse_train': 458.01441902419833, 'mse_test': {'m4K': 472.7221947924976, 'ref': 593.0408000328605, 'p4K': 952.4162086758485}} \n",
      "\n"
     ]
    }
   ],
   "source": [
    "lin_reg = LinearRegression()\n",
    "for no_features in np.arange(min_features_to_select, max_features_to_select):   \n",
    "    \n",
    "    sfs = SequentialFeatureSelector(lin_reg, n_features_to_select=no_features, direction='forward', cv=cv, n_jobs=-1)\n",
    "    sfs.fit(X_train, dTdt_train)\n",
    "    selected_features = np.array(key_array)[sfs.get_support()].tolist()\n",
    "    print(\n",
    "        \"Features selected by forward sequential selection: \"\n",
    "        f\"{selected_features}\"\n",
    "    )\n",
    "\n",
    "    X_transformed = sfs.transform(X_train)\n",
    "\n",
    "    lin_reg.fit(X_transformed, dTdt_train)\n",
    "    ypred = lin_reg.predict(X_transformed)\n",
    "    mse_train = mean_squared_error(dTdt_train, ypred)\n",
    "    mse_test = {}; ypred_test = {};\n",
    "    for iclim,clim in enumerate(climates):\n",
    "        ypred_test[clim] = lin_reg.predict(sfs.transform(X_test[clim]))\n",
    "        mse_test[clim] = mean_squared_error(dTdt_test[clim], ypred_test[clim])\n",
    "    \n",
    "    # Output function\n",
    "    dict_exp = {}\n",
    "    for i in range(len(selected_features)):\n",
    "        dict_exp[selected_features[i]] = lin_reg.coef_[i]\n",
    "    dict_exp['LR_Bias'] = lin_reg.intercept_\n",
    "    dict_exp['mse_train'] = mse_train\n",
    "    dict_exp['mse_test'] = mse_test\n",
    "    print(dict_exp,'\\n')\n",
    "    \n",
    "    dict_combined['Number of variables %d'%no_features] = dict_exp"
   ]
  },
  {
   "cell_type": "code",
   "execution_count": 92,
   "metadata": {},
   "outputs": [],
   "source": [
    "# Write dict_combined to pkl file\n",
    "save_path = save_folder+'2022_06_25_deg1_dTdt_cv'+str(cv)\n",
    "pickle.dump(dict_combined, open(save_path,'wb'))"
   ]
  },
  {
   "cell_type": "markdown",
   "metadata": {},
   "source": [
    "## Quadratic"
   ]
  },
  {
   "cell_type": "code",
   "execution_count": 93,
   "metadata": {},
   "outputs": [],
   "source": [
    "cv = 2\n",
    "deg = 2\n",
    "min_features_to_select = 1\n",
    "max_features_to_select = 10"
   ]
  },
  {
   "cell_type": "code",
   "execution_count": 97,
   "metadata": {},
   "outputs": [
    {
     "name": "stdout",
     "output_type": "stream",
     "text": [
      "136\n"
     ]
    }
   ],
   "source": [
    "poly = PolynomialFeatures(degree=deg)\n",
    "X_train2 = poly.fit_transform(X_train)\n",
    "\n",
    "if deg == 2:\n",
    "    assert X_train2.shape[1] == 1 + len(key_array)/2*(len(key_array)+3)\n",
    "    \n",
    "print(X_train2.shape[1])\n",
    "    \n",
    "new_features = poly.get_feature_names(np.array(key_array)) # Update the feature names\n",
    "\n",
    "X_test2 = {}\n",
    "for iclim,clim in enumerate(climates):\n",
    "    X_test2[clim] = poly.fit_transform(X_test[clim])"
   ]
  },
  {
   "cell_type": "code",
   "execution_count": 98,
   "metadata": {},
   "outputs": [
    {
     "data": {
      "text/plain": [
       "['1',\n",
       " 'ps',\n",
       " 'S0',\n",
       " 'SHF',\n",
       " 'LHF',\n",
       " 'p',\n",
       " 'q',\n",
       " 'dq_dp',\n",
       " 'd2q_dp2',\n",
       " 'Q_above',\n",
       " 'Q_below',\n",
       " 'T',\n",
       " 'dT_dp',\n",
       " 'd2T_dp2',\n",
       " 'T_above',\n",
       " 'T_below',\n",
       " 'ps^2',\n",
       " 'ps S0',\n",
       " 'ps SHF',\n",
       " 'ps LHF',\n",
       " 'ps p',\n",
       " 'ps q',\n",
       " 'ps dq_dp',\n",
       " 'ps d2q_dp2',\n",
       " 'ps Q_above',\n",
       " 'ps Q_below',\n",
       " 'ps T',\n",
       " 'ps dT_dp',\n",
       " 'ps d2T_dp2',\n",
       " 'ps T_above',\n",
       " 'ps T_below',\n",
       " 'S0^2',\n",
       " 'S0 SHF',\n",
       " 'S0 LHF',\n",
       " 'S0 p',\n",
       " 'S0 q',\n",
       " 'S0 dq_dp',\n",
       " 'S0 d2q_dp2',\n",
       " 'S0 Q_above',\n",
       " 'S0 Q_below',\n",
       " 'S0 T',\n",
       " 'S0 dT_dp',\n",
       " 'S0 d2T_dp2',\n",
       " 'S0 T_above',\n",
       " 'S0 T_below',\n",
       " 'SHF^2',\n",
       " 'SHF LHF',\n",
       " 'SHF p',\n",
       " 'SHF q',\n",
       " 'SHF dq_dp',\n",
       " 'SHF d2q_dp2',\n",
       " 'SHF Q_above',\n",
       " 'SHF Q_below',\n",
       " 'SHF T',\n",
       " 'SHF dT_dp',\n",
       " 'SHF d2T_dp2',\n",
       " 'SHF T_above',\n",
       " 'SHF T_below',\n",
       " 'LHF^2',\n",
       " 'LHF p',\n",
       " 'LHF q',\n",
       " 'LHF dq_dp',\n",
       " 'LHF d2q_dp2',\n",
       " 'LHF Q_above',\n",
       " 'LHF Q_below',\n",
       " 'LHF T',\n",
       " 'LHF dT_dp',\n",
       " 'LHF d2T_dp2',\n",
       " 'LHF T_above',\n",
       " 'LHF T_below',\n",
       " 'p^2',\n",
       " 'p q',\n",
       " 'p dq_dp',\n",
       " 'p d2q_dp2',\n",
       " 'p Q_above',\n",
       " 'p Q_below',\n",
       " 'p T',\n",
       " 'p dT_dp',\n",
       " 'p d2T_dp2',\n",
       " 'p T_above',\n",
       " 'p T_below',\n",
       " 'q^2',\n",
       " 'q dq_dp',\n",
       " 'q d2q_dp2',\n",
       " 'q Q_above',\n",
       " 'q Q_below',\n",
       " 'q T',\n",
       " 'q dT_dp',\n",
       " 'q d2T_dp2',\n",
       " 'q T_above',\n",
       " 'q T_below',\n",
       " 'dq_dp^2',\n",
       " 'dq_dp d2q_dp2',\n",
       " 'dq_dp Q_above',\n",
       " 'dq_dp Q_below',\n",
       " 'dq_dp T',\n",
       " 'dq_dp dT_dp',\n",
       " 'dq_dp d2T_dp2',\n",
       " 'dq_dp T_above',\n",
       " 'dq_dp T_below',\n",
       " 'd2q_dp2^2',\n",
       " 'd2q_dp2 Q_above',\n",
       " 'd2q_dp2 Q_below',\n",
       " 'd2q_dp2 T',\n",
       " 'd2q_dp2 dT_dp',\n",
       " 'd2q_dp2 d2T_dp2',\n",
       " 'd2q_dp2 T_above',\n",
       " 'd2q_dp2 T_below',\n",
       " 'Q_above^2',\n",
       " 'Q_above Q_below',\n",
       " 'Q_above T',\n",
       " 'Q_above dT_dp',\n",
       " 'Q_above d2T_dp2',\n",
       " 'Q_above T_above',\n",
       " 'Q_above T_below',\n",
       " 'Q_below^2',\n",
       " 'Q_below T',\n",
       " 'Q_below dT_dp',\n",
       " 'Q_below d2T_dp2',\n",
       " 'Q_below T_above',\n",
       " 'Q_below T_below',\n",
       " 'T^2',\n",
       " 'T dT_dp',\n",
       " 'T d2T_dp2',\n",
       " 'T T_above',\n",
       " 'T T_below',\n",
       " 'dT_dp^2',\n",
       " 'dT_dp d2T_dp2',\n",
       " 'dT_dp T_above',\n",
       " 'dT_dp T_below',\n",
       " 'd2T_dp2^2',\n",
       " 'd2T_dp2 T_above',\n",
       " 'd2T_dp2 T_below',\n",
       " 'T_above^2',\n",
       " 'T_above T_below',\n",
       " 'T_below^2']"
      ]
     },
     "execution_count": 98,
     "metadata": {},
     "output_type": "execute_result"
    }
   ],
   "source": [
    "new_features"
   ]
  },
  {
   "cell_type": "markdown",
   "metadata": {},
   "source": [
    "### dQ/dt"
   ]
  },
  {
   "cell_type": "code",
   "execution_count": 100,
   "metadata": {},
   "outputs": [
    {
     "name": "stdout",
     "output_type": "stream",
     "text": [
      "Features selected by forward sequential selection: ['LHF T_above']\n",
      "{'LHF T_above': 29.099051403622717, 'LR_Bias': -2.395120906196939, 'mse_train': 883.8817435590736, 'mse_test': {'m4K': 932.8422075788453, 'ref': 1342.293643780496, 'p4K': 2228.8606356826685}} \n",
      "\n",
      "Features selected by forward sequential selection: ['LHF T_above', 'q T_below']\n",
      "{'LHF T_above': 57.350336164626796, 'q T_below': -271.5190648325588, 'LR_Bias': -1.834190966018216, 'mse_train': 857.5105291585694, 'mse_test': {'m4K': 905.2121558320881, 'ref': 1299.6349510874213, 'p4K': 2144.5578654610476}} \n",
      "\n",
      "Features selected by forward sequential selection: ['LHF T_above', 'q T_below', 'dq_dp^2']\n",
      "{'LHF T_above': 37.267426895317875, 'q T_below': -365.2797260749193, 'dq_dp^2': 101.58777004230268, 'LR_Bias': -19.770472375809238, 'mse_train': 843.8594861919448, 'mse_test': {'m4K': 889.3136798657233, 'ref': 1278.0243779838522, 'p4K': 2118.070647978441}} \n",
      "\n",
      "Features selected by forward sequential selection: ['SHF q', 'LHF T_above', 'q T_below', 'dq_dp^2']\n",
      "{'SHF q': -185.90481810313673, 'LHF T_above': 73.70686398072546, 'q T_below': -323.5186582275564, 'dq_dp^2': 136.63689887187525, 'LR_Bias': -26.935883611567967, 'mse_train': 832.1487357936832, 'mse_test': {'m4K': 871.4333801664638, 'ref': 1262.413799503193, 'p4K': 2084.1277735512103}} \n",
      "\n",
      "Features selected by forward sequential selection: ['SHF q', 'LHF p', 'LHF T_above', 'q T_below', 'dq_dp^2']\n",
      "{'SHF q': -290.44792350757325, 'LHF p': -601.066261492811, 'LHF T_above': 705.8793832461351, 'q T_below': -289.79127662584136, 'dq_dp^2': 129.14737490942966, 'LR_Bias': -23.68998525320566, 'mse_train': 825.5530801379982, 'mse_test': {'m4K': 862.4288625353457, 'ref': 1254.9126438587834, 'p4K': 2050.927735074464}} \n",
      "\n",
      "Features selected by forward sequential selection: ['SHF q', 'LHF p', 'LHF T_above', 'q T_below', 'dq_dp^2', 'dq_dp d2q_dp2']\n",
      "{'SHF q': -273.24438205967994, 'LHF p': -579.0677292276773, 'LHF T_above': 683.9305814982862, 'q T_below': -359.12100062106424, 'dq_dp^2': 230.26397201629163, 'dq_dp d2q_dp2': -140.66936473789056, 'LR_Bias': -11.48955463033447, 'mse_train': 819.9496492194262, 'mse_test': {'m4K': 858.9841104596501, 'ref': 1251.5638894383305, 'p4K': 2056.4706249260444}} \n",
      "\n",
      "Features selected by forward sequential selection: ['SHF q', 'LHF p', 'LHF T_above', 'q T_below', 'dq_dp^2', 'dq_dp d2q_dp2', 'Q_above Q_below']\n",
      "{'SHF q': -359.39762033700896, 'LHF p': -611.769288592513, 'LHF T_above': 734.5895110791657, 'q T_below': -557.6437028758627, 'dq_dp^2': 247.90975037399903, 'dq_dp d2q_dp2': -144.9377902336824, 'Q_above Q_below': 216.96620981259846, 'LR_Bias': -13.527160563088987, 'mse_train': 815.2692024378318, 'mse_test': {'m4K': 855.9077951323209, 'ref': 1250.8788688065038, 'p4K': 2187.266930821258}} \n",
      "\n",
      "Features selected by forward sequential selection: ['d2q_dp2', 'SHF q', 'LHF p', 'LHF T_above', 'q T_below', 'dq_dp^2', 'dq_dp d2q_dp2', 'Q_above Q_below']\n",
      "{'d2q_dp2': 299.42927244546814, 'SHF q': -328.4171083481427, 'LHF p': -580.6841259900544, 'LHF T_above': 697.8348954711064, 'q T_below': -519.9719246532511, 'dq_dp^2': 487.21387021817714, 'dq_dp d2q_dp2': -645.7990779115619, 'Q_above Q_below': 190.87724354702198, 'LR_Bias': -100.77514745130249, 'mse_train': 812.3899374525189, 'mse_test': {'m4K': 852.6038238275515, 'ref': 1249.8917767856424, 'p4K': 2193.4230672601398}} \n",
      "\n",
      "Features selected by forward sequential selection: ['d2q_dp2', 'SHF q', 'LHF p', 'LHF T_above', 'q T_below', 'dq_dp^2', 'dq_dp d2q_dp2', 'd2q_dp2^2', 'Q_above Q_below']\n",
      "{'d2q_dp2': 461.30597725323395, 'SHF q': -330.5798545205439, 'LHF p': -617.3017696768741, 'LHF T_above': 736.6662823453228, 'q T_below': -557.0962381348315, 'dq_dp^2': 384.17129916222655, 'dq_dp d2q_dp2': -398.8954809088004, 'd2q_dp2^2': -281.9123214987525, 'Q_above Q_below': 195.8215101119533, 'LR_Bias': -144.8472246235638, 'mse_train': 810.5653732879111, 'mse_test': {'m4K': 850.6252616990488, 'ref': 1246.982047158255, 'p4K': 2172.0857186668045}} \n",
      "\n"
     ]
    }
   ],
   "source": [
    "lin_reg = LinearRegression()\n",
    "for no_features in np.arange(min_features_to_select, max_features_to_select):   \n",
    "    \n",
    "    sfs = SequentialFeatureSelector(lin_reg, n_features_to_select=no_features, direction='forward', cv=cv, n_jobs=-1)\n",
    "    sfs.fit(X_train2, dQdt_train)\n",
    "    selected_features = np.array(new_features)[sfs.get_support()].tolist()\n",
    "    print(\n",
    "        \"Features selected by forward sequential selection: \"\n",
    "        f\"{selected_features}\"\n",
    "    )\n",
    "\n",
    "    X_transformed = sfs.transform(X_train2)\n",
    "\n",
    "    lin_reg.fit(X_transformed, dQdt_train)\n",
    "    ypred = lin_reg.predict(X_transformed)\n",
    "    mse_train = mean_squared_error(dQdt_train, ypred)\n",
    "    mse_test = {}; ypred_test = {};\n",
    "    for iclim,clim in enumerate(climates):\n",
    "        ypred_test[clim] = lin_reg.predict(sfs.transform(X_test2[clim]))\n",
    "        mse_test[clim] = mean_squared_error(dQdt_test[clim], ypred_test[clim])\n",
    "    \n",
    "    # Output function\n",
    "    dict_exp = {}\n",
    "    for i in range(len(selected_features)):\n",
    "        dict_exp[selected_features[i]] = lin_reg.coef_[i]\n",
    "    dict_exp['LR_Bias'] = lin_reg.intercept_\n",
    "    dict_exp['mse_train'] = mse_train\n",
    "    dict_exp['mse_test'] = mse_test\n",
    "    print(dict_exp,'\\n')\n",
    "    \n",
    "    dict_combined['Number of variables %d'%no_features] = dict_exp"
   ]
  },
  {
   "cell_type": "code",
   "execution_count": 101,
   "metadata": {},
   "outputs": [],
   "source": [
    "# Write dict_combined to pkl file\n",
    "save_path = save_folder+'2022_06_25_deg2_dQdt_cv'+str(cv)\n",
    "pickle.dump(dict_combined, open(save_path,'wb'))"
   ]
  },
  {
   "cell_type": "markdown",
   "metadata": {},
   "source": [
    "### dT/dt"
   ]
  },
  {
   "cell_type": "code",
   "execution_count": 102,
   "metadata": {},
   "outputs": [],
   "source": [
    "dict_combined = {}"
   ]
  },
  {
   "cell_type": "code",
   "execution_count": 103,
   "metadata": {},
   "outputs": [
    {
     "name": "stdout",
     "output_type": "stream",
     "text": [
      "Features selected by forward sequential selection: ['q T_below']\n",
      "{'q T_below': 193.27492748994314, 'LR_Bias': -2.37328018470803, 'mse_train': 468.9838288797484, 'mse_test': {'m4K': 484.01153805752074, 'ref': 605.4636491249532, 'p4K': 966.9445908405955}} \n",
      "\n",
      "Features selected by forward sequential selection: ['q T_below', 'Q_below T_above']\n",
      "{'q T_below': 377.74019263848413, 'Q_below T_above': -61.86789690889674, 'LR_Bias': -0.693918496105987, 'mse_train': 461.5591301624604, 'mse_test': {'m4K': 475.6508145655432, 'ref': 591.6400084801526, 'p4K': 936.9463915963638}} \n",
      "\n",
      "Features selected by forward sequential selection: ['p Q_below', 'q T_below', 'Q_below T_above']\n",
      "{'p Q_below': 1564.2706149288883, 'q T_below': 983.3368451960257, 'Q_below T_above': -1850.6894108209856, 'LR_Bias': -1.845486431102803, 'mse_train': 426.26159528413876, 'mse_test': {'m4K': 443.27710085058123, 'ref': 566.4300245265342, 'p4K': 983.7915871336077}} \n",
      "\n",
      "Features selected by forward sequential selection: ['S0 SHF', 'p Q_below', 'q T_below', 'Q_below T_above']\n",
      "{'S0 SHF': 40.3533596181023, 'p Q_below': 1590.8458061707192, 'q T_below': 996.9902173433115, 'Q_below T_above': -1883.3282358037532, 'LR_Bias': -3.56822261355757, 'mse_train': 420.20765514792447, 'mse_test': {'m4K': 435.4834029780385, 'ref': 561.7810219199049, 'p4K': 983.9347278500867}} \n",
      "\n",
      "Features selected by forward sequential selection: ['S0 SHF', 'p Q_below', 'p T_below', 'q T_below', 'Q_below T_above']\n",
      "{'S0 SHF': 39.84692777091842, 'p Q_below': 1664.5431458656947, 'p T_below': -25.530931998193374, 'q T_below': 963.3367760136388, 'Q_below T_above': -1938.5703138763545, 'LR_Bias': -1.8040929366348686, 'mse_train': 417.84897418350283, 'mse_test': {'m4K': 433.03312754382625, 'ref': 555.9986295772352, 'p4K': 969.8442306225127}} \n",
      "\n",
      "Features selected by forward sequential selection: ['S0 SHF', 'p Q_below', 'p T_below', 'q T_below', 'dq_dp^2', 'Q_below T_above']\n",
      "{'S0 SHF': 39.63194248074912, 'p Q_below': 1556.561969250709, 'p T_below': -31.18012683947227, 'q T_below': 969.9502364275988, 'dq_dp^2': -39.3734349725195, 'Q_below T_above': -1810.793616219072, 'LR_Bias': 6.118349273015092, 'mse_train': 415.62402967022405, 'mse_test': {'m4K': 429.96688371894635, 'ref': 550.5917160872156, 'p4K': 944.6408491503432}} \n",
      "\n",
      "Features selected by forward sequential selection: ['S0 SHF', 'p Q_below', 'p T_below', 'q T_below', 'dq_dp^2', 'd2q_dp2^2', 'Q_below T_above']\n",
      "{'S0 SHF': 39.38802298137869, 'p Q_below': 1517.2538014454226, 'p T_below': -30.036086560206385, 'q T_below': 1019.8472305342699, 'dq_dp^2': -72.01715442479644, 'd2q_dp2^2': 55.4566171509747, 'Q_below T_above': -1769.985047786571, 'LR_Bias': -2.4602969737165474, 'mse_train': 412.5308296270149, 'mse_test': {'m4K': 426.45481071944295, 'ref': 547.6864471342008, 'p4K': 932.2880288145462}} \n",
      "\n",
      "Features selected by forward sequential selection: ['S0 SHF', 'LHF Q_below', 'p Q_below', 'p T_below', 'q T_below', 'dq_dp^2', 'd2q_dp2^2', 'Q_below T_above']\n",
      "{'S0 SHF': 41.45017734473109, 'LHF Q_below': -17.32296014917271, 'p Q_below': 1612.1563716585547, 'p T_below': -38.23816161313945, 'q T_below': 1000.1935262567814, 'dq_dp^2': -74.47718143685911, 'd2q_dp2^2': 52.8022395616192, 'Q_below T_above': -1852.7964649008345, 'LR_Bias': -0.38981224132164494, 'mse_train': 411.4599479445275, 'mse_test': {'m4K': 425.61842513942827, 'ref': 548.7567740400469, 'p4K': 949.7463091185849}} \n",
      "\n",
      "Features selected by forward sequential selection: ['S0 SHF', 'SHF Q_below', 'LHF Q_below', 'p Q_below', 'p T_below', 'q T_below', 'dq_dp^2', 'd2q_dp2^2', 'Q_below T_above']\n",
      "{'S0 SHF': 39.820233249860806, 'SHF Q_below': 96.48428796287466, 'LHF Q_below': -59.58207016436523, 'p Q_below': 1463.7200740041342, 'p T_below': -33.20212978531318, 'q T_below': 970.1084049938167, 'dq_dp^2': -66.10367562482995, 'd2q_dp2^2': 52.434697481654005, 'Q_below T_above': -1699.464470870988, 'LR_Bias': -3.3120250588999576, 'mse_train': 408.28529311924075, 'mse_test': {'m4K': 421.529308213868, 'ref': 545.3304047049078, 'p4K': 934.9437046217251}} \n",
      "\n"
     ]
    }
   ],
   "source": [
    "lin_reg = LinearRegression()\n",
    "for no_features in np.arange(min_features_to_select, max_features_to_select):   \n",
    "    \n",
    "    sfs = SequentialFeatureSelector(lin_reg, n_features_to_select=no_features, direction='forward', cv=cv, n_jobs=-1)\n",
    "    sfs.fit(X_train2, dTdt_train)\n",
    "    selected_features = np.array(new_features)[sfs.get_support()].tolist()\n",
    "    print(\n",
    "        \"Features selected by forward sequential selection: \"\n",
    "        f\"{selected_features}\"\n",
    "    )\n",
    "\n",
    "    X_transformed = sfs.transform(X_train2)\n",
    "\n",
    "    lin_reg.fit(X_transformed, dTdt_train)\n",
    "    ypred = lin_reg.predict(X_transformed)\n",
    "    mse_train = mean_squared_error(dTdt_train, ypred)\n",
    "    mse_test = {}; ypred_test = {};\n",
    "    for iclim,clim in enumerate(climates):\n",
    "        ypred_test[clim] = lin_reg.predict(sfs.transform(X_test2[clim]))\n",
    "        mse_test[clim] = mean_squared_error(dTdt_test[clim], ypred_test[clim])\n",
    "    \n",
    "    # Output function\n",
    "    dict_exp = {}\n",
    "    for i in range(len(selected_features)):\n",
    "        dict_exp[selected_features[i]] = lin_reg.coef_[i]\n",
    "    dict_exp['LR_Bias'] = lin_reg.intercept_\n",
    "    dict_exp['mse_train'] = mse_train\n",
    "    dict_exp['mse_test'] = mse_test\n",
    "    print(dict_exp,'\\n')\n",
    "    \n",
    "    dict_combined['Number of variables %d'%no_features] = dict_exp"
   ]
  },
  {
   "cell_type": "code",
   "execution_count": 104,
   "metadata": {},
   "outputs": [],
   "source": [
    "# Write dict_combined to pkl file\n",
    "save_path = save_folder+'2022_06_25_deg2_dTdt_cv'+str(cv)\n",
    "pickle.dump(dict_combined, open(save_path,'wb'))"
   ]
  },
  {
   "cell_type": "markdown",
   "metadata": {},
   "source": [
    "## Cubic"
   ]
  },
  {
   "cell_type": "code",
   "execution_count": 109,
   "metadata": {},
   "outputs": [],
   "source": [
    "cv = 2\n",
    "deg = 3\n",
    "min_features_to_select = 1\n",
    "max_features_to_select = 10"
   ]
  },
  {
   "cell_type": "code",
   "execution_count": 110,
   "metadata": {},
   "outputs": [
    {
     "ename": "NameError",
     "evalue": "name 'X_train' is not defined",
     "output_type": "error",
     "traceback": [
      "\u001b[0;31m---------------------------------------------------------------------------\u001b[0m",
      "\u001b[0;31mNameError\u001b[0m                                 Traceback (most recent call last)",
      "\u001b[0;32m<ipython-input-110-7efe6a8c7aa6>\u001b[0m in \u001b[0;36m<module>\u001b[0;34m\u001b[0m\n\u001b[1;32m      1\u001b[0m \u001b[0mpoly\u001b[0m \u001b[0;34m=\u001b[0m \u001b[0mPolynomialFeatures\u001b[0m\u001b[0;34m(\u001b[0m\u001b[0mdegree\u001b[0m\u001b[0;34m=\u001b[0m\u001b[0mdeg\u001b[0m\u001b[0;34m)\u001b[0m\u001b[0;34m\u001b[0m\u001b[0;34m\u001b[0m\u001b[0m\n\u001b[0;32m----> 2\u001b[0;31m \u001b[0mX_train3\u001b[0m \u001b[0;34m=\u001b[0m \u001b[0mpoly\u001b[0m\u001b[0;34m.\u001b[0m\u001b[0mfit_transform\u001b[0m\u001b[0;34m(\u001b[0m\u001b[0mX_train\u001b[0m\u001b[0;34m)\u001b[0m\u001b[0;34m\u001b[0m\u001b[0;34m\u001b[0m\u001b[0m\n\u001b[0m\u001b[1;32m      3\u001b[0m \u001b[0;34m\u001b[0m\u001b[0m\n\u001b[1;32m      4\u001b[0m \u001b[0mprint\u001b[0m\u001b[0;34m(\u001b[0m\u001b[0mX_train3\u001b[0m\u001b[0;34m.\u001b[0m\u001b[0mshape\u001b[0m\u001b[0;34m[\u001b[0m\u001b[0;36m1\u001b[0m\u001b[0;34m]\u001b[0m\u001b[0;34m)\u001b[0m\u001b[0;34m\u001b[0m\u001b[0;34m\u001b[0m\u001b[0m\n\u001b[1;32m      5\u001b[0m \u001b[0;34m\u001b[0m\u001b[0m\n",
      "\u001b[0;31mNameError\u001b[0m: name 'X_train' is not defined"
     ]
    }
   ],
   "source": [
    "poly = PolynomialFeatures(degree=deg)\n",
    "X_train3 = poly.fit_transform(X_train)\n",
    "\n",
    "print(X_train3.shape[1])\n",
    "    \n",
    "new_features = poly.get_feature_names(np.array(key_array)) # Update the feature names\n",
    "\n",
    "X_test3 = {}\n",
    "for iclim,clim in enumerate(climates):\n",
    "    X_test3[clim] = poly.fit_transform(X_test[clim])"
   ]
  },
  {
   "cell_type": "markdown",
   "metadata": {},
   "source": [
    "### dQ/dt"
   ]
  },
  {
   "cell_type": "code",
   "execution_count": 106,
   "metadata": {},
   "outputs": [],
   "source": [
    "dict_combined = {}"
   ]
  },
  {
   "cell_type": "code",
   "execution_count": 108,
   "metadata": {},
   "outputs": [
    {
     "name": "stdout",
     "output_type": "stream",
     "text": [
      "Features selected by forward sequential selection: ['Q_above T_below^2']\n",
      "{'Q_above T_below^2': -1791.4721896058443, 'LR_Bias': 2.0102994328707346, 'mse_train': 865.0616831791059, 'mse_test': {'m4K': 910.7564965428066, 'ref': 1337.8050186676069, 'p4K': 2229.460643927211}} \n",
      "\n",
      "Features selected by forward sequential selection: ['Q_above T_below^2', 'Q_below T_above^2']\n",
      "{'Q_above T_below^2': -4997.229259468132, 'Q_below T_above^2': 214.38583148810298, 'LR_Bias': -1.131892336235134, 'mse_train': 821.6022721229303, 'mse_test': {'m4K': 871.1640295309111, 'ref': 1342.2932096248574, 'p4K': 2441.043992916318}} \n",
      "\n",
      "Features selected by forward sequential selection: ['LHF dq_dp^2', 'Q_above T_below^2', 'Q_below T_above^2']\n",
      "{'LHF dq_dp^2': 86.19042110503568, 'Q_above T_below^2': -4597.423280004793, 'Q_below T_above^2': 169.6053409464212, 'LR_Bias': -3.932635837577067, 'mse_train': 814.0248653563366, 'mse_test': {'m4K': 862.8068604916828, 'ref': 1315.4579766169834, 'p4K': 2363.3755875883676}} \n",
      "\n",
      "Features selected by forward sequential selection: ['SHF q Q_below', 'LHF dq_dp^2', 'Q_above T_below^2', 'Q_below T_above^2']\n",
      "{'SHF q Q_below': -723.6965552089356, 'LHF dq_dp^2': 107.89999403771965, 'Q_above T_below^2': -3784.3221530684477, 'Q_below T_above^2': 218.05164184488643, 'LR_Bias': -5.378306729718016, 'mse_train': 806.8611559823449, 'mse_test': {'m4K': 850.4341858973419, 'ref': 1303.3405642386901, 'p4K': 2355.117772519359}} \n",
      "\n",
      "Features selected by forward sequential selection: ['SHF q Q_below', 'LHF dq_dp^2', 'LHF Q_above T_below', 'Q_above T_below^2', 'Q_below T_above^2']\n",
      "{'SHF q Q_below': -1963.5174411237788, 'LHF dq_dp^2': 70.35346011037424, 'LHF Q_above T_below': 3067.8791149002473, 'Q_above T_below^2': -3672.838069099353, 'Q_below T_above^2': 198.10191830340972, 'LR_Bias': -4.277081195236428, 'mse_train': 786.5340946607713, 'mse_test': {'m4K': 832.4739598702292, 'ref': 1289.9730211424182, 'p4K': 2359.063235526502}} \n",
      "\n",
      "Features selected by forward sequential selection: ['LHF dq_dp', 'SHF q Q_below', 'LHF dq_dp^2', 'LHF Q_above T_below', 'Q_above T_below^2', 'Q_below T_above^2']\n",
      "{'LHF dq_dp': -197.41185495519616, 'SHF q Q_below': -2139.2841143023684, 'LHF dq_dp^2': 460.6792614513791, 'LHF Q_above T_below': 3179.7265473491834, 'Q_above T_below^2': -3159.673844324905, 'Q_below T_above^2': 162.68005515148053, 'LR_Bias': -1.758990630188006, 'mse_train': 776.7949426843356, 'mse_test': {'m4K': 820.9667894236898, 'ref': 1276.1359807760355, 'p4K': 2350.0791467962013}} \n",
      "\n",
      "Features selected by forward sequential selection: ['LHF dq_dp', 'SHF q Q_below', 'LHF q dq_dp', 'LHF dq_dp^2', 'LHF Q_above T_below', 'Q_above T_below^2', 'Q_below T_above^2']\n",
      "{'LHF dq_dp': -334.2556631795757, 'SHF q Q_below': -2014.2184628878695, 'LHF q dq_dp': -185.76205179943605, 'LHF dq_dp^2': 795.8033360568144, 'LHF Q_above T_below': 4052.7465117106917, 'Q_above T_below^2': -3815.139771426416, 'Q_below T_above^2': 148.6434519748524, 'LR_Bias': -1.3606391946486878, 'mse_train': 767.3149099808234, 'mse_test': {'m4K': 810.6048842431857, 'ref': 1273.0576751964575, 'p4K': 2377.131394879266}} \n",
      "\n",
      "Features selected by forward sequential selection: ['LHF dq_dp', 'SHF q Q_below', 'LHF q dq_dp', 'LHF dq_dp^2', 'LHF Q_above T_below', 'q d2q_dp2 Q_below', 'Q_above T_below^2', 'Q_below T_above^2']\n",
      "{'LHF dq_dp': -344.88428131383745, 'SHF q Q_below': -3068.2089952381116, 'LHF q dq_dp': -226.29684837154113, 'LHF dq_dp^2': 843.7285975553441, 'LHF Q_above T_below': 4523.131419793982, 'q d2q_dp2 Q_below': 552.8286385852452, 'Q_above T_below^2': -4117.990066566083, 'Q_below T_above^2': 83.2947385017963, 'LR_Bias': -1.338174907436152, 'mse_train': 760.730777099193, 'mse_test': {'m4K': 800.4114521743429, 'ref': 1259.7122405015289, 'p4K': 2260.109889927828}} \n",
      "\n",
      "Features selected by forward sequential selection: ['LHF dq_dp', 'SHF q Q_below', 'LHF q dq_dp', 'LHF dq_dp^2', 'LHF Q_above T_below', 'q^2 T_below', 'q d2q_dp2 Q_below', 'Q_above T_below^2', 'Q_below T_above^2']\n",
      "{'LHF dq_dp': -302.7046554980172, 'SHF q Q_below': -2931.8140902677287, 'LHF q dq_dp': -186.49507931731748, 'LHF dq_dp^2': 728.734158351713, 'LHF Q_above T_below': 4804.218195731538, 'q^2 T_below': -1052.9545133622285, 'q d2q_dp2 Q_below': 1118.5835064804148, 'Q_above T_below^2': -5231.582835871079, 'Q_below T_above^2': 81.78586259104975, 'LR_Bias': -0.7310215585782793, 'mse_train': 756.3180145172211, 'mse_test': {'m4K': 794.9304029295147, 'ref': 1256.2518964124745, 'p4K': 2289.021601876813}} \n",
      "\n"
     ]
    }
   ],
   "source": [
    "lin_reg = LinearRegression()\n",
    "for no_features in np.arange(min_features_to_select, max_features_to_select):   \n",
    "    \n",
    "    sfs = SequentialFeatureSelector(lin_reg, n_features_to_select=no_features, direction='forward', cv=cv, n_jobs=-1)\n",
    "    sfs.fit(X_train3, dQdt_train)\n",
    "    selected_features = np.array(new_features)[sfs.get_support()].tolist()\n",
    "    print(\n",
    "        \"Features selected by forward sequential selection: \"\n",
    "        f\"{selected_features}\"\n",
    "    )\n",
    "\n",
    "    X_transformed = sfs.transform(X_train3)\n",
    "\n",
    "    lin_reg.fit(X_transformed, dQdt_train)\n",
    "    ypred = lin_reg.predict(X_transformed)\n",
    "    mse_train = mean_squared_error(dQdt_train, ypred)\n",
    "    mse_test = {}; ypred_test = {};\n",
    "    for iclim,clim in enumerate(climates):\n",
    "        ypred_test[clim] = lin_reg.predict(sfs.transform(X_test3[clim]))\n",
    "        mse_test[clim] = mean_squared_error(dQdt_test[clim], ypred_test[clim])\n",
    "    \n",
    "    # Output function\n",
    "    dict_exp = {}\n",
    "    for i in range(len(selected_features)):\n",
    "        dict_exp[selected_features[i]] = lin_reg.coef_[i]\n",
    "    dict_exp['LR_Bias'] = lin_reg.intercept_\n",
    "    dict_exp['mse_train'] = mse_train\n",
    "    dict_exp['mse_test'] = mse_test\n",
    "    print(dict_exp,'\\n')\n",
    "    \n",
    "    dict_combined['Number of variables %d'%no_features] = dict_exp"
   ]
  },
  {
   "cell_type": "code",
   "execution_count": 109,
   "metadata": {},
   "outputs": [],
   "source": [
    "# Write dict_combined to pkl file\n",
    "save_path = save_folder+'2022_06_25_deg3_dQdt_cv'+str(cv)\n",
    "pickle.dump(dict_combined, open(save_path,'wb'))"
   ]
  },
  {
   "cell_type": "markdown",
   "metadata": {},
   "source": [
    "### dT/dt"
   ]
  },
  {
   "cell_type": "code",
   "execution_count": 110,
   "metadata": {},
   "outputs": [],
   "source": [
    "dict_combined = {}"
   ]
  },
  {
   "cell_type": "code",
   "execution_count": 111,
   "metadata": {},
   "outputs": [
    {
     "name": "stdout",
     "output_type": "stream",
     "text": [
      "Features selected by forward sequential selection: ['q Q_below T_below']\n",
      "{'q Q_below T_below': 582.788865130556, 'LR_Bias': -2.1632561171584133, 'mse_train': 450.2165917423246, 'mse_test': {'m4K': 466.1875461297199, 'ref': 628.1280281403509, 'p4K': 1177.7177633497904}} \n",
      "\n",
      "Features selected by forward sequential selection: ['q Q_below T_below', 'dq_dp Q_below T_above']\n",
      "{'q Q_below T_below': 1428.7252088800476, 'dq_dp Q_below T_above': -252.23765547770824, 'LR_Bias': 2.2831024398709325, 'mse_train': 416.9364399398326, 'mse_test': {'m4K': 434.2397220223769, 'ref': 708.5659912346466, 'p4K': 2154.3585218985977}} \n",
      "\n",
      "Features selected by forward sequential selection: ['S0 p Q_below', 'q Q_below T_below', 'dq_dp Q_below T_above']\n",
      "{'S0 p Q_below': 78.90857705609342, 'q Q_below T_below': 1461.4990115165635, 'dq_dp Q_below T_above': -300.78376143617044, 'LR_Bias': 2.2241930369221774, 'mse_train': 408.9831012296967, 'mse_test': {'m4K': 421.89582909211725, 'ref': 707.9138400899174, 'p4K': 2192.2671204350772}} \n",
      "\n",
      "Features selected by forward sequential selection: ['S0 p Q_below', 'SHF q T_below', 'q Q_below T_below', 'dq_dp Q_below T_above']\n",
      "{'S0 p Q_below': 83.2676860184884, 'SHF q T_below': 1073.363862919965, 'q Q_below T_below': 1207.8766311647032, 'dq_dp Q_below T_above': -342.3619329445867, 'LR_Bias': 1.9678324961593447, 'mse_train': 403.1395429173155, 'mse_test': {'m4K': 411.55981623317126, 'ref': 644.1317613391898, 'p4K': 1695.988315834644}} \n",
      "\n",
      "Features selected by forward sequential selection: ['S0 p Q_below', 'SHF q T_below', 'LHF q T_below', 'q Q_below T_below', 'dq_dp Q_below T_above']\n",
      "{'S0 p Q_below': 85.3271024967499, 'SHF q T_below': 3375.6398032069014, 'LHF q T_below': -1599.2633323906691, 'q Q_below T_below': 1083.8157925593116, 'dq_dp Q_below T_above': -293.5626789611292, 'LR_Bias': 0.795430157786162, 'mse_train': 384.9105447726026, 'mse_test': {'m4K': 389.13586618057565, 'ref': 582.0871470301906, 'p4K': 1247.9232959104459}} \n",
      "\n",
      "Features selected by forward sequential selection: ['S0 p Q_below', 'SHF q T_below', 'LHF q T_below', 'q Q_below T_below', 'dq_dp Q_below T_above', 'Q_below dT_dp^2']\n",
      "{'S0 p Q_below': 82.25330974329206, 'SHF q T_below': 3788.663863990352, 'LHF q T_below': -1567.3801462021104, 'q Q_below T_below': 1032.570267447503, 'dq_dp Q_below T_above': -356.02710229165285, 'Q_below dT_dp^2': 30.204570761551704, 'LR_Bias': -1.1072521331175627, 'mse_train': 378.803439621326, 'mse_test': {'m4K': 382.59491723697255, 'ref': 575.820897950768, 'p4K': 1222.8930658401396}} \n",
      "\n",
      "Features selected by forward sequential selection: ['S0 p Q_below', 'SHF q T_below', 'LHF^2 q', 'LHF q T_below', 'q Q_below T_below', 'dq_dp Q_below T_above', 'Q_below dT_dp^2']\n",
      "{'S0 p Q_below': 82.79913963008623, 'SHF q T_below': 3863.2668245704967, 'LHF^2 q': 118.61984445260474, 'LHF q T_below': -2146.454571170829, 'q Q_below T_below': 1187.2658381060896, 'dq_dp Q_below T_above': -343.44235044850456, 'Q_below dT_dp^2': 31.648425205774313, 'LR_Bias': -1.690816665220709, 'mse_train': 372.9471261033371, 'mse_test': {'m4K': 378.1840254440129, 'ref': 586.1573430050585, 'p4K': 1349.75574004091}} \n",
      "\n",
      "Features selected by forward sequential selection: ['S0 p Q_below', 'SHF q T_below', 'LHF^2 q', 'LHF^2 Q_above', 'LHF q T_below', 'q Q_below T_below', 'dq_dp Q_below T_above', 'Q_below dT_dp^2']\n",
      "{'S0 p Q_below': 83.64960435256982, 'SHF q T_below': 4170.024923361527, 'LHF^2 q': 343.05641323854366, 'LHF^2 Q_above': -313.20683034877766, 'LHF q T_below': -2516.514246907423, 'q Q_below T_below': 1221.7220053005176, 'dq_dp Q_below T_above': -341.5355838111823, 'Q_below dT_dp^2': 31.494879890421927, 'LR_Bias': -1.7251222161331907, 'mse_train': 370.26944084034477, 'mse_test': {'m4K': 377.57174014433235, 'ref': 590.3466080310977, 'p4K': 1368.5176331441844}} \n",
      "\n",
      "Features selected by forward sequential selection: ['S0 p Q_below', 'SHF q T_below', 'LHF^2 q', 'LHF^2 Q_above', 'LHF q T_below', 'q Q_below T_below', 'dq_dp Q_below T_above', 'Q_below dT_dp^2', 'T_above^2 T_below']\n",
      "{'S0 p Q_below': 85.34566873293653, 'SHF q T_below': 4459.698023138153, 'LHF^2 q': 351.8772202950794, 'LHF^2 Q_above': -340.26389095859776, 'LHF q T_below': -2654.6462165775397, 'q Q_below T_below': 1118.4200575545387, 'dq_dp Q_below T_above': -283.4989407082267, 'Q_below dT_dp^2': 24.031523387744834, 'T_above^2 T_below': -46.93123174126383, 'LR_Bias': -0.4824196195124597, 'mse_train': 368.81362754475475, 'mse_test': {'m4K': 376.2200846593546, 'ref': 578.3916154764433, 'p4K': 1267.1339206356142}} \n",
      "\n"
     ]
    }
   ],
   "source": [
    "lin_reg = LinearRegression()\n",
    "for no_features in np.arange(min_features_to_select, max_features_to_select):   \n",
    "    \n",
    "    sfs = SequentialFeatureSelector(lin_reg, n_features_to_select=no_features, direction='forward', cv=cv, n_jobs=-1)\n",
    "    sfs.fit(X_train3, dTdt_train)\n",
    "    selected_features = np.array(new_features)[sfs.get_support()].tolist()\n",
    "    print(\n",
    "        \"Features selected by forward sequential selection: \"\n",
    "        f\"{selected_features}\"\n",
    "    )\n",
    "\n",
    "    X_transformed = sfs.transform(X_train3)\n",
    "\n",
    "    lin_reg.fit(X_transformed, dTdt_train)\n",
    "    ypred = lin_reg.predict(X_transformed)\n",
    "    mse_train = mean_squared_error(dTdt_train, ypred)\n",
    "    mse_test = {}; ypred_test = {};\n",
    "    for iclim,clim in enumerate(climates):\n",
    "        ypred_test[clim] = lin_reg.predict(sfs.transform(X_test3[clim]))\n",
    "        mse_test[clim] = mean_squared_error(dTdt_test[clim], ypred_test[clim])\n",
    "    \n",
    "    # Output function\n",
    "    dict_exp = {}\n",
    "    for i in range(len(selected_features)):\n",
    "        dict_exp[selected_features[i]] = lin_reg.coef_[i]\n",
    "    dict_exp['LR_Bias'] = lin_reg.intercept_\n",
    "    dict_exp['mse_train'] = mse_train\n",
    "    dict_exp['mse_test'] = mse_test\n",
    "    print(dict_exp,'\\n')\n",
    "    \n",
    "    dict_combined['Number of variables %d'%no_features] = dict_exp"
   ]
  },
  {
   "cell_type": "code",
   "execution_count": 112,
   "metadata": {},
   "outputs": [],
   "source": [
    "# Write dict_combined to pkl file\n",
    "save_path = save_folder+'2022_06_25_deg3_dTdt_cv'+str(cv)\n",
    "pickle.dump(dict_combined, open(save_path,'wb'))"
   ]
  },
  {
   "cell_type": "markdown",
   "metadata": {},
   "source": [
    "# Repeat fit+SFS using climate-invariant variables"
   ]
  },
  {
   "cell_type": "markdown",
   "metadata": {},
   "source": [
    "## Generate climate invariant variables for both training and test sets"
   ]
  },
  {
   "cell_type": "markdown",
   "metadata": {},
   "source": [
    "### Initialize new datasets/variables"
   ]
  },
  {
   "cell_type": "code",
   "execution_count": 16,
   "metadata": {},
   "outputs": [],
   "source": [
    "test_CI = {}"
   ]
  },
  {
   "cell_type": "code",
   "execution_count": 17,
   "metadata": {},
   "outputs": [],
   "source": [
    "train_CI = train_both.copy()\n",
    "for iclim,clim in enumerate(climates):\n",
    "    test_CI[clim] = test_sets[clim].copy()"
   ]
  },
  {
   "cell_type": "code",
   "execution_count": 18,
   "metadata": {},
   "outputs": [],
   "source": [
    "var_names_CI = train_CI['var_names'].values\n",
    "for i in range(60):\n",
    "    if i<30: var_names_CI[i] = 'RH'\n",
    "    else: var_names_CI[i] = 'BMSE'\n",
    "var_names_CI[93] = 'LHF_nsDELQ'"
   ]
  },
  {
   "cell_type": "code",
   "execution_count": 19,
   "metadata": {},
   "outputs": [],
   "source": [
    "train_CI.assign_coords({'var_names':var_names_CI})\n",
    "for iclim,clim in enumerate(climates):\n",
    "    test_CI[clim].assign_coords({'var_names':var_names_CI})"
   ]
  },
  {
   "cell_type": "code",
   "execution_count": 20,
   "metadata": {},
   "outputs": [],
   "source": [
    "#newval_test = np.zeros(test_CI['p4K']['vars'].shape)"
   ]
  },
  {
   "cell_type": "code",
   "execution_count": 23,
   "metadata": {},
   "outputs": [],
   "source": [
    "newval_train = np.zeros(train_CI['vars'].shape,dtype='float32')\n",
    "# for iclim,clim in enumerate(climates):\n",
    "#     newval_test[clim] = np.zeros(test_CI[clim]['vars'].shape)"
   ]
  },
  {
   "cell_type": "markdown",
   "metadata": {},
   "source": [
    "### Create climate-invariant data generators"
   ]
  },
  {
   "cell_type": "code",
   "execution_count": 24,
   "metadata": {},
   "outputs": [],
   "source": [
    "path_input_norm = path_data + '2021_01_24_NORM_O3_small.nc'\n",
    "path_norm_RH = path_data + '2021_02_01_NORM_O3_RH_small.nc'\n",
    "path_norm_BMSE = path_data + '2021_06_16_NORM_BMSE_small.nc'\n",
    "path_norm_LHF_nsDELQ = path_data + '2021_02_01_NORM_O3_LHF_nsDELQ_small.nc'"
   ]
  },
  {
   "cell_type": "code",
   "execution_count": 25,
   "metadata": {},
   "outputs": [],
   "source": [
    "def train_gen_rescaling(input_rescaling,path_train):\n",
    "    return DataGeneratorCI(\n",
    "        data_fn = path_train,\n",
    "        input_vars = input_rescaling,\n",
    "        output_vars = out_vars,\n",
    "        norm_fn = path_input_norm,\n",
    "        input_transform = ('mean', 'maxrs'),\n",
    "        output_transform = scale_dict)"
   ]
  },
  {
   "cell_type": "code",
   "execution_count": 26,
   "metadata": {},
   "outputs": [],
   "source": [
    "in_vars = ['QBP','TBP','PS','SOLIN','SHFLX','LHFLX']\n",
    "out_vars = ['PHQ','TPHYSTND']\n",
    "train_gen_RH = train_gen_rescaling(in_vars,path_train_both)\n",
    "train_gen_BMSE = train_gen_rescaling(in_vars,path_train_both)\n",
    "train_gen_LHF_nsDELQ = train_gen_rescaling(in_vars,path_train_both)"
   ]
  },
  {
   "cell_type": "code",
   "execution_count": 27,
   "metadata": {},
   "outputs": [],
   "source": [
    "N_batch = 8192"
   ]
  },
  {
   "cell_type": "code",
   "execution_count": 28,
   "metadata": {},
   "outputs": [],
   "source": [
    "def train_gen_CI(path_train):\n",
    "    return  DataGeneratorCI(\n",
    "    data_fn = path_train,\n",
    "    input_vars = in_vars,\n",
    "    output_vars = out_vars,\n",
    "    norm_fn = path_input_norm,\n",
    "    input_transform = ('mean','maxrs'),\n",
    "    output_transform = scale_dict,\n",
    "    shuffle = False,\n",
    "    batch_size=N_batch,\n",
    "    Qscaling = 'RH',\n",
    "    Tscaling = 'BMSE',\n",
    "    LHFscaling = 'LHF_nsDELQ',\n",
    "    hyam=hyam, hybm=hybm, # Arrays to define mid-levels of hybrid vertical coordinate\n",
    "    inp_sub_Qscaling=train_gen_RH.input_transform.sub, # What to subtract from RH inputs\n",
    "    inp_div_Qscaling=train_gen_RH.input_transform.div, # What to divide RH inputs by\n",
    "    inp_sub_Tscaling=train_gen_BMSE.input_transform.sub,\n",
    "    inp_div_Tscaling=train_gen_BMSE.input_transform.div,\n",
    "    inp_sub_LHFscaling=train_gen_LHF_nsDELQ.input_transform.sub,\n",
    "    inp_div_LHFscaling=train_gen_LHF_nsDELQ.input_transform.div\n",
    ")"
   ]
  },
  {
   "cell_type": "code",
   "execution_count": 29,
   "metadata": {},
   "outputs": [],
   "source": [
    "test_gen = {}"
   ]
  },
  {
   "cell_type": "code",
   "execution_count": 30,
   "metadata": {},
   "outputs": [],
   "source": [
    "train_both_gen = train_gen_CI(path_train_both)\n",
    "# for iclim,clim in enumerate(climates):\n",
    "#     test_gen[clim] = train_gen_CI(path_data+path_append[iclim])"
   ]
  },
  {
   "cell_type": "markdown",
   "metadata": {},
   "source": [
    "### Assign new values using climate-invariant generators"
   ]
  },
  {
   "cell_type": "code",
   "execution_count": 31,
   "metadata": {},
   "outputs": [],
   "source": [
    "# new_values = np.zeros(train_CI['vars'].shape)"
   ]
  },
  {
   "cell_type": "code",
   "execution_count": 33,
   "metadata": {},
   "outputs": [
    {
     "name": "stdout",
     "output_type": "stream",
     "text": [
      "progress= 99.93 %                \r"
     ]
    }
   ],
   "source": [
    "for ibatch in range((train_both_gen.n_samples)//N_batch):\n",
    "    if ibatch % 10==0: print('progress=','%2.2f' % \\\n",
    "                             (100*ibatch/((train_both_gen.n_samples)//N_batch)),\n",
    "                             '%'dddd,'               ',end='\\r')\n",
    "    train_both_gen_pu = (train_both_gen[ibatch][0]*train_both_gen.input_transform.div+\\\n",
    "                         train_both_gen.input_transform.sub)\n",
    "    newval_train[ibatch*N_batch:((1+ibatch)*N_batch),:] = np.concatenate(\n",
    "        (np.float32(train_both_gen_pu[:,:64]),\n",
    "         np.float32(train_CI['vars'][ibatch*N_batch:((1+ibatch)*N_batch),64:])),\n",
    "        axis=1)"
   ]
  },
  {
   "cell_type": "code",
   "execution_count": 34,
   "metadata": {},
   "outputs": [
    {
     "data": {
      "text/plain": [
       "(94355456, 214)"
      ]
     },
     "execution_count": 34,
     "metadata": {},
     "output_type": "execute_result"
    }
   ],
   "source": [
    "newval_train.shape"
   ]
  },
  {
   "cell_type": "code",
   "execution_count": 35,
   "metadata": {},
   "outputs": [
    {
     "name": "stderr",
     "output_type": "stream",
     "text": [
      "07/08/2022 06:16:44 PM findfont: Matching :family=sans-serif:style=normal:variant=normal:weight=normal:stretch=normal:size=10.0.\n",
      "07/08/2022 06:16:44 PM findfont: score(<Font 'STIXGeneral' (STIXGeneralBolIta.ttf) italic normal bold normal>) = 11.335\n",
      "07/08/2022 06:16:44 PM findfont: score(<Font 'STIXSizeThreeSym' (STIXSizThreeSymBol.ttf) normal normal bold normal>) = 10.335\n",
      "07/08/2022 06:16:44 PM findfont: score(<Font 'cmsy10' (cmsy10.ttf) normal normal 400 normal>) = 10.05\n",
      "07/08/2022 06:16:44 PM findfont: score(<Font 'cmss10' (cmss10.ttf) normal normal 400 normal>) = 10.05\n",
      "07/08/2022 06:16:44 PM findfont: score(<Font 'DejaVu Serif Display' (DejaVuSerifDisplay.ttf) normal normal 400 normal>) = 10.05\n",
      "07/08/2022 06:16:44 PM findfont: score(<Font 'DejaVu Sans Mono' (DejaVuSansMono-Bold.ttf) normal normal bold normal>) = 10.335\n",
      "07/08/2022 06:16:44 PM findfont: score(<Font 'STIXNonUnicode' (STIXNonUniBol.ttf) normal normal bold normal>) = 10.335\n",
      "07/08/2022 06:16:44 PM findfont: score(<Font 'STIXGeneral' (STIXGeneralItalic.ttf) italic normal 400 normal>) = 11.05\n",
      "07/08/2022 06:16:44 PM findfont: score(<Font 'STIXSizeOneSym' (STIXSizOneSymBol.ttf) normal normal bold normal>) = 10.335\n",
      "07/08/2022 06:16:44 PM findfont: score(<Font 'STIXSizeTwoSym' (STIXSizTwoSymReg.ttf) normal normal regular normal>) = 10.05\n",
      "07/08/2022 06:16:44 PM findfont: score(<Font 'STIXSizeTwoSym' (STIXSizTwoSymBol.ttf) normal normal bold normal>) = 10.335\n",
      "07/08/2022 06:16:44 PM findfont: score(<Font 'DejaVu Serif' (DejaVuSerif.ttf) normal normal 400 normal>) = 10.05\n",
      "07/08/2022 06:16:44 PM findfont: score(<Font 'cmtt10' (cmtt10.ttf) normal normal 400 normal>) = 10.05\n",
      "07/08/2022 06:16:44 PM findfont: score(<Font 'DejaVu Sans' (DejaVuSans-Oblique.ttf) oblique normal 400 normal>) = 1.05\n",
      "07/08/2022 06:16:44 PM findfont: score(<Font 'cmb10' (cmb10.ttf) normal normal 400 normal>) = 10.05\n",
      "07/08/2022 06:16:44 PM findfont: score(<Font 'DejaVu Serif' (DejaVuSerif-BoldItalic.ttf) italic normal bold normal>) = 11.335\n",
      "07/08/2022 06:16:44 PM findfont: score(<Font 'DejaVu Sans Mono' (DejaVuSansMono-Oblique.ttf) oblique normal 400 normal>) = 11.05\n",
      "07/08/2022 06:16:44 PM findfont: score(<Font 'DejaVu Sans Display' (DejaVuSansDisplay.ttf) normal normal 400 normal>) = 10.05\n",
      "07/08/2022 06:16:44 PM findfont: score(<Font 'DejaVu Sans Mono' (DejaVuSansMono.ttf) normal normal 400 normal>) = 10.05\n",
      "07/08/2022 06:16:44 PM findfont: score(<Font 'STIXSizeFourSym' (STIXSizFourSymBol.ttf) normal normal bold normal>) = 10.335\n",
      "07/08/2022 06:16:44 PM findfont: score(<Font 'STIXNonUnicode' (STIXNonUniIta.ttf) italic normal 400 normal>) = 11.05\n",
      "07/08/2022 06:16:44 PM findfont: score(<Font 'DejaVu Serif' (DejaVuSerif-Italic.ttf) italic normal 400 normal>) = 11.05\n",
      "07/08/2022 06:16:44 PM findfont: score(<Font 'DejaVu Serif' (DejaVuSerif-Bold.ttf) normal normal bold normal>) = 10.335\n",
      "07/08/2022 06:16:44 PM findfont: score(<Font 'STIXNonUnicode' (STIXNonUniBolIta.ttf) italic normal bold normal>) = 11.335\n",
      "07/08/2022 06:16:44 PM findfont: score(<Font 'STIXSizeOneSym' (STIXSizOneSymReg.ttf) normal normal regular normal>) = 10.05\n",
      "07/08/2022 06:16:44 PM findfont: score(<Font 'DejaVu Sans Mono' (DejaVuSansMono-BoldOblique.ttf) oblique normal bold normal>) = 11.335\n",
      "07/08/2022 06:16:44 PM findfont: score(<Font 'STIXSizeThreeSym' (STIXSizThreeSymReg.ttf) normal normal regular normal>) = 10.05\n",
      "07/08/2022 06:16:44 PM findfont: score(<Font 'DejaVu Sans' (DejaVuSans-Bold.ttf) normal normal bold normal>) = 0.33499999999999996\n",
      "07/08/2022 06:16:44 PM findfont: score(<Font 'DejaVu Sans' (DejaVuSans-BoldOblique.ttf) oblique normal bold normal>) = 1.335\n",
      "07/08/2022 06:16:44 PM findfont: score(<Font 'STIXSizeFiveSym' (STIXSizFiveSymReg.ttf) normal normal regular normal>) = 10.05\n",
      "07/08/2022 06:16:44 PM findfont: score(<Font 'STIXGeneral' (STIXGeneral.ttf) normal normal regular normal>) = 10.05\n",
      "07/08/2022 06:16:44 PM findfont: score(<Font 'STIXGeneral' (STIXGeneralBol.ttf) normal normal bold normal>) = 10.335\n",
      "07/08/2022 06:16:44 PM findfont: score(<Font 'STIXSizeFourSym' (STIXSizFourSymReg.ttf) normal normal regular normal>) = 10.05\n",
      "07/08/2022 06:16:44 PM findfont: score(<Font 'cmr10' (cmr10.ttf) normal normal 400 normal>) = 10.05\n",
      "07/08/2022 06:16:44 PM findfont: score(<Font 'DejaVu Sans' (DejaVuSans.ttf) normal normal 400 normal>) = 0.05\n",
      "07/08/2022 06:16:44 PM findfont: score(<Font 'cmex10' (cmex10.ttf) normal normal 400 normal>) = 10.05\n",
      "07/08/2022 06:16:44 PM findfont: score(<Font 'STIXNonUnicode' (STIXNonUni.ttf) normal normal regular normal>) = 10.05\n",
      "07/08/2022 06:16:44 PM findfont: score(<Font 'cmmi10' (cmmi10.ttf) normal normal 400 normal>) = 10.05\n",
      "07/08/2022 06:16:44 PM findfont: score(<Font 'esint10' (esint10.ttf) normal normal 400 normal>) = 10.05\n",
      "07/08/2022 06:16:44 PM findfont: score(<Font 'DejaVu Sans' (DejaVuSansCondensed.ttf) normal normal 400 condensed>) = 0.25\n",
      "07/08/2022 06:16:44 PM findfont: score(<Font 'wasy10' (wasy10.ttf) normal normal 400 normal>) = 10.05\n",
      "07/08/2022 06:16:44 PM findfont: score(<Font 'Liberation Mono' (LiberationMono-Italic.ttf) italic normal 400 normal>) = 11.05\n",
      "07/08/2022 06:16:44 PM findfont: score(<Font 'eufm10' (eufm10.ttf) normal normal 400 normal>) = 10.05\n",
      "07/08/2022 06:16:44 PM findfont: score(<Font 'Cantarell' (Cantarell-Oblique.otf) oblique normal 400 normal>) = 11.05\n",
      "07/08/2022 06:16:44 PM findfont: score(<Font 'Liberation Mono' (LiberationMono-Regular.ttf) normal normal 400 normal>) = 10.05\n",
      "07/08/2022 06:16:44 PM findfont: score(<Font 'Cantarell' (Cantarell-BoldOblique.otf) oblique normal bold normal>) = 11.335\n",
      "07/08/2022 06:16:44 PM findfont: score(<Font 'stmary10' (stmary10.ttf) normal normal 400 normal>) = 10.05\n",
      "07/08/2022 06:16:44 PM findfont: score(<Font 'msbm10' (msbm10.ttf) normal normal 400 normal>) = 10.05\n",
      "07/08/2022 06:16:44 PM findfont: score(<Font 'DejaVu Sans' (DejaVuSansCondensed-BoldOblique.ttf) oblique normal bold condensed>) = 1.535\n",
      "07/08/2022 06:16:44 PM findfont: score(<Font 'DejaVu Sans' (DejaVuSansCondensed-Oblique.ttf) oblique normal 400 condensed>) = 1.25\n",
      "07/08/2022 06:16:44 PM findfont: score(<Font 'DejaVu Sans' (DejaVuSans-ExtraLight.ttf) normal normal light normal>) = 0.24\n",
      "07/08/2022 06:16:44 PM findfont: score(<Font 'Liberation Mono' (LiberationMono-Bold.ttf) normal normal bold normal>) = 10.335\n",
      "07/08/2022 06:16:44 PM findfont: score(<Font 'Cantarell' (Cantarell-Regular.otf) normal normal regular normal>) = 10.05\n",
      "07/08/2022 06:16:44 PM findfont: score(<Font 'Liberation Mono' (LiberationMono-BoldItalic.ttf) italic normal bold normal>) = 11.335\n",
      "07/08/2022 06:16:44 PM findfont: score(<Font 'DejaVu Sans' (DejaVuSansCondensed-Bold.ttf) normal normal bold condensed>) = 0.5349999999999999\n",
      "07/08/2022 06:16:44 PM findfont: score(<Font 'msam10' (msam10.ttf) normal normal 400 normal>) = 10.05\n",
      "07/08/2022 06:16:44 PM findfont: score(<Font 'rsfs10' (rsfs10.ttf) italic normal 400 normal>) = 11.05\n",
      "07/08/2022 06:16:44 PM findfont: score(<Font 'Cantarell' (Cantarell-Bold.otf) normal normal bold normal>) = 10.335\n",
      "07/08/2022 06:16:44 PM findfont: Matching :family=sans-serif:style=normal:variant=normal:weight=normal:stretch=normal:size=10.0 to DejaVu Sans ('/DFS-L/DATA/pritchard/tbeucler/Miniconda3_2021_04_12/miniconda3/envs/CbrainCustomLayer/lib/python3.6/site-packages/matplotlib/mpl-data/fonts/ttf/DejaVuSans.ttf') with score of 0.050000.\n"
     ]
    },
    {
     "data": {
      "image/png": "[encoded data removed]",
      "text/plain": [
       "<Figure size 432x288 with 1 Axes>"
      ]
     },
     "metadata": {
      "needs_background": "light"
     },
     "output_type": "display_data"
    }
   ],
   "source": [
    "plt.hist(newval_train[:,:30].flatten(),bins=100);"
   ]
  },
  {
   "cell_type": "code",
   "execution_count": 36,
   "metadata": {},
   "outputs": [
    {
     "data": {
      "image/png": "[encoded data removed]",
      "text/plain": [
       "<Figure size 432x288 with 1 Axes>"
      ]
     },
     "metadata": {
      "needs_background": "light"
     },
     "output_type": "display_data"
    }
   ],
   "source": [
    "plt.hist(newval_train[:,30:60].flatten(),bins=100);"
   ]
  },
  {
   "cell_type": "markdown",
   "metadata": {},
   "source": [
    "### Extract and save RH and B"
   ]
  },
  {
   "cell_type": "code",
   "execution_count": 33,
   "metadata": {},
   "outputs": [],
   "source": [
    "new_test_val = {}"
   ]
  },
  {
   "cell_type": "code",
   "execution_count": 34,
   "metadata": {},
   "outputs": [
    {
     "name": "stdout",
     "output_type": "stream",
     "text": [
      "progress= 99.91 %                \r"
     ]
    }
   ],
   "source": [
    "for iclim,clim in enumerate(['p4K']):\n",
    "    \n",
    "    raw_dataset = test_CI[clim]\n",
    "    CIgen = test_gen[clim]\n",
    "    \n",
    "    for ibatch in range((CIgen.n_samples)//N_batch):\n",
    "        if ibatch % 10==0: print('progress=','%2.2f' % \\\n",
    "                                 (100*ibatch/((CIgen.n_samples)//N_batch)),\n",
    "                                 '%','               ',end='\\r')\n",
    "        CIgen_pu = (CIgen[ibatch][0]*CIgen.input_transform.div+\\\n",
    "                             CIgen.input_transform.sub)\n",
    "        newval_test[ibatch*N_batch:((1+ibatch)*N_batch),:] = np.concatenate(\n",
    "            (CIgen_pu[:,:64],raw_dataset['vars'][ibatch*N_batch:((1+ibatch)*N_batch),64:]),axis=1)"
   ]
  },
  {
   "cell_type": "code",
   "execution_count": 40,
   "metadata": {},
   "outputs": [],
   "source": [
    "# RH_train = new_values[:,:30]\n",
    "# B_train = new_values[:,30:60]\n",
    "RH_train = newval_train[:,:30]\n",
    "B_train = newval_train[:,30:60]\n",
    "# RH_test_cold = newval_test[:,:30]\n",
    "# B_test_cold = newval_test[:,30:60]\n",
    "\n",
    "#RH_test_med = np.float32(newval_test[:,:30])\n",
    "# RH_test_hot = np.float32(newval_test[:,:30])\n",
    "#B_test_med = np.float32(newval_test[:,30:60])\n",
    "# B_test_hot = np.float32(newval_test[:,30:60])"
   ]
  },
  {
   "cell_type": "code",
   "execution_count": 41,
   "metadata": {},
   "outputs": [],
   "source": [
    "data = dict(\n",
    "        RH_train=([\"samples_both\",\"pressure\"],RH_train),\n",
    "        B_train=([\"samples_both\",\"pressure\"],B_train)\n",
    "#         RH_test_cold=([\"samples_cold\",\"pressure\"],RH_test_cold),\n",
    "#         B_test_cold=([\"samples_cold\",\"pressure\"],B_test_cold),\n",
    "#         RH_test_med=([\"samples\",\"pressure\"],RH_test_med),\n",
    "#         B_test_med=([\"samples\",\"pressure\"],B_test_med),\n",
    "#         RH_test_hot=([\"samples\",\"pressure\"],RH_test_hot),\n",
    "#         B_test_hot=([\"samples\",\"pressure\"],B_test_hot),\n",
    "    )"
   ]
  },
  {
   "cell_type": "code",
   "execution_count": 49,
   "metadata": {},
   "outputs": [],
   "source": [
    "coord = dict(\n",
    "        pressure_midlevel=([\"pressure\"],np.mean(pm,axis=0)),\n",
    "        pressure_interfac=([\"pressure_interface\"],np.mean(pi,axis=0)),\n",
    "        samples_mixed=([\"samples_both\"],np.arange(0,RH_train.shape[0])),\n",
    "#         sample_cold=([\"samples_cold\"],np.arange(0,RH_test_cold.shape[0]))\n",
    "    )"
   ]
  },
  {
   "cell_type": "code",
   "execution_count": 50,
   "metadata": {},
   "outputs": [],
   "source": [
    "da = xr.Dataset(\n",
    "    data_vars=data,\n",
    "    coords=coord,\n",
    "    attrs=dict(description=\"RH and B calculated for m4K/p4K climates from \"+\\\n",
    "              \"training set ref \"+\\\n",
    "              \"July 8th, 2022\")\n",
    ")"
   ]
  },
  {
   "cell_type": "code",
   "execution_count": 51,
   "metadata": {},
   "outputs": [],
   "source": [
    "# da.to_netcdf(path_data+'2022_07_08_B_RH_TRAIN_both.nc')"
   ]
  },
  {
   "cell_type": "markdown",
   "metadata": {},
   "source": [
    "# Loop over random sub-samples and pol degrees"
   ]
  },
  {
   "cell_type": "markdown",
   "metadata": {},
   "source": [
    "Create as many models as possible and save them with a name referring to their random sub-sample, degree, and locality assumption."
   ]
  },
  {
   "cell_type": "markdown",
   "metadata": {},
   "source": [
    "## Utilities"
   ]
  },
  {
   "cell_type": "code",
   "execution_count": 18,
   "metadata": {},
   "outputs": [],
   "source": [
    "def subsampler(ind,x,xRH,xB,xLHFns,xt,yt,xRHt,xBt,xLHFnst,hyam,hybm):\n",
    "    \n",
    "    # Sub-sample the training set\n",
    "    x_sub = x[i_random,:]; y_sub = y[i_random,:]; \n",
    "    xRH_sub = xRH[i_random,:]; xB_sub = xB[i_random,:]; xLHFns_sub = xLHFns[i_random];\n",
    "    # Sub-sample the test sets\n",
    "    xt_sub = {}; yt_sub = {}; xRHt_sub = {}; xBt_sub = {}; xLHFnst_sub = {};\n",
    "    for iclim,clim in enumerate(climates):\n",
    "        xt_sub[clim] = xt[clim][i_random,:]\n",
    "        yt_sub[clim] = yt[clim][i_random,:]\n",
    "        xRHt_sub[clim] = xRHt[clim][i_random,:]\n",
    "        xBt_sub[clim] = xBt[clim][i_random,:]\n",
    "        xLHFnst_sub[clim] = xLHFnst[clim][i_random]\n",
    "    # Pressure\n",
    "    PS = x_sub[:,60]; pm = P0*hyam+np.outer(PS,hybm)\n",
    "    # Training structure\n",
    "    x_train = {}\n",
    "    x_train['p'] = pm\n",
    "    x_train['q'] = x_sub[:,:30].values\n",
    "    x_train['dq_dp'] = p_der_spline(x_train['q'],x_train['p'],x_train['p'],1)\n",
    "    x_train['dq_dp_FD'] = p_derivative(x_train['q'],x_train['p'],1)\n",
    "    x_train['d2q_dp2'] = p_der_spline(x_train['q'],x_train['p'],x_train['p'],2)\n",
    "    x_train['d2q_dp2_FD'] = p_derivative(x_train['dq_dp'],x_train['p'],1)\n",
    "    x_train['Q_above'] = p_integral(x_train['q'],x_train['p'],'above')\n",
    "    x_train['Q_below'] = p_integral(x_train['q'],x_train['p'],'below')\n",
    "    x_train['T'] = x_sub[:,30:60].values\n",
    "    x_train['dT_dp'] = p_der_spline(x_train['T'],x_train['p'],x_train['p'],1)\n",
    "    x_train['d2T_dp2'] = p_der_spline(x_train['T'],x_train['p'],x_train['p'],2)\n",
    "    x_train['dT_dp_FD'] = p_derivative(x_train['T'],x_train['p'],1)\n",
    "    x_train['d2T_dp2_FD'] = p_derivative(x_train['dT_dp_FD'],x_train['p'],1)\n",
    "    x_train['T_above'] = p_integral(x_train['T'],x_train['p'],'above')\n",
    "    x_train['T_below'] = p_integral(x_train['T'],x_train['p'],'below')\n",
    "    x_train['RH'] = xRH_sub.values\n",
    "    x_train['dRH_dp'] = p_der_spline(x_train['RH'],x_train['p'],x_train['p'],1)\n",
    "    x_train['dRH_dp_FD'] = p_derivative(x_train['RH'],x_train['p'],1)\n",
    "    x_train['d2RH_dp2'] = p_der_spline(x_train['RH'],x_train['p'],x_train['p'],2)\n",
    "    x_train['d2RH_dp2_FD'] = p_derivative(x_train['dRH_dp'],x_train['p'],1)\n",
    "    x_train['RH_above'] = p_integral(x_train['RH'],x_train['p'],'above')\n",
    "    x_train['RH_below'] = p_integral(x_train['RH'],x_train['p'],'below')\n",
    "    x_train['B'] = xB_sub.values\n",
    "    x_train['dB_dp'] = p_der_spline(x_train['B'],x_train['p'],x_train['p'],1)\n",
    "    x_train['d2B_dp2'] = p_der_spline(x_train['B'],x_train['p'],x_train['p'],2)\n",
    "    x_train['dB_dp_FD'] = p_derivative(x_train['B'],x_train['p'],1)\n",
    "    x_train['d2B_dp2_FD'] = p_derivative(x_train['dB_dp_FD'],x_train['p'],1)\n",
    "    x_train['B_above'] = p_integral(x_train['B'],x_train['p'],'above')\n",
    "    x_train['B_below'] = p_integral(x_train['B'],x_train['p'],'below')\n",
    "    x_train['ps'] = x_sub[:,60].values\n",
    "    x_train['S0'] = x_sub[:,61].values\n",
    "    x_train['SHF'] = x_sub[:,62].values\n",
    "    x_train['LHF'] = x_sub[:,63].values\n",
    "    x_train['LHFns'] = xLHFns_sub.values\n",
    "    y_train = {}\n",
    "    y_train['dq_dt'] = y_sub[:,:30].values\n",
    "    y_train['dT_dt'] = y_sub[:,30:60].values\n",
    "    # Test structure\n",
    "    x_test = {}; y_test = {}\n",
    "    for iclim,clim in enumerate(climates):\n",
    "        print(clim)\n",
    "        x_test[clim] = {}; y_test[clim] = {};\n",
    "        x_test[clim]['p'] = P0*hyam+np.outer(xt_sub[clim][:,60].values,hybm)\n",
    "        x_test[clim]['q'] = xt_sub[clim][:,:30].values\n",
    "        x_test[clim]['dq_dp'] = p_der_spline(x_test[clim]['q'],x_test[clim]['p'],x_test[clim]['p'],1)\n",
    "        x_test[clim]['dq_dp_FD'] = p_derivative(x_test[clim]['q'],x_test[clim]['p'],1)\n",
    "        x_test[clim]['d2q_dp2'] = p_der_spline(x_test[clim]['q'],x_test[clim]['p'],x_test[clim]['p'],2)\n",
    "        x_test[clim]['d2q_dp2_FD'] = p_derivative(x_test[clim]['dq_dp'],x_test[clim]['p'],1)\n",
    "        x_test[clim]['Q_above'] = p_integral(x_test[clim]['q'],x_test[clim]['p'],'above')\n",
    "        x_test[clim]['Q_below'] = p_integral(x_test[clim]['q'],x_test[clim]['p'],'below')\n",
    "        x_test[clim]['T'] = xt_sub[clim][:,30:60].values\n",
    "        x_test[clim]['dT_dp'] = p_der_spline(x_test[clim]['T'],x_test[clim]['p'],x_test[clim]['p'],1)\n",
    "        x_test[clim]['dT_dp_FD'] = p_derivative(x_test[clim]['T'],x_test[clim]['p'],1)\n",
    "        x_test[clim]['d2T_dp2'] = p_der_spline(x_test[clim]['T'],x_test[clim]['p'],x_test[clim]['p'],2)\n",
    "        x_test[clim]['d2T_dp2_FD'] = p_derivative(x_test[clim]['dT_dp'],x_test[clim]['p'],1)\n",
    "        x_test[clim]['T_above'] = p_integral(x_test[clim]['T'],x_test[clim]['p'],'above')\n",
    "        x_test[clim]['T_below'] = p_integral(x_test[clim]['T'],x_test[clim]['p'],'below')\n",
    "        x_test[clim]['RH'] = xRHt_sub[clim].values\n",
    "        x_test[clim]['dRH_dp'] = p_der_spline(x_test[clim]['RH'],x_test[clim]['p'],x_test[clim]['p'],1)\n",
    "        x_test[clim]['dRH_dp_FD'] = p_derivative(x_test[clim]['RH'],x_test[clim]['p'],1)\n",
    "        x_test[clim]['d2RH_dp2'] = p_der_spline(x_test[clim]['RH'],x_test[clim]['p'],x_test[clim]['p'],2)\n",
    "        x_test[clim]['d2RH_dp2_FD'] = p_derivative(x_test[clim]['dRH_dp'],x_test[clim]['p'],1)\n",
    "        x_test[clim]['RH_above'] = p_integral(x_test[clim]['RH'],x_test[clim]['p'],'above')\n",
    "        x_test[clim]['RH_below'] = p_integral(x_test[clim]['RH'],x_test[clim]['p'],'below')\n",
    "        x_test[clim]['B'] = xBt_sub[clim].values\n",
    "        x_test[clim]['dB_dp'] = p_der_spline(x_test[clim]['B'],x_test[clim]['p'],x_test[clim]['p'],1)\n",
    "        x_test[clim]['dB_dp_FD'] = p_derivative(x_test[clim]['B'],x_test[clim]['p'],1)\n",
    "        x_test[clim]['d2B_dp2'] = p_der_spline(x_test[clim]['B'],x_test[clim]['p'],x_test[clim]['p'],2)\n",
    "        x_test[clim]['d2B_dp2_FD'] = p_derivative(x_test[clim]['dB_dp'],x_test[clim]['p'],1)\n",
    "        x_test[clim]['B_above'] = p_integral(x_test[clim]['B'],x_test[clim]['p'],'above')\n",
    "        x_test[clim]['B_below'] = p_integral(x_test[clim]['B'],x_test[clim]['p'],'below')\n",
    "        x_test[clim]['ps'] = xt_sub[clim][:,60].values\n",
    "        x_test[clim]['S0'] = xt_sub[clim][:,61].values\n",
    "        x_test[clim]['SHF'] = xt_sub[clim][:,62].values\n",
    "        x_test[clim]['LHF'] = xt_sub[clim][:,63].values\n",
    "        x_test[clim]['LHFns'] = xLHFnst_sub[clim].values\n",
    "        y_test[clim]['dq_dt'] = yt_sub[clim][:,:30].values\n",
    "        y_test[clim]['dT_dt'] = yt_sub[clim][:,30:60].values\n",
    "        \n",
    "    return x_train,x_test,y_train,y_test"
   ]
  },
  {
   "cell_type": "code",
   "execution_count": 19,
   "metadata": {},
   "outputs": [],
   "source": [
    "def range_normalizer(x_train,x_test,scalar_keys,vector_keys):\n",
    "    \n",
    "    combin_keys = np.concatenate((scalar_keys,vector_keys))\n",
    "    Norm = {}\n",
    "    Norm['mean'] = {}\n",
    "    Norm['min'] = {}\n",
    "    Norm['max'] = {}\n",
    "    Norm['std'] = {}\n",
    "    for keys in combin_keys:\n",
    "        Norm['mean'][keys] = np.mean(x_train[keys].flatten())\n",
    "        Norm['min'][keys] = np.min(x_train[keys].flatten())\n",
    "        Norm['max'][keys] = np.max(x_train[keys].flatten())\n",
    "        Norm['std'][keys] = np.std(x_train[keys].flatten())\n",
    "    x_train_range = {}\n",
    "    x_test_range = {}\n",
    "    for key in scalar_keys:\n",
    "        x_train[key] = np.outer(x_train[key],np.ones((30,)))\n",
    "    for iclim,clim in enumerate(climates):\n",
    "        for key in scalar_keys:\n",
    "            x_test[clim][key] = np.outer(x_test[clim][key],np.ones((30,)))\n",
    "    for key in combin_keys: x_train_range[key] = \\\n",
    "        (x_train[key].flatten()-Norm['min'][key])/(Norm['max'][key]-Norm['min'][key])\n",
    "    for iclim,clim in enumerate(climates):\n",
    "        x_test_range[clim] = {}\n",
    "        for key in combin_keys:\n",
    "            x_test_range[clim][key] = \\\n",
    "            (x_test[clim][key].flatten()-\\\n",
    "             Norm['min'][key])/(Norm['max'][key]-Norm['min'][key])\n",
    "            \n",
    "    return x_train_range,x_test_range"
   ]
  },
  {
   "cell_type": "code",
   "execution_count": 20,
   "metadata": {},
   "outputs": [],
   "source": [
    "def dic_to_array(key_array,x_train_range,x_test_range,scale_dict):\n",
    "    \n",
    "    # Initialization\n",
    "    X_train = np.zeros((x_train_range['p'].shape[0],len(key_array)))\n",
    "    X_test = {};\n",
    "    for iclim,clim in enumerate(climates):\n",
    "        X_test[clim] = np.zeros((x_test_range[clim]['p'].shape[0],len(key_array)))\n",
    "    \n",
    "    # Input Assignments\n",
    "    for ikey,key in enumerate(key_array):\n",
    "        X_train[:,ikey] = x_train_range[key]\n",
    "        for iclim,clim in enumerate(climates):\n",
    "            X_test[clim][:,ikey] = x_test_range[clim][key]\n",
    "    \n",
    "    # Output Assignments\n",
    "    dTdt_train = (y_train['dT_dt'] * scale_dict['TPHYSTND']).flatten()\n",
    "    dQdt_train = (y_train['dq_dt'] * scale_dict['PHQ']).flatten()\n",
    "    dTdt_test = {}; dQdt_test = {};\n",
    "    for iclim,clim in enumerate(climates):\n",
    "        dTdt_test[clim] = (y_test[clim]['dT_dt'] * scale_dict['TPHYSTND']).flatten()\n",
    "        dQdt_test[clim] = (y_test[clim]['dq_dt'] * scale_dict['PHQ']).flatten()\n",
    "        \n",
    "    return X_train,X_test,dQdt_train,dQdt_test,dTdt_train,dTdt_test"
   ]
  },
  {
   "cell_type": "code",
   "execution_count": 21,
   "metadata": {},
   "outputs": [],
   "source": [
    "def SFS_poly(features,X_train,X_test,Y_train,Y_test,min_features,max_features):\n",
    "\n",
    "    dict_output = {}\n",
    "    lin_reg = LinearRegression()\n",
    "    for no_features in np.arange(min_features, max_features):   \n",
    "        sfs = SequentialFeatureSelector(lin_reg,\n",
    "                                        n_features_to_select=no_features,\n",
    "                                        direction='forward',\n",
    "                                        cv=cv[ideg], n_jobs=-1)\n",
    "        sfs.fit(X_train, Y_train)\n",
    "        selected_features = np.array(features)[sfs.get_support()].tolist()\n",
    "        X_transformed = sfs.transform(X_train)\n",
    "        lin_reg.fit(X_transformed, Y_train)\n",
    "        ypred = lin_reg.predict(X_transformed)\n",
    "        mse_train = mean_squared_error(Y_train, ypred)\n",
    "        mse_test = {}; ypred_test = {};\n",
    "        for iclim,clim in enumerate(climates):\n",
    "            ypred_test[clim] = lin_reg.predict(sfs.transform(X_test[clim]))\n",
    "            mse_test[clim] = mean_squared_error(Y_test[clim], ypred_test[clim])\n",
    "\n",
    "        # Output dictionary\n",
    "        dict_exp = {}\n",
    "        for i in range(len(selected_features)):\n",
    "            dict_exp[selected_features[i]] = lin_reg.coef_[i]\n",
    "        dict_exp['LR_Bias'] = lin_reg.intercept_\n",
    "        dict_exp['mse_train'] = mse_train\n",
    "        dict_exp['mse_test'] = mse_test\n",
    "        print(dict_exp,'\\n')\n",
    "        dict_output['Number of variables %d'%no_features] = dict_exp\n",
    "    \n",
    "    return dict_output"
   ]
  },
  {
   "cell_type": "markdown",
   "metadata": {},
   "source": [
    "## Initialization"
   ]
  },
  {
   "cell_type": "code",
   "execution_count": 22,
   "metadata": {},
   "outputs": [],
   "source": [
    "Model_Types = ['localBF','localCI','BF','CI','local','all']\n",
    "N_subsample = 5\n",
    "N_degree = 4\n",
    "Nsample = 2000"
   ]
  },
  {
   "cell_type": "code",
   "execution_count": 23,
   "metadata": {},
   "outputs": [],
   "source": [
    "KEYS = {}\n",
    "KEYS['local'] = ['ps', 'S0', 'SHF', 'LHF','LHFns','p', 'q', 'dq_dp_FD',\n",
    "              'd2q_dp2_FD','T', 'dT_dp_FD','d2T_dp2_FD','RH', 'dRH_dp_FD',\n",
    "              'd2RH_dp2_FD','B', 'dB_dp_FD','d2B_dp2_FD']\n",
    "KEYS['localCI'] = ['ps', 'S0', 'SHF','LHFns','p','RH', 'dRH_dp_FD',\n",
    "              'd2RH_dp2_FD','B', 'dB_dp_FD','d2B_dp2_FD']\n",
    "KEYS['localBF'] = ['ps', 'S0', 'SHF', 'LHF', 'p', 'q', 'dq_dp_FD',\n",
    "              'd2q_dp2_FD','T', 'dT_dp_FD','d2T_dp2_FD']\n",
    "KEYS['all'] = np.concatenate((KEYS['local'],['Q_above','Q_below','T_below','T_above',\n",
    "                                             'RH_below','RH_above','B_below','B_above']))\n",
    "KEYS['BF'] = np.concatenate((KEYS['localBF'],['Q_above','Q_below','T_below','T_above']))\n",
    "KEYS['CI'] = np.concatenate((KEYS['localCI'],['RH_below','RH_above','B_below','B_above']))\n",
    "scalar_keys = ['ps','S0','SHF','LHF','LHFns']\n",
    "vector_keys = ['p', 'q', 'dq_dp', 'dq_dp_FD', 'd2q_dp2', 'd2q_dp2_FD', 'Q_above', 'Q_below',\n",
    "               'T', 'dT_dp', 'dT_dp_FD', 'd2T_dp2', 'd2T_dp2_FD', 'T_above', 'T_below',\n",
    "               'RH', 'dRH_dp', 'dRH_dp_FD', 'd2RH_dp2', 'd2RH_dp2_FD', 'RH_above', 'RH_below',\n",
    "               'B', 'dB_dp', 'dB_dp_FD', 'd2B_dp2', 'd2B_dp2_FD', 'B_above', 'B_below']\n",
    "combin_keys = np.concatenate((scalar_keys,vector_keys))"
   ]
  },
  {
   "cell_type": "code",
   "execution_count": 24,
   "metadata": {},
   "outputs": [],
   "source": [
    "min_features = [1,1,1,1,1]\n",
    "max_features = [11,6,6,6,6]\n",
    "cv = [2,2,2,2,2]"
   ]
  },
  {
   "cell_type": "markdown",
   "metadata": {},
   "source": [
    "## Nested Loops"
   ]
  },
  {
   "cell_type": "code",
   "execution_count": 25,
   "metadata": {},
   "outputs": [],
   "source": [
    "dict_Q = {}; dict_T = {};"
   ]
  },
  {
   "cell_type": "code",
   "execution_count": 26,
   "metadata": {},
   "outputs": [],
   "source": [
    "saved_irandom = pickle.load(open(path_data+'Polynomial_Fits/2022_06_30_dicQT_CI_isample_0.pkl','rb'))"
   ]
  },
  {
   "cell_type": "code",
   "execution_count": 27,
   "metadata": {},
   "outputs": [
    {
     "data": {
      "text/plain": [
       "dict_keys(['Qfits', 'Tfits', 'Selected_indices'])"
      ]
     },
     "execution_count": 27,
     "metadata": {},
     "output_type": "execute_result"
    }
   ],
   "source": [
    "saved_irandom.keys()"
   ]
  },
  {
   "cell_type": "code",
   "execution_count": 28,
   "metadata": {},
   "outputs": [],
   "source": [
    "i_random = saved_irandom['Selected_indices']"
   ]
  },
  {
   "cell_type": "code",
   "execution_count": 29,
   "metadata": {},
   "outputs": [
    {
     "data": {
      "text/plain": [
       "array([10669952, 33219771, 19602526, ..., 27708982, 20990054, 13250527])"
      ]
     },
     "execution_count": 29,
     "metadata": {},
     "output_type": "execute_result"
    }
   ],
   "source": [
    "i_random"
   ]
  },
  {
   "cell_type": "code",
   "execution_count": null,
   "metadata": {},
   "outputs": [
    {
     "name": "stdout",
     "output_type": "stream",
     "text": [
      "i_subsample=0/4\n",
      "m4K\n",
      "ref\n",
      "p4K\n",
      "model_type=local\n",
      "degree=1\n",
      "{'dq_dp_FD': 55.50504602602441, 'LR_Bias': -18.457667046949414, 'mse_train': 656.6633090285208, 'mse_test': {'m4K': 763.2187419000226, 'ref': 1699.235430465897, 'p4K': 2253.7747989803725}} \n",
      "\n",
      "{'dq_dp_FD': 78.25970957417071, 'RH': -10.701306032201199, 'LR_Bias': -23.07109912470143, 'mse_train': 651.0989257462221, 'mse_test': {'m4K': 755.7723358561534, 'ref': 1685.4879322281524, 'p4K': 2238.63237451617}} \n",
      "\n",
      "{'q': -15.336213104012009, 'dq_dp_FD': 114.00450514064234, 'RH': -8.707659194130981, 'LR_Bias': -34.430413338131416, 'mse_train': 648.3561348266308, 'mse_test': {'m4K': 753.2231132937744, 'ref': 1676.6878137937406, 'p4K': 2229.56185063889}} \n",
      "\n",
      "{'LHF': 12.342091842336837, 'q': -17.256934654438265, 'dq_dp_FD': 111.55726522760631, 'RH': -7.399688151717522, 'LR_Bias': -36.289334140632064, 'mse_train': 646.4263957046996, 'mse_test': {'m4K': 751.2715702263297, 'ref': 1671.76269488404, 'p4K': 2223.141225762816}} \n",
      "\n",
      "{'LHF': 27.581638905408465, 'LHFns': -45.261945962813925, 'q': -18.634038055989194, 'dq_dp_FD': 111.08147149252461, 'RH': -6.724324123966768, 'LR_Bias': -31.08354921924236, 'mse_train': 643.3450861426066, 'mse_test': {'m4K': 747.3144134225502, 'ref': 1665.1754457713262, 'p4K': 2218.4811079551087}} \n",
      "\n",
      "{'LHF': 29.27722182013255, 'LHFns': -47.14356077695768, 'p': 7.376431885765048, 'q': -22.3267095675359, 'dq_dp_FD': 101.59192430852629, 'RH': -12.293944851321822, 'LR_Bias': -28.900627157454153, 'mse_train': 641.3447822442192, 'mse_test': {'m4K': 744.2464898254154, 'ref': 1656.252455359491, 'p4K': 2206.3783755700147}} \n",
      "\n",
      "{'LHF': 30.152043139059092, 'LHFns': -50.73545226432203, 'p': 20.40301942810483, 'q': -17.09256777615021, 'dq_dp_FD': 109.384002468572, 'T': -22.10546482986573, 'RH': -18.56084612003433, 'LR_Bias': -22.575676788962877, 'mse_train': 638.2333309848613, 'mse_test': {'m4K': 738.6463768811898, 'ref': 1643.0400721720312, 'p4K': 2188.620667050769}} \n",
      "\n",
      "{'SHF': 26.099831702660882, 'LHF': 29.38302082328927, 'LHFns': -85.57136706548059, 'p': 18.804878470558975, 'q': -15.577038053499543, 'dq_dp_FD': 112.48642097747847, 'T': -21.301049057188102, 'RH': -17.93293481817144, 'LR_Bias': -22.788409798347843, 'mse_train': 636.9665162545158, 'mse_test': {'m4K': 738.2582204634026, 'ref': 1641.893998911582, 'p4K': 2188.9409118837134}} \n",
      "\n",
      "{'SHF': 26.00163821339964, 'LHF': 29.29113766527185, 'LHFns': -85.5710953414789, 'p': 21.64840259968482, 'q': -14.640309191903746, 'dq_dp_FD': 114.09598621094354, 'T': -26.14056537149675, 'RH': -18.679382462624652, 'dB_dp_FD': -12.964571394462673, 'LR_Bias': -11.772612100825288, 'mse_train': 636.5440834555357, 'mse_test': {'m4K': 737.472708299022, 'ref': 1640.0512543074258, 'p4K': 2186.6724155996694}} \n",
      "\n",
      "{'SHF': 23.637834316724145, 'LHF': 30.985862216305076, 'LHFns': -84.14457463149208, 'p': 23.559324941937238, 'q': -15.892754720378749, 'dq_dp_FD': 113.91575887262725, 'T': -26.52955628983393, 'RH': -17.981065849775884, 'B': -4.368480939766553, 'dB_dp_FD': -16.274883091973713, 'LR_Bias': -6.291072375730674, 'mse_train': 636.3067724249461, 'mse_test': {'m4K': 737.0145257727106, 'ref': 1638.6415597599212, 'p4K': 2185.120690342904}} \n",
      "\n",
      "{'S0': 6.793202264503674, 'LR_Bias': -2.585077528426873, 'mse_train': 340.5831143663596, 'mse_test': {'m4K': 405.2202862895077, 'ref': 845.1953133349801, 'p4K': 988.5382403782014}} \n",
      "\n",
      "{'S0': 7.40578755343524, 'LHFns': 38.42053011089732, 'LR_Bias': -9.669452024381018, 'mse_train': 336.2247815545914, 'mse_test': {'m4K': 400.0143482761321, 'ref': 839.9848615945307, 'p4K': 985.6725003744317}} \n",
      "\n",
      "{'S0': 8.273848549537325, 'LHF': -20.13805473052605, 'LHFns': 68.99308223051719, 'LR_Bias': -11.340929698634202, 'mse_train': 333.4332693779486, 'mse_test': {'m4K': 396.6699742222524, 'ref': 833.4593458051421, 'p4K': 979.1651470560056}} \n",
      "\n",
      "{'S0': 8.125934879108256, 'LHF': -24.229051835366327, 'LHFns': 72.94653889212941, 'q': 9.42888025057947, 'LR_Bias': -12.053805876410484, 'mse_train': 330.7239779782974, 'mse_test': {'m4K': 393.2575075846235, 'ref': 823.1794533907719, 'p4K': 969.0801751235487}} \n",
      "\n",
      "{'S0': 8.13330396480135, 'LHF': -23.727876904383074, 'LHFns': 73.04439805017277, 'q': 22.419829393255615, 'dq_dp_FD': -55.79204709184812, 'LR_Bias': 5.637797718744027, 'mse_train': 327.2396776204439, 'mse_test': {'m4K': 391.5617394870241, 'ref': 822.0738770605218, 'p4K': 971.9684429979696}} \n",
      "\n",
      "{'S0': 8.44089472736154, 'LHF': -25.29170291770489, 'LHFns': 73.88777931052216, 'q': 27.306526290593983, 'dq_dp_FD': -45.953859460575934, 'T': -7.889479130678114, 'LR_Bias': 6.386252921598778, 'mse_train': 325.98657270085414, 'mse_test': {'m4K': 390.6152345394043, 'ref': 819.9254598510204, 'p4K': 971.2497855257234}} \n",
      "\n",
      "{'S0': 8.897352036393304, 'LHF': -22.624298723861916, 'LHFns': 71.78744328887957, 'q': 25.120207635532577, 'dq_dp_FD': -48.58900732229857, 'T': -10.226482471403123, 'RH': 6.545007829949937, 'LR_Bias': 6.623448287441631, 'mse_train': 324.2507918910931, 'mse_test': {'m4K': 387.48016544521676, 'ref': 814.6114701696566, 'p4K': 963.5716975605951}} \n",
      "\n",
      "{'S0': 8.343412840860378, 'LHF': -24.455840929074885, 'LHFns': 75.76826374304251, 'p': -17.32427754578384, 'q': 23.355379309726843, 'dq_dp_FD': -48.16209619606558, 'T': 9.508979137126373, 'RH': 16.377753585139445, 'LR_Bias': -0.5195868025556121, 'mse_train': 320.60514581929453, 'mse_test': {'m4K': 380.19666780163857, 'ref': 797.732856514661, 'p4K': 944.68111786579}} \n",
      "\n",
      "{'S0': 8.555671156575963, 'LHF': -21.990755169265682, 'LHFns': 73.38099141344175, 'p': -15.658380776412658, 'q': 21.255858312681482, 'dq_dp_FD': -48.621152126373545, 'T': 10.837031896241973, 'RH': 17.850531337656747, 'B': -6.788140133945114, 'LR_Bias': 3.550571632619611, 'mse_train': 319.94489121052317, 'mse_test': {'m4K': 379.60841449598104, 'ref': 797.8501434876492, 'p4K': 943.6555645650157}} \n",
      "\n",
      "{'S0': 8.55341527508608, 'LHF': -21.787259155646744, 'LHFns': 72.88632302340481, 'p': -16.192909994602527, 'q': 21.016598869803357, 'dq_dp_FD': -52.53748850285116, 'd2q_dp2_FD': 21.93469533646711, 'T': 11.568065989857626, 'RH': 18.36413575752919, 'B': -6.811106187108101, 'LR_Bias': -5.849264914721953, 'mse_train': 319.762955979605, 'mse_test': {'m4K': 379.57612380914634, 'ref': 797.9484678828799, 'p4K': 943.9753400843867}} \n",
      "\n",
      "degree=2\n",
      "{'dq_dp_FD^2': 72.18276899337486, 'LR_Bias': -8.135489235260579, 'mse_train': 654.8037807472662, 'mse_test': {'m4K': 761.381148763239, 'ref': 1695.4119835121808, 'p4K': 2248.83082559761}} \n",
      "\n",
      "{'q RH': -44.81396324197187, 'dq_dp_FD^2': 143.59618504963592, 'LR_Bias': -14.427763602390044, 'mse_train': 645.2095920450823, 'mse_test': {'m4K': 750.2692981108705, 'ref': 1663.699087237827, 'p4K': 2218.024519020222}} \n",
      "\n",
      "{'p q': 200.7271721975359, 'q RH': -358.06945881523563, 'dq_dp_FD^2': 119.8177654281051, 'LR_Bias': -12.120923142833064, 'mse_train': 618.0770651683227, 'mse_test': {'m4K': 712.2807435640623, 'ref': 1546.6899511900706, 'p4K': 2072.506407062364}} \n",
      "\n",
      "{'p q': 264.3594169365066, 'q RH': -454.1154788776842, 'dq_dp_FD^2': 351.9712928368397, 'dq_dp_FD d2q_dp2_FD': -363.72318512472566, 'LR_Bias': 19.306151153708417, 'mse_train': 607.2571622252029, 'mse_test': {'m4K': 698.8274766687753, 'ref': 1514.3396973280928, 'p4K': 2042.554975238499}} \n",
      "\n",
      "{'LHF q': 43.10120065710302, 'p q': 243.19930463410617, 'q RH': -440.7610428298991, 'dq_dp_FD^2': 341.9567780840545, 'dq_dp_FD d2q_dp2_FD': -350.61539019938675, 'LR_Bias': 18.408124929580236, 'mse_train': 606.2563427634111, 'mse_test': {'m4K': 698.0213521747637, 'ref': 1514.701199718683, 'p4K': 2044.7301730071897}} \n",
      "\n",
      "{'LHFns RH': 59.02981905401338, 'LR_Bias': -4.1469074449255885, 'mse_train': 336.45449490577016, 'mse_test': {'m4K': 397.5824131650461, 'ref': 828.8488180696046, 'p4K': 971.9071572131094}} \n",
      "\n",
      "{'LHFns RH': 108.66159394154546, 'B^2': -15.399996238091806, 'LR_Bias': 4.592144953969001, 'mse_train': 327.12837080383605, 'mse_test': {'m4K': 388.55435168876687, 'ref': 819.2366124465002, 'p4K': 962.3347304617007}} \n",
      "\n",
      "{'S0 LHFns': 48.15029642259194, 'LHFns RH': 113.60674858731633, 'B^2': -16.55798044747072, 'LR_Bias': 3.287852693307386, 'mse_train': 319.9865482857822, 'mse_test': {'m4K': 380.1868508267279, 'ref': 807.7700548407321, 'p4K': 953.3312707530052}} \n",
      "\n",
      "{'S0 LHFns': 46.69595023016113, 'LHFns RH': 136.63355465376048, 'd2RH_dp2_FD B': 114.48607671720528, 'B^2': -65.13680559913153, 'LR_Bias': -16.80908650117112, 'mse_train': 316.01158463666286, 'mse_test': {'m4K': 376.20088010412627, 'ref': 802.3067776572915, 'p4K': 947.7107138648049}} \n",
      "\n"
     ]
    },
    {
     "name": "stdout",
     "output_type": "stream",
     "text": [
      "{'S0 LHFns': 47.38335158204474, 'LHFns RH': 145.7799650078417, 'dq_dp_FD dT_dp_FD': -34.29374925766315, 'd2RH_dp2_FD B': 105.21390657616693, 'B^2': -60.21960203338051, 'LR_Bias': -9.55194526318071, 'mse_train': 314.7943980287555, 'mse_test': {'m4K': 375.49616892053234, 'ref': 802.9936088693797, 'p4K': 949.5958660319094}} \n",
      "\n",
      "degree=3\n",
      "{'LHF dq_dp_FD^2': 196.37007616797212, 'LR_Bias': -4.438277990010334, 'mse_train': 648.6866005164857, 'mse_test': {'m4K': 753.9242719565733, 'ref': 1677.0882183402418, 'p4K': 2226.5265391345524}} \n",
      "\n",
      "{'LHF dq_dp_FD^2': 244.86437650322603, 'LHFns RH^2': -118.72177104953303, 'LR_Bias': -2.536989871078181, 'mse_train': 637.1036403223786, 'mse_test': {'m4K': 738.4224938996263, 'ref': 1646.989060531156, 'p4K': 2196.5375907474627}} \n",
      "\n",
      "{'LHF dq_dp_FD^2': 280.1028594465563, 'LHFns RH^2': -342.57676995049206, 'RH dB_dp_FD^2': 50.30538605626918, 'LR_Bias': -6.210391536086203, 'mse_train': 625.4256840773638, 'mse_test': {'m4K': 726.7691081891163, 'ref': 1629.5906616473374, 'p4K': 2188.8781636035883}} \n",
      "\n",
      "{'SHF RH^2': 273.5043059917268, 'LHF dq_dp_FD^2': 288.06367615134184, 'LHFns RH^2': -640.5439708940416, 'RH dB_dp_FD^2': 47.42221675043642, 'LR_Bias': -6.33817227324331, 'mse_train': 619.9467827118475, 'mse_test': {'m4K': 724.0291361822442, 'ref': 1612.474233902804, 'p4K': 2171.14955592882}} \n",
      "\n",
      "{'SHF RH^2': 313.4721026036457, 'LHF dq_dp_FD^2': 655.2779424037511, 'LHF dq_dp_FD d2q_dp2_FD': -353.5703186062769, 'LHFns RH^2': -662.4645608768351, 'RH dB_dp_FD^2': 38.69349765880322, 'LR_Bias': -2.755793085096785, 'mse_train': 614.4466987947744, 'mse_test': {'m4K': 720.3807847054654, 'ref': 1611.8375188148086, 'p4K': 2200.4407172299425}} \n",
      "\n",
      "{'LHFns RH^2': 130.124939161657, 'LR_Bias': -4.453194299063194, 'mse_train': 329.5633370198204, 'mse_test': {'m4K': 389.3024273868548, 'ref': 813.1285397498148, 'p4K': 953.1860796571968}} \n",
      "\n",
      "{'LHFns RH^2': 404.6187011340667, 'd2T_dp2_FD RH dB_dp_FD': -75.79825576649776, 'LR_Bias': -0.673187969067103, 'mse_train': 310.42175663572607, 'mse_test': {'m4K': 372.4404897329154, 'ref': 793.1852711130036, 'p4K': 940.5823447174795}} \n",
      "\n",
      "{'S0 RH^2': 41.03513613741412, 'LHFns RH^2': 406.74590791981876, 'd2T_dp2_FD RH dB_dp_FD': -86.6725383788796, 'LR_Bias': -0.43317393879502974, 'mse_train': 303.77191923929723, 'mse_test': {'m4K': 364.41692741534393, 'ref': 781.9610189458397, 'p4K': 929.5224167939562}} \n",
      "\n",
      "{'S0 RH^2': 41.35526640546781, 'LHF LHFns p': -99.5602982936285, 'LHFns RH^2': 494.34663338335565, 'd2T_dp2_FD RH dB_dp_FD': -98.14187496928989, 'LR_Bias': 0.5837449970053625, 'mse_train': 299.33790610209684, 'mse_test': {'m4K': 360.858114399805, 'ref': 772.4923451638401, 'p4K': 921.3250263050062}} \n",
      "\n",
      "{'S0 RH^2': 36.26584109335017, 'LHF LHFns p': -116.78256640370651, 'LHFns RH^2': 482.8156818739193, 'T RH^2': 34.976237131856244, 'd2T_dp2_FD RH dB_dp_FD': -122.32676869819552, 'LR_Bias': 1.3179084491881365, 'mse_train': 296.1641593602025, 'mse_test': {'m4K': 355.8385983053744, 'ref': 757.3887611575815, 'p4K': 902.1269206336726}} \n",
      "\n",
      "degree=4\n",
      "{'LHF dq_dp_FD^3': 405.7557930298399, 'LR_Bias': -3.30740646031899, 'mse_train': 644.8480288105015, 'mse_test': {'m4K': 750.4795874257045, 'ref': 1676.7251917838876, 'p4K': 2245.3999556402814}} \n",
      "\n",
      "{'LHF dq_dp_FD^3': 669.3400628909687, 'LHFns q RH^2': -448.2076445372115, 'LR_Bias': -3.4796265590923974, 'mse_train': 625.9208932179282, 'mse_test': {'m4K': 731.0573295711939, 'ref': 1623.9302631588275, 'p4K': 2223.06996201038}} \n",
      "\n",
      "{'LHF dq_dp_FD^3': 463.1628287801067, 'LHFns p q RH': 2188.0924117701343, 'LHFns q RH^2': -3689.8038843378567, 'LR_Bias': -2.6754302380102852, 'mse_train': 581.6213374214997, 'mse_test': {'m4K': 682.3971056224568, 'ref': 1468.3797711830377, 'p4K': 1994.2325869507351}} \n",
      "\n",
      "{'LHF dq_dp_FD^3': 613.9870036788947, 'LHFns p^2 q': -3649.722685258521, 'LHFns p q RH': 13028.167182931724, 'LHFns q RH^2': -11604.874788765877, 'LR_Bias': -2.9673198131631326, 'mse_train': 548.1212963012431, 'mse_test': {'m4K': 638.2266242696872, 'ref': 1351.0353725653824, 'p4K': 1874.712766639286}} \n",
      "\n",
      "{'LHF dq_dp_FD^3': 362.35456249255674, 'LHFns p^2 q': -5340.266280796909, 'LHFns p q RH': 13566.558073692408, 'LHFns p q dRH_dp_FD': 6352.3617616162965, 'LHFns q RH^2': -12997.866455439302, 'LR_Bias': -2.2909674638992885, 'mse_train': 539.6965902288874, 'mse_test': {'m4K': 627.1034684689508, 'ref': 1324.1416545614586, 'p4K': 1835.2250670978349}} \n",
      "\n",
      "{'LHFns RH^3': 242.4859711287031, 'LR_Bias': -4.491526761099647, 'mse_train': 323.8057586222929, 'mse_test': {'m4K': 383.6498676473041, 'ref': 801.8964574927619, 'p4K': 938.503624453131}} \n",
      "\n",
      "{'LHFns RH^3': 603.254980092824, 'd2T_dp2_FD RH dB_dp_FD^2': -86.27659012956845, 'LR_Bias': -0.048019665198364425, 'mse_train': 303.84866363523616, 'mse_test': {'m4K': 368.6816134104584, 'ref': 781.9460885021878, 'p4K': 928.4884657859137}} \n",
      "\n",
      "{'S0 LHFns^2 RH': 512.4992536546015, 'LHFns RH^3': 551.7734974805556, 'd2T_dp2_FD RH dB_dp_FD^2': -86.46535994188368, 'LR_Bias': -0.325506804459764, 'mse_train': 298.1860238905029, 'mse_test': {'m4K': 361.5600487616177, 'ref': 770.8871127793628, 'p4K': 922.045255193513}} \n",
      "\n",
      "{'S0 LHFns^2 RH': 606.9508515737538, 'LHF dq_dp_FD^2 B': -105.5396998073069, 'LHFns RH^3': 575.8309309631895, 'd2T_dp2_FD RH dB_dp_FD^2': -86.2677617153416, 'LR_Bias': 1.4114443310800193, 'mse_train': 294.03996460534273, 'mse_test': {'m4K': 357.9695517142814, 'ref': 764.7487292876699, 'p4K': 920.0613297512888}} \n",
      "\n"
     ]
    }
   ],
   "source": [
    "for i_subsample in [0]:\n",
    "    print('i_subsample='+str(i_subsample)+'/'+str(N_subsample-1))\n",
    "    dict_Q[i_subsample] = {}; dict_T[i_subsample] = {};\n",
    "    \n",
    "    # Pre-process & sub-sample the data\n",
    "#     i_random = np.random.choice(np.linspace(0,x.shape[0]-1,x.shape[0]),\n",
    "#                                 size=((Nsample,)),replace=False).astype('int')\n",
    "    dict_Q[i_subsample]['Selected_indices'] = i_random;\n",
    "    dict_T[i_subsample]['Selected_indices'] = i_random;\n",
    "    \n",
    "    x_train,x_test,y_train,y_test = subsampler(i_random,x,xRH,xB,xLHFns,xt,yt,xRHt,xBt,xLHFnst,hyam,hybm)\n",
    "    x_train_range,x_test_range = range_normalizer(x_train,x_test,scalar_keys,vector_keys)\n",
    "    \n",
    "    for model_type in (['local','all']):\n",
    "        print('model_type='+model_type)\n",
    "        dict_Q[i_subsample][model_type] = {}; dict_T[i_subsample][model_type] = {};\n",
    "        \n",
    "        # Transform dictionary into array for regression purposes\n",
    "        X_train,X_test,dQdt_train,dQdt_test,dTdt_train,dTdt_test = \\\n",
    "        dic_to_array(KEYS[model_type],x_train_range,x_test_range,scale_dict)\n",
    "    \n",
    "        for degree in np.arange(1,N_degree+1):\n",
    "            print('degree='+str(degree))\n",
    "            dic_to_save = {}; ideg = degree-1;\n",
    "            \n",
    "            # Polynomial features\n",
    "            poly = PolynomialFeatures(degree=degree)\n",
    "            X_train_poly = poly.fit_transform(X_train)    \n",
    "            features = poly.get_feature_names(np.array(KEYS[model_type])) # Update the feature names\n",
    "            X_test_poly = {};\n",
    "            for iclim,clim in enumerate(climates):\n",
    "                X_test_poly[clim] = poly.fit_transform(X_test[clim])\n",
    "                \n",
    "            # Linear regression on polynomial features - dQ/dt & dT/dt\n",
    "            dict_Q[i_subsample][model_type][degree] = \\\n",
    "            SFS_poly(features,X_train_poly,X_test_poly,\n",
    "                     dQdt_train,dQdt_test,min_features[ideg],max_features[ideg])\n",
    "            \n",
    "            dict_T[i_subsample][model_type][degree] = \\\n",
    "            SFS_poly(features,X_train_poly,X_test_poly,\n",
    "                     dTdt_train,dTdt_test,min_features[ideg],max_features[ideg])\n",
    "            \n",
    "        # Write dict_combined to pkl file\n",
    "        save_path = path_data+'Polynomial_Fits/2022_06_30_dicQT_'+model_type+'_isample_'+str(i_subsample)+'.pkl'\n",
    "        pickle.dump({\n",
    "          \"Qfits\": dict_Q[i_subsample][model_type],\n",
    "          \"Tfits\": dict_T[i_subsample][model_type],\n",
    "          'Selected_indices': i_random}, open(save_path,'wb'))"
   ]
  },
  {
   "cell_type": "code",
   "execution_count": null,
   "metadata": {},
   "outputs": [],
   "source": [
    "# save_path = path_data+'Polynomial_Fits/2022_06_30_dicQT_'+model_type+'_isample_'+str(i_subsample)\n",
    "# pickle.dump({\n",
    "#   \"Qfits\": dict_Q[i_subsample][model_type],\n",
    "#   \"Tfits\": dict_T[i_subsample][model_type],\n",
    "#   'Selected_indices': i_random}, open(save_path,'wb'))"
   ]
  },
  {
   "cell_type": "code",
   "execution_count": null,
   "metadata": {},
   "outputs": [],
   "source": [
    "i_random"
   ]
  },
  {
   "cell_type": "code",
   "execution_count": null,
   "metadata": {},
   "outputs": [],
   "source": []
  }
 ],
 "metadata": {
  "kernelspec": {
   "display_name": "Python 3",
   "language": "python",
   "name": "python3"
  },
  "language_info": {
   "codemirror_mode": {
    "name": "ipython",
    "version": 3
   },
   "file_extension": ".py",
   "mimetype": "text/x-python",
   "name": "python",
   "nbconvert_exporter": "python",
   "pygments_lexer": "ipython3",
   "version": "3.6.10"
  },
  "toc": {
   "base_numbering": 1,
   "nav_menu": {},
   "number_sections": true,
   "sideBar": true,
   "skip_h1_title": false,
   "title_cell": "Table of Contents",
   "title_sidebar": "Contents",
   "toc_cell": false,
   "toc_position": {
    "height": "calc(100% - 180px)",
    "left": "10px",
    "top": "150px",
    "width": "384px"
   },
   "toc_section_display": true,
   "toc_window_display": true
  }
 },
 "nbformat": 4,
 "nbformat_minor": 4
}
