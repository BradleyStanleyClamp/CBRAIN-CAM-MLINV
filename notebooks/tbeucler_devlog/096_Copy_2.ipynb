{
 "cells": [
  {
   "cell_type": "markdown",
   "metadata": {},
   "source": [
    "tb - 7/8/2022 - Generalizing the data generator for sparse linear regression using stochastic gradient descent. The goal is to select the terms found in [093] using the entire dataset. One of the first steps will be to compare features selected when training on both datasets at once compared to individual (-4K) or (+4K) climates."
   ]
  },
  {
   "cell_type": "markdown",
   "metadata": {},
   "source": [
    "# Imports and Initialization"
   ]
  },
  {
   "cell_type": "markdown",
   "metadata": {},
   "source": [
    "## Imports"
   ]
  },
  {
   "cell_type": "code",
   "execution_count": 1,
   "metadata": {},
   "outputs": [
    {
     "name": "stdout",
     "output_type": "stream",
     "text": [
      "/nfspool-0/home/tbeucler/CBRAIN-CAM/notebooks/tbeucler_devlog\n"
     ]
    }
   ],
   "source": [
    "from sklearn.linear_model import LinearRegression\n",
    "from sklearn.metrics import mean_squared_error\n",
    "from sklearn.feature_selection import SequentialFeatureSelector\n",
    "from sklearn.model_selection import cross_validate\n",
    "from sklearn.model_selection import RepeatedKFold\n",
    "from sklearn.preprocessing import PolynomialFeatures\n",
    "\n",
    "from cbrain.cam_constants import *\n",
    "from cbrain.climate_invariant import *\n",
    "from cbrain.equation_discovery import *\n",
    "from cbrain.preprocessing.convert_dataset_20191113 import compute_LHF_nsDELQ\n",
    "from cbrain.climate_invariant_utils import *\n",
    "from scipy.integrate import cumtrapz,trapz\n",
    "from scipy import interpolate,misc\n",
    "\n",
    "import matplotlib as mpl\n",
    "import matplotlib.pyplot as plt\n",
    "import numpy as np\n",
    "import pickle\n",
    "import xarray as xr"
   ]
  },
  {
   "cell_type": "code",
   "execution_count": 2,
   "metadata": {},
   "outputs": [],
   "source": [
    "fz = 12\n",
    "lw = 2\n",
    "siz = 100\n",
    "\n",
    "plt.rc('text', usetex=False)\n",
    "mpl.rcParams['mathtext.fontset'] = 'stix'\n",
    "mpl.rcParams['font.family'] = 'STIXGeneral'\n",
    "plt.rc('font', family='serif', size=fz)\n",
    "mpl.rcParams['lines.linewidth'] = lw"
   ]
  },
  {
   "cell_type": "markdown",
   "metadata": {},
   "source": [
    "## Load data"
   ]
  },
  {
   "cell_type": "code",
   "execution_count": 3,
   "metadata": {},
   "outputs": [],
   "source": [
    "path_data = '/DFS-L/DATA/pritchard/tbeucler/SPCAM/SPCAM_PHYS/'\n",
    "path_array = {}\n",
    "climate_str = ['cold','hot','both']\n",
    "set_str = ['train','valid','test']\n",
    "test_clim_str = ['cold','hot','both','medium']\n",
    "path_array['cold'] = [path_data+'2021_03_18_O3_TRAIN_M4K_shuffle.nc',\n",
    "                      path_data+'2021_03_18_O3_VALID_M4K.nc',\n",
    "                      path_data+'2021_03_18_O3_TEST_M4K.nc']\n",
    "path_array['hot'] = [path_data+'2021_03_18_O3_TRAIN_P4K_shuffle.nc',\n",
    "                     path_data+'2021_03_18_O3_VALID_P4K.nc',\n",
    "                     path_data+'2021_03_18_O3_TEST_P4K.nc']\n",
    "path_array['both'] = [path_data+'2022_04_18_TRAIN_M4K_P4K_shuffle.nc',\n",
    "                      path_data+'2022_04_18_VALID_M4K_P4K.nc',\n",
    "                      path_data+'2022_04_18_TEST_M4K_P4K.nc']\n",
    "path_array['medium'] = [path_data+'2021_01_24_O3_TRAIN_shuffle.nc',\n",
    "                        path_data+'2021_01_24_O3_VALID.nc',\n",
    "                        path_data+'2021_01_24_O3_TEST.nc']\n",
    "path_input_norm = path_data + '2021_01_24_NORM_O3_small.nc'\n",
    "path_norm_RH = path_data + '2021_02_01_NORM_O3_RH_small.nc'\n",
    "path_norm_BMSE = path_data + '2021_06_16_NORM_BMSE_small.nc'\n",
    "path_norm_LHF_nsDELQ = path_data + '2021_02_01_NORM_O3_LHF_nsDELQ_small.nc'\n",
    "in_vars = ['QBP','TBP','PS','SOLIN','SHFLX','LHFLX'] # We take the large-scale climate state as inputs\n",
    "out_vars = ['PHQ','TPHYSTND','QRL','QRS'] # and we output the response of clouds/storms to these climate conditions\n",
    "scale_dict = pickle.load(open(path_data+'009_Wm2_scaling.pkl','rb'))"
   ]
  },
  {
   "cell_type": "code",
   "execution_count": 4,
   "metadata": {},
   "outputs": [],
   "source": [
    "path_RH_B_train = path_data+'2022_07_08_B_RH_TRAIN_both.nc'\n",
    "path_RH_B_test = path_data+'2022_06_26_B_RH_both.nc'"
   ]
  },
  {
   "cell_type": "code",
   "execution_count": 5,
   "metadata": {},
   "outputs": [],
   "source": [
    "climates = ['m4K','ref','p4K']\n",
    "path_append = ['2021_03_18_O3_TEST_M4K.nc','2021_01_24_O3_TEST.nc','2021_03_18_O3_TEST_P4K.nc']\n",
    "path_RH_B_append = ['2022_06_27_B_RH_TEST_m4K.nc','2022_06_27_B_RH_TEST_ref.nc','2022_06_27_B_RH_TEST_p4K.nc']\n",
    "path_LHF_nsDELQ = '2022_06_29_LHF_nsDELQ.nc'\n",
    "path_LHF_nsDELQ_train = '2022_07_08_LHF_nsDELQ_TRAIN_both.nc'"
   ]
  },
  {
   "cell_type": "code",
   "execution_count": 6,
   "metadata": {},
   "outputs": [],
   "source": [
    "LHF_nsDELQ_train = xr.open_dataset(path_data+path_LHF_nsDELQ_train)\n",
    "LHF_nsDELQ_test = xr.open_dataset(path_data+path_LHF_nsDELQ)"
   ]
  },
  {
   "cell_type": "code",
   "execution_count": 7,
   "metadata": {},
   "outputs": [],
   "source": [
    "train_both = xr.open_dataset(path_array['both'][0])\n",
    "train_both_RH_B = xr.open_dataset(path_RH_B_train)"
   ]
  },
  {
   "cell_type": "code",
   "execution_count": 8,
   "metadata": {},
   "outputs": [],
   "source": [
    "test_sets = {}; test_sets_RHB = {}; \n",
    "LHFname = ['LHFns_cold','LHFns_med','LHFns_hot']"
   ]
  },
  {
   "cell_type": "code",
   "execution_count": 9,
   "metadata": {},
   "outputs": [],
   "source": [
    "for iclim,clim in enumerate(climates):\n",
    "    test_sets[clim] = xr.open_dataset(path_data+path_append[iclim])\n",
    "    test_sets_RHB[clim] = xr.open_dataset(path_data+path_RH_B_append[iclim])"
   ]
  },
  {
   "cell_type": "code",
   "execution_count": 10,
   "metadata": {},
   "outputs": [],
   "source": [
    "ind_input = np.concatenate((np.arange(0,60),np.arange(90,94)))\n",
    "ind_output = np.arange(94,94+60)"
   ]
  },
  {
   "cell_type": "code",
   "execution_count": 11,
   "metadata": {},
   "outputs": [],
   "source": [
    "xt = {}; yt = {}; xRHt= {}; xBt = {}; xLHFnst = {};"
   ]
  },
  {
   "cell_type": "code",
   "execution_count": 12,
   "metadata": {},
   "outputs": [],
   "source": [
    "name_RH = ['RH_test_cold','RH_test_med','RH_test_hot']\n",
    "name_B = ['B_test_cold','B_test_med','B_test_hot']"
   ]
  },
  {
   "cell_type": "code",
   "execution_count": 13,
   "metadata": {},
   "outputs": [],
   "source": [
    "x = train_both['vars'][:,ind_input]\n",
    "xRH = train_both_RH_B['RH_train']\n",
    "xB = train_both_RH_B['B_train']\n",
    "xLHFns = LHF_nsDELQ_train['LHFns']\n",
    "y = train_both['vars'][:,ind_output]\n",
    "for iclim,clim in enumerate(climates):\n",
    "    xt[clim] = test_sets[clim]['vars'][:,ind_input]\n",
    "    xRHt[clim] = test_sets_RHB[clim][name_RH[iclim]]\n",
    "    xBt[clim] = test_sets_RHB[clim][name_B[iclim]]\n",
    "    xLHFnst[clim] = LHF_nsDELQ_test[LHFname[iclim]]\n",
    "    yt[clim] = test_sets[clim]['vars'][:,ind_output]"
   ]
  },
  {
   "cell_type": "markdown",
   "metadata": {},
   "source": [
    "# First attempt using least-squared error (no SGD)"
   ]
  },
  {
   "cell_type": "code",
   "execution_count": 14,
   "metadata": {},
   "outputs": [],
   "source": [
    "Model_Types = ['localBF','localCI','BF','CI']\n",
    "N_subsample = 5\n",
    "N_degree = 4\n",
    "Nsample = 3000"
   ]
  },
  {
   "cell_type": "code",
   "execution_count": 15,
   "metadata": {},
   "outputs": [],
   "source": [
    "KEYS = {}\n",
    "KEYS['local'] = ['ps', 'S0', 'SHF', 'LHF','LHFns','p', 'q', 'dq_dp_FD',\n",
    "              'd2q_dp2_FD','T', 'dT_dp_FD','d2T_dp2_FD','RH', 'dRH_dp_FD',\n",
    "              'd2RH_dp2_FD','B', 'dB_dp_FD','d2B_dp2_FD']\n",
    "KEYS['localCI'] = ['ps', 'S0', 'SHF','LHFns','p','RH', 'dRH_dp_FD',\n",
    "              'd2RH_dp2_FD','B', 'dB_dp_FD','d2B_dp2_FD']\n",
    "KEYS['localBF'] = ['ps', 'S0', 'SHF', 'LHF', 'p', 'q', 'dq_dp_FD',\n",
    "              'd2q_dp2_FD','T', 'dT_dp_FD','d2T_dp2_FD']\n",
    "KEYS['all'] = np.concatenate((KEYS['local'],['Q_above','Q_below','T_below','T_above',\n",
    "                                             'RH_below','RH_above','B_below','B_above']))\n",
    "KEYS['BF'] = np.concatenate((KEYS['localBF'],['Q_above','Q_below','T_below','T_above']))\n",
    "KEYS['CI'] = np.concatenate((KEYS['localCI'],['RH_below','RH_above','B_below','B_above']))\n",
    "scalar_keys = ['ps','S0','SHF','LHF','LHFns']\n",
    "vector_keys = ['p', 'q', 'dq_dp_FD', 'd2q_dp2_FD', 'Q_above', 'Q_below',\n",
    "               'T', 'dT_dp_FD', 'd2T_dp2_FD', 'T_above', 'T_below',\n",
    "               'RH', 'dRH_dp_FD', 'd2RH_dp2_FD', 'RH_above', 'RH_below',\n",
    "               'B', 'dB_dp_FD', 'd2B_dp2_FD', 'B_above', 'B_below']\n",
    "combin_keys = np.concatenate((scalar_keys,vector_keys))"
   ]
  },
  {
   "cell_type": "code",
   "execution_count": 16,
   "metadata": {},
   "outputs": [],
   "source": [
    "min_features = [1,1,1,1,1]\n",
    "max_features = [11,6,6,6,6]\n",
    "cv = [2,2,2,2,2]"
   ]
  },
  {
   "cell_type": "code",
   "execution_count": 17,
   "metadata": {},
   "outputs": [],
   "source": [
    "dict_Q = {}; dict_T = {};"
   ]
  },
  {
   "cell_type": "markdown",
   "metadata": {},
   "source": [
    "## Second attempt, this time using both the cold and the warm parts of the dataset"
   ]
  },
  {
   "cell_type": "code",
   "execution_count": null,
   "metadata": {},
   "outputs": [
    {
     "name": "stdout",
     "output_type": "stream",
     "text": [
      "i_subsample=0/4\n",
      "model_type=localBF\n",
      "degree=1\n",
      "{'d2q_dp2_FD': 81.8115371790674, 'LR_Bias': -44.33369190294277, 'mse_train': 933.3850451581445} \n",
      "\n",
      "{'LHF': 15.66882448528694, 'd2q_dp2_FD': 76.65701744898779, 'LR_Bias': -44.42018591122975, 'mse_train': 929.7930889124533} \n",
      "\n",
      "{'LHF': 17.474299208897666, 'q': -9.998625988901928, 'd2q_dp2_FD': 85.07880152552428, 'LR_Bias': -48.68814066961484, 'mse_train': 928.5386999946804} \n",
      "\n",
      "{'LHF': 16.636161946405405, 'q': -39.09367539260514, 'dq_dp_FD': 114.2334331520406, 'd2q_dp2_FD': 49.8825610402677, 'LR_Bias': -78.17102530087627, 'mse_train': 920.4865697937593} \n",
      "\n",
      "{'ps': 6.985720156427852, 'LHF': 15.71204940368684, 'q': -38.967970022457486, 'dq_dp_FD': 113.8498208532948, 'd2q_dp2_FD': 50.168472827658825, 'LR_Bias': -82.29429190681124, 'mse_train': 919.7071802557098} \n",
      "\n",
      "{'ps': 6.69753836397759, 'SHF': -10.004518083934773, 'LHF': 19.370312282365134, 'q': -39.71921280825016, 'dq_dp_FD': 112.81740470771666, 'd2q_dp2_FD': 51.40995494009371, 'LR_Bias': -80.57156183193382, 'mse_train': 919.3138510835063} \n",
      "\n",
      "{'ps': 6.534645233436204, 'SHF': -12.01773684442708, 'LHF': 21.33712859093351, 'p': 2.873768248802998, 'q': -44.0496124713938, 'dq_dp_FD': 105.82471291337335, 'd2q_dp2_FD': 51.394193649927374, 'LR_Bias': -78.17780410626689, 'mse_train': 918.8209622108237} \n",
      "\n",
      "{'ps': 7.203505721382683, 'SHF': -13.02204797532069, 'LHF': 21.886419789036957, 'p': 6.702065359562182, 'q': -41.191840967208854, 'dq_dp_FD': 110.33970377461279, 'd2q_dp2_FD': 50.58088308819607, 'T': -8.990621059582713, 'LR_Bias': -76.90840731415712, 'mse_train': 918.206088878287} \n",
      "\n",
      "{'ps': 7.105947768924888, 'SHF': -13.271573214035302, 'LHF': 22.17615678782266, 'p': 9.186351213158769, 'q': -40.74009622960938, 'dq_dp_FD': 111.89710160688703, 'd2q_dp2_FD': 50.19122697455229, 'T': -12.819355182697178, 'dT_dp_FD': -8.361714568410491, 'LR_Bias': -70.77817233315845, 'mse_train': 917.7017141834752} \n",
      "\n",
      "{'1': 0.0, 'ps': 7.105947768924932, 'SHF': -13.271573214035314, 'LHF': 22.17615678782264, 'p': 9.186351213158746, 'q': -40.74009622960939, 'dq_dp_FD': 111.89710160688719, 'd2q_dp2_FD': 50.19122697455252, 'T': -12.819355182697175, 'dT_dp_FD': -8.361714568410504, 'LR_Bias': -70.77817233315864, 'mse_train': 917.7017141834751} \n",
      "\n",
      "{'q': 19.49148036173883, 'LR_Bias': -1.430373644282371, 'mse_train': 503.0614743955554} \n",
      "\n",
      "{'S0': 6.96979197982178, 'q': 18.68454898901669, 'LR_Bias': -2.9672590997783694, 'mse_train': 498.7240624310793} \n",
      "\n",
      "{'S0': 6.788079259866677, 'p': -5.475048822148155, 'q': 29.69774907002834, 'LR_Bias': -1.3470680788145541, 'mse_train': 496.6951863340534} \n",
      "\n",
      "{'S0': 7.312440342746249, 'SHF': 17.511769140624025, 'p': -5.604449637704128, 'q': 30.271261476091293, 'LR_Bias': -5.617331492944846, 'mse_train': 494.9422079275972} \n",
      "\n",
      "{'S0': 7.928012170640431, 'SHF': 34.48572650575132, 'LHF': -18.775928015198854, 'p': -7.290402156343662, 'q': 37.88114997900073, 'LR_Bias': -6.135442466873107, 'mse_train': 491.7824597827402} \n",
      "\n",
      "{'ps': -7.786260452866924, 'S0': 8.426058736464572, 'SHF': 33.86252731760005, 'LHF': -17.496264804857713, 'p': -7.167866331607131, 'q': 37.472787778159464, 'LR_Bias': -1.5673677366493437, 'mse_train': 490.8398422651049} \n",
      "\n",
      "{'ps': -7.816589013791336, 'S0': 8.430297124222372, 'SHF': 34.15434763354263, 'LHF': -17.314398931244344, 'p': -6.944780976671843, 'q': 38.29243570689357, 'd2q_dp2_FD': -28.53298933563309, 'LR_Bias': 13.566024264528089, 'mse_train': 490.30886779122716} \n",
      "\n",
      "{'ps': -7.816554659628088, 'S0': 8.443401667465462, 'SHF': 33.480610015620684, 'LHF': -16.708073890587173, 'p': -6.436703078022997, 'q': 42.64408623877212, 'dq_dp_FD': -21.45918198229785, 'd2q_dp2_FD': -22.273816722940325, 'LR_Bias': 19.228686554404252, 'mse_train': 490.0415721971783} \n",
      "\n",
      "{'ps': -7.753664946204533, 'S0': 8.468620752820906, 'SHF': 33.48752561784435, 'LHF': -16.797964170107978, 'p': -6.51154140764935, 'q': 42.72520996454568, 'dq_dp_FD': -21.422889252750572, 'd2q_dp2_FD': -22.22873635921638, 'd2T_dp2_FD': -2.8703376786235486, 'LR_Bias': 21.002958219278366, 'mse_train': 490.01470934435} \n",
      "\n",
      "{'ps': -7.71582748293639, 'S0': 8.485685227059873, 'SHF': 33.4729423107958, 'LHF': -16.789216169250572, 'p': -6.631615861656673, 'q': 42.828200389657745, 'dq_dp_FD': -21.374595773141813, 'd2q_dp2_FD': -22.23343813761303, 'dT_dp_FD': 1.3747085173406155, 'd2T_dp2_FD': -2.107516631347066, 'LR_Bias': 19.610073110535048, 'mse_train': 490.00000788025494} \n",
      "\n",
      "degree=2\n",
      "{'LHF p': 29.088890786309634, 'LR_Bias': -2.466850595972279, 'mse_train': 930.8856061019361} \n",
      "\n",
      "{'SHF q': -212.41136357208316, 'LHF p': 79.85154038257545, 'LR_Bias': -3.304886496795854, 'mse_train': 917.2356508450936} \n",
      "\n",
      "{'SHF q': -309.42573919076534, 'LHF p': 74.27917836130864, 'dq_dp_FD^2': 105.50651200173135, 'LR_Bias': -22.185565947272384, 'mse_train': 908.2473462486628} \n",
      "\n",
      "{'dq_dp_FD': -677.3427377060733, 'SHF q': -275.4718702816742, 'LHF p': 81.42161317537824, 'dq_dp_FD^2': 750.6779435430326, 'LR_Bias': 148.90385513506246, 'mse_train': 901.9219074109682} \n",
      "\n",
      "{'dq_dp_FD': -711.5846931133877, 'SHF q': -575.6187754452267, 'LHF p': 96.91443197278915, 'p q': 79.39757166459351, 'dq_dp_FD^2': 761.1379660354661, 'LR_Bias': 160.85528700214996, 'mse_train': 896.9110719845795} \n",
      "\n",
      "{'SHF q': 100.27364401761753, 'LR_Bias': -1.6620916835065633, 'mse_train': 500.36793527187217} \n",
      "\n",
      "{'SHF q': 439.4243033393967, 'p q': -94.00734569933581, 'LR_Bias': -1.5223024417218185, 'mse_train': 491.8782238468478} \n",
      "\n",
      "{'SHF q': 265.56489562323384, 'p q': -519.9642526174845, 'q dT_dp_FD': 624.4246969399547, 'LR_Bias': -2.5625011020766553, 'mse_train': 473.95440786127546} \n",
      "\n",
      "{'SHF q': 626.8998133734198, 'LHF p': -78.37525330108686, 'p q': -585.0570736850495, 'q dT_dp_FD': 651.5935876495433, 'LR_Bias': 0.5178099800643428, 'mse_train': 456.1353241820034} \n",
      "\n",
      "{'SHF q': 647.8464107062664, 'LHF p': -93.05110964767127, 'p q': -698.0525943482135, 'q dT_dp_FD': 11322.422070523682, 'q d2T_dp2_FD': -11458.025091344036, 'LR_Bias': 0.905491133510385, 'mse_train': 442.4243807197334} \n",
      "\n",
      "degree=3\n",
      "{'LHF dq_dp_FD^2': 114.67860375288751, 'LR_Bias': -4.498802172096341, 'mse_train': 927.4562216174518} \n",
      "\n",
      "{'LHF dq_dp_FD': -187.05411387495715, 'LHF dq_dp_FD^2': 479.4621833483925, 'LR_Bias': -2.6506781466023677, 'mse_train': 921.915529721043} \n",
      "\n",
      "{'LHF dq_dp_FD': -413.322074682788, 'SHF q dq_dp_FD': -400.92262506695056, 'LHF dq_dp_FD^2': 1033.6923858403013, 'LR_Bias': -1.7648873080914158, 'mse_train': 905.3568129874527} \n",
      "\n",
      "{'LHF dq_dp_FD': -930.5103760917651, 'SHF p q': 2222.5681031220356, 'SHF q dq_dp_FD': -4564.648427009907, 'LHF dq_dp_FD^2': 2220.9409305312165, 'LR_Bias': -0.9599548415966225, 'mse_train': 862.950134338404} \n",
      "\n",
      "{'LHF dq_dp_FD': -780.5688979059757, 'SHF p q': 3412.6789179504126, 'SHF q dq_dp_FD': -2957.2521280316273, 'SHF q dT_dp_FD': -2745.322929905682, 'LHF dq_dp_FD^2': 1900.4627283224788, 'LR_Bias': -0.8444832881764867, 'mse_train': 847.7728229556496} \n",
      "\n",
      "{'SHF^2 q': 385.3604220228939, 'LR_Bias': -1.6289895730616344, 'mse_train': 498.4121149544576} \n",
      "\n",
      "{'SHF^2 q': 1138.8581260571098, 'LHF p^2': -87.51491281480317, 'LR_Bias': 0.3422394167120042, 'mse_train': 483.7202035314623} \n",
      "\n",
      "{'S0 SHF T': 59.97511052607372, 'SHF^2 q': 1127.4767204144825, 'LHF p^2': -94.90293953754176, 'LR_Bias': -0.951894155535312, 'mse_train': 477.2383324658042} \n",
      "\n",
      "{'S0 SHF T': 59.92761579799619, 'SHF^2 q': 1279.8483702239585, 'LHF p^2': -97.09780185359206, 'q^3': -64.80576021760854, 'LR_Bias': -0.9450143366152721, 'mse_train': 475.60841906461155} \n",
      "\n",
      "{'S0 SHF T': 56.4581554222104, 'SHF^2 q': 619.4288748848019, 'SHF q dT_dp_FD': 539.2411409588386, 'LHF p^2': -125.13996893815751, 'q^3': -198.88364660447155, 'LR_Bias': -1.2711995938603056, 'mse_train': 469.70052206172636} \n",
      "\n",
      "degree=4\n",
      "{'LHF dq_dp_FD^3': 243.2155820820674, 'LR_Bias': -4.368262471633411, 'mse_train': 924.0392776835677} \n",
      "\n",
      "{'SHF^2 q^2': -1135.9329399994324, 'LHF dq_dp_FD^3': 369.0278089389137, 'LR_Bias': -5.367929290459251, 'mse_train': 915.1298821691731} \n",
      "\n",
      "{'SHF^2 q^2': -1928.6880042378639, 'LHF p^2 dq_dp_FD': 124.80023470225521, 'LHF dq_dp_FD^3': 206.47400934554753, 'LR_Bias': -5.059514044834633, 'mse_train': 906.6960769874347} \n",
      "\n",
      "{'SHF^2 q^2': 1085.522045286811, 'SHF q dT_dp_FD^2': -1142.0557219486107, 'LHF p^2 dq_dp_FD': 298.7900472569889, 'LHF dq_dp_FD^3': 86.3944063153348, 'LR_Bias': -3.0067578148738807, 'mse_train': 891.6024176975342} \n",
      "\n"
     ]
    },
    {
     "name": "stdout",
     "output_type": "stream",
     "text": [
      "{'SHF^2 q^2': -1265.3010755068915, 'SHF p q d2T_dp2_FD': 4744.6676573737695, 'SHF q dT_dp_FD^2': -6191.309983177184, 'LHF p^2 dq_dp_FD': 191.45426027595494, 'LHF dq_dp_FD^3': 288.07049936346493, 'LR_Bias': -4.382389836045628, 'mse_train': 854.2580494069873} \n",
      "\n",
      "{'SHF^2 q dT_dp_FD': 564.2677507899431, 'LR_Bias': -1.6316611960085479, 'mse_train': 498.36502307379783} \n",
      "\n",
      "{'SHF^2 p q': -9054.091857263624, 'SHF^2 q dT_dp_FD': 12441.556662716526, 'LR_Bias': -2.6216080459376587, 'mse_train': 461.82407007643786} \n",
      "\n",
      "{'ps LHF p dq_dp_FD': -255.01192815902473, 'SHF^2 p q': -9840.10177064007, 'SHF^2 q dT_dp_FD': 14587.338431806047, 'LR_Bias': 0.23733057961425574, 'mse_train': 440.2340514870997} \n",
      "\n",
      "{'ps LHF p dq_dp_FD': -282.4774675327616, 'SHF^2 p q': -11910.442831608867, 'SHF^2 q dT_dp_FD': 181786.65381925815, 'SHF^2 q d2T_dp2_FD': -179183.45185447214, 'LR_Bias': 0.44313204162562103, 'mse_train': 422.1830380787789} \n",
      "\n",
      "{'ps LHF p dq_dp_FD': -301.9416295079322, 'S0 dq_dp_FD^3': 89.20235172027496, 'SHF^2 p q': -11961.24629481322, 'SHF^2 q dT_dp_FD': 188495.3204325295, 'SHF^2 q d2T_dp2_FD': -186411.67347189572, 'LR_Bias': -0.9694106495160315, 'mse_train': 415.211439664958} \n",
      "\n",
      "model_type=localCI\n",
      "degree=1\n",
      "{'RH': -7.757042890688081, 'LR_Bias': 2.0034941753522504, 'mse_train': 934.2225951592819} \n",
      "\n",
      "{'p': 12.873757472489302, 'RH': -21.232639047246355, 'LR_Bias': 0.748310169456447, 'mse_train': 925.241644630783} \n",
      "\n",
      "{'p': 13.324617694302523, 'RH': -21.636439007092715, 'dRH_dp_FD': 31.662390487815834, 'LR_Bias': -7.570995112519867, 'mse_train': 924.4734531512873} \n",
      "\n",
      "{'ps': 5.500105772847391, 'p': 13.006945680135482, 'RH': -21.082042425939644, 'dRH_dp_FD': 31.807212357018386, 'LR_Bias': -11.028816867601748, 'mse_train': 923.9911539884389} \n",
      "\n",
      "{'ps': 5.456761973049797, 'SHF': 5.402984919358514, 'p': 12.92980549847754, 'RH': -20.937609760709176, 'dRH_dp_FD': 31.796900087561085, 'LR_Bias': -12.297322955654886, 'mse_train': 923.8222570175404} \n",
      "\n",
      "{'ps': 4.9811556026128025, 'SHF': 27.81852412754135, 'LHFns': -22.20555801552542, 'p': 12.79082182223086, 'RH': -20.678234265506184, 'dRH_dp_FD': 31.7173330036986, 'LR_Bias': -11.564286719075158, 'mse_train': 922.4138827209199} \n",
      "\n",
      "{'ps': 5.104436797902543, 'SHF': 27.59069043052555, 'LHFns': -22.072339798637696, 'p': 12.793502749549086, 'RH': -20.848091480203163, 'dRH_dp_FD': 30.296047316199807, 'dB_dp_FD': 3.278861621000295, 'LR_Bias': -13.465765823749658, 'mse_train': 922.3567998933031} \n",
      "\n",
      "{'ps': 4.949214106816552, 'SHF': 28.31061630606889, 'LHFns': -22.723626547230875, 'p': 12.214234896532957, 'RH': -21.263764143150905, 'dRH_dp_FD': 30.9954863410532, 'B': 2.228580628972157, 'dB_dp_FD': 4.386044858682721, 'LR_Bias': -15.807730100804527, 'mse_train': 922.2881014364741} \n",
      "\n",
      "{'ps': 4.915223142248566, 'SHF': 28.218146966442628, 'LHFns': -22.67358103475374, 'p': 12.260671600477595, 'RH': -21.52329148752392, 'dRH_dp_FD': 25.61371029338249, 'd2RH_dp2_FD': -9.358057219084923, 'B': 2.4352766744999967, 'dB_dp_FD': 4.531802057491718, 'LR_Bias': -8.490800362460346, 'mse_train': 922.2549062453829} \n",
      "\n",
      "{'1': 0.0, 'ps': 4.915223142248571, 'SHF': 28.218146966442596, 'LHFns': -22.673581034753745, 'p': 12.260671600477592, 'RH': -21.523291487523895, 'dRH_dp_FD': 25.61371029338246, 'd2RH_dp2_FD': -9.358057219084975, 'B': 2.435276674499998, 'dB_dp_FD': 4.531802057491733, 'LR_Bias': -8.490800362460314, 'mse_train': 922.2549062453829} \n",
      "\n",
      "{'RH': 9.855311257668914, 'LR_Bias': -3.1946265476881517, 'mse_train': 502.16363849984157} \n",
      "\n",
      "{'S0': 7.829418738908959, 'RH': 10.4274929953919, 'LR_Bias': -5.144740774322489, 'mse_train': 496.69958789411436} \n",
      "\n",
      "{'S0': 8.389390949810801, 'p': -10.053520344760333, 'RH': 20.991931342987932, 'LR_Bias': -4.304003482631826, 'mse_train': 491.25047226252923} \n",
      "\n",
      "{'S0': 8.97032441207925, 'LHFns': 25.453405941365062, 'p': -10.295167760314463, 'RH': 21.445891514295088, 'LR_Bias': -11.094305205532986, 'mse_train': 485.60844950918397} \n",
      "\n",
      "{'S0': 9.50496389384597, 'LHFns': 26.4208366481587, 'p': -7.181021900255182, 'RH': 23.31740367403807, 'B': -11.73946245534085, 'LR_Bias': -3.5588182082354414, 'mse_train': 483.46869572865484} \n",
      "\n",
      "{'S0': 9.540923301653347, 'LHFns': 26.494088163277908, 'p': -7.507936546802877, 'RH': 24.549451780244787, 'd2RH_dp2_FD': 34.561850419347316, 'B': -12.932208800906016, 'LR_Bias': -25.35030568265981, 'mse_train': 482.7211426912738} \n",
      "\n",
      "{'S0': 9.4226741655657, 'LHFns': 26.685626942416647, 'p': -7.027778942007514, 'RH': 25.467565152799185, 'd2RH_dp2_FD': 33.291982334050374, 'B': -14.939213462481055, 'dB_dp_FD': -11.233065353083589, 'LR_Bias': -15.589963741064253, 'mse_train': 482.0993012268039} \n",
      "\n",
      "{'S0': 9.073017384498009, 'SHF': -22.67068758803348, 'LHFns': 41.786218243768566, 'p': -6.536141560444591, 'RH': 25.113980283050978, 'd2RH_dp2_FD': 32.837071100599324, 'B': -15.790208568709842, 'dB_dp_FD': -11.298632424442621, 'LR_Bias': -13.089346726171609, 'mse_train': 481.151224870825} \n",
      "\n",
      "{'S0': 9.109697924804928, 'SHF': -23.83644056121639, 'LHFns': 42.941976134847756, 'p': -6.162759980356415, 'RH': 25.209114624356975, 'd2RH_dp2_FD': 34.571347796175665, 'B': -17.85015878188348, 'dB_dp_FD': -20.107974066455707, 'd2B_dp2_FD': -19.265951542168224, 'LR_Bias': 0.7657410152621718, 'mse_train': 480.88591124992774} \n",
      "\n",
      "{'ps': -4.023466266288194, 'S0': 9.357907567043913, 'SHF': -22.915910455264434, 'LHFns': 42.25552614562548, 'p': -6.043705121488205, 'RH': 24.814188185585596, 'd2RH_dp2_FD': 34.05390045857289, 'B': -17.49056398447594, 'dB_dp_FD': -20.01780967320688, 'd2B_dp2_FD': -18.541802654571374, 'LR_Bias': 2.912089032213156, 'mse_train': 480.63688636824173} \n",
      "\n",
      "degree=2\n",
      "{'RH^2': -19.22301570708455, 'LR_Bias': 2.5930503130807114, 'mse_train': 928.8860332394765} \n",
      "\n",
      "{'RH^2': -128.6550453131222, 'RH dB_dp_FD': 100.78680293589944, 'LR_Bias': -1.9257311047655596, 'mse_train': 911.103119140451} \n",
      "\n",
      "{'p^2': 10.696949740340157, 'RH^2': -122.9460378535831, 'RH dB_dp_FD': 81.74938775653995, 'LR_Bias': -1.9139036732479004, 'mse_train': 904.0891886928484} \n",
      "\n",
      "{'p^2': 34.79089451662724, 'p RH': -54.51969216030656, 'RH^2': -90.74243720221641, 'RH dB_dp_FD': 75.58190081825163, 'LR_Bias': -2.27777430715678, 'mse_train': 900.0104193774538} \n",
      "\n",
      "{'LHFns RH': -45.59067651802103, 'p^2': 36.29281336744327, 'p RH': -57.49245633785923, 'RH^2': -91.45695005064455, 'RH dB_dp_FD': 93.58369696087006, 'LR_Bias': -2.295830351946921, 'mse_train': 897.0134739749028} \n",
      "\n",
      "{'LHFns RH': 55.16188120399573, 'LR_Bias': -4.5070230498334585, 'mse_train': 491.6331858552513} \n",
      "\n",
      "{'LHFns RH': 86.33252571902156, 'B^2': -15.60031752968603, 'LR_Bias': 4.316321548118131, 'mse_train': 482.27792633190336} \n",
      "\n",
      "{'S0 B': 11.342670350002736, 'LHFns RH': 91.95454209155511, 'B^2': -18.62342444546192, 'LR_Bias': 3.8827676395064548, 'mse_train': 473.9131337207285} \n",
      "\n",
      "{'S0 B': 11.346886602017118, 'LHFns RH': 106.43636820917891, 'd2RH_dp2_FD B': 102.11372794664759, 'B^2': -68.72365802212025, 'LR_Bias': -16.436091153572672, 'mse_train': 469.70419072268214} \n",
      "\n",
      "{'S0 B': 10.705991149222779, 'SHF RH': -84.64956252483054, 'LHFns RH': 170.9464894224384, 'd2RH_dp2_FD B': 90.62534942053617, 'B^2': -61.37482918918899, 'LR_Bias': -14.42195132555246, 'mse_train': 467.2480367062582} \n",
      "\n",
      "degree=3\n",
      "{'RH^3': -38.318464781550674, 'LR_Bias': 2.8682670864519717, 'mse_train': 923.4308104245675} \n",
      "\n",
      "{'RH^3': -316.46977469661624, 'RH^2 dB_dp_FD': 253.17492828090832, 'LR_Bias': -0.8499188373706047, 'mse_train': 901.2504593648994} \n",
      "\n",
      "{'LHFns RH^2': -100.45625442853296, 'RH^3': -321.121077751399, 'RH^2 dB_dp_FD': 293.0769863186126, 'LR_Bias': -0.7955431988130562, 'mse_train': 896.1409017525945} \n",
      "\n",
      "{'LHFns p^2': 38.19914537609339, 'LHFns RH^2': -156.2060312833017, 'RH^3': -253.06297322295111, 'RH^2 dB_dp_FD': 234.52215323320524, 'LR_Bias': -0.9632202866869931, 'mse_train': 889.3273179115046} \n",
      "\n",
      "{'LHFns p^2': 99.1755539172391, 'LHFns RH^2': -250.05454012004535, 'p RH^2': -81.56633061836567, 'RH^3': -209.2483940307925, 'RH^2 dB_dp_FD': 274.0918272887904, 'LR_Bias': -1.6472888398309733, 'mse_train': 877.9968920380205} \n",
      "\n",
      "{'LHFns RH^2': 115.78949082043562, 'LR_Bias': -4.741025964697558, 'mse_train': 480.4913196947727} \n",
      "\n",
      "{'SHF RH dB_dp_FD': -260.1430714302295, 'LHFns RH^2': 350.82421429566136, 'LR_Bias': -1.057688794899334, 'mse_train': 459.68186748933675} \n",
      "\n",
      "{'S0 SHF d2RH_dp2_FD': 46.68790861728908, 'SHF RH dB_dp_FD': -251.97857484761968, 'LHFns RH^2': 344.35030388217467, 'LR_Bias': -2.7743204128430086, 'mse_train': 454.97540173283727} \n",
      "\n"
     ]
    },
    {
     "name": "stdout",
     "output_type": "stream",
     "text": [
      "{'S0 SHF d2RH_dp2_FD': 50.52530720451592, 'SHF RH dB_dp_FD': -203.10237961461547, 'LHFns RH^2': 332.53788386704827, 'B^3': -9.590061451435762, 'LR_Bias': 1.2845674631632336, 'mse_train': 450.77257171302205} \n",
      "\n",
      "{'S0 SHF d2RH_dp2_FD': 50.753752519442614, 'SHF RH dB_dp_FD': -136.38491654656733, 'LHFns RH^2': 445.9255574597448, 'LHFns RH dB_dp_FD': -162.34081277116235, 'B^3': -7.931408611189564, 'LR_Bias': 1.3125935302215805, 'mse_train': 448.47682537641765} \n",
      "\n",
      "degree=4\n",
      "{'LHFns RH^3': -159.29513724329453, 'LR_Bias': 3.063447385425223, 'mse_train': 916.8559371484154} \n",
      "\n",
      "{'LHFns RH^3': -1179.565456471423, 'LHFns RH^2 dB_dp_FD': 933.0874579580048, 'LR_Bias': -0.6675798586156702, 'mse_train': 888.2812427692043} \n",
      "\n",
      "{'LHFns RH^3': -1250.8494156920515, 'LHFns RH^2 d2RH_dp2_FD': -437.21198396790345, 'LHFns RH^2 dB_dp_FD': 1391.3649960572411, 'LR_Bias': -0.6315590059055093, 'mse_train': 884.4091853481397} \n",
      "\n",
      "{'ps LHFns p^2': 53.76781579178767, 'LHFns RH^3': -1036.1288274959513, 'LHFns RH^2 d2RH_dp2_FD': -530.2157478339452, 'LHFns RH^2 dB_dp_FD': 1223.6464318705162, 'LR_Bias': -0.7910938462072138, 'mse_train': 878.932110715209} \n",
      "\n",
      "{'ps LHFns p^2': 127.7886434580675, 'LHFns p RH^2': -245.98655593623926, 'LHFns RH^3': -927.4597862320834, 'LHFns RH^2 d2RH_dp2_FD': -268.87211696180276, 'LHFns RH^2 dB_dp_FD': 1020.8415234544625, 'LR_Bias': -1.3719674209246326, 'mse_train': 873.1991503929127} \n",
      "\n",
      "{'LHFns^2 RH^2': 304.39122843888333, 'LR_Bias': -3.7254216557790447, 'mse_train': 470.7719464850712} \n",
      "\n",
      "{'LHFns^2 RH^2': 1237.8318872432362, 'LHFns^2 RH dB_dp_FD': -831.414023360112, 'LR_Bias': -1.1711268047056964, 'mse_train': 452.0740978132366} \n",
      "\n",
      "{'S0 LHFns d2RH_dp2_FD^2': 66.46967705823332, 'LHFns^2 RH^2': 1241.7170479008037, 'LHFns^2 RH dB_dp_FD': -841.3158143828415, 'LR_Bias': -2.677201364960705, 'mse_train': 446.59731763268957} \n",
      "\n"
     ]
    }
   ],
   "source": [
    "for i_subsample in range(N_subsample):\n",
    "    print('i_subsample='+str(i_subsample)+'/'+str(N_subsample-1))\n",
    "    dict_Q[i_subsample] = {}; dict_T[i_subsample] = {};\n",
    "    \n",
    "    # Pre-process & sub-sample the data\n",
    "    i_random = np.random.choice(np.linspace(0,xt[clim].shape[0]-1,xt[clim].shape[0]),\n",
    "                                size=((Nsample,)),replace=False).astype('int')\n",
    "    dict_Q[i_subsample]['Selected_indices'] = i_random;\n",
    "    dict_T[i_subsample]['Selected_indices'] = i_random;\n",
    "    \n",
    "    x_train,x_test,y_train,y_test = subsampler(i_random,x,y,xRH,xB,xLHFns,hyam,hybm,variables=KEYS['all'])\n",
    "    x_train_range,x_test_range,Norm = range_normalizer(x_train,scalar_keys,vector_keys)\n",
    "    \n",
    "    for model_type in (Model_Types):\n",
    "        print('model_type='+model_type)\n",
    "        dict_Q[i_subsample][model_type] = {}; dict_T[i_subsample][model_type] = {};\n",
    "        \n",
    "        # Transform dictionary into array for regression purposes\n",
    "        X_train,X_test,dQdt_train,dQdt_test,dTdt_train,dTdt_test = \\\n",
    "        dic_to_array(KEYS[model_type],x_train_range,y_train,scale_dict)\n",
    "    \n",
    "        for degree in np.arange(1,N_degree+1):\n",
    "            print('degree='+str(degree))\n",
    "            dic_to_save = {}; ideg = degree-1;\n",
    "            \n",
    "            # Polynomial features\n",
    "            poly = PolynomialFeatures(degree=degree)\n",
    "            X_train_poly = poly.fit_transform(X_train)    \n",
    "            features = poly.get_feature_names(np.array(KEYS[model_type])) # Update the feature names\n",
    "                \n",
    "            # Linear regression on polynomial features - dQ/dt & dT/dt\n",
    "            dict_Q[i_subsample][model_type][degree] = \\\n",
    "            SFS_poly(features,X_train_poly,dQdt_train,\n",
    "                     min_features[ideg],max_features[ideg],cv[ideg])\n",
    "            \n",
    "            dict_T[i_subsample][model_type][degree] = \\\n",
    "            SFS_poly(features,X_train_poly,dTdt_train,\n",
    "                     min_features[ideg],max_features[ideg],cv[ideg])\n",
    "            \n",
    "        # Write dict_combined to pkl file\n",
    "        save_path = path_data+'Polynomial_Fits/2022_07_18_dicQT_'+model_type+'_isample_'+str(i_subsample+1)+'.pkl'\n",
    "        pickle.dump({\n",
    "          \"Qfits\": dict_Q[i_subsample][model_type],\n",
    "          \"Tfits\": dict_T[i_subsample][model_type],\n",
    "          'Selected_indices': i_random}, open(save_path,'wb'))"
   ]
  },
  {
   "cell_type": "markdown",
   "metadata": {},
   "source": [
    "## First attempt only using the cold part of the dataset (once again)"
   ]
  },
  {
   "cell_type": "code",
   "execution_count": null,
   "metadata": {},
   "outputs": [],
   "source": [
    "for i_subsample in range(N_subsample):\n",
    "    print('i_subsample='+str(i_subsample)+'/'+str(N_subsample-1))\n",
    "    dict_Q[i_subsample] = {}; dict_T[i_subsample] = {};\n",
    "    \n",
    "    # Pre-process & sub-sample the data\n",
    "    i_random = np.random.choice(np.linspace(0,xt[clim].shape[0]-1,xt[clim].shape[0]),\n",
    "                                size=((Nsample,)),replace=False).astype('int')\n",
    "    dict_Q[i_subsample]['Selected_indices'] = i_random;\n",
    "    dict_T[i_subsample]['Selected_indices'] = i_random;\n",
    "    \n",
    "    x_train,x_test,y_train,y_test = subsampler(i_random,x,y,xRH,xB,xLHFns,\n",
    "                                               xt,yt,xRHt,xBt,xLHFnst,hyam,hybm,\n",
    "                                               KEYS['all'])\n",
    "    x_train_range,x_test_range,Norm = range_normalizer(x_train,x_test,scalar_keys,vector_keys)\n",
    "    \n",
    "    for model_type in (Model_Types):\n",
    "        print('model_type='+model_type)\n",
    "        dict_Q[i_subsample][model_type] = {}; dict_T[i_subsample][model_type] = {};\n",
    "        \n",
    "        # Transform dictionary into array for regression purposes\n",
    "        X_train,X_test,dQdt_train,dQdt_test,dTdt_train,dTdt_test = \\\n",
    "        dic_to_array(KEYS[model_type],x_train_range,x_test_range,\n",
    "                     y_train,y_test,scale_dict)\n",
    "    \n",
    "        for degree in np.arange(1,N_degree+1):\n",
    "            print('degree='+str(degree))\n",
    "            dic_to_save = {}; ideg = degree-1;\n",
    "            \n",
    "            # Polynomial features\n",
    "            poly = PolynomialFeatures(degree=degree)\n",
    "            X_train_poly = poly.fit_transform(X_train)    \n",
    "            features = poly.get_feature_names(np.array(KEYS[model_type])) # Update the feature names\n",
    "            X_test_poly = {};\n",
    "            for iclim,clim in enumerate(climates):\n",
    "                X_test_poly[clim] = poly.fit_transform(X_test[clim])\n",
    "                \n",
    "            # Linear regression on polynomial features - dQ/dt & dT/dt\n",
    "            dict_Q[i_subsample][model_type][degree] = \\\n",
    "            SFS_poly(features,X_train_poly,X_test_poly,\n",
    "                     dQdt_train,dQdt_test,\n",
    "                     min_features[ideg],max_features[ideg],cv[ideg])\n",
    "            \n",
    "            dict_T[i_subsample][model_type][degree] = \\\n",
    "            SFS_poly(features,X_train_poly,X_test_poly,\n",
    "                     dTdt_train,dTdt_test,\n",
    "                     min_features[ideg],max_features[ideg],cv[ideg])\n",
    "            \n",
    "        # Write dict_combined to pkl file\n",
    "        save_path = path_data+'Polynomial_Fits/2022_07_12_dicQT_'+model_type+'_isample_'+str(i_subsample+1)+'.pkl'\n",
    "        pickle.dump({\n",
    "          \"Qfits\": dict_Q[i_subsample][model_type],\n",
    "          \"Tfits\": dict_T[i_subsample][model_type],\n",
    "          'Selected_indices': i_random}, open(save_path,'wb'))"
   ]
  },
  {
   "cell_type": "code",
   "execution_count": null,
   "metadata": {},
   "outputs": [],
   "source": [
    "# save_path = path_data+'Polynomial_Fits/2022_07_12_dicQT_'+model_type+'_isample_'+str(i_subsample+1)+'.pkl'\n",
    "# pickle.dump({\n",
    "#   \"Qfits\": dict_Q[i_subsample][model_type],\n",
    "#   \"Tfits\": dict_T[i_subsample][model_type],\n",
    "#   'Selected_indices': i_random}, open(save_path,'wb'))"
   ]
  },
  {
   "cell_type": "markdown",
   "metadata": {},
   "source": [
    "# Second attempt using the full dataset and terms selected by the SFS"
   ]
  },
  {
   "cell_type": "markdown",
   "metadata": {},
   "source": [
    "## Load most important features calculated using subsamples of the training set"
   ]
  },
  {
   "cell_type": "code",
   "execution_count": null,
   "metadata": {},
   "outputs": [],
   "source": [
    "path_Poly = '/DFS-L/DATA/pritchard/tbeucler/SPCAM/SPCAM_PHYS/Polynomial_Fits/'"
   ]
  },
  {
   "cell_type": "code",
   "execution_count": null,
   "metadata": {},
   "outputs": [],
   "source": [
    "tmp = pickle.load(open(path_Poly+'2022_07_18_Terms_Count.pkl','rb'))"
   ]
  },
  {
   "cell_type": "code",
   "execution_count": null,
   "metadata": {},
   "outputs": [],
   "source": [
    "termQ = tmp['Terms_Moisture']\n",
    "termT = tmp['Terms_Temperature']"
   ]
  },
  {
   "cell_type": "code",
   "execution_count": null,
   "metadata": {},
   "outputs": [],
   "source": [
    "Models = ['localBF','localCI','BF','CI']"
   ]
  },
  {
   "cell_type": "markdown",
   "metadata": {},
   "source": [
    "## Visualization of most selected terms"
   ]
  },
  {
   "cell_type": "code",
   "execution_count": null,
   "metadata": {},
   "outputs": [],
   "source": [
    "term = termT\n",
    "\n",
    "for i in range(4):\n",
    "    fig, ax = plt.subplots(1,1,figsize=(15,2.5))\n",
    "    plt.bar(term[Models[i]]['variables'][term[Models[i]]['count']>4],\n",
    "              term[Models[i]]['count'][term[Models[i]]['count']>4])\n",
    "    plt.axhline(y=5,color='g')\n",
    "    plt.xticks(rotation=90);\n",
    "    plt.xticks(fontsize=fz);\n",
    "    plt.title(Models[i],fontsize=fz)"
   ]
  },
  {
   "cell_type": "markdown",
   "metadata": {},
   "source": [
    "## Train model on the full dataset using the top selected features"
   ]
  },
  {
   "cell_type": "markdown",
   "metadata": {},
   "source": [
    "### Prototype: LocalBF for subgrid moistening"
   ]
  },
  {
   "cell_type": "code",
   "execution_count": null,
   "metadata": {},
   "outputs": [],
   "source": [
    "model = 'localBF'"
   ]
  },
  {
   "cell_type": "code",
   "execution_count": null,
   "metadata": {},
   "outputs": [],
   "source": [
    "terms = termQ[model]['variables'][termQ[model]['count']>4]"
   ]
  },
  {
   "cell_type": "code",
   "execution_count": null,
   "metadata": {},
   "outputs": [],
   "source": [
    "terms"
   ]
  },
  {
   "cell_type": "markdown",
   "metadata": {},
   "source": [
    "Find \"base terms\" and \"base polynomials\" that appear in the selected terms"
   ]
  },
  {
   "cell_type": "code",
   "execution_count": null,
   "metadata": {},
   "outputs": [],
   "source": [
    "unique_terms = []; unique_pol = [];\n",
    "for term in terms:\n",
    "    for t in term.split():\n",
    "        po = t.find('^')\n",
    "        if po>0: unique_terms.append(t[:po])\n",
    "        else: unique_terms.append(t)\n",
    "        unique_pol.append(t)\n",
    "unique_terms = list(set(unique_terms))\n",
    "unique_pol = list(set(unique_pol))"
   ]
  },
  {
   "cell_type": "code",
   "execution_count": null,
   "metadata": {},
   "outputs": [],
   "source": [
    "unique_terms"
   ]
  },
  {
   "cell_type": "markdown",
   "metadata": {},
   "source": [
    "Problem in current implementation of FD if a second derivative term appears without its first derivative counterpart"
   ]
  },
  {
   "cell_type": "code",
   "execution_count": null,
   "metadata": {},
   "outputs": [],
   "source": [
    "unique_pol"
   ]
  },
  {
   "cell_type": "code",
   "execution_count": null,
   "metadata": {},
   "outputs": [],
   "source": [
    "x.shape"
   ]
  },
  {
   "cell_type": "code",
   "execution_count": null,
   "metadata": {},
   "outputs": [],
   "source": [
    "plt.hist(x[:,59].values,bins=100);"
   ]
  },
  {
   "cell_type": "code",
   "execution_count": null,
   "metadata": {},
   "outputs": [],
   "source": [
    "plt.hist(x[:(xt[clim].shape[0]-1),59].values,bins=100);"
   ]
  },
  {
   "cell_type": "code",
   "execution_count": null,
   "metadata": {},
   "outputs": [],
   "source": [
    "# Pre-process & sub-sample the data\n",
    "i_random = np.random.choice(np.linspace(0,xt[clim].shape[0]-1,xt[clim].shape[0]),\n",
    "                            size=((Nsample,)),replace=False).astype('int')\n",
    "dict_Q[i_subsample]['Selected_indices'] = i_random;\n",
    "dict_T[i_subsample]['Selected_indices'] = i_random;"
   ]
  },
  {
   "cell_type": "code",
   "execution_count": null,
   "metadata": {},
   "outputs": [],
   "source": [
    "x_train,x_test,y_train,y_test = subsampler(None,x,y,xRH,xB,xLHFns,xt,yt,xRHt,xBt,xLHFnst,hyam,hybm,unique_terms)"
   ]
  },
  {
   "cell_type": "code",
   "execution_count": null,
   "metadata": {},
   "outputs": [],
   "source": [
    "x_train_range,x_test_range,Norm = range_normalizer(x_train,x_test,\n",
    "                                                   list(set(scalar_keys)&set(unique_terms)),\n",
    "                                                   list(set(vector_keys)&set(unique_terms)))"
   ]
  },
  {
   "cell_type": "code",
   "execution_count": null,
   "metadata": {},
   "outputs": [],
   "source": []
  }
 ],
 "metadata": {
  "kernelspec": {
   "display_name": "Python 3",
   "language": "python",
   "name": "python3"
  },
  "language_info": {
   "codemirror_mode": {
    "name": "ipython",
    "version": 3
   },
   "file_extension": ".py",
   "mimetype": "text/x-python",
   "name": "python",
   "nbconvert_exporter": "python",
   "pygments_lexer": "ipython3",
   "version": "3.6.10"
  },
  "toc": {
   "base_numbering": 1,
   "nav_menu": {},
   "number_sections": true,
   "sideBar": true,
   "skip_h1_title": false,
   "title_cell": "Table of Contents",
   "title_sidebar": "Contents",
   "toc_cell": false,
   "toc_position": {},
   "toc_section_display": true,
   "toc_window_display": true
  }
 },
 "nbformat": 4,
 "nbformat_minor": 4
}
