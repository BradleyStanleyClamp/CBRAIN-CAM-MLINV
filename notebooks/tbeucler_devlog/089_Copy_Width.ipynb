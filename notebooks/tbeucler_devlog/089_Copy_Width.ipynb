{
 "cells": [
  {
   "cell_type": "markdown",
   "metadata": {},
   "source": [
    "Similar to notebook [088] but using a single generator and compact syntax."
   ]
  },
  {
   "cell_type": "markdown",
   "metadata": {},
   "source": [
    "# Imports and Initialization"
   ]
  },
  {
   "cell_type": "markdown",
   "metadata": {},
   "source": [
    "## Imports"
   ]
  },
  {
   "cell_type": "code",
   "execution_count": 1,
   "metadata": {},
   "outputs": [
    {
     "name": "stdout",
     "output_type": "stream",
     "text": [
      "/nfspool-0/home/tbeucler/CBRAIN-CAM/notebooks/tbeucler_devlog\n"
     ]
    }
   ],
   "source": [
    "from cbrain.climate_invariant import *\n",
    "from cbrain.climate_invariant_utils import *\n",
    "import pickle\n",
    "#import h5netcdf\n",
    "import time\n",
    "import matplotlib as mpl\n",
    "\n",
    "from cbrain.imports import *\n",
    "from cbrain.utils import *\n",
    "from cbrain.normalization import *\n",
    "\n",
    "import tensorflow as tf\n",
    "physical_devices = tf.config.experimental.list_physical_devices('GPU') \n",
    "tf.config.experimental.set_memory_growth(physical_devices[0], True)\n",
    "tf.config.experimental.set_memory_growth(physical_devices[1], True)\n",
    "tf.config.experimental.set_memory_growth(physical_devices[2], True)\n",
    "\n",
    "import os\n",
    "os.environ[\"CUDA_VISIBLE_DEVICES\"]=\"0\""
   ]
  },
  {
   "cell_type": "markdown",
   "metadata": {},
   "source": [
    "## Initialization"
   ]
  },
  {
   "cell_type": "code",
   "execution_count": 2,
   "metadata": {},
   "outputs": [],
   "source": [
    "path_data = '/DFS-L/DATA/pritchard/tbeucler/SPCAM/SPCAM_PHYS/'\n",
    "path_array = {}"
   ]
  },
  {
   "cell_type": "code",
   "execution_count": 3,
   "metadata": {},
   "outputs": [],
   "source": [
    "climate_str = ['cold','hot','both']\n",
    "set_str = ['train','valid','test']\n",
    "test_clim_str = ['cold','hot','both','medium']"
   ]
  },
  {
   "cell_type": "code",
   "execution_count": 4,
   "metadata": {},
   "outputs": [],
   "source": [
    "path_array['cold'] = [path_data+'2021_03_18_O3_TRAIN_M4K_shuffle.nc',\n",
    "                      path_data+'2021_03_18_O3_VALID_M4K.nc',\n",
    "                      path_data+'2021_03_18_O3_TEST_M4K.nc']\n",
    "path_array['hot'] = [path_data+'2021_03_18_O3_TRAIN_P4K_shuffle.nc',\n",
    "                     path_data+'2021_03_18_O3_VALID_P4K.nc',\n",
    "                     path_data+'2021_03_18_O3_TEST_P4K.nc']\n",
    "path_array['both'] = [path_data+'2022_04_18_TRAIN_M4K_P4K_shuffle.nc',\n",
    "                      path_data+'2022_04_18_VALID_M4K_P4K.nc',\n",
    "                      path_data+'2022_04_18_TEST_M4K_P4K.nc']\n",
    "path_array['medium'] = [path_data+'2021_01_24_O3_TRAIN_shuffle.nc',\n",
    "                        path_data+'2021_01_24_O3_VALID.nc',\n",
    "                        path_data+'2021_01_24_O3_TEST.nc']"
   ]
  },
  {
   "cell_type": "code",
   "execution_count": 5,
   "metadata": {},
   "outputs": [],
   "source": [
    "path_input_norm = path_data + '2021_01_24_NORM_O3_small.nc'\n",
    "path_norm_RH = path_data + '2021_02_01_NORM_O3_RH_small.nc'\n",
    "path_norm_BMSE = path_data + '2021_06_16_NORM_BMSE_small.nc'\n",
    "path_norm_LHF_nsDELQ = path_data + '2021_02_01_NORM_O3_LHF_nsDELQ_small.nc'"
   ]
  },
  {
   "cell_type": "code",
   "execution_count": 6,
   "metadata": {},
   "outputs": [],
   "source": [
    "in_vars = ['QBP','TBP','PS','SOLIN','SHFLX','LHFLX'] # We take the large-scale climate state as inputs\n",
    "out_vars = ['PHQ','TPHYSTND','QRL','QRS'] # and we output the response of clouds/storms to these climate conditions"
   ]
  },
  {
   "cell_type": "code",
   "execution_count": 7,
   "metadata": {},
   "outputs": [],
   "source": [
    "scale_dict = pickle.load(open(path_data+'009_Wm2_scaling.pkl','rb'))"
   ]
  },
  {
   "cell_type": "code",
   "execution_count": 8,
   "metadata": {},
   "outputs": [],
   "source": [
    "fz = 12\n",
    "lw = 2\n",
    "siz = 100\n",
    "\n",
    "plt.rc('text', usetex=False)\n",
    "mpl.rcParams['mathtext.fontset'] = 'stix'\n",
    "mpl.rcParams['font.family'] = 'STIXGeneral'\n",
    "plt.rc('font', family='serif', size=fz)\n",
    "mpl.rcParams['lines.linewidth'] = lw"
   ]
  },
  {
   "cell_type": "markdown",
   "metadata": {},
   "source": [
    "# Data Generators"
   ]
  },
  {
   "cell_type": "markdown",
   "metadata": {},
   "source": [
    "## First, define generators necessary for rescaling"
   ]
  },
  {
   "cell_type": "code",
   "execution_count": 9,
   "metadata": {},
   "outputs": [],
   "source": [
    "def train_gen_rescaling(input_rescaling):\n",
    "    return DataGeneratorCI(\n",
    "        data_fn = path_array['cold'][0],\n",
    "        input_vars = input_rescaling,\n",
    "        output_vars = out_vars,\n",
    "        norm_fn = path_input_norm,\n",
    "        input_transform = ('mean', 'maxrs'),\n",
    "        output_transform = scale_dict)"
   ]
  },
  {
   "cell_type": "code",
   "execution_count": 10,
   "metadata": {},
   "outputs": [],
   "source": [
    "train_gen_RH = train_gen_rescaling(in_vars)\n",
    "train_gen_BMSE = train_gen_rescaling(in_vars)\n",
    "train_gen_LHF_nsDELQ = train_gen_rescaling(in_vars)"
   ]
  },
  {
   "cell_type": "markdown",
   "metadata": {},
   "source": [
    "## Then, generate structure containing all data generators"
   ]
  },
  {
   "cell_type": "code",
   "execution_count": 11,
   "metadata": {},
   "outputs": [],
   "source": [
    "def Generator_singleDS(path,rescaling=None):\n",
    "    \n",
    "    in_vars = ['QBP','TBP','PS','SOLIN','SHFLX','LHFLX'] # We take the large-scale climate state as inputs\n",
    "    out_vars = ['PHQ','TPHYSTND','QRL','QRS'] # and we output the response of clouds/storms to these climate conditions\n",
    "    path_input_norm = path_data + '2021_01_24_NORM_O3_small.nc'\n",
    "    scale_dict = pickle.load(open(path_data+'009_Wm2_scaling.pkl','rb'))\n",
    "    \n",
    "    if rescaling=='CI':\n",
    "        gen = DataGeneratorCI(\n",
    "        data_fn = path,\n",
    "        input_vars = in_vars,\n",
    "        output_vars = out_vars,\n",
    "        norm_fn = path_input_norm,\n",
    "        batch_size=8192,\n",
    "        input_transform = ('mean', 'maxrs'),\n",
    "        output_transform = scale_dict,\n",
    "        Qscaling = 'RH',\n",
    "        Tscaling = 'BMSE',\n",
    "        LHFscaling = 'LHF_nsDELQ',\n",
    "        hyam=hyam, hybm=hybm, # Arrays to define mid-levels of hybrid vertical coordinate\n",
    "        inp_sub_Qscaling=train_gen_RH.input_transform.sub, # What to subtract from RH inputs\n",
    "        inp_div_Qscaling=train_gen_RH.input_transform.div, # What to divide RH inputs by\n",
    "        inp_sub_Tscaling=train_gen_BMSE.input_transform.sub,\n",
    "        inp_div_Tscaling=train_gen_BMSE.input_transform.div,\n",
    "        inp_sub_LHFscaling=train_gen_LHF_nsDELQ.input_transform.sub,\n",
    "        inp_div_LHFscaling=train_gen_LHF_nsDELQ.input_transform.div\n",
    "        ) \n",
    "    else:\n",
    "        gen = DataGeneratorCI(\n",
    "        data_fn = path,\n",
    "        input_vars = in_vars,\n",
    "        output_vars = out_vars,\n",
    "        norm_fn = path_input_norm,\n",
    "        batch_size=8192,\n",
    "        input_transform = ('mean', 'maxrs'),\n",
    "        output_transform = scale_dict\n",
    "        )\n",
    "\n",
    "    return gen "
   ]
  },
  {
   "cell_type": "code",
   "execution_count": 12,
   "metadata": {},
   "outputs": [],
   "source": [
    "BFgen = {}\n",
    "CIgen = {}"
   ]
  },
  {
   "cell_type": "code",
   "execution_count": 13,
   "metadata": {},
   "outputs": [
    {
     "name": "stdout",
     "output_type": "stream",
     "text": [
      "Climate =  cold\n",
      "Set =  train\n",
      "Set =  valid\n",
      "Set =  test\n",
      "Climate =  hot\n",
      "Set =  train\n",
      "Set =  valid\n",
      "Set =  test\n",
      "Climate =  both\n",
      "Set =  train\n",
      "Set =  valid\n",
      "Set =  test\n",
      "Climate =  medium\n",
      "Set =  train\n",
      "Set =  valid\n",
      "Set =  test\n"
     ]
    }
   ],
   "source": [
    "for iclimate,clim in enumerate(test_clim_str):\n",
    "    print('Climate = ',clim)\n",
    "    BFgen[clim] = {}\n",
    "    CIgen[clim] = {}\n",
    "    \n",
    "    for iset,st in enumerate(set_str):\n",
    "        print('Set = ',st)\n",
    "        \n",
    "        BFgen[clim][st] = Generator_singleDS(path_array[clim][iset])\n",
    "        CIgen[clim][st] = Generator_singleDS(path_array[clim][iset],rescaling='CI')"
   ]
  },
  {
   "cell_type": "markdown",
   "metadata": {},
   "source": [
    "# Models"
   ]
  },
  {
   "cell_type": "markdown",
   "metadata": {},
   "source": [
    "## Varying depth"
   ]
  },
  {
   "cell_type": "code",
   "execution_count": 13,
   "metadata": {},
   "outputs": [],
   "source": [
    "N_layer_max = 10"
   ]
  },
  {
   "cell_type": "code",
   "execution_count": 14,
   "metadata": {},
   "outputs": [],
   "source": [
    "def NN_model(inp,N_layer):\n",
    "    if N_layer>0:\n",
    "        densout = Dense(128, activation='linear')(inp)\n",
    "        densout = LeakyReLU(alpha=0.3)(densout)\n",
    "    else: dense_out = Dense(120, activation='linear')(inp)\n",
    "    for i in range (N_layer-1):\n",
    "        densout = Dense(128, activation='linear')(densout)\n",
    "        densout = LeakyReLU(alpha=0.3)(densout)\n",
    "    if N_layer>0: dense_out = Dense(120, activation='linear')(densout)\n",
    "    return tf.keras.models.Model(inp, dense_out)"
   ]
  },
  {
   "cell_type": "code",
   "execution_count": 15,
   "metadata": {},
   "outputs": [],
   "source": [
    "BF_models = {}\n",
    "CI_models = {}\n",
    "inp_BF = {}\n",
    "inp_CI = {}"
   ]
  },
  {
   "cell_type": "code",
   "execution_count": 16,
   "metadata": {},
   "outputs": [
    {
     "name": "stdout",
     "output_type": "stream",
     "text": [
      "0\n",
      "1\n",
      "2\n",
      "3\n",
      "4\n",
      "5\n",
      "6\n",
      "7\n",
      "8\n",
      "9\n"
     ]
    }
   ],
   "source": [
    "for ilayer in range(N_layer_max):\n",
    "    \n",
    "    print(ilayer)\n",
    "    \n",
    "    inp_BF[ilayer] = Input(shape=(64,))\n",
    "    BF_models[ilayer] = NN_model(inp_BF[ilayer],ilayer)\n",
    "    \n",
    "    inp_CI[ilayer] = Input(shape=(64,))\n",
    "    CI_models[ilayer] = NN_model(inp_CI[ilayer],ilayer)"
   ]
  },
  {
   "cell_type": "code",
   "execution_count": 17,
   "metadata": {},
   "outputs": [
    {
     "name": "stdout",
     "output_type": "stream",
     "text": [
      "0\n",
      "1\n",
      "2\n",
      "3\n",
      "4\n",
      "5\n",
      "6\n",
      "7\n",
      "8\n",
      "9\n"
     ]
    }
   ],
   "source": [
    "for ilayer in range(N_layer_max):\n",
    "    \n",
    "    print(ilayer)\n",
    "    \n",
    "    BF_models[ilayer].compile(tf.keras.optimizers.Adam(), loss=mse)\n",
    "    CI_models[ilayer].compile(tf.keras.optimizers.Adam(), loss=mse)"
   ]
  },
  {
   "cell_type": "markdown",
   "metadata": {},
   "source": [
    "## Varying Width"
   ]
  },
  {
   "cell_type": "code",
   "execution_count": 13,
   "metadata": {},
   "outputs": [],
   "source": [
    "Max_width = 5"
   ]
  },
  {
   "cell_type": "code",
   "execution_count": 28,
   "metadata": {},
   "outputs": [],
   "source": [
    "def NN_model(inp,width):\n",
    "    densout = Dense((2**(8+width)), activation='linear')(inp)\n",
    "    densout = LeakyReLU(alpha=0.3)(densout)\n",
    "    dense_out = Dense(120, activation='linear')(densout)\n",
    "    return tf.keras.models.Model(inp, dense_out)"
   ]
  },
  {
   "cell_type": "code",
   "execution_count": 29,
   "metadata": {},
   "outputs": [],
   "source": [
    "BF_models = {}\n",
    "CI_models = {}\n",
    "inp_BF = {}\n",
    "inp_CI = {}"
   ]
  },
  {
   "cell_type": "code",
   "execution_count": 30,
   "metadata": {},
   "outputs": [
    {
     "name": "stdout",
     "output_type": "stream",
     "text": [
      "0\n",
      "1\n",
      "2\n",
      "3\n",
      "4\n"
     ]
    }
   ],
   "source": [
    "for width in range(Max_width):\n",
    "    \n",
    "    print(width)\n",
    "    \n",
    "    inp_BF[width] = Input(shape=(64,))\n",
    "    BF_models[width] = NN_model(inp_BF[width],width)\n",
    "    \n",
    "    inp_CI[width] = Input(shape=(64,))\n",
    "    CI_models[width] = NN_model(inp_CI[width],width)"
   ]
  },
  {
   "cell_type": "code",
   "execution_count": 31,
   "metadata": {},
   "outputs": [
    {
     "name": "stdout",
     "output_type": "stream",
     "text": [
      "0\n",
      "1\n",
      "2\n",
      "3\n",
      "4\n"
     ]
    }
   ],
   "source": [
    "for width in range(Max_width):\n",
    "    \n",
    "    print(width)\n",
    "    \n",
    "    BF_models[width].compile(tf.keras.optimizers.Adam(), loss=mse)\n",
    "    CI_models[width].compile(tf.keras.optimizers.Adam(), loss=mse)"
   ]
  },
  {
   "cell_type": "code",
   "execution_count": 33,
   "metadata": {},
   "outputs": [
    {
     "name": "stdout",
     "output_type": "stream",
     "text": [
      "Model: \"model_28\"\n",
      "_________________________________________________________________\n",
      "Layer (type)                 Output Shape              Param #   \n",
      "=================================================================\n",
      "input_29 (InputLayer)        [(None, 64)]              0         \n",
      "_________________________________________________________________\n",
      "dense_56 (Dense)             (None, 4096)              266240    \n",
      "_________________________________________________________________\n",
      "leaky_re_lu_28 (LeakyReLU)   (None, 4096)              0         \n",
      "_________________________________________________________________\n",
      "dense_57 (Dense)             (None, 120)               491640    \n",
      "=================================================================\n",
      "Total params: 757,880\n",
      "Trainable params: 757,880\n",
      "Non-trainable params: 0\n",
      "_________________________________________________________________\n"
     ]
    }
   ],
   "source": [
    "BF_models[4].summary()"
   ]
  },
  {
   "cell_type": "markdown",
   "metadata": {},
   "source": [
    "# Callbacks"
   ]
  },
  {
   "cell_type": "code",
   "execution_count": 34,
   "metadata": {},
   "outputs": [],
   "source": [
    "class AdditionalValidationSets(Callback):\n",
    "    def __init__(self, validation_sets, verbose=0, batch_size=None):\n",
    "        \"\"\"\n",
    "        :param validation_sets:\n",
    "        a list of 3-tuples (validation_data, validation_targets, validation_set_name)\n",
    "        or 4-tuples (validation_data, validation_targets, sample_weights, validation_set_name)\n",
    "        :param verbose:\n",
    "        verbosity mode, 1 or 0\n",
    "        :param batch_size:\n",
    "        batch size to be used when evaluating on the additional datasets\n",
    "        \"\"\"\n",
    "        super(AdditionalValidationSets, self).__init__()\n",
    "        self.validation_sets = validation_sets\n",
    "        self.epoch = []\n",
    "        self.history = {}\n",
    "        self.verbose = verbose\n",
    "        self.batch_size = batch_size\n",
    "\n",
    "    def on_train_begin(self, logs=None):\n",
    "        self.epoch = []\n",
    "        self.history = {}\n",
    "\n",
    "    def on_epoch_end(self, epoch, logs=None):\n",
    "        logs = logs or {}\n",
    "        self.epoch.append(epoch)\n",
    "\n",
    "        # record the same values as History() as well\n",
    "        for k, v in logs.items():\n",
    "            self.history.setdefault(k, []).append(v)\n",
    "\n",
    "        # evaluate on the additional validation sets\n",
    "        for validation_set in self.validation_sets:\n",
    "            valid_generator,valid_name = validation_set\n",
    "            results = self.model.evaluate_generator(generator=valid_generator)\n",
    "\n",
    "            for metric, result in zip(self.model.metrics_names,[results]):\n",
    "                valuename = valid_name + '_' + metric\n",
    "                self.history.setdefault(valuename, []).append(result)"
   ]
  },
  {
   "cell_type": "code",
   "execution_count": 35,
   "metadata": {},
   "outputs": [],
   "source": [
    "earlyStopping = EarlyStopping(monitor='val_loss', patience=10, verbose=0, mode='min')"
   ]
  },
  {
   "cell_type": "markdown",
   "metadata": {},
   "source": [
    "# Training on both datasets at once"
   ]
  },
  {
   "cell_type": "code",
   "execution_count": 36,
   "metadata": {},
   "outputs": [],
   "source": [
    "Nep = 20"
   ]
  },
  {
   "cell_type": "code",
   "execution_count": 37,
   "metadata": {},
   "outputs": [],
   "source": [
    "history_BF = {}\n",
    "history_CI = {}"
   ]
  },
  {
   "cell_type": "code",
   "execution_count": 38,
   "metadata": {},
   "outputs": [],
   "source": [
    "# for ilayer in range(N_layer_max):\n",
    "    \n",
    "#     print('Number of layers = ',ilayer)\n",
    "    \n",
    "#     path_BF = path_data + '2022_04_18_BF_'+str(ilayer)+'.hdf5'\n",
    "#     mcp_save = ModelCheckpoint(path_BF,save_best_only=True, monitor='val_loss', mode='min')\n",
    "#     history_BF[ilayer] = BF_models[ilayer].fit_generator(BFgen['both']['train'],epochs=Nep, \n",
    "#                                                          validation_data = BFgen['both']['valid'],\n",
    "#                                                          callbacks=[mcp_save,earlyStopping])\n",
    "    \n",
    "#     path_CI = path_data + '2022_04_18_CI_'+str(ilayer)+'.hdf5'\n",
    "#     mcp_save = ModelCheckpoint(path_CI,save_best_only=True, monitor='val_loss', mode='min')\n",
    "#     history_CI[ilayer] = CI_models[ilayer].fit_generator(CIgen['both']['train'],epochs=Nep, \n",
    "#                                                          validation_data = CIgen['both']['valid'],\n",
    "#                                                          callbacks=[mcp_save,earlyStopping])"
   ]
  },
  {
   "cell_type": "code",
   "execution_count": null,
   "metadata": {},
   "outputs": [
    {
     "name": "stdout",
     "output_type": "stream",
     "text": [
      "width =  0\n",
      "Epoch 1/20\n",
      "11518/11518 [==============================] - 1189s 103ms/step - loss: 413.0041 - val_loss: 380.1686\n",
      "Epoch 2/20\n",
      "11518/11518 [==============================] - 1162s 101ms/step - loss: 367.9527 - val_loss: 364.2285\n",
      "Epoch 3/20\n",
      "11518/11518 [==============================] - 1199s 104ms/step - loss: 355.8919 - val_loss: 354.8779\n",
      "Epoch 4/20\n",
      "11518/11518 [==============================] - 1142s 99ms/step - loss: 348.3158 - val_loss: 348.5552\n",
      "Epoch 5/20\n",
      "11518/11518 [==============================] - 1178s 102ms/step - loss: 342.6271 - val_loss: 344.0391\n",
      "Epoch 6/20\n",
      "11518/11518 [==============================] - 2061s 179ms/step - loss: 338.0932 - val_loss: 338.8907\n",
      "Epoch 7/20\n",
      "11518/11518 [==============================] - 1668s 145ms/step - loss: 334.5029 - val_loss: 335.6415\n",
      "Epoch 8/20\n",
      "11518/11518 [==============================] - 1164s 101ms/step - loss: 331.5970 - val_loss: 332.6764\n",
      "Epoch 9/20\n",
      "11518/11518 [==============================] - 1215s 106ms/step - loss: 329.1586 - val_loss: 330.5668\n",
      "Epoch 10/20\n",
      "11518/11518 [==============================] - 1106s 96ms/step - loss: 326.9763 - val_loss: 328.3519\n",
      "Epoch 11/20\n",
      "11518/11518 [==============================] - 1152s 100ms/step - loss: 325.0644 - val_loss: 326.5655\n",
      "Epoch 12/20\n",
      "11518/11518 [==============================] - 1182s 103ms/step - loss: 323.4033 - val_loss: 325.4747\n",
      "Epoch 13/20\n",
      "11518/11518 [==============================] - 1229s 107ms/step - loss: 321.9630 - val_loss: 323.6472\n",
      "Epoch 14/20\n",
      "11518/11518 [==============================] - 1150s 100ms/step - loss: 320.6846 - val_loss: 322.8141\n",
      "Epoch 15/20\n",
      "11518/11518 [==============================] - 1255s 109ms/step - loss: 319.5517 - val_loss: 321.4667\n",
      "Epoch 16/20\n",
      "11518/11518 [==============================] - 1144s 99ms/step - loss: 318.5486 - val_loss: 320.3742\n",
      "Epoch 17/20\n",
      "11518/11518 [==============================] - 1185s 103ms/step - loss: 317.6304 - val_loss: 319.5259\n",
      "Epoch 18/20\n",
      "11518/11518 [==============================] - 1172s 102ms/step - loss: 316.8083 - val_loss: 318.7905\n",
      "Epoch 19/20\n",
      "11518/11518 [==============================] - 1180s 102ms/step - loss: 316.0320 - val_loss: 318.2128\n",
      "Epoch 20/20\n",
      "11518/11518 [==============================] - 1143s 99ms/step - loss: 315.3254 - val_loss: 317.2309\n",
      "Epoch 1/20\n",
      "11518/11518 [==============================] - 3480s 302ms/step - loss: 374.3530 - val_loss: 343.8158\n",
      "Epoch 2/20\n",
      "11518/11518 [==============================] - 3595s 312ms/step - loss: 339.4812 - val_loss: 341.2650\n",
      "Epoch 3/20\n",
      "11518/11518 [==============================] - 3296s 286ms/step - loss: 334.1319 - val_loss: 332.8338\n",
      "Epoch 4/20\n",
      "11518/11518 [==============================] - 3246s 282ms/step - loss: 331.4921 - val_loss: 330.2897\n",
      "Epoch 5/20\n",
      "11518/11518 [==============================] - 3388s 294ms/step - loss: 329.7865 - val_loss: 329.0703\n",
      "Epoch 6/20\n",
      "11518/11518 [==============================] - 3355s 291ms/step - loss: 328.5054 - val_loss: 329.6157\n",
      "Epoch 7/20\n",
      "11518/11518 [==============================] - 3382s 294ms/step - loss: 327.4187 - val_loss: 328.1952\n",
      "Epoch 8/20\n",
      "11518/11518 [==============================] - 3192s 277ms/step - loss: 326.6334 - val_loss: 325.5552\n",
      "Epoch 9/20\n",
      "11518/11518 [==============================] - 3354s 291ms/step - loss: 325.9538 - val_loss: 325.1010\n",
      "Epoch 10/20\n",
      "11518/11518 [==============================] - 3481s 302ms/step - loss: 325.2956 - val_loss: 325.7048\n",
      "Epoch 11/20\n",
      "11518/11518 [==============================] - 3216s 279ms/step - loss: 324.8083 - val_loss: 326.0819\n",
      "Epoch 12/20\n",
      "11518/11518 [==============================] - 3348s 291ms/step - loss: 324.3214 - val_loss: 324.5456\n",
      "Epoch 13/20\n",
      "11518/11518 [==============================] - 3363s 292ms/step - loss: 323.9269 - val_loss: 325.6448\n",
      "Epoch 14/20\n",
      "11518/11518 [==============================] - 3368s 292ms/step - loss: 323.6102 - val_loss: 323.7825\n",
      "Epoch 15/20\n",
      " 1612/11518 [===>..........................] - ETA: 27:13 - loss: 321.1629"
     ]
    }
   ],
   "source": [
    "for width in range(Max_width):\n",
    "    \n",
    "    print('width = ',width)\n",
    "    \n",
    "    path_BF = path_data + '2022_04_24_BF_'+str(width)+'.hdf5'\n",
    "    mcp_save = ModelCheckpoint(path_BF,save_best_only=True, monitor='val_loss', mode='min')\n",
    "    history_BF[width] = BF_models[width].fit_generator(BFgen['both']['train'],epochs=Nep, \n",
    "                                                       validation_data = BFgen['both']['valid'],\n",
    "                                                       callbacks=[mcp_save,earlyStopping])\n",
    "    \n",
    "    path_CI = path_data + '2022_04_24_CI_'+str(width)+'.hdf5'\n",
    "    mcp_save = ModelCheckpoint(path_CI,save_best_only=True, monitor='val_loss', mode='min')\n",
    "    history_CI[width] = CI_models[width].fit_generator(CIgen['both']['train'],epochs=Nep, \n",
    "                                                       validation_data = CIgen['both']['valid'],\n",
    "                                                       callbacks=[mcp_save,earlyStopping])"
   ]
  },
  {
   "cell_type": "code",
   "execution_count": null,
   "metadata": {},
   "outputs": [],
   "source": [
    "path_history = path_data + 'PKL_DATA/2022_04_24_Train_Both_Datasets'"
   ]
  },
  {
   "cell_type": "code",
   "execution_count": null,
   "metadata": {},
   "outputs": [],
   "source": [
    "# pickle.dump({'history_BF':history_BF,'history_CI':history_CI},\n",
    "#             open(path_history,'wb'))"
   ]
  },
  {
   "cell_type": "markdown",
   "metadata": {},
   "source": [
    "# Evaluate as fx of width in each climate separately"
   ]
  },
  {
   "cell_type": "markdown",
   "metadata": {},
   "source": [
    "## Calculate performance on test dataset of each climate"
   ]
  },
  {
   "cell_type": "code",
   "execution_count": 14,
   "metadata": {},
   "outputs": [],
   "source": [
    "Max_width = 5\n",
    "st = 'test'"
   ]
  },
  {
   "cell_type": "code",
   "execution_count": 15,
   "metadata": {},
   "outputs": [],
   "source": [
    "BFtest = {}; CItest = {}"
   ]
  },
  {
   "cell_type": "code",
   "execution_count": 18,
   "metadata": {},
   "outputs": [
    {
     "name": "stdout",
     "output_type": "stream",
     "text": [
      "Climate =  cold\n",
      "width =  0\n",
      "width =  1\n",
      "width =  2\n",
      "width =  3\n",
      "width =  4\n",
      "Climate =  hot\n",
      "width =  0\n",
      "width =  1\n",
      "width =  2\n",
      "width =  3\n",
      "width =  4\n",
      "Climate =  both\n",
      "width =  0\n",
      "width =  1\n",
      "width =  2\n",
      "width =  3\n",
      "width =  4\n",
      "Climate =  medium\n",
      "width =  0\n",
      "width =  1\n",
      "width =  2\n",
      "width =  3\n",
      "width =  4\n"
     ]
    }
   ],
   "source": [
    "for iclimate,clim in enumerate(test_clim_str):\n",
    "    print('Climate = ',clim)\n",
    "    BFtest[clim] = {}; CItest[clim] = {}\n",
    "    \n",
    "    BFg = BFgen[clim][st]; CIg = CIgen[clim][st]\n",
    "    \n",
    "    for width in range(Max_width):\n",
    "        print('width = ',width)\n",
    "    \n",
    "        path_BF = path_data + '2022_04_24_BF_'+str(width)+'.hdf5'\n",
    "        path_CI = path_data + '2022_04_24_CI_'+str(width)+'.hdf5'\n",
    "        BFNN = tf.keras.models.load_model(path_BF)\n",
    "        CINN = tf.keras.models.load_model(path_CI)\n",
    "    \n",
    "        BFtest[clim][width] = BFNN.evaluate_generator(BFg)\n",
    "        CItest[clim][width] = CINN.evaluate_generator(CIg)"
   ]
  },
  {
   "cell_type": "code",
   "execution_count": 19,
   "metadata": {},
   "outputs": [],
   "source": [
    "path_test = path_data + 'PKL_DATA/2022_05_02_Performance_Four_Climates_Width'"
   ]
  },
  {
   "cell_type": "code",
   "execution_count": 20,
   "metadata": {},
   "outputs": [],
   "source": [
    "# pickle.dump({'BFtest':BFtest,'CItest':CItest},\n",
    "#             open(path_test,'wb'))"
   ]
  },
  {
   "cell_type": "markdown",
   "metadata": {},
   "source": [
    "## Plots"
   ]
  },
  {
   "cell_type": "code",
   "execution_count": 21,
   "metadata": {},
   "outputs": [],
   "source": [
    "path_test = path_data + 'PKL_DATA/2022_05_02_Performance_Four_Climates_Width'\n",
    "Performance = pickle.load(open(path_test,'rb'))"
   ]
  },
  {
   "cell_type": "code",
   "execution_count": 22,
   "metadata": {},
   "outputs": [],
   "source": [
    "BFtest = Performance['BFtest']\n",
    "CItest = Performance['CItest']"
   ]
  },
  {
   "cell_type": "code",
   "execution_count": 23,
   "metadata": {},
   "outputs": [],
   "source": [
    "for key in BFtest.keys():\n",
    "    BFtest[key]['plot'] = np.zeros((5,))\n",
    "    CItest[key]['plot'] = np.zeros((5,))\n",
    "    for i in range(5):\n",
    "        BFtest[key]['plot'][i] = BFtest[key][i]\n",
    "        CItest[key]['plot'][i] = CItest[key][i]"
   ]
  },
  {
   "cell_type": "code",
   "execution_count": 24,
   "metadata": {},
   "outputs": [],
   "source": [
    "color_array = ['blue','red','black','gray']"
   ]
  },
  {
   "cell_type": "code",
   "execution_count": 28,
   "metadata": {},
   "outputs": [
    {
     "data": {
      "text/plain": [
       "Text(0, 0.5, 'Mean-squared error')"
      ]
     },
     "execution_count": 28,
     "metadata": {},
     "output_type": "execute_result"
    },
    {
     "data": {
      "image/png": "[encoded data removed]",
      "text/plain": [
       "<Figure size 864x288 with 1 Axes>"
      ]
     },
     "metadata": {
      "needs_background": "light"
     },
     "output_type": "display_data"
    }
   ],
   "source": [
    "fig = plt.figure(figsize=(12,4))\n",
    "ax = plt.gca()\n",
    "\n",
    "ikey = 0\n",
    "for key in BFtest.keys():\n",
    "    plt.plot(CItest[key]['plot'],label=key,color=color_array[ikey])\n",
    "    plt.plot(BFtest[key]['plot'],linestyle='--',color=color_array[ikey])\n",
    "    ikey += 1\n",
    "    \n",
    "plt.legend()\n",
    "plt.grid()\n",
    "plt.xlabel('Width = 2$^{8+XLABEL}$')\n",
    "plt.ylabel('Mean-squared error')"
   ]
  },
  {
   "cell_type": "code",
   "execution_count": null,
   "metadata": {},
   "outputs": [],
   "source": []
  }
 ],
 "metadata": {
  "kernelspec": {
   "display_name": "Python 3",
   "language": "python",
   "name": "python3"
  },
  "language_info": {
   "codemirror_mode": {
    "name": "ipython",
    "version": 3
   },
   "file_extension": ".py",
   "mimetype": "text/x-python",
   "name": "python",
   "nbconvert_exporter": "python",
   "pygments_lexer": "ipython3",
   "version": "3.6.10"
  },
  "toc": {
   "base_numbering": 1,
   "nav_menu": {},
   "number_sections": true,
   "sideBar": true,
   "skip_h1_title": false,
   "title_cell": "Table of Contents",
   "title_sidebar": "Contents",
   "toc_cell": false,
   "toc_position": {},
   "toc_section_display": true,
   "toc_window_display": true
  }
 },
 "nbformat": 4,
 "nbformat_minor": 4
}
